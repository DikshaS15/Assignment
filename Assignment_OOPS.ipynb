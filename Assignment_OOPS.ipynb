{
  "nbformat": 4,
  "nbformat_minor": 0,
  "metadata": {
    "colab": {
      "provenance": [],
      "toc_visible": true
    },
    "kernelspec": {
      "name": "python3",
      "display_name": "Python 3"
    },
    "language_info": {
      "name": "python"
    }
  },
  "cells": [
    {
      "cell_type": "markdown",
      "source": [
        "# Assignment - OOPS"
      ],
      "metadata": {
        "id": "OMEw_F3ZaC8Y"
      }
    },
    {
      "cell_type": "markdown",
      "source": [
        "### 1. What are the five key concepts of Object-Oriented Programming (OOP)?\n",
        "\n",
        "Ans-1. **The five key concepts of Object-Oriented Programming (OOP) are:**\n",
        "\n",
        "1. **Encapsulation**: This refers to the bundling of data and methods (functions) that operate on that data into a single unit, called an object. Encapsulation promotes data hiding, which is essential for protecting the integrity of data and preventing unintended modifications.\n",
        "\n",
        "2. **Inheritance**: This allows you to create new classes (called subclasses) that inherit properties and behaviors from existing classes (called superclasses). Inheritance promotes code reuse and hierarchical organization of classes.\n",
        "\n",
        "3. **Polymorphism**: This refers to the ability of objects of different classes to respond to the same message in different ways. Polymorphism is achieved through method overriding, where a subclass provides a different implementation of a method inherited from its superclass.\n",
        "\n",
        "4. **Abstraction**: This involves focusing on the essential characteristics of an object while ignoring the irrelevant details. Abstraction is achieved through the use of abstract classes and interfaces, which define the common behavior of a group of objects without providing specific implementations.\n",
        "\n",
        "5. **Association**: This refers to the relationship between objects, such as one-to-one, one-to-many, or many-to-many. Association is used to model the interactions and dependencies between objects in a system.\n",
        "\n",
        "\n",
        "\n",
        "\n",
        "\n",
        "\n",
        "\n",
        "\n"
      ],
      "metadata": {
        "id": "zZPt7S8PaZQt"
      }
    },
    {
      "cell_type": "markdown",
      "source": [
        "### 2. Write a Python class for a `Car` with attributes for `make`, `model`, and `year`. Include a method to display the car's information."
      ],
      "metadata": {
        "id": "21xljQaRbN0I"
      }
    },
    {
      "cell_type": "code",
      "source": [
        "class Car:\n",
        "    def __init__(self, make, model, year):\n",
        "        self.make = make\n",
        "        self.model = model\n",
        "        self.year = year\n",
        "\n",
        "    def display_info(self):\n",
        "        print(f\"Make: {self.make}\")\n",
        "        print(f\"Model: {self.model}\")\n",
        "        print(f\"Year: {self.year}\")\n",
        "\n",
        "# Create a car object\n",
        "my_car = Car(\"Jaguar Land Rover\", \"Defender\", 2020)\n",
        "\n",
        "# Display the car's information\n",
        "my_car.display_info()"
      ],
      "metadata": {
        "colab": {
          "base_uri": "https://localhost:8080/"
        },
        "id": "Z5MyDyGebgaJ",
        "outputId": "7f450f9f-81c9-42d4-a4d1-c25e16d693d6"
      },
      "execution_count": 2,
      "outputs": [
        {
          "output_type": "stream",
          "name": "stdout",
          "text": [
            "Make: Jaguar Land Rover\n",
            "Model: Defender\n",
            "Year: 2020\n"
          ]
        }
      ]
    },
    {
      "cell_type": "markdown",
      "source": [
        "### 3. Explain the difference between instance methods and class methods. Provide an example of each.\n",
        "\n",
        "Ans-3. **INSTANCE METHODS**:\n",
        "\n",
        "* **Purpose**: Operate on specific instances of a class.\n",
        "\n",
        "* **Access**: Called on individual objects.\n",
        "\n",
        "* **Parameters**: Can access instance attributes.\n",
        "\n",
        "**Example**:\n",
        "\n",
        "class Car:\n",
        "\n",
        "def init(self, make, model, year):\n",
        "\n",
        "self.make = make\n",
        "\n",
        "self.model = model\n",
        "\n",
        "self.year = year\n",
        "\n",
        "\n"
      ],
      "metadata": {
        "id": "UY3EoHPIcnos"
      }
    },
    {
      "cell_type": "code",
      "source": [
        "def display_info(self):\n",
        "    print(f\"Make: {self.make}\")\n",
        "    print(f\"Model: {self.model}\")\n",
        "    print(f\"Year: {self.year}\")\n",
        "\n",
        "    # Create a car object\n",
        "my_car = Car(\"Jaguar Land Rover\", \"Defender\", 2020)\n",
        "\n",
        "# Display the car's information\n",
        "my_car.display_info()"
      ],
      "metadata": {
        "colab": {
          "base_uri": "https://localhost:8080/"
        },
        "id": "PMaph4KLd35E",
        "outputId": "946a15d4-9443-4e34-cac4-7794a6c8c937"
      },
      "execution_count": 5,
      "outputs": [
        {
          "output_type": "stream",
          "name": "stdout",
          "text": [
            "Make: Jaguar Land Rover\n",
            "Model: Defender\n",
            "Year: 2020\n"
          ]
        }
      ]
    },
    {
      "cell_type": "markdown",
      "source": [
        "**CLASS METHODS**\n",
        "\n",
        "* **Purpose:** Operate on the class itself, not individual instances.\n",
        "\n",
        "* **Access:** Called on the class name."
      ],
      "metadata": {
        "id": "vyd4OxkaeBzE"
      }
    },
    {
      "cell_type": "code",
      "source": [
        "def display_class_attribute(cls):\n",
        "    print(f\"Class attribute: {cls.class_attribute}\")\n",
        "    print(f\"Instance attribute: {self.instance_attribute}\")\n",
        "    print(f\"Static attribute: {self.static_attribute}\")\n",
        "    print(f\"Static method result: {self.static_method()}\")\n",
        "    print(f\"Class method result: {cls.class_method()}\")\n",
        "    print(f\"Instance method result: {self.instance_method()}\")\n",
        "\n",
        "    # Create a car object\n",
        "my_car = Car(\"Jaguar Land Rover\", \"Defender\", 2020)"
      ],
      "metadata": {
        "id": "20coTFwxfnSI"
      },
      "execution_count": 10,
      "outputs": []
    },
    {
      "cell_type": "markdown",
      "source": [
        "**Key Difference:**\n",
        "\n",
        "* **Scope**: Instance methods work with instance data, while class methods work with class data.\n",
        "\n",
        "* **Usage**: Instance methods are used for operations specific to objects, while class methods are used for operations related to the class itself.\n",
        "\n",
        "* **Decorator**: Class methods are decorated with the decorator."
      ],
      "metadata": {
        "id": "G-soqchUfz2j"
      }
    },
    {
      "cell_type": "markdown",
      "source": [
        "### 4. How does Python implement method overloading? Give an example.\n",
        "\n",
        "Ans-4. **Python does not directly support method overloading**. This means that you cannot define multiple methods with the same name within a class, even if they have different parameter lists.\n",
        "\n",
        "* To achieve a similar effect, we can use the following techniques:\n",
        "\n",
        "**1. DEFAULT PARAMETERS:**\n",
        "\n",
        "* Define a method with default parameters for optional arguments.\n",
        "\n",
        "* This allows you to call the method with different numbers of arguments."
      ],
      "metadata": {
        "id": "iA8GEqyagWy9"
      }
    },
    {
      "cell_type": "code",
      "source": [
        "class Calculator:\n",
        "    def add(self, x, y, z=0):\n",
        "        return x + y + z\n",
        "\n",
        "# Example usage:\n",
        "calculator = Calculator()\n",
        "result1 = calculator.add(1, 2)  # z defaults to 0\n",
        "result2 = calculator.add(3, 4, 5)"
      ],
      "metadata": {
        "id": "G2Hv_1zRhXp9"
      },
      "execution_count": 11,
      "outputs": []
    },
    {
      "cell_type": "markdown",
      "source": [
        "**2. VARIABLE ARGUMENTS:**\n",
        "\n",
        "* Use the *args syntax to accept a variable number of positional arguments.\n",
        "\n",
        "* The *args parameter will be a tuple containing all the positional arguments passed to the method."
      ],
      "metadata": {
        "id": "ApJ3BdCFhoiz"
      }
    },
    {
      "cell_type": "code",
      "source": [
        "class Calculator:\n",
        "    def add(self, *args):\n",
        "        result = 0\n",
        "        for num in args:\n",
        "            result += num\n",
        "        return result\n",
        "\n",
        "# Example usage:\n",
        "calculator = Calculator()\n",
        "result1 = calculator.add(1, 2)\n",
        "result2 = calculator.add(3, 4, 5, 6)"
      ],
      "metadata": {
        "id": "kqU003yBiKEy"
      },
      "execution_count": 12,
      "outputs": []
    },
    {
      "cell_type": "markdown",
      "source": [
        "**3. KEYWORD ARGUMENTS:**\n",
        "\n",
        "* Use the **kwargs syntax to accept a variable number of keyword arguments.\n",
        "\n",
        "* The **kwargs parameter will be a dictionary containing all the keyword arguments passed to the method."
      ],
      "metadata": {
        "id": "lAKHXvpXiP_c"
      }
    },
    {
      "cell_type": "code",
      "source": [
        "class Calculator:\n",
        "    def add(self, **kwargs):\n",
        "        result = 0\n",
        "        for key, value in kwargs.items():\n",
        "            result += value\n",
        "        return result\n",
        "\n",
        "# Example usage:\n",
        "calculator = Calculator()\n",
        "result1 = calculator.add(x=1, y=2)\n",
        "result2 = calculator.add(a=3, b=4, c=5)"
      ],
      "metadata": {
        "id": "7YxAMYTFijzN"
      },
      "execution_count": 13,
      "outputs": []
    },
    {
      "cell_type": "markdown",
      "source": [
        "* By using these techniques, we can effectively simulate method overloading in Python, providing flexibility and customization in our class designs."
      ],
      "metadata": {
        "id": "VqJaSxcGjE1x"
      }
    },
    {
      "cell_type": "markdown",
      "source": [
        "### 5. What are the three types of access modifiers in Python? How are they denoted?\n",
        "\n",
        "Ans-5. Python doesn't have explicit access modifiers like public, private, or protected. However, it employs a naming convention to indicate the intended level of access:\n",
        "\n",
        "**1. PUBLIC:** Variables and methods that start with an underscore (_) are considered \"private\" but are still accessible from outside the class. This is primarily a convention to signal to other developers that these attributes are intended for internal use only.\n",
        "\n",
        "**2. PROTECTED:** There's no direct equivalent of protected access in Python. However, you can use the single underscore convention to indicate that a member is intended for internal or subclass use. This can help prevent accidental access from outside the class or its subclasses.\n",
        "\n",
        "**3. PRIVATE:** Variables and methods that start with double underscores (__) are considered \"private\" and are not directly accessible from outside the class. This is a stronger form of privacy than the single underscore convention."
      ],
      "metadata": {
        "id": "0qyDS1H8jQmP"
      }
    },
    {
      "cell_type": "markdown",
      "source": [
        "### 6. Describe the five types of inheritance in Python. Provide a simple example of multiple inheritance.\n",
        "\n",
        "Ans-6. **Python supports five types of inheritance:**\n",
        "\n",
        "**1. Single Inheritance:** A class inherits from a single parent class. This is the most common type of inheritance.\n",
        "\n",
        "**2. Multiple Inheritance:** A class inherits from multiple parent classes. This allows a class to combine the attributes and methods of multiple parent classes.\n",
        "\n",
        "**3. Multilevel Inheritance:** A class inherits from another class that itself inherits from a parent class. This creates a hierarchical relationship between the classes.\n",
        "\n",
        "**4. Hierarchical Inheritance:** Multiple classes inherit from a single parent class. This creates a tree-like structure where multiple classes share a common parent.\n",
        "\n",
        "**5. Hybrid Inheritance:** A combination of multiple inheritance, multilevel inheritance, and hierarchical inheritance."
      ],
      "metadata": {
        "id": "BiD1tQ0XkHcS"
      }
    },
    {
      "cell_type": "code",
      "source": [
        "# Example of Multiple Inheritance:\n",
        "\n",
        "class Animal:\n",
        "    def __init__(self, name):\n",
        "        self.name = name\n",
        "\n",
        "    def speak(self):\n",
        "        pass\n",
        "\n",
        "class Mammal:\n",
        "    def give_birth(self):\n",
        "        print(\"Giving birth...\")\n",
        "\n",
        "class Dog(Animal, Mammal):\n",
        "    def speak(self):\n",
        "        print(\"Woof!\")\n",
        "\n",
        "# Create a Dog object\n",
        "dog = Dog(\"Buddy\")\n",
        "\n",
        "# Access attributes and methods from both parent classes\n",
        "dog.speak()  # Output: Woof!\n",
        "dog.give_birth()  # Output: Giving birth..."
      ],
      "metadata": {
        "colab": {
          "base_uri": "https://localhost:8080/"
        },
        "id": "T2pCyl9Ik3Q6",
        "outputId": "59a3cace-11b6-49c1-d514-d57f08b85dae"
      },
      "execution_count": 14,
      "outputs": [
        {
          "output_type": "stream",
          "name": "stdout",
          "text": [
            "Woof!\n",
            "Giving birth...\n"
          ]
        }
      ]
    },
    {
      "cell_type": "markdown",
      "source": [
        "**In this example,** the Dog class inherits from both the Animal and Mammal classes. This allows the Dog class to have the speak method from Animal and the give_birth method from Mammal."
      ],
      "metadata": {
        "id": "PgrbRgLflOiG"
      }
    },
    {
      "cell_type": "markdown",
      "source": [
        "### 7. What is the Method Resolution Order (MRO) in Python? How can you retrieve it programmatically?\n",
        "\n",
        "Ans-7. **Method Resolution Order (MRO)** in Python determines the order in which methods are searched for when an attribute is accessed on an object. This is especially important in multiple inheritance scenarios, where a class can inherit from multiple parent classes.\n",
        "\n",
        "The MRO is calculated using a specific algorithm called C3 linearization, which ensures that:\n",
        "\n",
        "* Parent classes are searched before their subclasses.\n",
        "\n",
        "* A class appears only once in the MRO.\n",
        "\n",
        "* If a class inherits from multiple parent classes, the MRO is calculated recursively for each parent class.\n",
        "\n",
        "**Retrieving the MRO Programmatically:**\n",
        "\n",
        "You can use the __mro__ attribute of a class to retrieve its MRO as a tuple."
      ],
      "metadata": {
        "id": "nQm3T1NElVY4"
      }
    },
    {
      "cell_type": "code",
      "source": [
        "# Example:\n",
        "\n",
        "class A:\n",
        "    pass\n",
        "\n",
        "class B(A):\n",
        "    pass\n",
        "\n",
        "class C(A):\n",
        "    pass\n",
        "\n",
        "class D(B, C):\n",
        "    pass\n",
        "\n",
        "print(D.__mro__)  # Output: (<class '__main__.D'>, <class '__main__.B'>, <class '__main__.C'>, <class '__main__.A'>, <class 'object'>)"
      ],
      "metadata": {
        "colab": {
          "base_uri": "https://localhost:8080/"
        },
        "id": "Zv7aMAH8mRaL",
        "outputId": "98057468-3189-4f59-c3f4-bdf3987f38d0"
      },
      "execution_count": 15,
      "outputs": [
        {
          "output_type": "stream",
          "name": "stdout",
          "text": [
            "(<class '__main__.D'>, <class '__main__.B'>, <class '__main__.C'>, <class '__main__.A'>, <class 'object'>)\n"
          ]
        }
      ]
    },
    {
      "cell_type": "markdown",
      "source": [
        "**In this example, the MRO for the D class is:**\n",
        "\n",
        "D (the class itself)\n",
        "\n",
        "B (parent class)\n",
        "\n",
        "C (parent class)\n",
        "\n",
        "A (common ancestor)\n",
        "\n",
        "object (the base class for all Python objects)\n",
        "The MRO ensures that methods are searched in the correct order, preventing conflicts and ensuring that the most specific method is called."
      ],
      "metadata": {
        "id": "B3HiQF5CmroU"
      }
    },
    {
      "cell_type": "markdown",
      "source": [
        "### 8. Create an abstract base class `Shape` with an abstract method `area()`. Then create two subclasses\n",
        "`Circle` and `Rectangle` that implement the `area()` method."
      ],
      "metadata": {
        "id": "atd14dqDm_0F"
      }
    },
    {
      "cell_type": "code",
      "source": [
        "from abc import ABC, abstractmethod\n",
        "\n",
        "class Shape(ABC):\n",
        "    @abstractmethod\n",
        "    def area(self):\n",
        "        pass\n",
        "\n",
        "class Circle(Shape):\n",
        "    def __init__(self, radius):\n",
        "        self.radius = radius\n",
        "\n",
        "    def area(self):\n",
        "        return 3.14159 * self.radius ** 2\n",
        "\n",
        "class Rectangle(Shape):\n",
        "    def __init__(self, length, width):\n",
        "        self.length = length\n",
        "        self.width = width\n",
        "\n",
        "    def area(self):\n",
        "        return self.length * self.width\n",
        "\n",
        "# Example usage\n",
        "circle = Circle(5)\n",
        "rectangle = Rectangle(4, 3)\n",
        "\n",
        "print(circle.area())  # Output: 78.53975\n",
        "print(rectangle.area())  # Output: 12"
      ],
      "metadata": {
        "colab": {
          "base_uri": "https://localhost:8080/"
        },
        "id": "EAMMYMchnl3Q",
        "outputId": "b2faecbd-4216-4980-d63c-4a3beacbcdc9"
      },
      "execution_count": 16,
      "outputs": [
        {
          "output_type": "stream",
          "name": "stdout",
          "text": [
            "78.53975\n",
            "12\n"
          ]
        }
      ]
    },
    {
      "cell_type": "markdown",
      "source": [
        "### 9. Demonstrate polymorphism by creating a function that can work with different shape objects to calculate and print their areas."
      ],
      "metadata": {
        "id": "6Nlc85bGny3u"
      }
    },
    {
      "cell_type": "code",
      "source": [
        "def calculate_area(shape):\n",
        "    print(shape.area())\n",
        "\n",
        "# Create objects of different shapes\n",
        "circle = Circle(5)\n",
        "rectangle = Rectangle(4, 3)\n",
        "\n",
        "# Call the function with each shape object\n",
        "calculate_area(circle)  # Output: 78.53975\n",
        "calculate_area(rectangle)  # Output: 12"
      ],
      "metadata": {
        "colab": {
          "base_uri": "https://localhost:8080/"
        },
        "id": "ssypeU6ZoHZL",
        "outputId": "f1806fb4-cd09-4bc7-eaf3-4f1200c85ddf"
      },
      "execution_count": 17,
      "outputs": [
        {
          "output_type": "stream",
          "name": "stdout",
          "text": [
            "78.53975\n",
            "12\n"
          ]
        }
      ]
    },
    {
      "cell_type": "markdown",
      "source": [
        "**In this example, ** the calculate_area function takes a Shape object as input. Since Circle and Rectangle both inherit from Shape and implement the area() method, they can be passed as arguments to the function. The function will call the appropriate area() method based on the actual type of the object, demonstrating polymorphism."
      ],
      "metadata": {
        "id": "cPJzBBv3oOMQ"
      }
    },
    {
      "cell_type": "markdown",
      "source": [
        "### 10. Implement encapsulation in a `BankAccount` class with private attributes for `balance` and\n",
        "`account_number`. Include methods for deposit, withdrawal, and balance inquiry."
      ],
      "metadata": {
        "id": "95pztHdOofR4"
      }
    },
    {
      "cell_type": "code",
      "source": [
        "class BankAccount:\n",
        "    def __init__(self, account_number):\n",
        "        self.__account_number = account_number\n",
        "        self.__balance = 0\n",
        "\n",
        "    def deposit(self, amount):\n",
        "        if amount > 0:\n",
        "            self.__balance += amount\n",
        "            print(\"Deposit successful. New balance:\", self.__balance)\n",
        "        else:\n",
        "            print(\"Invalid deposit amount.\")\n",
        "\n",
        "    def withdraw(self, amount):\n",
        "        if amount > 0 and amount <= self.__balance:\n",
        "            self.__balance -= amount\n",
        "            print(\"Withdrawal successful. New balance:\", self.__balance)\n",
        "        else:\n",
        "            print(\"Invalid withdrawal amount or insufficient funds.\")\n",
        "\n",
        "    def check_balance(self):\n",
        "        print(\"Your current balance is:\", self.__balance)\n",
        "\n",
        "# Create a bank account object\n",
        "account = BankAccount(\"12345\")\n",
        "\n",
        "# Test the methods\n",
        "account.deposit(1000)\n",
        "account.withdraw(500)\n",
        "account.check_balance()"
      ],
      "metadata": {
        "colab": {
          "base_uri": "https://localhost:8080/"
        },
        "id": "bCqm2ykppsIn",
        "outputId": "29467ce0-9ec0-4fef-89e6-417594ffe31f"
      },
      "execution_count": 18,
      "outputs": [
        {
          "output_type": "stream",
          "name": "stdout",
          "text": [
            "Deposit successful. New balance: 1000\n",
            "Withdrawal successful. New balance: 500\n",
            "Your current balance is: 500\n"
          ]
        }
      ]
    },
    {
      "cell_type": "markdown",
      "source": [
        "**In this example,** the __account_number and __balance attributes are declared as private using double underscores. This prevents direct access from outside the class. The deposit, withdraw, and check_balance methods provide controlled access to these attributes, ensuring data integrity and preventing unauthorized modifications."
      ],
      "metadata": {
        "id": "ZKzQ2RIsqHNN"
      }
    },
    {
      "cell_type": "markdown",
      "source": [
        "### 11. Write a class that overrides the `__str__` and `__add__` magic methods. What will these methods allow you to do?"
      ],
      "metadata": {
        "id": "i8cgbmCGpzAJ"
      }
    },
    {
      "cell_type": "code",
      "source": [
        "class MyClass:\n",
        "    def __init__(self, value):\n",
        "        self.value = value\n",
        "\n",
        "    def __str__(self):\n",
        "        return f\"MyClass object with value {self.value}\"\n",
        "\n",
        "    def __add__(self, other):\n",
        "        return MyClass(self.value + other.value)\n",
        "\n",
        "# Create objects\n",
        "obj1 = MyClass(10)\n",
        "obj2 = MyClass(20)\n",
        "\n",
        "# Print the object\n",
        "print(obj1)  # Output: MyClass object with value 10\n",
        "\n",
        "# Add objects\n",
        "obj3 = obj1 + obj2\n",
        "print(obj3)  # Output: MyClass object with value 30"
      ],
      "metadata": {
        "colab": {
          "base_uri": "https://localhost:8080/"
        },
        "id": "soCBdsEfqdN8",
        "outputId": "da9219e6-3f1f-4831-bd8b-1f8681a7fc62"
      },
      "execution_count": 19,
      "outputs": [
        {
          "output_type": "stream",
          "name": "stdout",
          "text": [
            "MyClass object with value 10\n",
            "MyClass object with value 30\n"
          ]
        }
      ]
    },
    {
      "cell_type": "markdown",
      "source": [
        "**Explanation:**\n",
        "\n",
        "* __str__ method: This method is called when you try to print an object or convert it to a string. In the example, it returns a human-readable representation of the MyClass object.\n",
        "\n",
        "* __add__ method: This method is called when you use the + operator on two objects of the same class. It allows you to define custom addition behavior for your objects. In the example, it adds the value attributes of the two objects and returns a new MyClass object with the result.\n",
        "\n",
        "**Benefits:**\n",
        "\n",
        "* **Custom string representation:** You can control how your objects are displayed when printed or converted to strings.\n",
        "\n",
        "* **Custom addition behavior:** You can define how objects of your class should be added, providing flexibility and control over the operation.\n",
        "\n",
        "* **Integration with Python's built-in operators:** The __str__ and __add__ methods allow you to integrate your classes with Python's core language features, making them more natural to use."
      ],
      "metadata": {
        "id": "PvyMelX3qiF8"
      }
    },
    {
      "cell_type": "markdown",
      "source": [
        "### 12. Create a decorator that measures and prints the execution time of a function."
      ],
      "metadata": {
        "id": "6xzUngqErNDB"
      }
    },
    {
      "cell_type": "code",
      "source": [
        "import time\n",
        "\n",
        "def measure_time(func):\n",
        "    def wrapper(*args, **kwargs):\n",
        "        start_time = time.time()\n",
        "        result = func(*args, **kwargs)\n",
        "        end_time = time.time()\n",
        "        execution_time = end_time - start_time\n",
        "        print(f\"{func.__name__} took {execution_time:.5f} seconds to execute.\")\n",
        "        return result\n",
        "    return wrapper\n",
        "\n",
        "@measure_time\n",
        "def my_function(n):\n",
        "    sum = 0\n",
        "    for i in range(n):\n",
        "        sum += i\n",
        "    return sum\n",
        "\n",
        "# Call the function\n",
        "result = my_function(1000000)\n",
        "print(result)"
      ],
      "metadata": {
        "colab": {
          "base_uri": "https://localhost:8080/"
        },
        "id": "vvFS832QrZyb",
        "outputId": "04f4ce0e-e7c4-45bc-d38a-514956424a32"
      },
      "execution_count": 20,
      "outputs": [
        {
          "output_type": "stream",
          "name": "stdout",
          "text": [
            "my_function took 0.06918 seconds to execute.\n",
            "499999500000\n"
          ]
        }
      ]
    },
    {
      "cell_type": "markdown",
      "source": [
        "**Explanation:**\n",
        "\n",
        "1. measure_time decorator:\n",
        "\n",
        "* Takes a function func as input.\n",
        "\n",
        "* Defines a nested function wrapper that wraps the original function.\n",
        "\n",
        "* Records the start time before calling the original function.\n",
        "\n",
        "* Calls the original function with the provided arguments.\n",
        "\n",
        "* Records the end time and calculates the execution time.\n",
        "\n",
        "* Prints the execution time.\n",
        "\n",
        "* Returns the result of the original function.\n",
        "\n",
        "* Returns the wrapper function.\n",
        "\n",
        "2. @measure_time decorator:\n",
        "\n",
        "* Applies the measure_time decorator to the my_function function, modifying its behavior.\n",
        "\n",
        "3. my_function:\n",
        "\n",
        "* Calculates the sum of numbers from 0 to n.\n",
        "\n",
        "4. Calling the function:\n",
        "\n",
        "* Calls the my_function with the argument 1000000.\n",
        "\n",
        "* The measure_time decorator measures and prints the execution time before returning the result.\n",
        "\n",
        "This code demonstrates how to use a decorator to measure and print the execution time of a function in Python."
      ],
      "metadata": {
        "id": "VkfDdMRNrhVs"
      }
    },
    {
      "cell_type": "markdown",
      "source": [
        "### 13. Explain the concept of the Diamond Problem in multiple inheritance. How does Python resolve it?\n",
        "\n",
        "Ans-13. The Diamond Problem occurs in multiple inheritance when a class inherits from two parent classes that share a common ancestor. This creates a diamond-shaped hierarchy, and the question arises as to which version of a method or attribute should be used if the parent classes have different implementations.\n",
        "\n"
      ],
      "metadata": {
        "id": "uzMtl7FdtGwJ"
      }
    },
    {
      "cell_type": "code",
      "source": [
        "# Example:\n",
        "\n",
        "class A:\n",
        "    def method(self):\n",
        "        print(\"A's method\")\n",
        "\n",
        "class B(A):\n",
        "    pass\n",
        "\n",
        "class C(A):\n",
        "    pass\n",
        "\n",
        "class D(B, C):\n",
        "    pass"
      ],
      "metadata": {
        "id": "T14ZTbmZtwSp"
      },
      "execution_count": 21,
      "outputs": []
    },
    {
      "cell_type": "markdown",
      "source": [
        "**In this example,** D inherits from both B and C, which both inherit from A. If A, B, and C all have different implementations of the method method, how should D's method be resolved?\n",
        "\n",
        "#### Python's Solution: C3 Linearization\n",
        "\n",
        "Python resolves the Diamond Problem using a method called C3 linearization. This algorithm determines the Method Resolution Order (MRO) for a class, which specifies the order in which methods are searched for when an attribute is accessed.\n",
        "\n",
        "**The C3 linearization algorithm ensures the following:**\n",
        "\n",
        "* Parent classes are searched before their subclasses.\n",
        "\n",
        "* A class appears only once in the MRO.\n",
        "\n",
        "* If a class inherits from multiple parent classes, the MRO is calculated recursively for each parent class.\n",
        "\n",
        "**In the above example, the MRO for D would be:**\n",
        "\n",
        "(D, B, C, A, object)\n",
        "\n",
        "This means that when D's method is called, Python will search for it in the following order:\n",
        "\n",
        "1. D\n",
        "2. B\n",
        "3. C\n",
        "4. A\n",
        "5. object\n",
        "\n",
        "The first occurrence of method in this order will be used. If B and C have different implementations of method, the one inherited from B will be used because it appears earlier in the MRO.\n",
        "\n",
        "#### Conclusion:\n",
        "\n",
        "Python's C3 linearization effectively resolves the Diamond Problem by providing a consistent and predictable way to determine the order in which methods are searched for in multiple inheritance scenarios. This ensures that the correct method is called based on the class hierarchy and prevents ambiguity.\n",
        "\n"
      ],
      "metadata": {
        "id": "rHjurjLJt4ZW"
      }
    },
    {
      "cell_type": "markdown",
      "source": [
        "### 14. Write a class method that keeps track of the number of instances created from a class."
      ],
      "metadata": {
        "id": "YGF4GxrRvHDV"
      }
    },
    {
      "cell_type": "code",
      "source": [
        "class MyClass:\n",
        "    count = 0\n",
        "\n",
        "    def __init__(self):\n",
        "        MyClass.count += 1\n",
        "\n",
        "    @classmethod\n",
        "    def get_instance_count(cls):\n",
        "        return cls.count\n",
        "\n",
        "# Create instances\n",
        "obj1 = MyClass()\n",
        "obj2 = MyClass()\n",
        "obj3 = MyClass()\n",
        "\n",
        "# Get the instance count\n",
        "print(MyClass.get_instance_count())"
      ],
      "metadata": {
        "colab": {
          "base_uri": "https://localhost:8080/"
        },
        "id": "akUMccWnvXRn",
        "outputId": "b538e7e7-732b-4741-9a65-d34fd7c4f1b2"
      },
      "execution_count": 22,
      "outputs": [
        {
          "output_type": "stream",
          "name": "stdout",
          "text": [
            "3\n"
          ]
        }
      ]
    },
    {
      "cell_type": "markdown",
      "source": [
        "**Explanation:**\n",
        "\n",
        "* count class attribute: This attribute is shared by all instances of the MyClass class and is initialized to 0.\n",
        "\n",
        "* __init__ method: This method is called when a new instance of the class is created. It increments the count attribute by 1.\n",
        "\n",
        "* get_instance_count class method: This method is decorated with @classmethod, which means it belongs to the class itself, not to individual instances. It returns the current value of the count attribute.\n",
        "\n",
        "By using a class attribute and a class method, we can effectively keep track of the number of instances created from the class without requiring any additional attributes or methods in each instance."
      ],
      "metadata": {
        "id": "YvXJGpstvh7H"
      }
    },
    {
      "cell_type": "markdown",
      "source": [
        "### 15. Implement a static method in a class that checks if a given year is a leap year."
      ],
      "metadata": {
        "id": "B7LQG6e3v1-N"
      }
    },
    {
      "cell_type": "code",
      "source": [
        "class Calendar:\n",
        "    @staticmethod\n",
        "    def is_leap_year(year):\n",
        "        if year % 4 == 0:\n",
        "            if year % 100 == 0:\n",
        "                if year % 400 == 0:\n",
        "                    return True\n",
        "                else:\n",
        "                    return False\n",
        "            else:\n",
        "                return True\n",
        "        else:\n",
        "            return False\n",
        "\n",
        "# Test the method\n",
        "year = 2024\n",
        "if Calendar.is_leap_year(year):\n",
        "    print(year, \"is a leap year.\")\n",
        "else:\n",
        "    print(year, \"is not a leap year.\")"
      ],
      "metadata": {
        "colab": {
          "base_uri": "https://localhost:8080/"
        },
        "id": "io-H09xkwCu2",
        "outputId": "5506d713-b178-4628-f32f-0db08def8985"
      },
      "execution_count": 23,
      "outputs": [
        {
          "output_type": "stream",
          "name": "stdout",
          "text": [
            "2024 is a leap year.\n"
          ]
        }
      ]
    },
    {
      "cell_type": "markdown",
      "source": [
        "**Explanation:**\n",
        "\n",
        "* **is_leap_year static method:** This method is decorated with @staticmethod, which means it belongs to the class itself, not to individual instances. It takes a year as input and returns True if it's a leap year, False otherwise.\n",
        "\n",
        "* **Leap year logic:** The method uses the following conditions to determine if a year is a leap year:\n",
        "The year is divisible by 4.\n",
        "If the year is divisible by 100, it must also be divisible by 400.\n",
        "\n",
        "* **Testing:** The code creates a variable year and calls the is_leap_year method with that year. If the method returns True, the year is printed as a leap year; otherwise, it's printed as not a leap year.\n",
        "\n",
        "This implementation effectively checks if a given year is a leap year using the standard leap year rules."
      ],
      "metadata": {
        "id": "OKOe8-n3wHmK"
      }
    }
  ]
}