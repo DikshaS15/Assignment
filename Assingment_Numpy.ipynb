{
  "nbformat": 4,
  "nbformat_minor": 0,
  "metadata": {
    "colab": {
      "provenance": [],
      "toc_visible": true
    },
    "kernelspec": {
      "name": "python3",
      "display_name": "Python 3"
    },
    "language_info": {
      "name": "python"
    }
  },
  "cells": [
    {
      "cell_type": "markdown",
      "source": [
        "#Theoretical Questions"
      ],
      "metadata": {
        "id": "anBPTYwTeVQ2"
      }
    },
    {
      "cell_type": "markdown",
      "source": [
        "#### 1. Explain the purpose and advantages of NumPy in scientific computing and data analysis. How does it enhance Python's capabilities for numerical operations?\n",
        "\n",
        "Ans-1. **NUMPY**\n",
        "\n",
        "1. The Powerhouse of Scientific Computing in Python.\n",
        "\n",
        "2. NumPy, short for Numerical Python, is a fundamental library for scientific computing and data analysis in Python.\n",
        "\n",
        "3. It provides efficient array manipulation and mathematical operations, significantly enhancing Python's capabilities for numerical computations.\n",
        "\n",
        "### Key Purposes and Advantages:\n",
        "\n",
        "1. Efficient Array Operations:\n",
        "\n",
        "* **N-dimensional Arrays:** NumPy introduces the ndarray\n",
        "object, a versatile data structure for representing arrays of any dimension. This enables efficient handling of multidimensional data, such as images, matrices, and tensors.\n",
        "\n",
        "* **Vectorization:** NumPy allows you to perform operations on entire arrays element-wise, without the need for explicit loops.This vectorization significantly speeds up computations, especially for large datasets.\n",
        "\n",
        "2. Broad Range of Mathematical Functions:\n",
        "\n",
        "* NumPy offers a rich collection of mathematical functions, including trigonometric, logarithmic, exponential, and statistical functions.These functions are optimized for performance and can be applied to arrays efficiently.\n",
        "\n",
        "3. Linear Algebra Operations:\n",
        "\n",
        "* NumPy provides powerful linear algebra routines, such as matrix multiplication, inversion, and eigenvalue decomposition. These operations are essential for various scientific and engineering applications.\n",
        "\n",
        "4. Random Number Generation:\n",
        "\n",
        "* NumPy's random number generation capabilities are crucial for simulations, statistical modeling, and machine learning. It offers a variety of distributions, including uniform, normal, and Poisson.\n",
        "\n",
        "5. Integration with Other Libraries:\n",
        "\n",
        "* NumPy serves as the foundation for many other scientific Python libraries, such as SciPy, Pandas, Matplotlib, and scikit-learn.This seamless integration enables a comprehensive data analysis and machine learning workflow.\n",
        "\n",
        "**How NumPy Enhances Python's Numerical Capabilities:**\n",
        "\n",
        "1. **Performance:** NumPy's efficient array operations and vectorization significantly improve the speed of numerical computations compared to traditional Python loops.\n",
        "\n",
        "2. **Conciseness**: NumPy's concise syntax and powerful functions allow you to express complex mathematical operations in a few lines of code.\n",
        "\n",
        "3. **Flexibility:** NumPy's versatile ndarray object can be used to represent various data structures, making it suitable for a wide range of applications.\n",
        "\n",
        "4. **Integration:** NumPy's seamless integration with other scientific Python libraries enables a powerful and flexible ecosystem for data analysis and scientific computing.\n",
        "\n",
        "* By leveraging NumPy, you can efficiently handle large datasets, perform complex mathematical operations, and visualize data effectively, making it an indispensable tool for researchers, data scientists, and engineers.\n",
        "\n",
        "\n",
        "\n",
        "\n",
        "\n",
        "\n",
        "\n",
        "\n",
        "\n",
        "\n",
        "\n",
        "\n",
        "\n",
        ""
      ],
      "metadata": {
        "id": "NkKzheoSeerl"
      }
    },
    {
      "cell_type": "markdown",
      "source": [
        "#### 2. Compare and contrast np.mean() and np.average() functions in NumPy. When would you use one over the other?\n",
        "\n",
        "Ans-2. **np.mean() vs. np.average() in NumPy**\n",
        "\n",
        "While both functions are used to calculate averages, they have subtle differences in their functionality:\n",
        "\n",
        "1. np.mean()\n",
        "\n",
        "Purpose: Calculates the arithmetic mean of an array.\n",
        "\n"
      ],
      "metadata": {
        "id": "_0LtdFRtmcc-"
      }
    },
    {
      "cell_type": "code",
      "source": [
        "#Usage:\n",
        "\n",
        "import numpy as np\n",
        "\n",
        "arr = np.array([1, 2, 3, 4, 5])\n",
        "mean_value = np.mean(arr)\n",
        "print(mean_value)"
      ],
      "metadata": {
        "colab": {
          "base_uri": "https://localhost:8080/"
        },
        "id": "JwLyR4QBng9c",
        "outputId": "2780e7ec-790a-4925-e119-7c1baf7b70cc"
      },
      "execution_count": 1,
      "outputs": [
        {
          "output_type": "stream",
          "name": "stdout",
          "text": [
            "3.0\n"
          ]
        }
      ]
    },
    {
      "cell_type": "markdown",
      "source": [
        "2. np.average()\n",
        "\n",
        "Purpose: Calculates the weighted average of an array"
      ],
      "metadata": {
        "id": "4ji8A5g0nxgt"
      }
    },
    {
      "cell_type": "code",
      "source": [
        "#usage:\n",
        "\n",
        "import numpy as np\n",
        "\n",
        "arr = np.array([1, 2, 3, 4, 5])\n",
        "weights = np.array([2, 1, 3, 1, 2])\n",
        "weighted_mean = np.average(arr, weights=weights)"
      ],
      "metadata": {
        "id": "c7nukqk9n5p4"
      },
      "execution_count": 2,
      "outputs": []
    },
    {
      "cell_type": "markdown",
      "source": [
        "####When to Use Which:\n",
        "\n",
        "1. **np.mean():**\n",
        "\n",
        "* Use when you want to calculate the simple arithmetic mean of an array.\n",
        "\n",
        "* Ideal for scenarios where all data points have equal importance.\n",
        "\n",
        "2. **np.average():**\n",
        "\n",
        "* Use when you want to calculate a weighted average, where different data points have different levels of importance.\n",
        "\n",
        "* Useful in statistical analysis, machine learning, and other fields where certain data points might be more significant than others.\n",
        "\n",
        "* In Conclusion:\n",
        "\n",
        "Both functions are valuable tools in your NumPy toolkit. Choose np.mean() for straightforward arithmetic means and np.average() for more nuanced calculations involving weighted averages. By understanding their distinctions, you can effectively apply them to your data analysis tasks.\n",
        "\n",
        "\n"
      ],
      "metadata": {
        "id": "ApDEFWmOoC_A"
      }
    },
    {
      "cell_type": "markdown",
      "source": [
        "#### 3. Describe the methods for reversing a NumPy array along different axes. Provide examples for 1D and 2D\n",
        "arrays.\n",
        "\n",
        "Ans-3. **Reversing NumPy Arrays**\n",
        "\n",
        "NumPy provides several methods to reverse arrays along specific axes. Here are the primary approaches:\n",
        "\n",
        "1. **Using [::-1] Indexing:**\n",
        "\n",
        "This simple slicing technique is effective for reversing arrays along a single axis."
      ],
      "metadata": {
        "id": "N3ZneYbeqRwC"
      }
    },
    {
      "cell_type": "code",
      "source": [
        "# 1DArray\n",
        "import numpy as np\n",
        "\n",
        "arr = np.array([1, 2, 3, 4, 5])\n",
        "reversed_arr = arr[::-1]\n",
        "print(reversed_arr)\n",
        "\n",
        "# 2DArray\n",
        "\n",
        "import numpy as np\n",
        "\n",
        "arr_2d = np.array([[1, 2, 3], [4, 5, 6], [7, 8, 9]])\n",
        "reversed_arr_2d = np.flip(arr_2d)"
      ],
      "metadata": {
        "colab": {
          "base_uri": "https://localhost:8080/"
        },
        "id": "10UC9XzRqoKr",
        "outputId": "16dc08f9-46db-45f5-9406-18ee51759e9c"
      },
      "execution_count": 4,
      "outputs": [
        {
          "output_type": "stream",
          "name": "stdout",
          "text": [
            "[5 4 3 2 1]\n"
          ]
        }
      ]
    },
    {
      "cell_type": "markdown",
      "source": [
        "2. **Using np.flip():**\n",
        "\n",
        "This function provides more flexibility, allowing you to specify the axis or axes along which to reverse."
      ],
      "metadata": {
        "id": "vhjd235nrP0r"
      }
    },
    {
      "cell_type": "code",
      "source": [
        "reversed_arr_2d = np.flip(arr_2d, axis=1)"
      ],
      "metadata": {
        "id": "9eP2GqC8rboY"
      },
      "execution_count": 9,
      "outputs": []
    },
    {
      "cell_type": "markdown",
      "source": [
        "**Choosing the Right Method:**\n",
        "\n",
        "1. **Simple Reversal:** [::-1] indexing is straightforward for basic reversals.\n",
        "\n",
        "2. **Complex Reversals or Multiple Axes:** np.flip() offers more control and flexibility.\n",
        "\n",
        "By understanding these techniques, you can effectively manipulate NumPy arrays to suit your specific data analysis and computational needs.\n",
        "\n",
        "\n",
        "\n",
        "\n",
        "\n",
        "\n",
        "\n"
      ],
      "metadata": {
        "id": "HxPWG-V7sfbn"
      }
    },
    {
      "cell_type": "markdown",
      "source": [
        "#### 4. How can you determine the data type of elements in a NumPy array? Discuss the importance of data types in memory management and performance.\n",
        "\n",
        "Ans-4. **Determining Data Types in NumPy Arrays**\n",
        "\n",
        "In NumPy, you can determine the data type of elements in an array using the dtype attribute. Here's a simple example:"
      ],
      "metadata": {
        "id": "gQBAKmztstkj"
      }
    },
    {
      "cell_type": "code",
      "source": [
        "import numpy as np\n",
        "\n",
        "arr = np.array([1, 2, 3, 4, 5])\n",
        "print(arr.dtype)"
      ],
      "metadata": {
        "colab": {
          "base_uri": "https://localhost:8080/"
        },
        "id": "u1sH1LivuWh1",
        "outputId": "3f0474e6-1218-47cf-aaa3-d7b627cda7b7"
      },
      "execution_count": 10,
      "outputs": [
        {
          "output_type": "stream",
          "name": "stdout",
          "text": [
            "int64\n"
          ]
        }
      ]
    },
    {
      "cell_type": "markdown",
      "source": [
        "This will print the data type of the elements, which in this case is int32.\n",
        "\n",
        "* Importance of Data Types in Memory Management and Performance\n",
        "\n",
        "Data types play a crucial role in NumPy arrays, significantly impacting memory usage and computational efficiency. Here's why:\n",
        "\n",
        "1. **Memory Efficiency:**\n",
        "\n",
        "* Smaller Data Types, Less Memory: By choosing appropriate data types, you can reduce the memory footprint of your arrays. For instance, using int16 instead of int32 for integers that fit within a 16-bit range can halve the memory consumption.\n",
        "\n",
        "* Efficient Memory Layout: NumPy arrays are stored in contiguous memory blocks, allowing for efficient memory access and vectorized operations. The data type determines the size of each element, influencing the overall memory layout.\n",
        "\n",
        "2. **Computational Performance:**\n",
        "\n",
        "* Optimized Operations: NumPy operations are highly optimized for specific data types. Using the correct data type can lead to significant performance improvements, especially for numerical computations.\n",
        "\n",
        "* Vectorization: Vectorized operations, a core strength of NumPy, rely on efficient data type handling to achieve high performance.\n",
        "\n",
        "* Hardware-Specific Optimizations: Modern processors often have specialized instructions for specific data types. By aligning data types with hardware capabilities, you can further boost performance.\n",
        "\n",
        "#### Key Considerations:\n",
        "\n",
        "1. Choose the Right Data Type: Select the smallest data type that can accurately represent your data. For example, if your integers are within a small range, int8 or int16 might be sufficient.\n",
        "\n",
        "2. Be Mindful of Precision: While smaller data types can save memory, they may also reduce precision. If precision is critical, consider using larger data types like float64.\n",
        "\n",
        "3. Leverage NumPy's Data Type Conversion: NumPy provides functions like astype to convert arrays to different data types. Use this carefully, as it can involve data copying and potential precision loss.\n",
        "\n",
        "By understanding the importance of data types and making informed choices, you can optimize your NumPy arrays for both memory efficiency and computational performance.\n",
        "\n",
        "\n",
        "\n",
        "\n",
        "\n",
        "\n"
      ],
      "metadata": {
        "id": "p3zaTsFNuhK6"
      }
    },
    {
      "cell_type": "markdown",
      "source": [
        "#### 5. Define ndarrays in NumPy and explain their key features. How do they differ from standard Python lists?\n",
        "\n",
        "Ans-5. **ndarrays in NumPy**\n",
        "\n",
        "* NumPy's ndarray (n-dimensional array) is a fundamental data structure that represents a collection of elements, all of the same type, arranged in a multidimensional grid. It's the cornerstone of numerical computing in Python, offering significant advantages over standard Python lists in terms of performance and functionality.\n",
        "\n",
        "#### Key Features of ndarrays:\n",
        "\n",
        "1. Homogeneous Data Type: All elements in an ndarray must be of the same data type (e.g., int32, float64, bool). This homogeneity allows for efficient memory allocation and optimized operations.\n",
        "\n",
        "2. Multidimensional: ndarrays can have any number of dimensions, from 0D (scalar) to nD (n-dimensional). This flexibility enables the representation of various mathematical objects like vectors, matrices, and tensors.\n",
        "\n",
        "3. Efficient Memory Layout: Elements in an ndarray are stored in contiguous memory blocks, promoting efficient memory access and cache utilization.\n",
        "\n",
        "4. Vectorized Operations: NumPy supports vectorized operations, allowing you to perform element-wise operations on entire arrays without explicit loops. This significantly speeds up computations.\n",
        "\n",
        "5. Broadcasting: NumPy's broadcasting rules enable operations between arrays of different shapes, as long as certain conditions are met. This feature simplifies many mathematical operations.\n",
        "\n",
        "6. Indexing and Slicing: Powerful indexing and slicing mechanisms allow you to access and manipulate specific elements or subsets of an array.\n",
        "\n",
        "7. Ufuncs: Universal functions (ufuncs) provide efficient element-wise operations on arrays, including arithmetic, trigonometric, and logical operations.\n",
        "\n",
        "* In essence, ndarrays offer a more efficient and powerful way to work with numerical data in Python. Their homogeneous data type, contiguous memory layout, vectorized operations, and broadcasting capabilities make them the preferred choice for numerical computations.\n",
        "\n",
        "\n"
      ],
      "metadata": {
        "id": "kFeCuR7ZwfKg"
      }
    },
    {
      "cell_type": "markdown",
      "source": [
        "#### 6. Analyze the performance benefits of NumPy arrays over Python lists for large-scale numerical operations.\n",
        "\n",
        "Ans-6. NumPy Arrays vs. Python Lists: A Performance Deep Dive\n",
        "\n",
        "When it comes to large-scale numerical operations, NumPy arrays offer significant performance advantages over standard Python lists. Let's delve into the reasons behind this:\n",
        "\n",
        "1. **Homogeneous Data Type:**\n",
        "\n",
        "* NumPy: All elements in a NumPy array must be of the same data type, leading to efficient memory allocation and optimized operations.\n",
        "\n",
        "* Python Lists: Python lists can store elements of different data types, which requires additional overhead for type checking and memory management.\n",
        "\n",
        "2. **Contiguous Memory Layout:**\n",
        "\n",
        "* NumPy: NumPy arrays store elements in contiguous memory blocks, allowing for efficient memory access and cache utilization.\n",
        "\n",
        "* Python Lists: Python lists store elements in non-contiguous memory locations, which can lead to slower access times, especially when iterating over large datasets.\n",
        "\n",
        "3. **Vectorized Operations:**\n",
        "\n",
        "* NumPy: NumPy supports vectorized operations, enabling element-wise operations on entire arrays without explicit loops. This significantly reduces the overhead of Python's interpreter and leverages hardware-level optimizations.\n",
        "\n",
        "* Python Lists: Python lists require explicit loops for element-wise operations, which can be significantly slower for large datasets.\n",
        "\n",
        "4. **Optimized C Implementation:**\n",
        "\n",
        "* NumPy: NumPy is implemented in C, providing a significant performance boost over pure Python implementations.\n",
        "\n",
        "* Python Lists: Python lists are implemented in Python, which can be slower for numerical operations.\n",
        "\n",
        "* Real-world Performance Implications: To illustrate the performance differences, consider a simple example:"
      ],
      "metadata": {
        "id": "G8MO_iopx55h"
      }
    },
    {
      "cell_type": "code",
      "source": [
        "import numpy as np\n",
        "import time\n",
        "\n",
        "# Create large arrays\n",
        "N = 1000000\n",
        "arr_np = np.random.rand(N)\n",
        "arr_py = list(arr_np)\n",
        "\n",
        "# Time a simple operation (e.g., summing elements)\n",
        "start_np = time.time()\n",
        "sum_np = np.sum(arr_np)\n",
        "end_np = time.time()\n",
        "\n",
        "start_py = time.time()\n",
        "sum_py = sum(arr_py)\n",
        "end_py = time.time()\n",
        "\n",
        "print(\"NumPy time:\", end_np - start_np)\n",
        "print(\"Python list time:\", end_py - start_py)"
      ],
      "metadata": {
        "colab": {
          "base_uri": "https://localhost:8080/"
        },
        "id": "N1ljsxkpzd8a",
        "outputId": "62a5bdf0-fe2b-4071-c398-340ddbb39436"
      },
      "execution_count": 11,
      "outputs": [
        {
          "output_type": "stream",
          "name": "stdout",
          "text": [
            "NumPy time: 0.0014405250549316406\n",
            "Python list time: 0.05664634704589844\n"
          ]
        }
      ]
    },
    {
      "cell_type": "markdown",
      "source": [
        "In this example, NumPy's vectorized operations will significantly outperform Python's loop-based approach, especially for large values of N.\n",
        "\n",
        "In conclusion:\n",
        "\n",
        "NumPy arrays provide a powerful and efficient tool for numerical computations in Python. By leveraging homogeneous data types, contiguous memory layout, vectorized operations, and optimized C implementation, NumPy enables you to perform large-scale numerical operations significantly faster than with standard Python lists."
      ],
      "metadata": {
        "id": "ZP8lHYYczksu"
      }
    },
    {
      "cell_type": "markdown",
      "source": [
        "#### 7. Compare vstack() and hstack() functions in NumPy. Provide examples demonstrating their usage and output.\n",
        "\n",
        "Ans-7. **vstack() and hstack() in NumPy**\n",
        "\n",
        "NumPy provides two essential functions for stacking arrays: vstack() and hstack(). These functions are used to combine arrays along specific axes.\n",
        "\n",
        "1. vstack()\n",
        "\n",
        "* Vertical Stacking: This function stacks arrays vertically, meaning it adds rows.\n",
        "\n",
        "* Syntax: np.vstack((array1, array2, ...))"
      ],
      "metadata": {
        "id": "MRvCFwCEzoA6"
      }
    },
    {
      "cell_type": "code",
      "source": [
        "#Example:\n",
        "\n",
        "import numpy as np\n",
        "\n",
        "array1 = np.array([[1, 2, 3], [4, 5, 6]])\n",
        "array2 = np.array([[7, 8, 9], [10, 11, 12]])\n",
        "\n",
        "result = np.vstack((array1, array2))\n",
        "print(result)"
      ],
      "metadata": {
        "colab": {
          "base_uri": "https://localhost:8080/"
        },
        "id": "m6IktDYn0H-p",
        "outputId": "31fb90c7-63d5-437e-a35a-8437b4d5febe"
      },
      "execution_count": 12,
      "outputs": [
        {
          "output_type": "stream",
          "name": "stdout",
          "text": [
            "[[ 1  2  3]\n",
            " [ 4  5  6]\n",
            " [ 7  8  9]\n",
            " [10 11 12]]\n"
          ]
        }
      ]
    },
    {
      "cell_type": "markdown",
      "source": [
        "2. hstack()\n",
        "\n",
        "* Horizontal Stacking: This function stacks arrays horizontally, meaning it adds columns.\n",
        "\n",
        "* Syntax: np.hstack((array1, array2, ...))"
      ],
      "metadata": {
        "id": "QWZJOwEw0Nu_"
      }
    },
    {
      "cell_type": "code",
      "source": [
        "#Example:\n",
        "\n",
        "import numpy as np\n",
        "\n",
        "array1 = np.array([[1, 2], [3, 4]])\n",
        "array2 = np.array([[5, 6], [7, 8]])\n",
        "\n",
        "result = np.hstack((array1, array2))\n",
        "print(result)"
      ],
      "metadata": {
        "colab": {
          "base_uri": "https://localhost:8080/"
        },
        "id": "IxXUkt2G0YCp",
        "outputId": "6e2cc311-b076-4499-fe27-f87ed139edbd"
      },
      "execution_count": 13,
      "outputs": [
        {
          "output_type": "stream",
          "name": "stdout",
          "text": [
            "[[1 2 5 6]\n",
            " [3 4 7 8]]\n"
          ]
        }
      ]
    },
    {
      "cell_type": "markdown",
      "source": [
        "**Key Points:**\n",
        "\n",
        "1. Array Shapes: The arrays being stacked must have compatible shapes for the operation to be successful. For vstack(), the number of columns must be the same, and for hstack(), the number of rows must be the same.\n",
        "\n",
        "2. Data Types: The data types of the arrays being stacked should ideally be the same. NumPy will attempt to find a common data type if necessary.\n",
        "\n",
        "3. Performance: NumPy's optimized implementation of these functions ensures efficient stacking operations, even for large arrays.\n",
        "\n",
        "* By understanding and effectively using vstack() and hstack(), you can efficiently combine and manipulate arrays in various numerical computations."
      ],
      "metadata": {
        "id": "wPE-ORNu0inO"
      }
    },
    {
      "cell_type": "markdown",
      "source": [
        "#### 8.  Explain the differences between fliplr() and flipud() methods in NumPy, including their effects on various array dimensions.\n",
        "\n",
        "Ans-8. **fliplr() and flipud() in NumPy**\n",
        "\n",
        "NumPy provides two functions, fliplr() and flipud(), for flipping arrays along specific axes.\n",
        "\n",
        "1. fliplr()\n",
        "\n",
        "* Flips the array left-right.\n",
        "\n",
        "* Axis: Flips along the second axis (columns)."
      ],
      "metadata": {
        "id": "E_jD3XSP0tcY"
      }
    },
    {
      "cell_type": "code",
      "source": [
        "#Example:\n",
        "\n",
        "import numpy as np\n",
        "\n",
        "arr = np.array([[1, 2, 3],\n",
        "                [4, 5, 6]])\n",
        "\n",
        "flipped_arr = np.fliplr(arr)\n",
        "print(flipped_arr)"
      ],
      "metadata": {
        "colab": {
          "base_uri": "https://localhost:8080/"
        },
        "id": "0yyohcFF1PKZ",
        "outputId": "79475a8d-a4f3-4a9e-d925-6fc1ac1b8f1e"
      },
      "execution_count": 14,
      "outputs": [
        {
          "output_type": "stream",
          "name": "stdout",
          "text": [
            "[[3 2 1]\n",
            " [6 5 4]]\n"
          ]
        }
      ]
    },
    {
      "cell_type": "markdown",
      "source": [
        "2. flipud()\n",
        "\n",
        "* Flips the array up-down.\n",
        "\n",
        "* Axis: Flips along the first axis (rows)."
      ],
      "metadata": {
        "id": "zlEglwhF1Zp5"
      }
    },
    {
      "cell_type": "code",
      "source": [
        "#Example:\n",
        "\n",
        "import numpy as np\n",
        "\n",
        "arr = np.array([[1, 2, 3],\n",
        "                [4, 5, 6]])\n",
        "\n",
        "flipped_arr = np.flipud(arr)\n",
        "print(flipped_arr)"
      ],
      "metadata": {
        "colab": {
          "base_uri": "https://localhost:8080/"
        },
        "id": "Em5u94ZX1dem",
        "outputId": "94a4ec81-b67f-4823-a716-fea2241154b9"
      },
      "execution_count": 15,
      "outputs": [
        {
          "output_type": "stream",
          "name": "stdout",
          "text": [
            "[[4 5 6]\n",
            " [1 2 3]]\n"
          ]
        }
      ]
    },
    {
      "cell_type": "markdown",
      "source": [
        "**Effects on Different Array Dimensions:**\n",
        "\n",
        "1. **1D Arrays:** Both fliplr() and flipud() reverse the order of elements in a 1D array.\n",
        "\n",
        "2. **2D Arrays:**\n",
        "fliplr(): Reverses the order of columns.\n",
        "flipud(): Reverses the order of rows.\n",
        "\n",
        "3. **Higher-Dimensional Arrays:**\n",
        "Both functions flip along the specified axis. For instance, in a 3D array, fliplr() flips along the second axis (columns of each 2D slice), and flipud() flips along the first axis (rows of each 2D slice).\n",
        "\n",
        "####Key Points:\n",
        "\n",
        "* Both fliplr() and flipud() return a new array, leaving the original array unchanged.\n",
        "\n",
        "* These functions are useful for various image processing, signal processing, and data manipulation tasks.\n",
        "\n",
        "* By understanding their behavior, you can effectively manipulate arrays in NumPy to achieve desired results."
      ],
      "metadata": {
        "id": "Fs-ak4Hv1pDd"
      }
    },
    {
      "cell_type": "markdown",
      "source": [
        "#### 9. Discuss the functionality of the array_split() method in NumPy. How does it handle uneven splits?\n",
        "\n",
        "Ans-9. **array_split() in NumPy**\n",
        "\n",
        "The array_split() function in NumPy is a versatile tool for dividing an array into smaller sub-arrays along a specified axis. It's particularly useful when you want to break down large arrays into smaller, more manageable chunks."
      ],
      "metadata": {
        "id": "uJ6I_FeU2QFg"
      }
    },
    {
      "cell_type": "code",
      "source": [
        "#Basic usage:\n",
        "\n",
        "import numpy as np\n",
        "\n",
        "arr = np.arange(10)\n",
        "split_arr = np.array_split(arr, 5)\n",
        "print(split_arr)"
      ],
      "metadata": {
        "colab": {
          "base_uri": "https://localhost:8080/"
        },
        "id": "WPDcv23k2o5G",
        "outputId": "03a5474a-0d98-428f-da91-c86876eaeaf8"
      },
      "execution_count": 16,
      "outputs": [
        {
          "output_type": "stream",
          "name": "stdout",
          "text": [
            "[array([0, 1]), array([2, 3]), array([4, 5]), array([6, 7]), array([8, 9])]\n"
          ]
        }
      ]
    },
    {
      "cell_type": "markdown",
      "source": [
        "**Handling Uneven Splits:**\n",
        "\n",
        "When the number of sections doesn't divide evenly into the array's length, array_split() handles the uneven distribution intelligently. It ensures that the resulting sub-arrays are as close to equal in size as possible."
      ],
      "metadata": {
        "id": "QKcEjn2J22oD"
      }
    },
    {
      "cell_type": "code",
      "source": [
        "#Example:\n",
        "\n",
        "arr = np.arange(11)\n",
        "split_arr = np.array_split(arr, 4)\n",
        "print(split_arr)"
      ],
      "metadata": {
        "colab": {
          "base_uri": "https://localhost:8080/"
        },
        "id": "qQM7ugEb29yh",
        "outputId": "40cbefe7-0b39-4349-8b7b-506d0e69c8db"
      },
      "execution_count": 17,
      "outputs": [
        {
          "output_type": "stream",
          "name": "stdout",
          "text": [
            "[array([0, 1, 2]), array([3, 4, 5]), array([6, 7, 8]), array([ 9, 10])]\n"
          ]
        }
      ]
    },
    {
      "cell_type": "markdown",
      "source": [
        "As you can see, the first three sub-arrays have three elements each, while the last one has two. This is the most efficient way to split the array into four parts, ensuring minimal differences in size.\n",
        "\n",
        "**Key Points:**\n",
        "\n",
        "* Axis Specification: You can specify the axis along which to split the array using the axis parameter.\n",
        "\n",
        "* Flexibility: array_split() is flexible and can handle various array shapes and splitting scenarios.\n",
        "Uneven Splits: It handles uneven splits efficiently, ensuring fair distribution.\n",
        "\n",
        "* Sub-array Creation: The function returns a list of sub-arrays, each of which is a NumPy array itself.\n",
        "\n",
        "* By understanding the functionality of array_split(), you can effectively divide large arrays into smaller, more manageable chunks for various data processing and analysis tasks."
      ],
      "metadata": {
        "id": "ncXlr64I3I3-"
      }
    },
    {
      "cell_type": "markdown",
      "source": [
        "#### 10. Explain the concepts of vectorization and broadcasting in NumPy. How do they contribute to efficient array operations?\n",
        "\n",
        "Ans-10. **Vectorization and Broadcasting in NumPy**\n",
        "\n",
        "NumPy is renowned for its ability to perform efficient numerical computations on arrays. Two key concepts that contribute significantly to this efficiency are vectorization and broadcasting.\n",
        "\n",
        "1. Vectorization\n",
        "\n",
        "Vectorization involves performing operations on entire arrays element-wise, without the need for explicit loops. This is made possible by NumPy's optimized C-level implementation and the use of SIMD (Single Instruction, Multiple Data) instructions.\n"
      ],
      "metadata": {
        "id": "oKMVecq14UbB"
      }
    },
    {
      "cell_type": "code",
      "source": [
        "import numpy as np\n",
        "\n",
        "a = np.array([1, 2, 3])\n",
        "b = np.array([4, 5, 6])\n",
        "\n",
        "# Vectorized addition\n",
        "c = a + b  # Equivalent to [1+4, 2+5, 3+6]\n",
        "print(c)  # Output: [5 7 9]"
      ],
      "metadata": {
        "colab": {
          "base_uri": "https://localhost:8080/"
        },
        "id": "BQmzxxHT5VU_",
        "outputId": "fc98c015-1d28-4f10-bf73-7777c31b0825"
      },
      "execution_count": 18,
      "outputs": [
        {
          "output_type": "stream",
          "name": "stdout",
          "text": [
            "[5 7 9]\n"
          ]
        }
      ]
    },
    {
      "cell_type": "markdown",
      "source": [
        "In this example, the addition operation is applied to corresponding elements of the arrays a and b simultaneously, resulting in a new array c. This vectorized approach is significantly faster than using a Python loop to iterate over each element.\n",
        "\n",
        "2. **Broadcasting**\n",
        "\n",
        "Broadcasting is a powerful feature that allows NumPy to perform operations on arrays with different shapes. The smaller array is \"broadcast\" or stretched to match the shape of the larger array, enabling element-wise operations."
      ],
      "metadata": {
        "id": "m5SfU_6r5bRW"
      }
    },
    {
      "cell_type": "code",
      "source": [
        "#Example:\n",
        "\n",
        "a = np.array([[1, 2, 3], [4, 5, 6]])\n",
        "b = np.array([10, 20, 30])\n",
        "\n",
        "# Broadcasting to add a row vector to each row of a matrix\n",
        "c = a + b\n",
        "print(c)"
      ],
      "metadata": {
        "colab": {
          "base_uri": "https://localhost:8080/"
        },
        "id": "G4qOnoWD55pw",
        "outputId": "e74a51ea-181b-4eeb-a666-98175a099eff"
      },
      "execution_count": 19,
      "outputs": [
        {
          "output_type": "stream",
          "name": "stdout",
          "text": [
            "[[11 22 33]\n",
            " [14 25 36]]\n"
          ]
        }
      ]
    },
    {
      "cell_type": "markdown",
      "source": [
        "In this case, the 1D array b is broadcasted to match the shape of the 2D array a. Each element of b is added to the corresponding row of a.\n",
        "\n",
        "**How Vectorization and Broadcasting Contribute to Efficiency**\n",
        "\n",
        "* Optimized C Implementation: NumPy's core operations are implemented in optimized C code, which significantly outperforms pure Python loops.\n",
        "\n",
        "* SIMD Instructions: Vectorization allows NumPy to take advantage of SIMD instructions, which can perform multiple operations simultaneously on multiple data elements.\n",
        "\n",
        "* Reduced Overhead: By avoiding explicit loops, vectorization and broadcasting reduce the overhead of Python's interpreter.\n",
        "\n",
        "* Memory Efficiency: NumPy arrays are stored in contiguous memory blocks, which improves cache locality and memory access patterns.\n",
        "\n",
        "* By understanding and effectively utilizing vectorization and broadcasting, you can write efficient and concise NumPy code for a wide range of numerical computations."
      ],
      "metadata": {
        "id": "FBg7Nzwk6Gum"
      }
    },
    {
      "cell_type": "markdown",
      "source": [
        "# Practical Questions:"
      ],
      "metadata": {
        "id": "IhZRE6CF8VUt"
      }
    },
    {
      "cell_type": "markdown",
      "source": [
        "#### 1. Create a 3x3 NumPy array with random integers between 1 and 100. Then, interchange its rows and columns."
      ],
      "metadata": {
        "id": "bNJInhon8197"
      }
    },
    {
      "cell_type": "code",
      "source": [
        "import numpy as np\n",
        "\n",
        "# Create a 3x3 NumPy array with random integers between 1 and 100\n",
        "array = np.random.randint(1, 101, size=(3, 3))\n",
        "\n",
        "print(\"Original array:\")\n",
        "print(array)\n",
        "\n",
        "# Interchange rows and columns (transpose)\n",
        "array_transposed = array.T\n",
        "\n",
        "print(\"\\nTransposed array:\")\n",
        "print(array_transposed)"
      ],
      "metadata": {
        "colab": {
          "base_uri": "https://localhost:8080/"
        },
        "id": "8Nnc1zhP9VYm",
        "outputId": "9fcaba4e-d0ba-4333-a87f-1494e8dfcac4"
      },
      "execution_count": 20,
      "outputs": [
        {
          "output_type": "stream",
          "name": "stdout",
          "text": [
            "Original array:\n",
            "[[84 45 71]\n",
            " [50 77 71]\n",
            " [98 40 67]]\n",
            "\n",
            "Transposed array:\n",
            "[[84 50 98]\n",
            " [45 77 40]\n",
            " [71 71 67]]\n"
          ]
        }
      ]
    },
    {
      "cell_type": "markdown",
      "source": [
        "#### 2. Generate a 1D NumPy array with 10 elements. Reshape it into a 2x5 array, then into a 5x2 array."
      ],
      "metadata": {
        "id": "z5djQySZ9b_P"
      }
    },
    {
      "cell_type": "code",
      "source": [
        "import numpy as np\n",
        "\n",
        "# Generate a 1D NumPy array with 10 elements\n",
        "array = np.arange(10)\n",
        "\n",
        "print(\"Original 1D array:\")\n",
        "print(array)\n",
        "\n",
        "# Reshape it into a 2x5 array\n",
        "array_2x5 = array.reshape(2, 5)\n",
        "\n",
        "print(\"\\nReshaped 2x5 array:\")\n",
        "print(array_2x5)\n",
        "\n",
        "# Reshape it into a 5x2 array\n",
        "array_5x2 = array.reshape(5, 2)\n",
        "\n",
        "print(\"\\nReshaped 5x2 array:\")\n",
        "print(array_5x2)"
      ],
      "metadata": {
        "colab": {
          "base_uri": "https://localhost:8080/"
        },
        "id": "umLDG4XM9u4D",
        "outputId": "2e7422f5-d327-4adb-c90b-9fbf34381eab"
      },
      "execution_count": 21,
      "outputs": [
        {
          "output_type": "stream",
          "name": "stdout",
          "text": [
            "Original 1D array:\n",
            "[0 1 2 3 4 5 6 7 8 9]\n",
            "\n",
            "Reshaped 2x5 array:\n",
            "[[0 1 2 3 4]\n",
            " [5 6 7 8 9]]\n",
            "\n",
            "Reshaped 5x2 array:\n",
            "[[0 1]\n",
            " [2 3]\n",
            " [4 5]\n",
            " [6 7]\n",
            " [8 9]]\n"
          ]
        }
      ]
    },
    {
      "cell_type": "markdown",
      "source": [
        "#### 3. Create a 4x4 NumPy array with random float values. Add a border of zeros around it, resulting in a 6x6 array."
      ],
      "metadata": {
        "id": "YT6trSAH98Aa"
      }
    },
    {
      "cell_type": "code",
      "source": [
        "import numpy as np\n",
        "\n",
        "# Create a 4x4 array with random float values\n",
        "array = np.random.rand(4, 4)\n",
        "\n",
        "print(\"Original array:\")\n",
        "print(array)\n",
        "\n",
        "# Create a 6x6 array with zeros\n",
        "array_with_border = np.zeros((6, 6))\n",
        "\n",
        "# Place the original array in the center of the 6x6 array\n",
        "array_with_border[1:5, 1:5] = array\n",
        "\n",
        "print(\"\\nArray with zero border:\")\n",
        "print(array_with_border)"
      ],
      "metadata": {
        "colab": {
          "base_uri": "https://localhost:8080/"
        },
        "id": "bb9AnDim-eMD",
        "outputId": "6b972eb0-42b6-424d-89e9-aa459ef335bf"
      },
      "execution_count": 22,
      "outputs": [
        {
          "output_type": "stream",
          "name": "stdout",
          "text": [
            "Original array:\n",
            "[[0.81669344 0.97333737 0.66356836 0.99131395]\n",
            " [0.39692455 0.29167097 0.1069661  0.23422888]\n",
            " [0.60748675 0.78657169 0.21206195 0.94054672]\n",
            " [0.10087685 0.63449027 0.58875676 0.14557233]]\n",
            "\n",
            "Array with zero border:\n",
            "[[0.         0.         0.         0.         0.         0.        ]\n",
            " [0.         0.81669344 0.97333737 0.66356836 0.99131395 0.        ]\n",
            " [0.         0.39692455 0.29167097 0.1069661  0.23422888 0.        ]\n",
            " [0.         0.60748675 0.78657169 0.21206195 0.94054672 0.        ]\n",
            " [0.         0.10087685 0.63449027 0.58875676 0.14557233 0.        ]\n",
            " [0.         0.         0.         0.         0.         0.        ]]\n"
          ]
        }
      ]
    },
    {
      "cell_type": "markdown",
      "source": [
        "#### 4. Using NumPy, create an array of integers from 10 to 60 with a step of 5."
      ],
      "metadata": {
        "id": "TE4dmu-h-uX1"
      }
    },
    {
      "cell_type": "code",
      "source": [
        "import numpy as np\n",
        "\n",
        "array = np.arange(10, 61, 5)\n",
        "print(array)"
      ],
      "metadata": {
        "colab": {
          "base_uri": "https://localhost:8080/"
        },
        "id": "6tIU4bMI-9lo",
        "outputId": "2e357cd1-994b-4ee7-ecfb-ab42a4e0c575"
      },
      "execution_count": 23,
      "outputs": [
        {
          "output_type": "stream",
          "name": "stdout",
          "text": [
            "[10 15 20 25 30 35 40 45 50 55 60]\n"
          ]
        }
      ]
    },
    {
      "cell_type": "markdown",
      "source": [
        "####5. Create a NumPy array of strings ['python', 'numpy', 'pandas']. Apply different case transformations (uppercase, lowercase, title case, etc.) to each element."
      ],
      "metadata": {
        "id": "1YNEXZ87_G3m"
      }
    },
    {
      "cell_type": "code",
      "source": [
        "import numpy as np\n",
        "\n",
        "# Create a NumPy array of strings\n",
        "arr = np.array(['python', 'numpy', 'pandas'])\n",
        "\n",
        "# Apply different case transformations\n",
        "uppercase_arr = np.char.upper(arr)\n",
        "lowercase_arr = np.char.lower(arr)\n",
        "titlecase_arr = np.char.title(arr)\n",
        "\n",
        "print(\"Original array:\", arr)\n",
        "print(\"Uppercase:\", uppercase_arr)\n",
        "print(\"Lowercase:\", lowercase_arr)\n",
        "print(\"Titlecase:\", titlecase_arr)\n"
      ],
      "metadata": {
        "colab": {
          "base_uri": "https://localhost:8080/"
        },
        "id": "ZogxBrojBb-p",
        "outputId": "c79d5290-5b3b-4fd8-f5ab-7db96926148b"
      },
      "execution_count": 33,
      "outputs": [
        {
          "output_type": "stream",
          "name": "stdout",
          "text": [
            "Original array: ['python' 'numpy' 'pandas']\n",
            "Uppercase: ['PYTHON' 'NUMPY' 'PANDAS']\n",
            "Lowercase: ['python' 'numpy' 'pandas']\n",
            "Titlecase: ['Python' 'Numpy' 'Pandas']\n"
          ]
        }
      ]
    },
    {
      "cell_type": "markdown",
      "source": [
        "#### 6. Generate a NumPy array of words. Insert a space between each character of every word in the array."
      ],
      "metadata": {
        "id": "2xH5HLE8B_rw"
      }
    },
    {
      "cell_type": "code",
      "source": [
        "import numpy as np\n",
        "\n",
        "# Create a NumPy array of words\n",
        "words = np.array(['python', 'numpy', 'pandas'])\n",
        "\n",
        "# Function to insert spaces between characters\n",
        "def insert_spaces(word):\n",
        "    return ' '.join(list(word))\n",
        "\n",
        "# Apply the function to each element in the array\n",
        "spaced_words = np.vectorize(insert_spaces)(words)\n",
        "\n",
        "print(\"Original array:\", words)\n",
        "print(\"Spaced words array:\", spaced_words)"
      ],
      "metadata": {
        "colab": {
          "base_uri": "https://localhost:8080/"
        },
        "id": "IRgpEYk0CIb3",
        "outputId": "22f08333-4366-4145-945e-e11848c313ca"
      },
      "execution_count": 34,
      "outputs": [
        {
          "output_type": "stream",
          "name": "stdout",
          "text": [
            "Original array: ['python' 'numpy' 'pandas']\n",
            "Spaced words array: ['p y t h o n' 'n u m p y' 'p a n d a s']\n"
          ]
        }
      ]
    },
    {
      "cell_type": "markdown",
      "source": [
        "#### 7. Create two 2D NumPy arrays and perform element-wise addition, subtraction, multiplication, and division."
      ],
      "metadata": {
        "id": "l1XNJiaACY9-"
      }
    },
    {
      "cell_type": "code",
      "source": [
        "import numpy as np\n",
        "\n",
        "# Create two 2D NumPy arrays\n",
        "array1 = np.array([[1, 2, 3], [4, 5, 6]])\n",
        "array2 = np.array([[7, 8, 9], [10, 11, 12]])\n",
        "\n",
        "# Perform element-wise operations\n",
        "addition = np.add(array1, array2)\n",
        "subtraction = np.subtract(array1, array2)\n",
        "multiplication = np.multiply(array1, array2)\n",
        "division = np.divide(array1, array2)\n",
        "\n",
        "# Print the results\n",
        "print(\"Array 1:\\n\", array1)\n",
        "print(\"Array 2:\\n\", array2)\n",
        "print(\"Addition:\\n\", addition)\n",
        "print(\"Subtraction:\\n\", subtraction)\n",
        "print(\"Multiplication:\\n\", multiplication)\n",
        "print(\"Division:\\n\", division)\n"
      ],
      "metadata": {
        "colab": {
          "base_uri": "https://localhost:8080/"
        },
        "id": "2jc3xluhCfut",
        "outputId": "9847cc3e-5882-421b-82f1-a5acc27b18bd"
      },
      "execution_count": 35,
      "outputs": [
        {
          "output_type": "stream",
          "name": "stdout",
          "text": [
            "Array 1:\n",
            " [[1 2 3]\n",
            " [4 5 6]]\n",
            "Array 2:\n",
            " [[ 7  8  9]\n",
            " [10 11 12]]\n",
            "Addition:\n",
            " [[ 8 10 12]\n",
            " [14 16 18]]\n",
            "Subtraction:\n",
            " [[-6 -6 -6]\n",
            " [-6 -6 -6]]\n",
            "Multiplication:\n",
            " [[ 7 16 27]\n",
            " [40 55 72]]\n",
            "Division:\n",
            " [[0.14285714 0.25       0.33333333]\n",
            " [0.4        0.45454545 0.5       ]]\n"
          ]
        }
      ]
    },
    {
      "cell_type": "markdown",
      "source": [
        "#### 8. Use NumPy to create a 5x5 identity matrix, then extract its diagonal elements."
      ],
      "metadata": {
        "id": "S0ZEqNXLCkrU"
      }
    },
    {
      "cell_type": "code",
      "source": [
        "import numpy as np\n",
        "\n",
        "# Create a 5x5 identity matrix\n",
        "identity_matrix = np.eye(5)\n",
        "\n",
        "# Extract the diagonal elements\n",
        "diagonal_elements = np.diag(identity_matrix)\n",
        "\n",
        "print(\"5x5 Identity Matrix:\\n\", identity_matrix)\n",
        "print(\"Diagonal Elements:\", diagonal_elements)\n"
      ],
      "metadata": {
        "colab": {
          "base_uri": "https://localhost:8080/"
        },
        "id": "zW7Hyxi6Cuw3",
        "outputId": "0e98563d-a281-4a24-9e66-26ee0e8da919"
      },
      "execution_count": 36,
      "outputs": [
        {
          "output_type": "stream",
          "name": "stdout",
          "text": [
            "5x5 Identity Matrix:\n",
            " [[1. 0. 0. 0. 0.]\n",
            " [0. 1. 0. 0. 0.]\n",
            " [0. 0. 1. 0. 0.]\n",
            " [0. 0. 0. 1. 0.]\n",
            " [0. 0. 0. 0. 1.]]\n",
            "Diagonal Elements: [1. 1. 1. 1. 1.]\n"
          ]
        }
      ]
    },
    {
      "cell_type": "markdown",
      "source": [
        "####9. Generate a NumPy array of 100 random integers between 0 and 1000. Find and display all prime numbers in this array.\n",
        "\n",
        "\n"
      ],
      "metadata": {
        "id": "uN8E5-3GC3QY"
      }
    },
    {
      "cell_type": "code",
      "source": [
        "import numpy as np\n",
        "\n",
        "# Function to check if a number is prime\n",
        "def is_prime(num):\n",
        "    if num <= 1:\n",
        "        return False\n",
        "    for i in range(2, int(np.sqrt(num)) + 1):\n",
        "        if num % i == 0:\n",
        "            return False\n",
        "    return True\n",
        "\n",
        "# Generate a NumPy array of 100 random integers between 0 and 1000\n",
        "random_integers = np.random.randint(0, 1001, size=100)\n",
        "\n",
        "# Find all prime numbers in the array\n",
        "prime_numbers = [num for num in random_integers if is_prime(num)]\n",
        "\n",
        "print(\"Random Integers:\\n\", random_integers)\n",
        "print(\"Prime Numbers:\\n\", prime_numbers)\n"
      ],
      "metadata": {
        "colab": {
          "base_uri": "https://localhost:8080/"
        },
        "id": "EXrvr2Q7DHu8",
        "outputId": "fe5912df-6c3e-4e68-fb9b-604606da8fb3"
      },
      "execution_count": 37,
      "outputs": [
        {
          "output_type": "stream",
          "name": "stdout",
          "text": [
            "Random Integers:\n",
            " [731 524  74 743  77  72   4 638 948 120 132 185 625 364 261 319 851 503\n",
            " 829 290  19 588 458 277 881 764 203 980  84 860 855 734 909 233 257 480\n",
            " 852  47 564 674 547 496 795 313 312 766 161 461 828 181 600  19  16 121\n",
            " 408 393 252 930 979 908 332 887 802 655 832 797  47 421 511 704 112 194\n",
            " 330 545 311 813 159  66 151 845 437 936 932 618 703 932 835 426 469 836\n",
            " 339   8 908 428 254 585  83 646 377 514]\n",
            "Prime Numbers:\n",
            " [743, 503, 829, 19, 277, 881, 233, 257, 47, 547, 313, 461, 181, 19, 887, 797, 47, 421, 311, 151, 83]\n"
          ]
        }
      ]
    },
    {
      "cell_type": "markdown",
      "source": [
        "#### 10. Create a NumPy array representing daily temperatures for a month. Calculate and display the weekly averages."
      ],
      "metadata": {
        "id": "7cKBunSJDWIz"
      }
    },
    {
      "cell_type": "code",
      "source": [
        "import numpy as np\n",
        "\n",
        "# Generate a NumPy array of daily temperatures for a month (30 days)\n",
        "daily_temperatures = np.random.randint(15, 35, size=30)\n",
        "\n",
        "# Calculate weekly averages\n",
        "week_1_avg = np.mean(daily_temperatures[0:7])\n",
        "week_2_avg = np.mean(daily_temperatures[7:14])\n",
        "week_3_avg = np.mean(daily_temperatures[14:21])\n",
        "week_4_avg = np.mean(daily_temperatures[21:28])\n",
        "week_5_avg = np.mean(daily_temperatures[28:30])  # Last few days\n",
        "\n",
        "# Print the results\n",
        "print(\"Daily Temperatures for the Month:\\n\", daily_temperatures)\n",
        "print(\"Weekly Averages:\")\n",
        "print(\"Week 1 Average:\", week_1_avg)\n",
        "print(\"Week 2 Average:\", week_2_avg)\n",
        "print(\"Week 3 Average:\", week_3_avg)\n",
        "print(\"Week 4 Average:\", week_4_avg)\n",
        "print(\"Week 5 Average:\", week_5_avg)\n"
      ],
      "metadata": {
        "colab": {
          "base_uri": "https://localhost:8080/"
        },
        "id": "jbVxG2gHDgyx",
        "outputId": "21f68379-1f3e-4e4d-8246-a75d289f3f81"
      },
      "execution_count": 38,
      "outputs": [
        {
          "output_type": "stream",
          "name": "stdout",
          "text": [
            "Daily Temperatures for the Month:\n",
            " [21 18 32 23 18 22 15 33 26 30 24 21 29 33 29 20 31 26 31 22 16 31 22 31\n",
            " 32 29 27 17 33 33]\n",
            "Weekly Averages:\n",
            "Week 1 Average: 21.285714285714285\n",
            "Week 2 Average: 28.0\n",
            "Week 3 Average: 25.0\n",
            "Week 4 Average: 27.0\n",
            "Week 5 Average: 33.0\n"
          ]
        }
      ]
    }
  ]
}