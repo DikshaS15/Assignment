{
  "nbformat": 4,
  "nbformat_minor": 0,
  "metadata": {
    "colab": {
      "provenance": []
    },
    "kernelspec": {
      "name": "python3",
      "display_name": "Python 3"
    },
    "language_info": {
      "name": "python"
    }
  },
  "cells": [
    {
      "cell_type": "markdown",
      "source": [
        "###Logistic Regression Assignment Questions\n",
        "\n",
        "#Theoretical\n"
      ],
      "metadata": {
        "id": "9fd6O3p-d3HW"
      }
    },
    {
      "cell_type": "markdown",
      "source": [
        "### 1. What is Logistic Regression, and how does it differ from Linear Regression ?\n",
        "\n",
        "Ans-1. **Logistic Regression**\n",
        "\n",
        "* **What it is:** Logistic regression is a statistical method used for binary classification problems. This means it predicts the probability of an outcome that can only have two values (e.g., yes/no, true/false, 0/1).\n",
        "\n",
        "* **How it works:** It uses a logistic function (also known as a sigmoid function) to transform a linear combination of input features into a probability between 0 and 1. This probability is then used to classify the data point into one of the two categories.\n",
        "\n",
        "####Key points:\n",
        "\n",
        "* **Output:** Predicts probabilities.\n",
        "\n",
        "* **Use case:** Classification problems.\n",
        "\n",
        "* **Logistic function:** Transforms the input into a probability.\n",
        "\n",
        "**Linear Regression**\n",
        "\n",
        "* **What it is:** Linear regression is a statistical method used to model the linear relationship between a dependent variable and one or more independent variables.\n",
        "\n",
        "* **How it works:** It finds the best-fitting line that represents the relationship between the variables, allowing you to predict the value of the dependent variable based on the independent variables.\n",
        "\n",
        "####Key points:\n",
        "\n",
        "* **Output:** Predicts continuous values.\n",
        "\n",
        "* **Use case:** Regression problems (predicting a quantity).\n",
        "\n",
        "* **Linear relationship:** Assumes a straight-line relationship between variables.\n",
        "\n",
        "**Analogy**\n",
        "\n",
        "* Imagine you're trying to predict:\n",
        "\n",
        "* **Logistic Regression:** Whether a student will pass or fail an exam (two categories).\n",
        "\n",
        "* **Linear Regression:** A student's score on an exam (a continuous value).\n",
        "\n",
        "\n",
        "\n"
      ],
      "metadata": {
        "id": "EXwvsLiId8V3"
      }
    },
    {
      "cell_type": "markdown",
      "source": [
        "### 2. What is the mathematical equation of Logistic Regression ?\n",
        "\n",
        "Ans-2. The mathematical equation for logistic regression can be expressed in a few ways, but the most common and fundamental form is:\n",
        "\n",
        "    p = 1 / (1 + exp(-z))\n",
        "\n",
        "####**Where:**\n",
        "\n",
        "* **p:** is the probability of the event occurring (the output of the logistic  regression). It's a value between 0 and 1.\n",
        "\n",
        "* **exp():** is the exponential function (e raised to the power of...).\n",
        "\n",
        "* **z:** is a linear combination of the input features. It's calculated as:\n",
        "    \n",
        "      z = β₀ + β₁x₁ + β₂x₂ + ... + βₙxₙ\n",
        "\n",
        "####**Where:**\n",
        "\n",
        "* β₀: is the intercept (the value of z when all x's are zero).\n",
        "\n",
        "* β₁, β₂, ..., βₙ: are the coefficients (weights) of the input features. These are what the model learns during training.\n",
        "\n",
        "*x₁, x₂, ..., xₙ: are the input features (independent variables).\n",
        "\n",
        "####**Putting it all together:**\n",
        "\n",
        "* You can substitute the equation for z into the equation for p:\n",
        "\n",
        "      p = 1 / (1 + exp(-(β₀ + β₁x₁ + β₂x₂ + ... + βₙxₙ)))\n",
        "\n",
        "**In simpler terms:**\n",
        "\n",
        "* The logistic regression equation takes your input features (x₁, x₂, etc.), multiplies them by learned weights (β₁, β₂, etc.), adds them up (along with an intercept β₀), and then plugs that result into a special function (the sigmoid function, 1 / (1 + exp(-z))) to get a probability (p) between 0 and 1.  This probability represents the likelihood of the event you're trying to predict."
      ],
      "metadata": {
        "id": "oDB0o7Swo9gA"
      }
    },
    {
      "cell_type": "markdown",
      "source": [
        "###3. Why do we use the Sigmoid function in Logistic Regression ?\n",
        "\n",
        "Ans-3. why the sigmoid function is so important in logistic regression! It's not just some random curve; it plays a crucial role.\n",
        "\n",
        "####**Here's why:**\n",
        "\n",
        "1. **Probability Interpretation:**\n",
        "\n",
        "* **The Goal:** In logistic regression, we want to predict probabilities (between 0 and 1). For example, the probability that an email is spam, or the probability that a customer will click on an ad.\n",
        "\n",
        "* **Sigmoid's Magic:** The sigmoid function takes any real number as input (which is what the linear combination of features gives us) and squishes it into a value between 0 and 1. This perfectly matches the range of probabilities.\n",
        "\n",
        "2. **Classification:**\n",
        "\n",
        "* **Decision Boundary:** Once we have a probability from the sigmoid, we can easily make a decision. We typically set a threshold (often 0.5). If the probability is above the threshold, we classify the data point into one category; otherwise, into the other.\n",
        "\n",
        "* **Smooth Transition:** The sigmoid provides a smooth transition between categories. It doesn't give a hard \"yes\" or \"no\" but rather a probability, which is more nuanced and realistic.\n",
        "\n",
        "3. **Mathematical Convenience:**\n",
        "\n",
        "* **Differentiable:** The sigmoid function is differentiable, which is essential for the optimization algorithms (like gradient descent) used to train the logistic regression model. These algorithms need to calculate the slope of the function to find the best parameters.\n",
        "\n",
        "* **Well-behaved:** The sigmoid function has nice mathematical properties that make it easier to work with in the context of logistic regression.\n",
        "\n",
        "####In summary:\n",
        "\n",
        "The sigmoid function is the key to logistic regression because it:\n",
        "\n",
        "* Transforms the output of a linear combination of features into a probability.\n",
        "\n",
        "* Allows for easy classification by setting a threshold.\n",
        "\n",
        "* Has desirable mathematical properties for training the model.\n",
        "\n",
        "Without the sigmoid function, logistic regression wouldn't be able to do what it does!"
      ],
      "metadata": {
        "id": "b0RcaUANr0vM"
      }
    },
    {
      "cell_type": "markdown",
      "source": [
        "###4. What is the cost function of Logistic Regression ?\n",
        "\n",
        "Ans-4. The cost function in logistic regression measures how well the model is performing.  It quantifies the \"error\" between the predicted probabilities and the actual outcomes.  The goal during training is to minimize this cost function.\n",
        "\n",
        "The most common cost function used in logistic regression is the log loss (also known as binary cross-entropy).  \n",
        "\n",
        "* **Here's the formula:**\n",
        "\n",
        "      J(θ) = -1/m * Σ [yᵢ * log(h(xᵢ)) + (1 - yᵢ) * log(1 - h(xᵢ))]\n",
        "\n",
        "####**Where:**\n",
        "\n",
        "* J(θ): is the cost function.\n",
        "\n",
        "* m: is the number of training examples.\n",
        "\n",
        "* yᵢ: is the actual label of the i-th training example (0 or 1).\n",
        "\n",
        "* h(xᵢ): is the predicted probability of the i-th training example, calculated using the sigmoid function:\n",
        "   \n",
        "               h(xᵢ) = 1 / (1 + exp(-θᵀxᵢ))\n",
        "\n",
        "* θ: is the vector of model parameters (coefficients).\n",
        "\n",
        "* xᵢ: is the vector of features for the i-th training example.\n",
        "\n",
        "* Σ: represents the sum over all training examples (from i=1 to m).\n",
        "\n",
        "\n",
        "####**Why this cost function?**\n",
        "\n",
        "The log loss has some nice properties that make it suitable for logistic regression:\n",
        "\n",
        "* **Convexity:** The log loss function is convex, meaning it has a single minimum. This is important because it guarantees that optimization algorithms (like gradient descent) will find the global minimum and not get stuck in local minima.\n",
        "\n",
        "* **Intuitive Interpretation:** The cost function penalizes incorrect predictions more heavily. If the true label is 1 and the predicted probability is close to 0, the cost will be very high. Conversely, if the true label is 1 and the predicted probability is close to 1, the cost will be close to 0.\n",
        "Differentiability: The log loss function is differentiable, which is crucial for gradient-based optimization methods.\n",
        "\n",
        "####**In simpler terms:**\n",
        "\n",
        "* The cost function basically checks how far off our predictions are from the actual values. It adds up the \"errors\" for each training example.  The bigger the errors, the higher the cost.  Our goal is to find the parameters (θ) that make this cost as low as possible.\n",
        "\n",
        "\n",
        "\n",
        "\n",
        "\n"
      ],
      "metadata": {
        "id": "BD7HBH9ns9BE"
      }
    },
    {
      "cell_type": "markdown",
      "source": [
        "###5. What is Regularization in Logistic Regression? Why is it needed ?\n",
        "\n",
        "Ans-5. Regularization in logistic regression is a technique to prevent overfitting, which is a common problem. Here's the breakdown:\n",
        "\n",
        "####**What is Overfitting?**\n",
        "\n",
        "Imagine you're training a model to predict whether a movie will be a hit or a flop. If your model is too complex, it might learn the training data too well, including all the noise and specific quirks of that particular dataset. This leads to a model that performs great on the training data but fails miserably on new, unseen movies. That's overfitting!\n",
        "\n",
        "\n",
        "####**Why Regularization?**\n",
        "\n",
        "Regularization is like a \"penalty\" for overly complex models.It discourages the model from learning very large coefficients (weights) for the features. By keeping the coefficients smaller, the model becomes simpler and less prone to overfitting. It's like telling the model, \"Don't get too carried away with the details; focus on the bigger picture.\"\n",
        "\n",
        "**How it Works in Logistic Regression**\n",
        "\n",
        "There are two main types of regularization used in logistic regression:\n",
        "\n",
        "* **L1 Regularization (Lasso):** This adds a penalty proportional to the absolute value of the coefficients. It can actually shrink some coefficients to exactly zero, effectively performing feature selection.\n",
        "\n",
        "* **L2 Regularization (Ridge):** This adds a penalty proportional to the square of the coefficients. It shrinks the coefficients towards zero but usually doesn't eliminate them completely.\n",
        "\n",
        "####**Benefits of Regularization**\n",
        "\n",
        "* **Improved Generalization:** The model performs better on new, unseen data.\n",
        "\n",
        "* **Reduced Overfitting:** The model is less likely to memorize the training data.\n",
        "\n",
        "* **Feature Selection (L1):** Can help identify the most important features.\n",
        "\n",
        "**In simpler terms:**\n",
        "\n",
        "Regularization is like a \"brake\" that prevents the model from becoming too complex and overspecialized. It encourages the model to find a simpler, more generalizable solution that works well on a variety of data.\n",
        "\n",
        "####**Analogy:**\n",
        "\n",
        "Think of studying for an exam. Overfitting is like memorizing every single detail in the textbook. Regularization is like understanding the key concepts and relationships, so you can apply your knowledge to different types of questions."
      ],
      "metadata": {
        "id": "mb1hor9yu3ST"
      }
    },
    {
      "cell_type": "markdown",
      "source": [
        "###6. Explain the difference between Lasso, Ridge, and Elastic Net regression.\n",
        "\n",
        "Ans-6. Lasso, Ridge, and Elastic Net regression are all techniques used in linear regression for regularization, which means they add a penalty to the loss function to prevent overfitting and improve the model's generalizability.\n",
        "\n",
        "####**Here's a brief comparison of each:**\n",
        "\n",
        "##1. **Lasso Regression** (Least Absolute Shrinkage and Selection Operator)\n",
        "\n",
        "* **Penalty:** Adds the absolute value of the coefficients (L1 penalty) to the loss function.\n",
        "\n",
        "* **Effect:** Can shrink some coefficients to exactly zero, effectively performing variable selection.\n",
        "\n",
        "* **Use case:** Useful when you have many features and want to select a sparse model with fewer features.\n",
        "\n",
        "##2. **Ridge Regression**\n",
        "\n",
        "* **Penalty:** Adds the squared value of the coefficients (L2 penalty) to the loss function.\n",
        "\n",
        "* **Effect:** Shrinks the coefficients but does not set any of them to zero.\n",
        "\n",
        "* **Use case:** Useful when all features are potentially relevant, and you want to shrink coefficients to reduce multicollinearity and overfitting.\n",
        "\n",
        "## 3. **Elastic Net Regression**\n",
        "\n",
        "* **Penalty:** Combines both L1 and L2 penalties, with an additional parameter to control the balance between them.\n",
        "\n",
        "* **Effect:** Provides a compromise between Lasso and Ridge, allowing for both feature selection and coefficient shrinkage.\n",
        "\n",
        "* **Use case:** Useful when you want the benefits of both Lasso and Ridge, particularly when you have many correlated features.\n",
        "\n",
        "In summary:\n",
        "\n",
        "Lasso: L1 penalty, feature selection.\n",
        "\n",
        "Ridge: L2 penalty, coefficient shrinkage.\n",
        "\n",
        "Elastic Net: Combination of L1 and L2 penalties, feature selection and shrinkage."
      ],
      "metadata": {
        "id": "FJRYhJo8wT_z"
      }
    },
    {
      "cell_type": "markdown",
      "source": [
        "###7. When should we use Elastic Net instead of Lasso or Ridge ?\n",
        "\n",
        "Ans-7. Elastic Net is a powerful regularization technique that combines the strengths of both Lasso and Ridge regression. This makes it a versatile tool, but it also means there are specific situations where it shines. Here's when\n",
        "you should consider using Elastic Net over Lasso or Ridge:\n",
        "\n",
        "1. **When you have many correlated features:**\n",
        "\n",
        "* **The Problem:** Lasso can struggle with highly correlated features. It tends to arbitrarily select one feature from a group of correlated features and discard the rest, which can lead to instability and loss of information.\n",
        "\n",
        "* **Elastic Net's Solution:** Elastic Net handles correlated features more gracefully.It tends to group correlated features together, either keeping them all or removing them all together. This provides more stability and a better representation of the underlying relationships in the data.\n",
        "\n",
        "2. **When you're not sure about feature selection:**\n",
        "\n",
        "* **The Dilemma:** Lasso is great for feature selection, but it can be too aggressive, potentially removing features that are actually important. Ridge keeps all features, which might not be ideal if you have many irrelevant features.\n",
        "\n",
        "* **Elastic Net's Approach:** Elastic Net offers a balance. It can perform feature selection like Lasso but is less likely to eliminate truly important features due to its Ridge component. This makes it a good choice when you want some feature selection but are unsure about which features are crucial.\n",
        "\n",
        "3. **When you want a more stable model:**\n",
        "\n",
        "* **The Concern:** Lasso's feature selection can sometimes be unstable, meaning that small changes in the data can lead to different features being selected.\n",
        "Elastic Net's Advantage: Elastic Net's combination of L1 and L2 penalties makes it more stable than Lasso. It's less sensitive to small changes in the data, leading to more consistent results.\n",
        "\n",
        "**In summary, consider using Elastic Net when:**\n",
        "\n",
        "* You have many correlated features.\n",
        "\n",
        "* You want some feature selection but are unsure about which features are important.\n",
        "\n",
        "* You need a more stable model that is less sensitive to small changes in the data.\n",
        "\n",
        "**Important Note:** Elastic Net has two tuning parameters (alpha and l1_ratio), which makes it slightly more complex to tune than Lasso or Ridge. However, this added complexity is often worth it for the benefits it provides in the situations described above.\n",
        "\n"
      ],
      "metadata": {
        "id": "4bmGmOYOVvNp"
      }
    },
    {
      "cell_type": "markdown",
      "source": [
        "###8. What is the impact of the regularization parameter (λ) in Logistic Regression ?\n",
        "\n",
        "Ans-8. The regularization parameter, often denoted as λ (lambda) or sometimes as C (where C is the inverse of lambda), plays a crucial role in controlling the strength of regularization in logistic regression. Here's a breakdown of its impact:\n",
        "\n",
        "**What does it do?**\n",
        "\n",
        "* **Controls model complexity:** λ determines the amount of \"penalty\" applied to large coefficients in the model. A higher λ means a stronger penalty, discouraging the model from having very large coefficients. This, in turn, makes the model simpler.\n",
        "\n",
        "* **Balances bias and variance:** Regularization helps find a balance between bias and variance.\n",
        "\n",
        "* **High λ:** Increases bias (the model makes stronger assumptions) and reduces variance (the model is less sensitive to fluctuations in the training data). This can lead to underfitting if λ is too high.\n",
        "Low λ: Decreases bias and increases variance. This can lead to overfitting if λ is too low.\n",
        "\n",
        "####**Impact on Coefficients**\n",
        "\n",
        "* **Larger λ:** Shrinks the coefficients towards zero. In L1 regularization (Lasso), it can even force some coefficients to become exactly zero, effectively performing feature selection.\n",
        "\n",
        "* **Smaller λ:** Allows the coefficients to be larger, giving the model more flexibility to fit the training data.\n",
        "\n",
        "####**Impact on Overfitting**\n",
        "\n",
        "* **Larger λ:** Reduces overfitting by simplifying the model and preventing it from memorizing the training data.\n",
        "\n",
        "* **Smaller λ:** Increases the risk of overfitting, as the model can become too complex and sensitive to noise in the training data.\n",
        "\n",
        "**How to choose the right λ?**\n",
        "\n",
        "* **Cross-validation:** The most common approach is to use cross-validation. This involves splitting the data into multiple folds, training the model with different λ values on some folds, and evaluating its performance on the remaining folds. This helps find the λ that generalizes best to unseen data.\n",
        "\n",
        "* **Grid search:** You can define a range of λ values and use grid search to systematically try out different combinations of λ and other hyperparameters.\n",
        "\n",
        "**In summary:**\n",
        "\n",
        "The regularization parameter λ controls the trade-off between model complexity and its ability to fit the training data.Finding the optimal λ is crucial for building a logistic regression model that generalizes well to new, unseen data.\n",
        "\n",
        "\n"
      ],
      "metadata": {
        "id": "mFp0qCaDX1Lb"
      }
    },
    {
      "cell_type": "markdown",
      "source": [
        "###9. What are the key assumptions of Logistic Regression ?\n",
        "\n",
        "Ans-9. The assumptions! Like any statistical model, logistic regression relies on certain assumptions to produce reliable results.\n",
        "\n",
        " **Here are the key ones:**\n",
        "\n",
        " 1. **Binary Outcome:**\n",
        "\n",
        "* **The Rule:** The dependent variable must be binary, meaning it has only two possible outcomes (e.g., yes/no, 0/1, pass/fail).\n",
        "\n",
        "* **Why it matters:** Logistic regression is specifically designed for this type of outcome. If you have a dependent variable with more than two categories, you'll need to consider other techniques (like multinomial logistic regression).\n",
        "\n",
        "2. **Independence of Observations:**\n",
        "\n",
        "* **The Rule:** The observations in your data should be independent of each other. This means that one data point should not influence another.\n",
        "\n",
        "* **Why it matters:** If observations are not independent (e.g., repeated measurements on the same individual), it can violate the assumptions of the model and lead to inaccurate results.\n",
        "\n",
        "3. **No Multicollinearity:**\n",
        "\n",
        "* **The Rule:** The independent variables should not be highly correlated with each other.\n",
        "\n",
        "* **Why it matters:** Multicollinearity can make it difficult to determine the individual effect of each predictor variable on the outcome. It can also inflate the standard errors of the coefficients, making it harder to assess statistical significance.\n",
        "\n",
        "4. **Linearity of the Logit:**\n",
        "\n",
        "* **The Rule:** The independent variables should have a linear relationship with the logit of the outcome. The logit is the natural logarithm of the odds of the outcome occurring.\n",
        "\n",
        "* **Why it matters:** This assumption ensures that the logistic regression model is correctly capturing the relationship between the predictors and the outcome.\n",
        "\n",
        "5. **Sufficient Sample Size:**\n",
        "\n",
        "* **The Rule:** You need a sufficiently large sample size to ensure the stability and reliability of the model.\n",
        "\n",
        "* **Why it matters:** With a small sample size, the model may be overly sensitive to the specific data points in your sample and may not generalize well to new data. A common rule of thumb is to have at least 10-20 events (the less frequent outcome) per predictor variable.\n",
        "\n",
        "**Important Notes:**\n",
        "\n",
        "* **No normality assumption:** Unlike linear regression, logistic regression does not assume that the error terms are normally distributed.\n",
        "\n",
        "* **Checking assumptions:** It's important to check these assumptions before interpreting the results of a logistic regression model. There are various diagnostic tools and techniques available to assess these assumptions.\n",
        "\n",
        "If these assumptions are violated, the results of the logistic regression model may be unreliable. It's crucial to be aware of these assumptions and take appropriate steps to address any violations.\n",
        "\n"
      ],
      "metadata": {
        "id": "poOhwa_qZ0sh"
      }
    },
    {
      "cell_type": "markdown",
      "source": [
        "###10. What are some alternatives to Logistic Regression for classification tasks ?\n",
        "\n",
        "As-10. Here are some popular and effective alternatives, each with its own strengths and weaknesses:\n",
        "\n",
        "1. **Tree-Based Methods**\n",
        "\n",
        "* **Decision Trees:** These create a set of rules based on features to classify data. They're easy to visualize and interpret but can overfit if not pruned properly.\n",
        "\n",
        "* **Random Forests:** An ensemble method that combines multiple decision trees, improving accuracy and reducing overfitting.\n",
        "\n",
        "* **Gradient Boosting Machines (GBM):** Another ensemble method that builds trees sequentially, with each tree correcting the errors of the previous ones. Popular GBM implementations include XGBoost, LightGBM, and CatBoost.\n",
        "\n",
        "2. **Support Vector Machines (SVMs)**\n",
        "\n",
        "* **The Idea:** SVMs find the optimal hyperplane that best separates data points of different classes, maximizing the margin between them.\n",
        "\n",
        "* **Kernels:** SVMs can use different kernel functions to handle non-linearly separable data by mapping it to a higher-dimensional space.\n",
        "\n",
        "* **Strengths:** Effective in high-dimensional spaces, versatile due to kernels.\n",
        "\n",
        "* **Weaknesses:** Can be computationally expensive, difficult to interpret compared to trees.\n",
        "\n",
        "3. **K-Nearest Neighbors (KNN)**\n",
        "\n",
        "* **The Idea:** Classifies a data point based on the majority class among its k-nearest neighbors in the feature space.\n",
        "\n",
        "* **Strengths:** Simple to understand and implement, no training phase.\n",
        "Weaknesses: Computationally expensive for large datasets, sensitive to irrelevant features.\n",
        "\n",
        "4. **Naive Bayes**\n",
        "\n",
        "* **The Idea:** Based on Bayes' theorem, it calculates the probability of a data point belonging to a class based on the probabilities of its features.\n",
        "\n",
        "* **Strengths:** Simple and efficient, works well with high-dimensional data.\n",
        "\n",
        "* **Weaknesses:** Assumes feature independence, which may not hold in real-world data.\n",
        "\n",
        "5. **Neural Networks**\n",
        "\n",
        "* **The Idea:** Complex models inspired by the human brain, composed of interconnected layers of nodes.\n",
        "\n",
        "* **Deep Learning:** Neural networks with multiple layers can learn complex patterns and representations from data.\n",
        "\n",
        "* **Strengths:** Can achieve high accuracy, especially with large datasets.\n",
        "\n",
        "* **Weaknesses:** Can be computationally expensive, require careful tuning, and can be a \"black box\" (hard to interpret).\n",
        "\n",
        "**Choosing the right alternative:**\n",
        "\n",
        "The best choice depends on your specific dataset, goals, and constraints:\n",
        "\n",
        "* **Interpretability:** If you need to understand why a model makes a certain prediction, decision trees or logistic regression might be preferable.\n",
        "\n",
        "* **Accuracy:** If high accuracy is the primary goal, random forests, GBMs, SVMs, or neural networks might be good options.\n",
        "\n",
        "* **Computational resources:** If you have limited computational resources, Naive Bayes or KNN might be more suitable.\n",
        "\n",
        "* **Data characteristics:** The nature of your data (e.g., number of features, presence of non-linear relationships) can also influence the choice of model.\n",
        "\n",
        "It's often a good idea to try out several different models and compare their performance using appropriate evaluation metrics (e.g., accuracy, precision, recall, F1-score) to choose the best one for your task."
      ],
      "metadata": {
        "id": "Hgo0U54cdul1"
      }
    },
    {
      "cell_type": "markdown",
      "source": [
        "### 11. What are Classification Evaluation Metrics ?\n",
        "\n",
        "Ans-11. They quantify how well the model is doing at predicting the correct categories. Here's a breakdown of the most common and important ones:\n",
        "\n",
        "1. **Confusion Matrix:**\n",
        "\n",
        "* **What it is:** A table that summarizes the model's predictions compared to the actual true labels.\n",
        "\n",
        "* **Why it's important:** Provides a detailed view of the model's performance, showing not just how many predictions are correct but also where it's making mistakes.\n",
        "\n",
        "                               Actual Positive       Actual Negative      \n",
        "      Predicted Positive       True Positive (TP)    False Positive (FP)\n",
        "      Predicted Negative       False Negative (FN)    True Negative (TN)\n",
        "\n",
        " 2. **Accuracy:**\n",
        "\n",
        "* **What it is:** The overall proportion of correctly classified instances.\n",
        "\n",
        "* **Formula:** Accuracy = (TP + TN) / (TP + FP + FN + TN)\n",
        "\n",
        "* **Pros:** Easy to understand.\n",
        "\n",
        "* **Cons:** Can be misleading if the classes are imbalanced (e.g., one class has many more examples than the other).\n",
        "\n",
        "3. **Precision:**\n",
        "\n",
        "* **What it is:** The proportion of correctly predicted positive cases out of all cases predicted as positive.\n",
        "\n",
        "* **Formula:** Precision = TP / (TP + FP)\n",
        "\n",
        "* **Pros:** Useful when minimizing false positives is important (e.g., spam detection).\n",
        "\n",
        "4. **Recall (Sensitivity or True Positive Rate):**\n",
        "\n",
        "* **What it is:** The proportion of correctly predicted positive cases out of all actual positive cases.\n",
        "\n",
        "* **Formula:** Recall = TP / (TP + FN)\n",
        "\n",
        "* **Pros:** Useful when minimizing false negatives is important (e.g., disease diagnosis).\n",
        "\n",
        "5. **F1-Score:**\n",
        "\n",
        "* **What it is:** The harmonic mean of precision and recall.\n",
        "\n",
        "* **Formula:** F1-Score = 2 * (Precision * Recall) / (Precision + Recall)\n",
        "\n",
        "* **Pros:** Provides a balanced measure that considers both precision and recall. Useful when you want to find a good compromise between them.\n",
        "\n",
        "6. **Specificity (True Negative Rate):**\n",
        "\n",
        "* **What it is:** The proportion of correctly predicted negative cases out of all actual negative cases.\n",
        "\n",
        "* **Formula:** Specificity = TN / (TN + FP)\n",
        "\n",
        "* **Pros:** Useful when identifying true negatives is important.\n",
        "\n",
        "7. **ROC Curve (Receiver Operating Characteristic):**\n",
        "\n",
        "* **What it is:** A plot that shows the trade-off between true positive rate (recall) and false positive rate (1 - specificity) at different classification thresholds.\n",
        "\n",
        "* **Why it's important:** Helps visualize the model's performance across different thresholds and choose an appropriate threshold for your specific needs.\n",
        "\n",
        "8. **AUC (Area Under the Curve):**\n",
        "\n",
        "* **What it is:** A single value that summarizes the overall performance of the model, as represented by the ROC curve. Ranges from 0 to 1, with higher values indicating better performance.\n",
        "\n",
        "* **Why it's important:** Provides a way to compare different models.\n",
        "\n",
        "**Which metric to choose?**\n",
        "\n",
        "The best metric depends on your specific problem and priorities.\n",
        "\n",
        "* **Balanced classes:** Accuracy is often a good starting point.\n",
        "\n",
        "* **Imbalanced classes:** Precision, recall, or F1-score are more informative.\n",
        "\n",
        "* **Minimizing false positives:** Precision is crucial.\n",
        "\n",
        "* **Minimizing false negatives:** Recall is crucial.\n",
        "\n",
        "* **Trade-off between precision and recall:** F1-score is a good choice.\n",
        "Overall performance across thresholds: AUC is useful.\n",
        "\n",
        "It's often helpful to consider multiple metrics to get a comprehensive understanding of your model's performance.\n",
        "     "
      ],
      "metadata": {
        "id": "6nuhO1ZDgr64"
      }
    },
    {
      "cell_type": "markdown",
      "source": [
        "###12. How does class imbalance affect Logistic Regression ?\n",
        "\n",
        "Ans-12. Class imbalance, where one class has significantly more examples than another, can significantly impact logistic regression (and other classification algorithms). Here's how:\n",
        "\n",
        "1. **Biased Predictions:**\n",
        "\n",
        "* **The Problem:** A model trained on imbalanced data tends to be biased towards the majority class. It might predict the majority class even when the input actually belongs to the minority class, simply because it has seen so many more examples of the majority class during training.\n",
        "\n",
        "* **Why it happens:** The model tries to minimize the overall error, and it's easier to achieve low error by correctly classifying the majority class most of the time, even at the expense of misclassifying the minority class.\n",
        "\n",
        "2. **Poor Performance on the Minority Class:**\n",
        "\n",
        "* **The Problem:** The minority class is often the class of greater interest (e.g., disease diagnosis, fraud detection). Due to the bias mentioned above, the model might have poor recall (ability to correctly identify positive cases) on the minority class.\n",
        "\n",
        "* **Why it matters:**  In many real-world applications, accurately identifying the minority class is crucial, even if it means misclassifying some examples from the majority class.\n",
        "\n",
        "3. **Misleading Accuracy:**\n",
        "\n",
        "* **The Problem:** Accuracy can be a misleading metric when dealing with imbalanced data. A model that always predicts the majority class can achieve high accuracy, even if it's completely useless for identifying the minority class.\n",
        "\n",
        "* **Why it's a problem:** Relying solely on accuracy can give a false sense of confidence in the model's performance.\n",
        "\n",
        "4. **Problems with Optimization:**\n",
        "\n",
        "* **The Problem:** Some optimization algorithms used to train logistic regression models can struggle with imbalanced data. They might converge to a solution that favors the majority class, even if it's not the optimal solution for the problem.\n",
        "\n",
        "**How to Address Class Imbalance:**\n",
        "\n",
        "Several techniques can be used to mitigate the effects of class imbalance:\n",
        "\n",
        "* Resampling:\n",
        "\n",
        "   * **Oversampling:** Creating copies of the minority class examples. Techniques like SMOTE (Synthetic Minority Over-sampling Technique) can generate synthetic examples.\n",
        "\n",
        "   * **Undersampling:** Removing examples from the majority class.\n",
        "\n",
        "* **Cost-Sensitive Learning:** Assigning higher misclassification costs to the minority class during training. This forces the model to pay more attention to correctly classifying the minority class.\n",
        "\n",
        "* **Class Weights:** Similar to cost-sensitive learning, assigning weights to the classes during training, with higher weights for the minority class.\n",
        "\n",
        "* **Ensemble Methods:** Techniques like bagging and boosting can be adapted to handle class imbalance. For example, Balanced Random Forests oversample the minority class in each tree.\n",
        "\n",
        "* **Evaluation Metrics:** Using appropriate evaluation metrics like precision, recall, F1-score, AUC, and the confusion matrix is crucial. These metrics provide a more informative picture of the model's performance on both classes.\n",
        "\n",
        "**In short:** Class imbalance can significantly hinder the performance of logistic regression, particularly on the minority class. It's essential to be aware of this issue and employ appropriate techniques to address it, ensuring that the model is effectively learning from all classes."
      ],
      "metadata": {
        "id": "Y0PNX4XlkFnT"
      }
    },
    {
      "cell_type": "markdown",
      "source": [
        "###13. What is Hyperparameter Tuning in Logistic Regression ?\n",
        "\n",
        "Ans-13. Hyperparameter tuning in logistic regression is a crucial step to improve the performance of the model by finding the best values for hyperparameters that control the learning process. Unlike regular parameters (weights and biases) that the model learns from the training data, hyperparameters are set before the training process begins.\n",
        "\n",
        "In logistic regression, the main hyperparameter is the regularization parameter, which controls the complexity of the model to prevent overfitting. There are two common types of regularization:\n",
        "\n",
        "1. **L1 regularization (Lasso):** This adds a penalty equal to the absolute value of the magnitude of coefficients. It tends to produce sparse models with few coefficients, effectively selecting a simpler model.\n",
        "\n",
        "2. **L2 regularization (Ridge):** This adds a penalty equal to the square of the magnitude of coefficients. It encourages the coefficients to be small, but not exactly zero, which helps in controlling the complexity of the model.\n",
        "\n",
        "To find the best value for these hyperparameters, one can use techniques like:\n",
        "\n",
        "* **Grid Search:** It involves searching over a predefined set of hyperparameters and evaluating the model performance for each combination using cross-validation. This method is exhaustive but can be computationally expensive.\n",
        "\n",
        "* **Random Search:** Instead of searching over a predefined grid, random search samples hyperparameters from a specified distribution. It often leads to better results with less computational effort.\n",
        "\n",
        "* **Bayesian Optimization:** This method uses a probabilistic model to choose the next set of hyperparameters to evaluate, aiming to find the best values more efficiently than grid or random search.\n",
        "\n",
        "By carefully tuning these hyperparameters, the logistic regression model can achieve better performance on unseen data."
      ],
      "metadata": {
        "id": "i5jkMpG2BdIi"
      }
    },
    {
      "cell_type": "markdown",
      "source": [
        "###14.What are different solvers in Logistic Regression? Which one should be used ?\n",
        "\n",
        "Ans-14. In logistic regression, solvers are algorithms used to optimize the objective function. Different solvers have their own strengths and weaknesses, and choosing the right one depends on the specific characteristics of the dataset and the problem at hand. Here are some of the common solvers used in logistic regression:\n",
        "\n",
        "1.**liblinear:** A good choice for small datasets. It uses a coordinate descent algorithm and is suitable for both L1 and L2 regularization.\n",
        "\n",
        "2. **newton-cg:** A second-order algorithm that uses the Newton conjugate gradient method. It's suitable for large datasets and is effective for solving multi-class problems but may be slower than other solvers.\n",
        "\n",
        "3. **lbfgs:** Stands for Limited-memory Broyden–Fletcher–Goldfarb–Shanno algorithm. It's a quasi-Newton method that approximates the Broyden–Fletcher–Goldfarb–Shanno (BFGS) algorithm using limited memory. It's efficient for large datasets and multi-class problems and works well with L2 regularization.\n",
        "\n",
        "4. **sag:** Stands for Stochastic Average Gradient. It's a first-order optimization algorithm that scales well with large datasets. It supports only L2 regularization and is faster than some second-order methods like newton-cg.\n",
        "\n",
        "5. **saga:** An improved version of the SAG solver, supporting both L1 and L2 regularization. It's suitable for large datasets and is particularly useful for sparse data. It also supports the elastic net regularization.\n",
        "\n",
        "####Which solver to use? The choice of solver depends on several factors:\n",
        "\n",
        "* **Dataset Size:** For small datasets, liblinear is a good choice. For large datasets, lbfgs, sag, or saga might be more efficient.\n",
        "\n",
        "* **Regularization Type:** If you need L1 regularization, you should use liblinear or saga. For L2 regularization, you can use any solver, but lbfgs, newton-cg, sag, and saga are generally preferred.\n",
        "\n",
        "* **Multi-class Problems:** If you have a multi-class problem, lbfgs, newton-cg, and saga are good options since they handle multi-class classification well.\n",
        "\n",
        "Ultimately, it's often beneficial to try a few different solvers and compare their performance on your specific problem."
      ],
      "metadata": {
        "id": "mt-LGI-RCTRd"
      }
    },
    {
      "cell_type": "markdown",
      "source": [
        "###15.How is Logistic Regression extended for multiclass classification ?\n",
        "\n",
        "Ans-15. Logistic Regression, in its basic form, is designed for binary classification problems (predicting one of two outcomes). To extend it for multi-class classification (predicting one of multiple outcomes), we use techniques like:\n",
        "\n",
        "1. **One-vs-All (OvA) or One-vs-Rest:**\n",
        "\n",
        "* **Concept:** Train a separate logistic regression classifier for each class. Each classifier predicts the probability of an instance belonging to that class versus all other classes.\n",
        "\n",
        "* **Prediction:** Choose the class with the highest probability among all classifiers.\n",
        "\n",
        "* **Advantages:** Simple to implement.\n",
        "\n",
        "* **Disadvantages:** Can lead to class imbalance issues if one class has significantly more instances than others.\n",
        "\n",
        "2. **Multinomial Logistic Regression (Softmax Regression):**\n",
        "\n",
        "* **Concept:** Generalizes logistic regression by directly modeling the probabilities of all classes simultaneously. It uses the softmax function, which is a generalization of the sigmoid function, to produce a probability distribution over all classes.\n",
        "\n",
        "* **Prediction:** Choose the class with the highest predicted probability.\n",
        "Advantages: More statistically sound than OvA, as it models all classes at once.\n",
        "Disadvantages: Computationally more complex than OvA.\n",
        "\n",
        "3. **Hierarchical Logistic Regression:**\n",
        "\n",
        "* **Concept:** Organizes classes into a hierarchy (tree-like structure). Classifiers are trained at each level of the hierarchy to make decisions about which branch to take, eventually leading to a specific class.\n",
        "\n",
        "* **Advantages:** Can be efficient if the class hierarchy reflects the data well.\n",
        "\n",
        "* **Disadvantages:** Requires careful design of the class hierarchy.\n",
        "\n",
        "####Key Differences and Considerations:\n",
        "\n",
        "* **Softmax Regression** is generally preferred when the classes are mutually exclusive (an instance can belong to only one class).\n",
        "\n",
        "* **One-vs-All** can be used when classes are not mutually exclusive (an instance can belong to multiple classes).\n",
        "\n",
        "* The choice of method can depend on the specific problem, the nature of the data, and the computational resources available.\n",
        "\n",
        "**Note:** In practice, libraries like scikit-learn in Python provide built-in implementations of these multi-class logistic regression techniques, making it easy to use them without having to implement them from scratch."
      ],
      "metadata": {
        "id": "Bnqr7wI_DlXL"
      }
    },
    {
      "cell_type": "markdown",
      "source": [
        "###16. What are the advantages and disadvantages of Logistic Regression ?\n",
        "\n",
        "Ans-16. Logistic Regression is a popular and widely used algorithm for binary classification problems. It's appreciated for its simplicity and interpretability, but it also has limitations. Here's a breakdown of its advantages and disadvantages:\n",
        "\n",
        "####**Advantages of Logistic Regression:**\n",
        "\n",
        "* **Easy to Implement and Interpret:** Logistic regression is relatively simple to understand and implement. The coefficients of the model can be interpreted as the importance of each feature in predicting the outcome. This interpretability is a significant advantage, especially in fields like healthcare and finance where understanding the model's reasoning is crucial.\n",
        "\n",
        "* **Efficient to Train:** Logistic regression models train quickly, even on large datasets. This makes it a good choice for situations where you need a fast and efficient solution.\n",
        "\n",
        "* **Handles Various Data Types:** It can handle both continuous and categorical features, making it versatile for different types of data.\n",
        "\n",
        "* **Provides Probability Estimates:** Logistic regression outputs probabilities of the instance belonging to a particular class. This can be useful for decision-making, as you can set thresholds based on the desired level of confidence.\n",
        "\n",
        "* **Well-Calibrated Probabilities:** The probability estimates produced by logistic regression are often well-calibrated, meaning they accurately reflect the true likelihood of an event occurring.\n",
        "\n",
        "* **Effective Baseline:** It serves as a good baseline model to compare against more complex algorithms.\n",
        "\n",
        "####**Disadvantages of Logistic Regression:**\n",
        "\n",
        "* **Assumes Linearity:** Logistic regression assumes a linear relationship between the features and the log-odds of the outcome. This assumption may not hold in real-world scenarios where the relationships are more complex.\n",
        "\n",
        "* **Sensitive to Multicollinearity:** Multicollinearity (high correlation between independent variables) can negatively impact the model's performance and make the coefficients unstable.\n",
        "\n",
        "* **Can Overfit:** Like any model, logistic regression can overfit the training data, especially with high-dimensional datasets. Regularization techniques can help mitigate this issue.\n",
        "\n",
        "* **Limited to Linearly Separable Data:** It performs best when the classes are linearly separable, meaning they can be separated by a straight line or hyperplane. It may struggle with more complex, non-linearly separable data.\n",
        "Not Suitable for Complex Relationships: Logistic regression may not be the best choice for problems with complex relationships between features and outcomes. In such cases, more powerful algorithms like decision trees or neural networks might be more appropriate.\n",
        "\n",
        "**In summary:**\n",
        "Logistic regression is a valuable tool for binary classification tasks, especially when interpretability and efficiency are important. However, it's essential to be aware of its limitations and consider whether the assumptions of linearity and linear separability are met by the data."
      ],
      "metadata": {
        "id": "fwm8g_UJFRBo"
      }
    },
    {
      "cell_type": "markdown",
      "source": [
        "###17. What are some use cases of Logistic Regression ?\n",
        "\n",
        "Ans-17. Logistic Regression is quite versatile and is widely used in various fields.\n",
        "\n",
        "**Here are some common use cases:**\n",
        "\n",
        "1. **Medical Diagnosis:**\n",
        "\n",
        "* Predicting the presence of diseases based on patient features such as symptoms, medical history, and test results. For example, it can be used to predict the likelihood of heart disease or diabetes.\n",
        "\n",
        "2. **Customer Churn Prediction:**\n",
        "\n",
        "* Identifying customers who are likely to stop using a product or service based on their usage patterns and other relevant features.\n",
        "\n",
        "3. **Credit Scoring:**\n",
        "\n",
        "* Assessing the probability of a borrower defaulting on a loan based on their credit history, income, and other financial factors.\n",
        "\n",
        "4. **Spam Detection:**\n",
        "\n",
        "* Classifying emails as spam or not spam based on features like the content of the email, sender information, and other metadata.\n",
        "\n",
        "5. **Marketing and Sales:**\n",
        "\n",
        "* Predicting the probability of a customer making a purchase based on their browsing history, demographic information, and other factors.\n",
        "\n",
        "* Identifying the likelihood of a customer responding to a marketing campaign.\n",
        "\n",
        "6. **Employee Attrition:**\n",
        "\n",
        "* Predicting which employees are likely to leave the company based on factors like job satisfaction, salary, work environment, and performance metrics.\n",
        "\n",
        "7. **Fraud Detection:**\n",
        "\n",
        "* Identifying fraudulent transactions in banking or e-commerce by analyzing patterns in transaction data.\n",
        "\n",
        "8. **Social Science Research:**\n",
        "\n",
        "* Analyzing survey data to understand the likelihood of certain behaviors or opinions based on demographic and psychographic variables.\n",
        "\n",
        "**These are just a few examples.** Logistic Regression is a fundamental tool in the data scientist's toolkit, thanks to its simplicity, interpretability, and effectiveness for binary classification problems."
      ],
      "metadata": {
        "id": "onp953tlGZul"
      }
    },
    {
      "cell_type": "markdown",
      "source": [
        "###18.What is the difference between Softmax Regression and Logistic Regression ?\n",
        "\n",
        "Ans-18. Here's a breakdown of the key differences between Softmax Regression and Logistic Regression:\n",
        "\n",
        "1. **Number of Classes:**\n",
        "\n",
        "* **Logistic Regression:** Designed for binary classification problems, where the outcome variable has only two possible classes (e.g., yes/no, 0/1, spam/not spam).\n",
        "\n",
        "* **Softmax Regression:** A generalization of logistic regression for multi-class classification problems, where the outcome variable can have more than two classes (e.g., classifying images of different animals, predicting which of several products a customer will buy).\n",
        "\n",
        "2. **Output Function:**\n",
        "\n",
        "* **Logistic Regression:** Uses the sigmoid function to produce a probability between 0 and 1, representing the probability of an instance belonging to one of the two classes.\n",
        "\n",
        "* **Softmax Regression:** Uses the softmax function to produce a probability distribution over all the classes. The softmax function outputs a vector of probabilities, where each element represents the probability of an instance belonging to a specific class. These probabilities sum up to 1.\n",
        "\n",
        "3. **Decision Boundary:**\n",
        "\n",
        "* **Logistic Regression:** Creates a linear decision boundary to separate the two classes.\n",
        "\n",
        "* **Softmax Regression:** Creates multiple linear decision boundaries, one for each class, to separate the classes.\n",
        "\n",
        "4. **Relationship:**\n",
        "\n",
        "* Softmax Regression can be considered a generalization of Logistic Regression. In fact, when you have only two classes, Softmax Regression is essentially equivalent to Logistic Regression.\n",
        "\n",
        "**In essence:**\n",
        "\n",
        "* If you're dealing with a binary classification problem (two classes), use Logistic Regression.\n",
        "\n",
        "* If you're dealing with a multi-class classification problem (more than two classes), use Softmax Regression.\n",
        "\n",
        "Think of it this way: Logistic Regression is like flipping a coin (two outcomes), while Softmax Regression is like rolling a die (multiple outcomes)."
      ],
      "metadata": {
        "id": "KQF4z7ncHmIC"
      }
    },
    {
      "cell_type": "markdown",
      "source": [
        "###19. How do we choose between One-vs-Rest (OvR) and Softmax for multiclass classification ?\n",
        "\n",
        "Ans-19. Choosing between One-vs-Rest (OvR) and Softmax for multiclass classification depends on several factors, such as the nature of your data, the complexity of your problem, and your computational constraints. Here's a breakdown to help you decide:\n",
        "\n",
        "###One-vs-Rest (OvR)\n",
        "\n",
        "* **What It Is:** OvR involves training a separate binary classifier for each class. Each classifier predicts whether a sample belongs to its class or not.\n",
        "\n",
        "**Advantages:**\n",
        "\n",
        "* **Simplicity:** OvR is conceptually simpler and often easier to implement.\n",
        "\n",
        "* **Interpretability:** You get separate classifiers for each class, making it easier to interpret the individual models' behavior.\n",
        "\n",
        "* **Flexibility:** OvR can handle imbalanced datasets better because each classifier focuses on distinguishing one class from the rest.\n",
        "\n",
        "**Disadvantages:**\n",
        "\n",
        "* **Scalability:** Training separate classifiers for each class can be computationally expensive for large datasets with many classes.\n",
        "\n",
        "* **Conflict:** Different classifiers might make conflicting predictions.\n",
        "\n",
        "###Softmax\n",
        "\n",
        "* **What It Is:** Softmax is used in neural networks (e.g., logistic regression and deep learning). It outputs probabilities for each class, and the class with the highest probability is chosen.\n",
        "\n",
        "**Advantages:**\n",
        "\n",
        "* **Efficiency:** Softmax trains a single model, which is computationally efficient, especially for neural networks.\n",
        "\n",
        "* **Probabilistic Interpretation:** Provides probabilities for each class, which can be useful for uncertainty estimation and decision-making.\n",
        "\n",
        "* **Consistency:** The predictions are consistent and do not conflict, as the model is trained jointly on all classes.\n",
        "\n",
        "**Disadvantages:**\n",
        "\n",
        "* **Complexity:** Implementing Softmax can be more complex, especially for non-neural network models.\n",
        "\n",
        "* **Sensitivity to Imbalance:** Softmax may struggle with class imbalance as it treats all classes equally during training.\n",
        "\n",
        "###When to Use Each\n",
        "\n",
        "### **One-vs-Rest (OvR):**\n",
        "\n",
        "* When you have a small to moderate number of classes.\n",
        "\n",
        "* When interpretability of individual class models is important.\n",
        "\n",
        "* When dealing with imbalanced datasets.\n",
        "\n",
        "### **Softmax:**\n",
        "\n",
        "* When you have a large number of classes.\n",
        "\n",
        "* When computational efficiency is a priority.\n",
        "\n",
        "* When you need probabilistic outputs for decision-making.\n",
        "\n",
        "**In summary:**\n",
        "\n",
        "* **OvR:** Simpler to implement, suitable for non-mutually exclusive classes or potentially large numbers of classes.\n",
        "\n",
        "* **Softmax:** More statistically sound, provides better probability estimates, generally preferred for mutually exclusive classes.\n",
        "\n",
        "Ultimately, the best choice depends on the specific problem, the nature of the data, and the trade-offs you're willing to make between accuracy, computational cost, and interpretability."
      ],
      "metadata": {
        "id": "2H1AwrVXI78E"
      }
    },
    {
      "cell_type": "markdown",
      "source": [
        "###20.How do we interpret coefficients in Logistic Regression ?\n",
        "\n",
        "Ans-20. Interpreting coefficients in logistic regression requires a bit more nuance than in linear regression because the outcome variable is not continuous. Here's a breakdown of how to interpret them, along with some important considerations:\n",
        "\n",
        "1. **The Basics:**\n",
        "\n",
        "* **Coefficients and Log-Odds:** Logistic regression models the relationship between the independent variables and the log-odds of the outcome. The log-odds are the natural logarithm of the odds, where odds = probability of the event occurring / probability of the event not occurring.\n",
        "\n",
        "* **Direction:**\n",
        "\n",
        "* A positive coefficient means that an increase in the predictor variable is associated with an increase in the log-odds of the outcome (making the outcome more likely).\n",
        "\n",
        "* A negative coefficient means that an increase in the predictor variable is associated with a decrease in the log-odds of the outcome (making the outcome less likely).\n",
        "\n",
        "2. **Converting to Odds Ratios:**\n",
        "\n",
        "* Exponentiating the Coefficient: To make the interpretation more intuitive, we often exponentiate the coefficient (e^coefficient). This gives us the odds ratio.\n",
        "\n",
        "* **Interpreting the Odds Ratio:**\n",
        "\n",
        "* An odds ratio greater than 1 means that a one-unit increase in the predictor variable multiplies the odds of the outcome by that value. For example, an odds ratio of 2 means that a one-unit increase in the predictor doubles the odds of the outcome.\n",
        "\n",
        "* An odds ratio less than 1 means that a one-unit increase in the predictor variable divides the odds of the outcome by that value. For example, an odds ratio of 0.5 means that a one-unit increase in the predictor halves the odds of the outcome.\n",
        "\n",
        "* An odds ratio of 1 means that the predictor variable has no effect on the odds of the outcome.\n",
        "\n",
        "3. **Example:**\n",
        "\n",
        "Let's say we're modeling the probability of a customer clicking on an ad based on their age. The logistic regression coefficient for age is 0.05.\n",
        "\n",
        "* **Log-Odds:** For every one-year increase in age, the log-odds of clicking on the ad increase by 0.05.\n",
        "\n",
        "* **Odds Ratio:** e^0.05 ≈ 1.05. For every one-year increase in age, the odds of clicking on the ad are multiplied by 1.05 (a 5% increase).\n",
        "\n",
        "4. **Important Considerations:**\n",
        "\n",
        "* **Scale of the Predictor:** The interpretation of the coefficient depends on the scale of the predictor variable. A one-unit change in age might be different from a one-unit change in income.\n",
        "\n",
        "* **Other Variables:** The interpretation of a coefficient assumes that all other variables in the model are held constant.\n",
        "\n",
        "* **Statistical Significance:** It's crucial to consider the statistical significance of the coefficient (p-value). A statistically significant coefficient indicates that the relationship between the predictor and the outcome is unlikely to be due to chance.\n",
        "\n",
        "* **Causality:** Logistic regression shows association, not causation. A significant coefficient doesn't necessarily mean that the predictor causes the outcome.\n",
        "\n",
        "**In summary:**\n",
        "\n",
        "Interpreting logistic regression coefficients involves understanding their relationship with log-odds and converting them to odds ratios for a more intuitive interpretation. Always consider the scale of the predictor, other variables in the model, statistical significance, and the limitations of association vs. causation.\n"
      ],
      "metadata": {
        "id": "AYFddLJJMYRn"
      }
    },
    {
      "cell_type": "markdown",
      "source": [
        "# Practical"
      ],
      "metadata": {
        "id": "MfE4pAQkJ-FI"
      }
    },
    {
      "cell_type": "markdown",
      "source": [
        "### 1. Write a Python program that loads a dataset, splits it into training and testing sets, applies Logistic Regression, and prints the model accuracy."
      ],
      "metadata": {
        "id": "119Ns4AZKEfu"
      }
    },
    {
      "cell_type": "code",
      "source": [
        "import numpy as np\n",
        "import pandas as pd\n",
        "from sklearn.model_selection import train_test_split\n",
        "from sklearn.linear_model import LogisticRegression\n",
        "from sklearn.metrics import accuracy_score\n",
        "\n",
        "# Load dataset (for this example, we'll use the Iris dataset)\n",
        "from sklearn.datasets import load_iris\n",
        "data = load_iris()\n",
        "X = data.data\n",
        "y = data.target\n",
        "\n",
        "# Split the dataset into training and testing sets\n",
        "X_train, X_test, y_train, y_test = train_test_split(X, y, test_size=0.3, random_state=42)\n",
        "\n",
        "# Apply Logistic Regression\n",
        "model = LogisticRegression(max_iter=200)\n",
        "model.fit(X_train, y_train)\n",
        "\n",
        "# Make predictions on the test set\n",
        "y_pred = model.predict(X_test)\n",
        "\n",
        "# Print the model accuracy\n",
        "accuracy = accuracy_score(y_test, y_pred)\n",
        "print(f'Model Accuracy: {accuracy:.2f}')\n"
      ],
      "metadata": {
        "colab": {
          "base_uri": "https://localhost:8080/"
        },
        "id": "nCJBf_pdKPYs",
        "outputId": "515df218-9d9a-4d3a-dde1-55ad7712c47a"
      },
      "execution_count": null,
      "outputs": [
        {
          "output_type": "stream",
          "name": "stdout",
          "text": [
            "Model Accuracy: 1.00\n"
          ]
        }
      ]
    },
    {
      "cell_type": "markdown",
      "source": [
        "####2. Write a Python program to apply L1 regularization (Lasso) on a dataset using LogisticRegression(penalty='l1') and print the model accuracy."
      ],
      "metadata": {
        "id": "oqx3XTs_KYu8"
      }
    },
    {
      "cell_type": "code",
      "source": [
        "import numpy as np\n",
        "import pandas as pd\n",
        "from sklearn.model_selection import train_test_split\n",
        "from sklearn.linear_model import LogisticRegression\n",
        "from sklearn.metrics import accuracy_score\n",
        "\n",
        "# Load dataset (for this example, we'll use the Iris dataset)\n",
        "from sklearn.datasets import load_iris\n",
        "data = load_iris()\n",
        "X = data.data\n",
        "y = data.target\n",
        "\n",
        "# Split the dataset into training and testing sets\n",
        "X_train, X_test, y_train, y_test = train_test_split(X, y, test_size=0.3, random_state=42)\n",
        "\n",
        "# Apply Logistic Regression with L1 regularization\n",
        "model = LogisticRegression(penalty='l1', solver='liblinear', max_iter=200)\n",
        "model.fit(X_train, y_train)\n",
        "\n",
        "# Make predictions on the test set\n",
        "y_pred = model.predict(X_test)\n",
        "\n",
        "# Print the model accuracy\n",
        "accuracy = accuracy_score(y_test, y_pred)\n",
        "print(f'Model Accuracy with L1 regularization: {accuracy:.2f}')\n"
      ],
      "metadata": {
        "colab": {
          "base_uri": "https://localhost:8080/"
        },
        "id": "imZRZ283KgJm",
        "outputId": "6607ab06-f530-437e-9356-aab17622f8f0"
      },
      "execution_count": null,
      "outputs": [
        {
          "output_type": "stream",
          "name": "stdout",
          "text": [
            "Model Accuracy with L1 regularization: 1.00\n"
          ]
        }
      ]
    },
    {
      "cell_type": "markdown",
      "source": [
        "###3. Write a Python program to train Logistic Regression with L2 regularization (Ridge) using LogisticRegression(penalty='l2'). Print model accuracy and coefficients."
      ],
      "metadata": {
        "id": "Nw6xIXR9K0ro"
      }
    },
    {
      "cell_type": "code",
      "source": [
        "import numpy as np\n",
        "import pandas as pd\n",
        "from sklearn.model_selection import train_test_split\n",
        "from sklearn.linear_model import LogisticRegression\n",
        "from sklearn.metrics import accuracy_score\n",
        "\n",
        "# Load dataset (for this example, we'll use the Iris dataset)\n",
        "from sklearn.datasets import load_iris\n",
        "data = load_iris()\n",
        "X = data.data\n",
        "y = data.target\n",
        "\n",
        "# Split the dataset into training and testing sets\n",
        "X_train, X_test, y_train, y_test = train_test_split(X, y, test_size=0.3, random_state=42)\n",
        "\n",
        "# Apply Logistic Regression with L2 regularization\n",
        "model = LogisticRegression(penalty='l2', solver='liblinear', max_iter=200)\n",
        "model.fit(X_train, y_train)\n",
        "\n",
        "# Make predictions on the test set\n",
        "y_pred = model.predict(X_test)\n",
        "\n",
        "# Print the model accuracy\n",
        "accuracy = accuracy_score(y_test, y_pred)\n",
        "print(f'Model Accuracy with L2 regularization: {accuracy:.2f}')\n",
        "\n",
        "# Print the model coefficients\n",
        "print('Model Coefficients:')\n",
        "print(model.coef_)\n"
      ],
      "metadata": {
        "colab": {
          "base_uri": "https://localhost:8080/"
        },
        "id": "11ttHJldK8Xp",
        "outputId": "fec844fc-79e9-4c23-a9d7-730c8c2157c2"
      },
      "execution_count": null,
      "outputs": [
        {
          "output_type": "stream",
          "name": "stdout",
          "text": [
            "Model Accuracy with L2 regularization: 0.98\n",
            "Model Coefficients:\n",
            "[[ 0.36479402  1.35499766 -2.09628559 -0.92154751]\n",
            " [ 0.4808915  -1.58463288  0.3937527  -1.09224057]\n",
            " [-1.5286415  -1.43244729  2.3048277   2.08584535]]\n"
          ]
        }
      ]
    },
    {
      "cell_type": "markdown",
      "source": [
        "###4. Write a Python program to train Logistic Regression with Elastic Net Regularization (penalty='elasticnet')."
      ],
      "metadata": {
        "id": "NUQqWZyeLI_a"
      }
    },
    {
      "cell_type": "code",
      "source": [
        "import numpy as np\n",
        "import pandas as pd\n",
        "from sklearn.model_selection import train_test_split\n",
        "from sklearn.linear_model import LogisticRegression\n",
        "from sklearn.metrics import accuracy_score\n",
        "\n",
        "# Load dataset (for this example, we'll use the Iris dataset)\n",
        "from sklearn.datasets import load_iris\n",
        "data = load_iris()\n",
        "X = data.data\n",
        "y = data.target\n",
        "\n",
        "# Split the dataset into training and testing sets\n",
        "X_train, X_test, y_train, y_test = train_test_split(X, y, test_size=0.3, random_state=42)\n",
        "\n",
        "# Apply Logistic Regression with Elastic Net regularization\n",
        "model = LogisticRegression(penalty='elasticnet', solver='saga', l1_ratio=0.5, max_iter=200)\n",
        "model.fit(X_train, y_train)\n",
        "\n",
        "# Make predictions on the test set\n",
        "y_pred = model.predict(X_test)\n",
        "\n",
        "# Print the model accuracy\n",
        "accuracy = accuracy_score(y_test, y_pred)\n",
        "print(f'Model Accuracy with Elastic Net regularization: {accuracy:.2f}')\n",
        "\n",
        "# Print the model coefficients\n",
        "print('Model Coefficients:')\n",
        "print(model.coef_)\n"
      ],
      "metadata": {
        "colab": {
          "base_uri": "https://localhost:8080/"
        },
        "id": "dnGLDLFLLRvV",
        "outputId": "56f631df-efa4-439f-fc3d-ddf06e1c1d52"
      },
      "execution_count": null,
      "outputs": [
        {
          "output_type": "stream",
          "name": "stdout",
          "text": [
            "Model Accuracy with Elastic Net regularization: 1.00\n",
            "Model Coefficients:\n",
            "[[ 0.38694657  1.71275573 -2.35225066 -0.65591941]\n",
            " [ 0.04404239  0.          0.         -0.54156348]\n",
            " [-1.2244199  -1.29287829  2.46962086  1.99017254]]\n"
          ]
        },
        {
          "output_type": "stream",
          "name": "stderr",
          "text": [
            "/usr/local/lib/python3.11/dist-packages/sklearn/linear_model/_sag.py:348: ConvergenceWarning: The max_iter was reached which means the coef_ did not converge\n",
            "  warnings.warn(\n"
          ]
        }
      ]
    },
    {
      "cell_type": "markdown",
      "source": [
        "###5. Write a Python program to train a Logistic Regression model for multiclass classification using multi_class='ovr'."
      ],
      "metadata": {
        "id": "EIPf7R4fLabO"
      }
    },
    {
      "cell_type": "code",
      "source": [
        "import numpy as np\n",
        "import pandas as pd\n",
        "from sklearn.model_selection import train_test_split\n",
        "from sklearn.linear_model import LogisticRegression\n",
        "from sklearn.metrics import accuracy_score\n",
        "\n",
        "# Load dataset (for this example, we'll use the Iris dataset)\n",
        "from sklearn.datasets import load_iris\n",
        "data = load_iris()\n",
        "X = data.data\n",
        "y = data.target\n",
        "\n",
        "# Split the dataset into training and testing sets\n",
        "X_train, X_test, y_train, y_test = train_test_split(X, y, test_size=0.3, random_state=42)\n",
        "\n",
        "# Apply Logistic Regression for multiclass classification with one-vs-rest\n",
        "model = LogisticRegression(multi_class='ovr', solver='liblinear', max_iter=200)\n",
        "model.fit(X_train, y_train)\n",
        "\n",
        "# Make predictions on the test set\n",
        "y_pred = model.predict(X_test)\n",
        "\n",
        "# Print the model accuracy\n",
        "accuracy = accuracy_score(y_test, y_pred)\n",
        "print(f'Model Accuracy with one-vs-rest: {accuracy:.2f}')\n",
        "\n",
        "# Print the model coefficients\n",
        "print('Model Coefficients:')\n",
        "print(model.coef_)\n"
      ],
      "metadata": {
        "colab": {
          "base_uri": "https://localhost:8080/"
        },
        "id": "lq2CMQVILmWT",
        "outputId": "1f6e1964-67e6-49b8-8646-fedd41ded33d"
      },
      "execution_count": null,
      "outputs": [
        {
          "output_type": "stream",
          "name": "stdout",
          "text": [
            "Model Accuracy with one-vs-rest: 0.98\n",
            "Model Coefficients:\n",
            "[[ 0.36479402  1.35499766 -2.09628559 -0.92154751]\n",
            " [ 0.4808915  -1.58463288  0.3937527  -1.09224057]\n",
            " [-1.5286415  -1.43244729  2.3048277   2.08584535]]\n"
          ]
        },
        {
          "output_type": "stream",
          "name": "stderr",
          "text": [
            "/usr/local/lib/python3.11/dist-packages/sklearn/linear_model/_logistic.py:1256: FutureWarning: 'multi_class' was deprecated in version 1.5 and will be removed in 1.7. Use OneVsRestClassifier(LogisticRegression(..)) instead. Leave it to its default value to avoid this warning.\n",
            "  warnings.warn(\n"
          ]
        }
      ]
    },
    {
      "cell_type": "markdown",
      "source": [
        "###6. Write a Python program to apply GridSearchCV to tune the hyperparameters (C and penalty) of Logistic Regression. Print the best parameters and accuracy."
      ],
      "metadata": {
        "id": "K932ujaJL7KN"
      }
    },
    {
      "cell_type": "code",
      "source": [
        "import numpy as np\n",
        "import pandas as pd\n",
        "from sklearn.model_selection import train_test_split, GridSearchCV\n",
        "from sklearn.linear_model import LogisticRegression\n",
        "from sklearn.metrics import accuracy_score\n",
        "\n",
        "# Load dataset (for this example, we'll use the Iris dataset)\n",
        "from sklearn.datasets import load_iris\n",
        "data = load_iris()\n",
        "X = data.data\n",
        "y = data.target\n",
        "\n",
        "# Split the dataset into training and testing sets\n",
        "X_train, X_test, y_train, y_test = train_test_split(X, y, test_size=0.3, random_state=42)\n",
        "\n",
        "# Define the parameter grid for GridSearchCV\n",
        "param_grid = {\n",
        "    'C': [0.01, 0.1, 1, 10, 100],\n",
        "    'penalty': ['l1', 'l2'],\n",
        "    'solver': ['liblinear']  # 'liblinear' supports both l1 and l2 penalties\n",
        "}\n",
        "\n",
        "# Apply Logistic Regression with GridSearchCV to tune hyperparameters\n",
        "model = LogisticRegression(max_iter=200)\n",
        "grid_search = GridSearchCV(estimator=model, param_grid=param_grid, cv=5, n_jobs=-1, scoring='accuracy')\n",
        "grid_search.fit(X_train, y_train)\n",
        "\n",
        "# Get the best parameters and the best score\n",
        "best_params = grid_search.best_params_\n",
        "best_score = grid_search.best_score_\n",
        "\n",
        "# Print the best parameters and the best score\n",
        "print(f'Best Parameters: {best_params}')\n",
        "print(f'Best Cross-Validated Accuracy: {best_score:.2f}')\n",
        "\n",
        "# Evaluate the model with the best parameters on the test set\n",
        "best_model = grid_search.best_estimator_\n",
        "y_pred = best_model.predict(X_test)\n",
        "accuracy = accuracy_score(y_test, y_pred)\n",
        "print(f'Model Accuracy on Test Set: {accuracy:.2f}')\n"
      ],
      "metadata": {
        "colab": {
          "base_uri": "https://localhost:8080/"
        },
        "id": "NF57TtubMwJ1",
        "outputId": "d6c61eac-cec8-4b52-b74e-f9b3a3d24a51"
      },
      "execution_count": null,
      "outputs": [
        {
          "output_type": "stream",
          "name": "stdout",
          "text": [
            "Best Parameters: {'C': 10, 'penalty': 'l2', 'solver': 'liblinear'}\n",
            "Best Cross-Validated Accuracy: 0.95\n",
            "Model Accuracy on Test Set: 1.00\n"
          ]
        }
      ]
    },
    {
      "cell_type": "markdown",
      "source": [
        "###7. Write a Python program to evaluate Logistic Regression using Stratified K-Fold Cross-Validation. Print the average accuracy."
      ],
      "metadata": {
        "id": "24OwtcoXM8MY"
      }
    },
    {
      "cell_type": "code",
      "source": [
        "import numpy as np\n",
        "import pandas as pd\n",
        "from sklearn.model_selection import StratifiedKFold\n",
        "from sklearn.linear_model import LogisticRegression\n",
        "from sklearn.metrics import accuracy_score\n",
        "\n",
        "# Load dataset (for this example, we'll use the Iris dataset)\n",
        "from sklearn.datasets import load_iris\n",
        "data = load_iris()\n",
        "X = data.data\n",
        "y = data.target\n",
        "\n",
        "# Initialize Stratified K-Fold Cross-Validation\n",
        "skf = StratifiedKFold(n_splits=5)\n",
        "\n",
        "# Initialize variables to store results\n",
        "accuracies = []\n",
        "\n",
        "# Loop over each fold\n",
        "for train_index, test_index in skf.split(X, y):\n",
        "    X_train, X_test = X[train_index], X[test_index]\n",
        "    y_train, y_test = y[train_index], y[test_index]\n",
        "\n",
        "    # Apply Logistic Regression\n",
        "    model = LogisticRegression(max_iter=200)\n",
        "    model.fit(X_train, y_train)\n",
        "\n",
        "    # Make predictions on the test set\n",
        "    y_pred = model.predict(X_test)\n",
        "\n",
        "    # Calculate accuracy and store it\n",
        "    accuracy = accuracy_score(y_test, y_pred)\n",
        "    accuracies.append(accuracy)\n",
        "\n",
        "# Calculate and print the average accuracy\n",
        "average_accuracy = np.mean(accuracies)\n",
        "print(f'Average Accuracy with Stratified K-Fold Cross-Validation: {average_accuracy:.2f}')\n"
      ],
      "metadata": {
        "colab": {
          "base_uri": "https://localhost:8080/"
        },
        "id": "nzTe812ONIWg",
        "outputId": "c86bceb4-49ce-4c2c-81df-526105d5e4fa"
      },
      "execution_count": null,
      "outputs": [
        {
          "output_type": "stream",
          "name": "stdout",
          "text": [
            "Average Accuracy with Stratified K-Fold Cross-Validation: 0.97\n"
          ]
        }
      ]
    },
    {
      "cell_type": "markdown",
      "source": [
        "###8. Write a Python program to load a dataset from a CSV file, apply Logistic Regression, and evaluate its accuracy."
      ],
      "metadata": {
        "id": "iSEWCGY0NOyn"
      }
    },
    {
      "cell_type": "code",
      "source": [
        "# prompt: Write a Python program to load a dataset from a CSV file, apply Logistic Regression, and evaluate its accuracy.\n",
        "\n",
        "import pandas as pd\n",
        "from sklearn.model_selection import train_test_split\n",
        "from sklearn.linear_model import LogisticRegression\n",
        "from sklearn.metrics import accuracy_score\n",
        "\n",
        "# Replace 'your_file.csv' with the actual path to your CSV file\n",
        "file_path = 'your_file.csv'\n",
        "\n",
        "try:\n",
        "    # Load the dataset from the CSV file\n",
        "    df = pd.read_csv(file_path)\n",
        "\n",
        "    # Assuming the last column is the target variable\n",
        "    X = df.iloc[:, :-1]  # Features\n",
        "    y = df.iloc[:, -1]    # Target variable\n",
        "\n",
        "    # Split the data into training and testing sets\n",
        "    X_train, X_test, y_train, y_test = train_test_split(X, y, test_size=0.2, random_state=42)\n",
        "\n",
        "    # Create and train the Logistic Regression model\n",
        "    model = LogisticRegression()\n",
        "    model.fit(X_train, y_train)\n",
        "\n",
        "    # Make predictions on the test set\n",
        "    y_pred = model.predict(X_test)\n",
        "\n",
        "    # Evaluate the model's accuracy\n",
        "    accuracy = accuracy_score(y_test, y_pred)\n",
        "    print(f\"Accuracy of the Logistic Regression model: {accuracy}\")\n",
        "\n",
        "except FileNotFoundError:\n",
        "    print(f\"Error: File '{file_path}' not found.\")\n",
        "except Exception as e:\n",
        "    print(f\"An error occurred: {e}\")"
      ],
      "metadata": {
        "colab": {
          "base_uri": "https://localhost:8080/"
        },
        "id": "z4i22Go4Nv1x",
        "outputId": "5011543c-7c16-4916-91aa-bd42dac68179"
      },
      "execution_count": 3,
      "outputs": [
        {
          "output_type": "stream",
          "name": "stdout",
          "text": [
            "Error: File 'your_file.csv' not found.\n"
          ]
        }
      ]
    },
    {
      "cell_type": "markdown",
      "source": [
        "###9.Write a Python program to apply RandomizedSearchCV for tuning hyperparameters (C, penalty, solver) in Logistic Regression. Print the best parameters and accuracy."
      ],
      "metadata": {
        "id": "9cdr0nN8NWol"
      }
    },
    {
      "cell_type": "code",
      "source": [
        "import numpy as np\n",
        "from sklearn.model_selection import RandomizedSearchCV, train_test_split\n",
        "from sklearn.linear_model import LogisticRegression\n",
        "from sklearn.datasets import make_classification\n",
        "from sklearn.metrics import accuracy_score\n",
        "\n",
        "# Generate a synthetic dataset\n",
        "X, y = make_classification(n_samples=1000, n_features=20, random_state=42)\n",
        "\n",
        "# Split the dataset into training and testing sets\n",
        "X_train, X_test, y_train, y_test = train_test_split(X, y, test_size=0.2, random_state=42)\n",
        "\n",
        "# Define the parameter grid\n",
        "param_dist = {\n",
        "    'C': np.logspace(-3, 3, 7),\n",
        "    'penalty': ['l1', 'l2'],\n",
        "    'solver': ['liblinear', 'saga'] # 'lbfgs', 'newton-cg' are incompatible with l1 penalty\n",
        "}\n",
        "\n",
        "# Create a Logistic Regression model\n",
        "logistic_regression = LogisticRegression(random_state=42, max_iter=10000)\n",
        "\n",
        "# Create a RandomizedSearchCV object\n",
        "random_search = RandomizedSearchCV(\n",
        "    logistic_regression,\n",
        "    param_distributions=param_dist,\n",
        "    n_iter=50,  # Number of parameter combinations to try\n",
        "    cv=5,        # Number of cross-validation folds\n",
        "    random_state=42,\n",
        "    n_jobs=-1,  # Use all available CPU cores\n",
        "    verbose=1,\n",
        "    scoring='accuracy'\n",
        ")\n",
        "\n",
        "# Fit the RandomizedSearchCV object to the training data\n",
        "random_search.fit(X_train, y_train)\n",
        "\n",
        "# Get the best parameters and best score\n",
        "best_params = random_search.best_params_\n",
        "best_score = random_search.best_score_\n",
        "\n",
        "# Print the best parameters and best score\n",
        "print(\"Best Parameters:\", best_params)\n",
        "print(\"Best Cross-Validation Accuracy:\", best_score)\n",
        "\n",
        "# Evaluate the model on the test set using the best parameters\n",
        "best_model = random_search.best_estimator_\n",
        "y_pred = best_model.predict(X_test)\n",
        "test_accuracy = accuracy_score(y_test, y_pred)\n",
        "\n",
        "# Print the test accuracy\n",
        "print(\"Test Accuracy:\", test_accuracy)"
      ],
      "metadata": {
        "colab": {
          "base_uri": "https://localhost:8080/"
        },
        "id": "stTqt8alOywo",
        "outputId": "9425cd05-591e-4313-9bd5-bbeee133c90c"
      },
      "execution_count": 6,
      "outputs": [
        {
          "output_type": "stream",
          "name": "stdout",
          "text": [
            "Fitting 5 folds for each of 28 candidates, totalling 140 fits\n"
          ]
        },
        {
          "output_type": "stream",
          "name": "stderr",
          "text": [
            "/usr/local/lib/python3.11/dist-packages/sklearn/model_selection/_search.py:317: UserWarning: The total space of parameters 28 is smaller than n_iter=50. Running 28 iterations. For exhaustive searches, use GridSearchCV.\n",
            "  warnings.warn(\n"
          ]
        },
        {
          "output_type": "stream",
          "name": "stdout",
          "text": [
            "Best Parameters: {'solver': 'liblinear', 'penalty': 'l1', 'C': 0.1}\n",
            "Best Cross-Validation Accuracy: 0.875\n",
            "Test Accuracy: 0.87\n"
          ]
        }
      ]
    },
    {
      "cell_type": "markdown",
      "source": [
        "###10. Write a Python program to implement One-vs-One (OvO) Multiclass Logistic Regression and print accuracy."
      ],
      "metadata": {
        "id": "x9HtHhm5PSA5"
      }
    },
    {
      "cell_type": "code",
      "source": [
        "import numpy as np\n",
        "from sklearn.datasets import make_classification\n",
        "from sklearn.model_selection import train_test_split\n",
        "from sklearn.linear_model import LogisticRegression\n",
        "from sklearn.metrics import accuracy_score\n",
        "from itertools import combinations\n",
        "\n",
        "class OneVsOneLogisticRegression:\n",
        "    def __init__(self, random_state=None):\n",
        "        self.classifiers = {}\n",
        "        self.classes = None\n",
        "        self.random_state = random_state\n",
        "\n",
        "    def fit(self, X, y):\n",
        "        self.classes = np.unique(y)\n",
        "        for class1, class2 in combinations(self.classes, 2):\n",
        "            binary_mask = np.logical_or(y == class1, y == class2)\n",
        "            X_binary = X[binary_mask]\n",
        "            y_binary = y[binary_mask]\n",
        "\n",
        "            # Convert labels to binary (0 and 1)\n",
        "            y_binary = np.where(y_binary == class1, 0, 1)\n",
        "\n",
        "            classifier = LogisticRegression(random_state=self.random_state)\n",
        "            classifier.fit(X_binary, y_binary)\n",
        "            self.classifiers[(class1, class2)] = classifier\n",
        "\n",
        "    def predict(self, X):\n",
        "        if self.classes is None:\n",
        "            raise ValueError(\"Model not fitted yet. Call fit() first.\")\n",
        "\n",
        "        num_samples = X.shape[0]\n",
        "        votes = np.zeros((num_samples, len(self.classes)))\n",
        "\n",
        "        for (class1, class2), classifier in self.classifiers.items():\n",
        "            predictions = classifier.predict(X)\n",
        "            for i, prediction in enumerate(predictions):\n",
        "                if prediction == 0:\n",
        "                    votes[i, np.where(self.classes == class1)[0][0]] += 1\n",
        "                else:\n",
        "                    votes[i, np.where(self.classes == class2)[0][0]] += 1\n",
        "\n",
        "        return self.classes[np.argmax(votes, axis=1)]\n",
        "\n",
        "# Example usage:\n",
        "X, y = make_classification(n_samples=1000, n_features=20, n_informative=15, n_classes=4, random_state=42)\n",
        "X_train, X_test, y_train, y_test = train_test_split(X, y, test_size=0.2, random_state=42)\n",
        "\n",
        "ovo_model = OneVsOneLogisticRegression(random_state=42)\n",
        "ovo_model.fit(X_train, y_train)\n",
        "y_pred = ovo_model.predict(X_test)\n",
        "\n",
        "accuracy = accuracy_score(y_test, y_pred)\n",
        "print(\"One-vs-One Logistic Regression Accuracy:\", accuracy)\n",
        "\n",
        "# Compare with sklearn's OvR (One vs Rest) Logistic Regression\n",
        "from sklearn.linear_model import LogisticRegression\n",
        "from sklearn.multiclass import OneVsRestClassifier\n",
        "\n",
        "ovr_model = OneVsRestClassifier(LogisticRegression(random_state=42))\n",
        "ovr_model.fit(X_train, y_train)\n",
        "y_pred_ovr = ovr_model.predict(X_test)\n",
        "accuracy_ovr = accuracy_score(y_test, y_pred_ovr)\n",
        "print(\"One-vs-Rest Logistic Regression Accuracy (sklearn):\", accuracy_ovr)"
      ],
      "metadata": {
        "colab": {
          "base_uri": "https://localhost:8080/"
        },
        "id": "4gsw45z4PdNc",
        "outputId": "db5797d8-1175-4a2d-9104-da02412b5185"
      },
      "execution_count": 7,
      "outputs": [
        {
          "output_type": "stream",
          "name": "stdout",
          "text": [
            "One-vs-One Logistic Regression Accuracy: 0.635\n",
            "One-vs-Rest Logistic Regression Accuracy (sklearn): 0.615\n"
          ]
        }
      ]
    },
    {
      "cell_type": "markdown",
      "source": [
        "###11. Write a Python program to train a Logistic Regression model and visualize the confusion matrix for binary classification."
      ],
      "metadata": {
        "id": "PSVGLzmePpez"
      }
    },
    {
      "cell_type": "code",
      "source": [
        "import numpy as np\n",
        "import matplotlib.pyplot as plt\n",
        "import seaborn as sns\n",
        "from sklearn.model_selection import train_test_split\n",
        "from sklearn.linear_model import LogisticRegression\n",
        "from sklearn.metrics import confusion_matrix, accuracy_score\n",
        "from sklearn.datasets import make_classification\n",
        "\n",
        "# Generate a synthetic binary classification dataset\n",
        "X, y = make_classification(n_samples=1000, n_features=2, n_informative=2,\n",
        "                           n_redundant=0, n_classes=2, random_state=42)\n",
        "\n",
        "# Split the dataset into training and testing sets\n",
        "X_train, X_test, y_train, y_test = train_test_split(X, y, test_size=0.2, random_state=42)\n",
        "\n",
        "# Create and train a Logistic Regression model\n",
        "logistic_regression = LogisticRegression(random_state=42)\n",
        "logistic_regression.fit(X_train, y_train)\n",
        "\n",
        "# Make predictions on the test set\n",
        "y_pred = logistic_regression.predict(X_test)\n",
        "\n",
        "# Calculate the confusion matrix\n",
        "cm = confusion_matrix(y_test, y_pred)\n",
        "\n",
        "# Calculate the accuracy\n",
        "accuracy = accuracy_score(y_test, y_pred)\n",
        "print(f\"Accuracy: {accuracy:.4f}\")\n",
        "\n",
        "# Visualize the confusion matrix using seaborn and matplotlib\n",
        "plt.figure(figsize=(8, 6))\n",
        "sns.heatmap(cm, annot=True, fmt='d', cmap='Blues',\n",
        "            xticklabels=['Negative', 'Positive'],\n",
        "            yticklabels=['Negative', 'Positive'])\n",
        "plt.xlabel('Predicted Labels')\n",
        "plt.ylabel('True Labels')\n",
        "plt.title('Confusion Matrix')\n",
        "plt.show()"
      ],
      "metadata": {
        "colab": {
          "base_uri": "https://localhost:8080/",
          "height": 581
        },
        "id": "ga10qg26QLUj",
        "outputId": "462cfbe8-c125-46f4-e2a3-1d0c4df76032"
      },
      "execution_count": 8,
      "outputs": [
        {
          "output_type": "stream",
          "name": "stdout",
          "text": [
            "Accuracy: 0.8800\n"
          ]
        },
        {
          "output_type": "display_data",
          "data": {
            "text/plain": [
              "<Figure size 800x600 with 2 Axes>"
            ],
            "image/png": "[encoded data removed]"
          },
          "metadata": {}
        }
      ]
    },
    {
      "cell_type": "markdown",
      "source": [
        "###12. Write a Python program to train a Logistic Regression model and evaluate its performance using Precision, Recall, and F1-Score."
      ],
      "metadata": {
        "id": "4envQBbgQOq-"
      }
    },
    {
      "cell_type": "code",
      "source": [
        "import numpy as np\n",
        "from sklearn.model_selection import train_test_split\n",
        "from sklearn.linear_model import LogisticRegression\n",
        "from sklearn.metrics import precision_score, recall_score, f1_score\n",
        "from sklearn.datasets import make_classification\n",
        "\n",
        "# Generate a synthetic binary classification dataset\n",
        "X, y = make_classification(n_samples=1000, n_features=20, random_state=42)\n",
        "\n",
        "# Split the dataset into training and testing sets\n",
        "X_train, X_test, y_train, y_test = train_test_split(X, y, test_size=0.2, random_state=42)\n",
        "\n",
        "# Create and train a Logistic Regression model\n",
        "logistic_regression = LogisticRegression(random_state=42, max_iter=1000)  # Increase max_iter if needed\n",
        "logistic_regression.fit(X_train, y_train)\n",
        "\n",
        "# Make predictions on the test set\n",
        "y_pred = logistic_regression.predict(X_test)\n",
        "\n",
        "# Calculate Precision, Recall, and F1-Score\n",
        "precision = precision_score(y_test, y_pred)\n",
        "recall = recall_score(y_test, y_pred)\n",
        "f1 = f1_score(y_test, y_pred)\n",
        "\n",
        "# Print the evaluation metrics\n",
        "print(f\"Precision: {precision:.4f}\")\n",
        "print(f\"Recall: {recall:.4f}\")\n",
        "print(f\"F1-Score: {f1:.4f}\")"
      ],
      "metadata": {
        "colab": {
          "base_uri": "https://localhost:8080/"
        },
        "id": "t03J9En8QW0U",
        "outputId": "65f395be-adf2-4815-9fa1-8464df46e8db"
      },
      "execution_count": 9,
      "outputs": [
        {
          "output_type": "stream",
          "name": "stdout",
          "text": [
            "Precision: 0.9149\n",
            "Recall: 0.8037\n",
            "F1-Score: 0.8557\n"
          ]
        }
      ]
    },
    {
      "cell_type": "markdown",
      "source": [
        "###13. Write a Python program to train a Logistic Regression model on imbalanced data and apply class weights to improve model performance."
      ],
      "metadata": {
        "id": "eVjs-0iUQgwX"
      }
    },
    {
      "cell_type": "code",
      "source": [
        "import numpy as np\n",
        "from sklearn.model_selection import train_test_split\n",
        "from sklearn.linear_model import LogisticRegression\n",
        "from sklearn.metrics import classification_report\n",
        "from sklearn.datasets import make_classification\n",
        "\n",
        "# Generate an imbalanced dataset\n",
        "X, y = make_classification(n_samples=1000, n_features=20, n_informative=15,\n",
        "                           n_redundant=5, random_state=42, weights=[0.9, 0.1])  # 90% class 0, 10% class 1\n",
        "\n",
        "# Split the dataset into training and testing sets\n",
        "X_train, X_test, y_train, y_test = train_test_split(X, y, test_size=0.2, random_state=42)\n",
        "\n",
        "# Train a Logistic Regression model without class weights\n",
        "logistic_regression_no_weights = LogisticRegression(random_state=42, max_iter=1000)\n",
        "logistic_regression_no_weights.fit(X_train, y_train)\n",
        "y_pred_no_weights = logistic_regression_no_weights.predict(X_test)\n",
        "\n",
        "print(\"Logistic Regression without class weights:\")\n",
        "print(classification_report(y_test, y_pred_no_weights))\n",
        "\n",
        "# Train a Logistic Regression model with class weights\n",
        "logistic_regression_weights = LogisticRegression(random_state=42, max_iter=1000, class_weight='balanced')\n",
        "logistic_regression_weights.fit(X_train, y_train)\n",
        "y_pred_weights = logistic_regression_weights.predict(X_test)\n",
        "\n",
        "print(\"\\nLogistic Regression with class weights:\")\n",
        "print(classification_report(y_test, y_pred_weights))"
      ],
      "metadata": {
        "colab": {
          "base_uri": "https://localhost:8080/"
        },
        "id": "P2Dckb9MQ4Of",
        "outputId": "a503cbbd-48bf-41ca-8770-d37ebce1bae1"
      },
      "execution_count": 10,
      "outputs": [
        {
          "output_type": "stream",
          "name": "stdout",
          "text": [
            "Logistic Regression without class weights:\n",
            "              precision    recall  f1-score   support\n",
            "\n",
            "           0       0.95      0.98      0.97       182\n",
            "           1       0.75      0.50      0.60        18\n",
            "\n",
            "    accuracy                           0.94       200\n",
            "   macro avg       0.85      0.74      0.78       200\n",
            "weighted avg       0.93      0.94      0.93       200\n",
            "\n",
            "\n",
            "Logistic Regression with class weights:\n",
            "              precision    recall  f1-score   support\n",
            "\n",
            "           0       0.98      0.82      0.89       182\n",
            "           1       0.31      0.83      0.45        18\n",
            "\n",
            "    accuracy                           0.82       200\n",
            "   macro avg       0.65      0.83      0.67       200\n",
            "weighted avg       0.92      0.82      0.85       200\n",
            "\n"
          ]
        }
      ]
    },
    {
      "cell_type": "markdown",
      "source": [
        "###14. Write a Python program to train Logistic Regression on the Titanic dataset, handle missing values, and evaluate performance."
      ],
      "metadata": {
        "id": "umwtpX5QRHO6"
      }
    },
    {
      "cell_type": "code",
      "source": [
        "import pandas as pd\n",
        "from sklearn.model_selection import train_test_split\n",
        "from sklearn.linear_model import LogisticRegression\n",
        "from sklearn.metrics import accuracy_score\n",
        "from sklearn.impute import SimpleImputer\n",
        "\n",
        "# Load the Titanic dataset\n",
        "data = pd.read_csv('path_to_titanic_dataset.csv')\n",
        "\n",
        "# Handle missing values\n",
        "imputer = SimpleImputer(strategy='mean')\n",
        "data['Age'] = imputer.fit_transform(data[['Age']])\n",
        "\n",
        "# Drop rows with missing values in the 'Embarked' column\n",
        "data.dropna(subset=['Embarked'], inplace=True)\n",
        "\n",
        "# Convert categorical features to numeric\n",
        "data['Sex'] = data['Sex'].map({'male': 0, 'female': 1})\n",
        "data['Embarked'] = data['Embarked'].map({'C': 0, 'Q': 1, 'S': 2})\n",
        "\n",
        "# Select features and target variable\n",
        "features = ['Pclass', 'Sex', 'Age', 'SibSp', 'Parch', 'Fare', 'Embarked']\n",
        "X = data[features]\n",
        "y = data['Survived']\n",
        "\n",
        "# Split dataset into training and testing sets\n",
        "X_train, X_test, y_train, y_test = train_test_split(X, y, test_size=0.3, random_state=42)\n",
        "\n",
        "# Train Logistic Regression model\n",
        "model = LogisticRegression(max_iter=1000)\n",
        "model.fit(X_train, y_train)\n",
        "\n",
        "# Make predictions\n",
        "y_pred = model.predict(X_test)\n",
        "\n",
        "# Evaluate performance\n",
        "accuracy = accuracy_score(y_test, y_pred)\n",
        "print(f'Accuracy: {accuracy:.2f}')\n"
      ],
      "metadata": {
        "colab": {
          "base_uri": "https://localhost:8080/"
        },
        "id": "laKx5rdZdIR4",
        "outputId": "566ff91c-fb2f-45e5-b249-980122268ecd"
      },
      "execution_count": 1,
      "outputs": [
        {
          "output_type": "stream",
          "name": "stdout",
          "text": [
            "Accuracy: 0.79\n"
          ]
        }
      ]
    },
    {
      "cell_type": "markdown",
      "source": [
        "###15. Write a Python program to apply feature scaling (Standardization) before training a Logistic Regression model. Evaluate its accuracy and compare results with and without scaling."
      ],
      "metadata": {
        "id": "DIgb0kGaSQTb"
      }
    },
    {
      "cell_type": "code",
      "source": [
        "import numpy as np\n",
        "from sklearn.model_selection import train_test_split\n",
        "from sklearn.linear_model import LogisticRegression\n",
        "from sklearn.metrics import accuracy_score\n",
        "from sklearn.preprocessing import StandardScaler\n",
        "from sklearn.datasets import make_classification\n",
        "\n",
        "# Generate a synthetic dataset\n",
        "X, y = make_classification(n_samples=1000, n_features=20, random_state=42)\n",
        "\n",
        "# Split the dataset into training and testing sets\n",
        "X_train, X_test, y_train, y_test = train_test_split(X, y, test_size=0.2, random_state=42)\n",
        "\n",
        "# Logistic Regression without scaling\n",
        "logistic_regression_no_scaling = LogisticRegression(random_state=42, max_iter=1000)\n",
        "logistic_regression_no_scaling.fit(X_train, y_train)\n",
        "y_pred_no_scaling = logistic_regression_no_scaling.predict(X_test)\n",
        "accuracy_no_scaling = accuracy_score(y_test, y_pred_no_scaling)\n",
        "\n",
        "print(f\"Accuracy without scaling: {accuracy_no_scaling:.4f}\")\n",
        "\n",
        "# Apply feature scaling (Standardization)\n",
        "scaler = StandardScaler()\n",
        "X_train_scaled = scaler.fit_transform(X_train)\n",
        "X_test_scaled = scaler.transform(X_test)\n",
        "\n",
        "# Logistic Regression with scaling\n",
        "logistic_regression_scaled = LogisticRegression(random_state=42, max_iter=1000)\n",
        "logistic_regression_scaled.fit(X_train_scaled, y_train)\n",
        "y_pred_scaled = logistic_regression_scaled.predict(X_test_scaled)\n",
        "accuracy_scaled = accuracy_score(y_test, y_pred_scaled)\n",
        "\n",
        "print(f\"Accuracy with scaling: {accuracy_scaled:.4f}\")\n",
        "\n",
        "#Compare the results.\n",
        "if accuracy_scaled > accuracy_no_scaling:\n",
        "    print(\"Scaling improved accuracy.\")\n",
        "elif accuracy_scaled < accuracy_no_scaling:\n",
        "    print(\"Scaling decreased accuracy.\")\n",
        "else:\n",
        "    print(\"Scaling didn't change accuracy.\")"
      ],
      "metadata": {
        "colab": {
          "base_uri": "https://localhost:8080/"
        },
        "id": "nQmravAcSXnu",
        "outputId": "18c963a0-b694-460e-eb61-55a9082759dd"
      },
      "execution_count": 2,
      "outputs": [
        {
          "output_type": "stream",
          "name": "stdout",
          "text": [
            "Accuracy without scaling: 0.8550\n",
            "Accuracy with scaling: 0.8550\n",
            "Scaling didn't change accuracy.\n"
          ]
        }
      ]
    },
    {
      "cell_type": "markdown",
      "source": [
        "###16. Write a Python program to train Logistic Regression and evaluate its performance using ROC-AUC score."
      ],
      "metadata": {
        "id": "Q-mI1HjrShlE"
      }
    },
    {
      "cell_type": "code",
      "source": [
        "import numpy as np\n",
        "from sklearn.model_selection import train_test_split\n",
        "from sklearn.linear_model import LogisticRegression\n",
        "from sklearn.metrics import roc_auc_score\n",
        "from sklearn.datasets import make_classification\n",
        "\n",
        "# Generate a synthetic binary classification dataset\n",
        "X, y = make_classification(n_samples=1000, n_features=20, random_state=42)\n",
        "\n",
        "# Split the dataset into training and testing sets\n",
        "X_train, X_test, y_train, y_test = train_test_split(X, y, test_size=0.2, random_state=42)\n",
        "\n",
        "# Create and train a Logistic Regression model\n",
        "logistic_regression = LogisticRegression(random_state=42, max_iter=1000)\n",
        "logistic_regression.fit(X_train, y_train)\n",
        "\n",
        "# Get predicted probabilities for the positive class\n",
        "y_prob = logistic_regression.predict_proba(X_test)[:, 1]\n",
        "\n",
        "# Calculate ROC-AUC score\n",
        "roc_auc = roc_auc_score(y_test, y_prob)\n",
        "\n",
        "# Print the ROC-AUC score\n",
        "print(f\"ROC-AUC Score: {roc_auc:.4f}\")"
      ],
      "metadata": {
        "colab": {
          "base_uri": "https://localhost:8080/"
        },
        "id": "nWN87l8PSnh9",
        "outputId": "ffec4f45-c75c-415a-be18-252de6d518c7"
      },
      "execution_count": 3,
      "outputs": [
        {
          "output_type": "stream",
          "name": "stdout",
          "text": [
            "ROC-AUC Score: 0.9216\n"
          ]
        }
      ]
    },
    {
      "cell_type": "markdown",
      "source": [
        "###17. Write a Python program to train Logistic Regression using a custom learning rate (C=0.5) and evaluate accuracy."
      ],
      "metadata": {
        "id": "vjUYxKurSt3n"
      }
    },
    {
      "cell_type": "code",
      "source": [
        "import numpy as np\n",
        "from sklearn.model_selection import train_test_split\n",
        "from sklearn.linear_model import LogisticRegression\n",
        "from sklearn.metrics import accuracy_score\n",
        "from sklearn.datasets import make_classification\n",
        "\n",
        "# Generate a synthetic binary classification dataset\n",
        "X, y = make_classification(n_samples=1000, n_features=20, random_state=42)\n",
        "\n",
        "# Split the dataset into training and testing sets\n",
        "X_train, X_test, y_train, y_test = train_test_split(X, y, test_size=0.2, random_state=42)\n",
        "\n",
        "# Create and train a Logistic Regression model with custom C (inverse of regularization strength)\n",
        "logistic_regression = LogisticRegression(C=0.5, random_state=42, max_iter=1000)\n",
        "logistic_regression.fit(X_train, y_train)\n",
        "\n",
        "# Make predictions on the test set\n",
        "y_pred = logistic_regression.predict(X_test)\n",
        "\n",
        "# Calculate and print the accuracy\n",
        "accuracy = accuracy_score(y_test, y_pred)\n",
        "print(f\"Accuracy with C=0.5: {accuracy:.4f}\")\n",
        "\n",
        "#Demonstration of how C works.\n",
        "logistic_regression_default = LogisticRegression(random_state=42, max_iter=1000)\n",
        "logistic_regression_default.fit(X_train, y_train)\n",
        "y_pred_default = logistic_regression_default.predict(X_test)\n",
        "accuracy_default = accuracy_score(y_test, y_pred_default)\n",
        "print(f\"Accuracy with default C=1.0: {accuracy_default:.4f}\")\n",
        "\n",
        "logistic_regression_very_strong = LogisticRegression(C=1000.0, random_state=42, max_iter=1000)\n",
        "logistic_regression_very_strong.fit(X_train, y_train)\n",
        "y_pred_very_strong = logistic_regression_very_strong.predict(X_test)\n",
        "accuracy_very_strong = accuracy_score(y_test, y_pred_very_strong)\n",
        "print(f\"Accuracy with C=1000.0: {accuracy_very_strong:.4f}\")\n",
        "\n",
        "logistic_regression_very_weak = LogisticRegression(C=0.001, random_state=42, max_iter=1000)\n",
        "logistic_regression_very_weak.fit(X_train, y_train)\n",
        "y_pred_very_weak = logistic_regression_very_weak.predict(X_test)\n",
        "accuracy_very_weak = accuracy_score(y_test, y_pred_very_weak)\n",
        "print(f\"Accuracy with C=0.001: {accuracy_very_weak:.4f}\")"
      ],
      "metadata": {
        "colab": {
          "base_uri": "https://localhost:8080/"
        },
        "id": "7yUR8zwDS016",
        "outputId": "389f41c3-561f-43bb-ac7f-4702b1399ba8"
      },
      "execution_count": 4,
      "outputs": [
        {
          "output_type": "stream",
          "name": "stdout",
          "text": [
            "Accuracy with C=0.5: 0.8550\n",
            "Accuracy with default C=1.0: 0.8550\n",
            "Accuracy with C=1000.0: 0.8550\n",
            "Accuracy with C=0.001: 0.8300\n"
          ]
        }
      ]
    },
    {
      "cell_type": "markdown",
      "source": [
        "###18. Write a Python program to train Logistic Regression and identify important features based on model coefficients."
      ],
      "metadata": {
        "id": "02ZnlsQYTCNe"
      }
    },
    {
      "cell_type": "code",
      "source": [
        "import numpy as np\n",
        "import pandas as pd\n",
        "from sklearn.model_selection import train_test_split\n",
        "from sklearn.linear_model import LogisticRegression\n",
        "from sklearn.datasets import make_classification\n",
        "\n",
        "# Generate a synthetic dataset with feature names\n",
        "X, y = make_classification(n_samples=1000, n_features=10, random_state=42, n_informative=5)\n",
        "feature_names = [f\"feature_{i}\" for i in range(X.shape[1])]\n",
        "X_df = pd.DataFrame(X, columns=feature_names)\n",
        "\n",
        "# Split the dataset into training and testing sets\n",
        "X_train, X_test, y_train, y_test = train_test_split(X_df, y, test_size=0.2, random_state=42)\n",
        "\n",
        "# Create and train a Logistic Regression model\n",
        "logistic_regression = LogisticRegression(random_state=42, max_iter=1000)\n",
        "logistic_regression.fit(X_train, y_train)\n",
        "\n",
        "# Get feature coefficients\n",
        "coefficients = logistic_regression.coef_[0]\n",
        "\n",
        "# Create a DataFrame to display feature importance\n",
        "feature_importance = pd.DataFrame({'Feature': feature_names, 'Coefficient': coefficients})\n",
        "\n",
        "# Sort features by absolute coefficient value (magnitude)\n",
        "feature_importance['Absolute Coefficient'] = np.abs(feature_importance['Coefficient'])\n",
        "feature_importance = feature_importance.sort_values(by='Absolute Coefficient', ascending=False)\n",
        "\n",
        "# Print the feature importance\n",
        "print(\"Feature Importance:\")\n",
        "print(feature_importance[['Feature', 'Coefficient']])\n",
        "\n",
        "#Optional: Print the most influential features.\n",
        "print(\"\\nMost influential features:\")\n",
        "print(feature_importance[['Feature', 'Coefficient']].head(5)) #display top 5."
      ],
      "metadata": {
        "colab": {
          "base_uri": "https://localhost:8080/"
        },
        "id": "AkEZFPcYTLO4",
        "outputId": "01884ec9-e816-40a2-ae8b-0fd95cf0a76d"
      },
      "execution_count": 5,
      "outputs": [
        {
          "output_type": "stream",
          "name": "stdout",
          "text": [
            "Feature Importance:\n",
            "     Feature  Coefficient\n",
            "3  feature_3     0.818078\n",
            "0  feature_0     0.697105\n",
            "5  feature_5    -0.679813\n",
            "4  feature_4    -0.632422\n",
            "1  feature_1    -0.253707\n",
            "7  feature_7    -0.103886\n",
            "6  feature_6    -0.080110\n",
            "8  feature_8     0.047178\n",
            "2  feature_2     0.046884\n",
            "9  feature_9    -0.025688\n",
            "\n",
            "Most influential features:\n",
            "     Feature  Coefficient\n",
            "3  feature_3     0.818078\n",
            "0  feature_0     0.697105\n",
            "5  feature_5    -0.679813\n",
            "4  feature_4    -0.632422\n",
            "1  feature_1    -0.253707\n"
          ]
        }
      ]
    },
    {
      "cell_type": "markdown",
      "source": [
        "###19. Write a Python program to train Logistic Regression and evaluate its performance using Cohen's Kappa Score."
      ],
      "metadata": {
        "id": "SJGUBKnKVavm"
      }
    },
    {
      "cell_type": "code",
      "source": [
        "import numpy as np\n",
        "from sklearn.model_selection import train_test_split\n",
        "from sklearn.linear_model import LogisticRegression\n",
        "from sklearn.metrics import cohen_kappa_score\n",
        "from sklearn.datasets import make_classification\n",
        "\n",
        "# Generate a synthetic binary classification dataset\n",
        "X, y = make_classification(n_samples=1000, n_features=20, random_state=42)\n",
        "\n",
        "# Split the dataset into training and testing sets\n",
        "X_train, X_test, y_train, y_test = train_test_split(X, y, test_size=0.2, random_state=42)\n",
        "\n",
        "# Create and train a Logistic Regression model\n",
        "logistic_regression = LogisticRegression(random_state=42, max_iter=1000)\n",
        "logistic_regression.fit(X_train, y_train)\n",
        "\n",
        "# Make predictions on the test set\n",
        "y_pred = logistic_regression.predict(X_test)\n",
        "\n",
        "# Calculate Cohen's Kappa score\n",
        "kappa = cohen_kappa_score(y_test, y_pred)\n",
        "\n",
        "# Print the Cohen's Kappa score\n",
        "print(f\"Cohen's Kappa Score: {kappa:.4f}\")"
      ],
      "metadata": {
        "colab": {
          "base_uri": "https://localhost:8080/"
        },
        "id": "aJ0vWvwrVlOc",
        "outputId": "c3044bee-3ab8-4af6-df42-fa67959858b3"
      },
      "execution_count": 6,
      "outputs": [
        {
          "output_type": "stream",
          "name": "stdout",
          "text": [
            "Cohen's Kappa Score: 0.7112\n"
          ]
        }
      ]
    },
    {
      "cell_type": "markdown",
      "source": [
        "###20. Write a Python program to train Logistic Regression and visualize the Precision-Recall Curve for binary classificatio."
      ],
      "metadata": {
        "id": "HAShXKUsVrkE"
      }
    },
    {
      "cell_type": "code",
      "source": [
        "import numpy as np\n",
        "import matplotlib.pyplot as plt\n",
        "from sklearn.model_selection import train_test_split\n",
        "from sklearn.linear_model import LogisticRegression\n",
        "from sklearn.metrics import precision_recall_curve, auc\n",
        "from sklearn.datasets import make_classification\n",
        "\n",
        "# Generate a synthetic binary classification dataset\n",
        "X, y = make_classification(n_samples=1000, n_features=20, random_state=42)\n",
        "\n",
        "# Split the dataset into training and testing sets\n",
        "X_train, X_test, y_train, y_test = train_test_split(X, y, test_size=0.2, random_state=42)\n",
        "\n",
        "# Create and train a Logistic Regression model\n",
        "logistic_regression = LogisticRegression(random_state=42, max_iter=1000)\n",
        "logistic_regression.fit(X_train, y_train)\n",
        "\n",
        "# Get predicted probabilities for the positive class\n",
        "y_prob = logistic_regression.predict_proba(X_test)[:, 1]\n",
        "\n",
        "# Calculate precision, recall, and thresholds\n",
        "precision, recall, thresholds = precision_recall_curve(y_test, y_prob)\n",
        "\n",
        "# Calculate the area under the Precision-Recall curve (AUC-PR)\n",
        "auc_pr = auc(recall, precision)\n",
        "\n",
        "# Plot the Precision-Recall curve\n",
        "plt.figure(figsize=(8, 6))\n",
        "plt.plot(recall, precision, label=f'AUC-PR = {auc_pr:.2f}')\n",
        "plt.xlabel('Recall')\n",
        "plt.ylabel('Precision')\n",
        "plt.title('Precision-Recall Curve')\n",
        "plt.legend(loc='lower left')\n",
        "plt.grid(True)\n",
        "plt.show()"
      ],
      "metadata": {
        "colab": {
          "base_uri": "https://localhost:8080/",
          "height": 564
        },
        "id": "I5WHSNKpV0X6",
        "outputId": "b7f335f1-0482-41fa-ddc3-37f926506fc1"
      },
      "execution_count": 7,
      "outputs": [
        {
          "output_type": "display_data",
          "data": {
            "text/plain": [
              "<Figure size 800x600 with 1 Axes>"
            ],
            "image/png": "[encoded data removed]"
          },
          "metadata": {}
        }
      ]
    },
    {
      "cell_type": "markdown",
      "source": [
        "###21. Write a Python program to train Logistic Regression with different solvers (liblinear, saga, lbfgs) and compare their accuracy."
      ],
      "metadata": {
        "id": "gkS781uZV8nI"
      }
    },
    {
      "cell_type": "code",
      "source": [
        "import numpy as np\n",
        "from sklearn.model_selection import train_test_split\n",
        "from sklearn.linear_model import LogisticRegression\n",
        "from sklearn.metrics import accuracy_score\n",
        "from sklearn.datasets import make_classification\n",
        "\n",
        "# Generate a synthetic binary classification dataset\n",
        "X, y = make_classification(n_samples=1000, n_features=20, random_state=42)\n",
        "\n",
        "# Split the dataset into training and testing sets\n",
        "X_train, X_test, y_train, y_test = train_test_split(X, y, test_size=0.2, random_state=42)\n",
        "\n",
        "# Solvers to try\n",
        "solvers = ['liblinear', 'saga', 'lbfgs']\n",
        "\n",
        "for solver in solvers:\n",
        "    try:\n",
        "        # Create and train a Logistic Regression model with the current solver\n",
        "        logistic_regression = LogisticRegression(solver=solver, random_state=42, max_iter=1000)\n",
        "        logistic_regression.fit(X_train, y_train)\n",
        "\n",
        "        # Make predictions on the test set\n",
        "        y_pred = logistic_regression.predict(X_test)\n",
        "\n",
        "        # Calculate and print the accuracy\n",
        "        accuracy = accuracy_score(y_test, y_pred)\n",
        "        print(f\"Accuracy with solver '{solver}': {accuracy:.4f}\")\n",
        "\n",
        "    except Exception as e:\n",
        "        print(f\"Solver '{solver}' encountered an error: {e}\")\n",
        "\n",
        "#Demonstration of how penalties affect solvers.\n",
        "print(\"\\nDemonstration of penalty affect on solvers:\")\n",
        "\n",
        "try:\n",
        "    logistic_regression_l1_liblinear = LogisticRegression(solver='liblinear', penalty='l1', random_state=42, max_iter=1000)\n",
        "    logistic_regression_l1_liblinear.fit(X_train, y_train)\n",
        "    y_pred_l1_liblinear = logistic_regression_l1_liblinear.predict(X_test)\n",
        "    accuracy_l1_liblinear = accuracy_score(y_test, y_pred_l1_liblinear)\n",
        "    print(f\"Accuracy with solver 'liblinear' and penalty 'l1': {accuracy_l1_liblinear:.4f}\")\n",
        "except Exception as e:\n",
        "    print(f\"Solver 'liblinear' with penalty 'l1' encountered an error: {e}\")\n",
        "\n",
        "try:\n",
        "    logistic_regression_l1_saga = LogisticRegression(solver='saga', penalty='l1', random_state=42, max_iter=1000)\n",
        "    logistic_regression_l1_saga.fit(X_train, y_train)\n",
        "    y_pred_l1_saga = logistic_regression_l1_saga.predict(X_test)\n",
        "    accuracy_l1_saga = accuracy_score(y_test, y_pred_l1_saga)\n",
        "    print(f\"Accuracy with solver 'saga' and penalty 'l1': {accuracy_l1_saga:.4f}\")\n",
        "except Exception as e:\n",
        "    print(f\"Solver 'saga' with penalty 'l1' encountered an error: {e}\")\n",
        "\n",
        "try:\n",
        "    logistic_regression_l1_lbfgs = LogisticRegression(solver='lbfgs', penalty='l1', random_state=42, max_iter=1000)\n",
        "    logistic_regression_l1_lbfgs.fit(X_train, y_train)\n",
        "    y_pred_l1_lbfgs = logistic_regression_l1_lbfgs.predict(X_test)\n",
        "    accuracy_l1_lbfgs = accuracy_score(y_test, y_pred_l1_lbfgs)\n",
        "    print(f\"Accuracy with solver 'lbfgs' and penalty 'l1': {accuracy_l1_lbfgs:.4f}\")\n",
        "except Exception as e:\n",
        "    print(f\"Solver 'lbfgs' with penalty 'l1' encountered an error: {e}\")"
      ],
      "metadata": {
        "colab": {
          "base_uri": "https://localhost:8080/"
        },
        "id": "ZpPyatSKWDMp",
        "outputId": "dfe23098-ee29-4694-e33d-dd90d46ab5c8"
      },
      "execution_count": 8,
      "outputs": [
        {
          "output_type": "stream",
          "name": "stdout",
          "text": [
            "Accuracy with solver 'liblinear': 0.8550\n",
            "Accuracy with solver 'saga': 0.8550\n",
            "Accuracy with solver 'lbfgs': 0.8550\n",
            "\n",
            "Demonstration of penalty affect on solvers:\n",
            "Accuracy with solver 'liblinear' and penalty 'l1': 0.8550\n",
            "Accuracy with solver 'saga' and penalty 'l1': 0.8600\n",
            "Solver 'lbfgs' with penalty 'l1' encountered an error: Solver lbfgs supports only 'l2' or None penalties, got l1 penalty.\n"
          ]
        }
      ]
    },
    {
      "cell_type": "markdown",
      "source": [
        "###22. Write a Python program to train Logistic Regression and evaluate its performance using Matthews Correlation Coefficient (MCC)."
      ],
      "metadata": {
        "id": "GpYH0LvoWYxL"
      }
    },
    {
      "cell_type": "code",
      "source": [
        "import numpy as np\n",
        "from sklearn.model_selection import train_test_split\n",
        "from sklearn.linear_model import LogisticRegression\n",
        "from sklearn.metrics import matthews_corrcoef\n",
        "from sklearn.datasets import make_classification\n",
        "\n",
        "# Generate a synthetic binary classification dataset\n",
        "X, y = make_classification(n_samples=1000, n_features=20, random_state=42)\n",
        "\n",
        "# Split the dataset into training and testing sets\n",
        "X_train, X_test, y_train, y_test = train_test_split(X, y, test_size=0.2, random_state=42)\n",
        "\n",
        "# Create and train a Logistic Regression model\n",
        "logistic_regression = LogisticRegression(random_state=42, max_iter=1000)\n",
        "logistic_regression.fit(X_train, y_train)\n",
        "\n",
        "# Make predictions on the test set\n",
        "y_pred = logistic_regression.predict(X_test)\n",
        "\n",
        "# Calculate Matthews Correlation Coefficient (MCC)\n",
        "mcc = matthews_corrcoef(y_test, y_pred)\n",
        "\n",
        "# Print the MCC score\n",
        "print(f\"Matthews Correlation Coefficient (MCC): {mcc:.4f}\")"
      ],
      "metadata": {
        "colab": {
          "base_uri": "https://localhost:8080/"
        },
        "id": "NCLN67mPWfv6",
        "outputId": "85d2a4e9-6307-4d1f-eb16-ae999f36d0f2"
      },
      "execution_count": 9,
      "outputs": [
        {
          "output_type": "stream",
          "name": "stdout",
          "text": [
            "Matthews Correlation Coefficient (MCC): 0.7172\n"
          ]
        }
      ]
    },
    {
      "cell_type": "markdown",
      "source": [
        "###23. Write a Python program to train Logistic Regression on both raw and standardized data. Compare their accuracy to see the impact of feature scaling."
      ],
      "metadata": {
        "id": "pElc3yLvW9Vz"
      }
    },
    {
      "cell_type": "code",
      "source": [
        "import numpy as np\n",
        "from sklearn.model_selection import train_test_split\n",
        "from sklearn.linear_model import LogisticRegression\n",
        "from sklearn.metrics import accuracy_score\n",
        "from sklearn.preprocessing import StandardScaler\n",
        "from sklearn.datasets import make_classification\n",
        "\n",
        "# Generate a synthetic binary classification dataset\n",
        "X, y = make_classification(n_samples=1000, n_features=20, random_state=42)\n",
        "\n",
        "# Split the dataset into training and testing sets\n",
        "X_train, X_test, y_train, y_test = train_test_split(X, y, test_size=0.2, random_state=42)\n",
        "\n",
        "# 1. Train Logistic Regression on raw data\n",
        "logistic_regression_raw = LogisticRegression(random_state=42, max_iter=1000)\n",
        "logistic_regression_raw.fit(X_train, y_train)\n",
        "y_pred_raw = logistic_regression_raw.predict(X_test)\n",
        "accuracy_raw = accuracy_score(y_test, y_pred_raw)\n",
        "\n",
        "print(f\"Accuracy on raw data: {accuracy_raw:.4f}\")\n",
        "\n",
        "# 2. Standardize the data\n",
        "scaler = StandardScaler()\n",
        "X_train_scaled = scaler.fit_transform(X_train)\n",
        "X_test_scaled = scaler.transform(X_test)\n",
        "\n",
        "# 3. Train Logistic Regression on standardized data\n",
        "logistic_regression_scaled = LogisticRegression(random_state=42, max_iter=1000)\n",
        "logistic_regression_scaled.fit(X_train_scaled, y_train)\n",
        "y_pred_scaled = logistic_regression_scaled.predict(X_test_scaled)\n",
        "accuracy_scaled = accuracy_score(y_test, y_pred_scaled)\n",
        "\n",
        "print(f\"Accuracy on standardized data: {accuracy_scaled:.4f}\")\n",
        "\n",
        "# 4. Compare the results\n",
        "if accuracy_scaled > accuracy_raw:\n",
        "    print(\"Standardization improved accuracy.\")\n",
        "elif accuracy_scaled < accuracy_raw:\n",
        "    print(\"Standardization decreased accuracy.\")\n",
        "else:\n",
        "    print(\"Standardization did not change accuracy.\")"
      ],
      "metadata": {
        "colab": {
          "base_uri": "https://localhost:8080/"
        },
        "id": "qZS7MpJeXEeZ",
        "outputId": "a53210bb-0db7-46ee-ff50-b78bee9a9dca"
      },
      "execution_count": 10,
      "outputs": [
        {
          "output_type": "stream",
          "name": "stdout",
          "text": [
            "Accuracy on raw data: 0.8550\n",
            "Accuracy on standardized data: 0.8550\n",
            "Standardization did not change accuracy.\n"
          ]
        }
      ]
    },
    {
      "cell_type": "markdown",
      "source": [
        "###24. Write a Python program to train Logistic Regression and find the optimal C (regularization strength) using cross-validation."
      ],
      "metadata": {
        "id": "de2T6cwnXoVL"
      }
    },
    {
      "cell_type": "code",
      "source": [
        "import numpy as np\n",
        "from sklearn.model_selection import train_test_split, cross_val_score, GridSearchCV\n",
        "from sklearn.linear_model import LogisticRegression\n",
        "from sklearn.datasets import make_classification\n",
        "\n",
        "# Generate a synthetic binary classification dataset\n",
        "X, y = make_classification(n_samples=1000, n_features=20, random_state=42)\n",
        "\n",
        "# Split the dataset into training and testing sets\n",
        "X_train, X_test, y_train, y_test = train_test_split(X, y, test_size=0.2, random_state=42)\n",
        "\n",
        "# Define the parameter grid for C\n",
        "param_grid = {'C': np.logspace(-4, 4, 20)}  # Try a range of C values\n",
        "\n",
        "# Create a Logistic Regression model\n",
        "logistic_regression = LogisticRegression(random_state=42, max_iter=1000)\n",
        "\n",
        "# Create a GridSearchCV object\n",
        "grid_search = GridSearchCV(logistic_regression, param_grid, cv=5, scoring='accuracy', n_jobs=-1)\n",
        "\n",
        "# Perform grid search to find the optimal C\n",
        "grid_search.fit(X_train, y_train)\n",
        "\n",
        "# Get the best C value and best score\n",
        "best_c = grid_search.best_params_['C']\n",
        "best_score = grid_search.best_score_\n",
        "\n",
        "# Print the best C value and best score\n",
        "print(f\"Best C: {best_c:.4f}\")\n",
        "print(f\"Best Cross-Validation Accuracy: {best_score:.4f}\")\n",
        "\n",
        "# Train the final model with the optimal C on the entire training set.\n",
        "final_logistic = LogisticRegression(C=best_c, random_state=42, max_iter=1000)\n",
        "final_logistic.fit(X_train,y_train)\n",
        "\n",
        "#Evaluate on test set.\n",
        "test_accuracy = final_logistic.score(X_test, y_test)\n",
        "print(f\"Test Accuracy with optimal C: {test_accuracy:.4f}\")"
      ],
      "metadata": {
        "colab": {
          "base_uri": "https://localhost:8080/"
        },
        "id": "t2HubmVxXx8R",
        "outputId": "cc284835-156a-4db1-8806-5a71753620a1"
      },
      "execution_count": 11,
      "outputs": [
        {
          "output_type": "stream",
          "name": "stdout",
          "text": [
            "Best C: 0.0886\n",
            "Best Cross-Validation Accuracy: 0.8700\n",
            "Test Accuracy with optimal C: 0.8650\n"
          ]
        }
      ]
    },
    {
      "cell_type": "markdown",
      "source": [
        "###25.  Write a Python program to train Logistic Regression, save the trained model using joblib, and load it again to make predictions."
      ],
      "metadata": {
        "id": "1CI7UT9EX99o"
      }
    },
    {
      "cell_type": "code",
      "source": [
        "import numpy as np\n",
        "from sklearn.model_selection import train_test_split\n",
        "from sklearn.linear_model import LogisticRegression\n",
        "from sklearn.datasets import make_classification\n",
        "import joblib\n",
        "\n",
        "# Generate a synthetic binary classification dataset\n",
        "X, y = make_classification(n_samples=1000, n_features=20, random_state=42)\n",
        "\n",
        "# Split the dataset into training and testing sets\n",
        "X_train, X_test, y_train, y_test = train_test_split(X, y, test_size=0.2, random_state=42)\n",
        "\n",
        "# Create and train a Logistic Regression model\n",
        "logistic_regression = LogisticRegression(random_state=42, max_iter=1000)\n",
        "logistic_regression.fit(X_train, y_train)\n",
        "\n",
        "# Save the trained model using joblib\n",
        "model_filename = 'logistic_regression_model.joblib'\n",
        "joblib.dump(logistic_regression, model_filename)\n",
        "\n",
        "print(f\"Model saved as {model_filename}\")\n",
        "\n",
        "# Load the saved model\n",
        "loaded_model = joblib.load(model_filename)\n",
        "\n",
        "print(\"Model loaded successfully.\")\n",
        "\n",
        "# Make predictions using the loaded model\n",
        "y_pred_loaded = loaded_model.predict(X_test)\n",
        "\n",
        "# Optional: Verify that the predictions are the same as the original model\n",
        "y_pred_original = logistic_regression.predict(X_test)\n",
        "\n",
        "if np.array_equal(y_pred_loaded, y_pred_original):\n",
        "    print(\"Predictions from loaded model match original model.\")\n",
        "else:\n",
        "    print(\"Predictions from loaded model do not match original model.\")"
      ],
      "metadata": {
        "colab": {
          "base_uri": "https://localhost:8080/"
        },
        "id": "xNmbEIeuYI2c",
        "outputId": "3cca3dfd-56cf-4597-d7d9-5cf4b674b85b"
      },
      "execution_count": 12,
      "outputs": [
        {
          "output_type": "stream",
          "name": "stdout",
          "text": [
            "Model saved as logistic_regression_model.joblib\n",
            "Model loaded successfully.\n",
            "Predictions from loaded model match original model.\n"
          ]
        }
      ]
    }
  ]
}