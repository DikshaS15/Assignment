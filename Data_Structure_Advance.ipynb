{
  "nbformat": 4,
  "nbformat_minor": 0,
  "metadata": {
    "colab": {
      "provenance": []
    },
    "kernelspec": {
      "name": "python3",
      "display_name": "Python 3"
    },
    "language_info": {
      "name": "python"
    }
  },
  "cells": [
    {
      "cell_type": "markdown",
      "source": [
        "###1. Write a code to reverse a string.\n"
      ],
      "metadata": {
        "id": "TXNMNcd0SCmH"
      }
    },
    {
      "cell_type": "code",
      "source": [
        "def reverse_string(s):\n",
        "    return s[::-1]\n",
        "\n",
        "# Example usage\n",
        "input_string = \"hello\"\n",
        "reversed_string = reverse_string(input_string)\n",
        "print(\"Original string:\", input_string)\n",
        "print(\"Reversed string:\", reversed_string)\n"
      ],
      "metadata": {
        "colab": {
          "base_uri": "https://localhost:8080/"
        },
        "id": "846QlHj-Sp0h",
        "outputId": "4c5c0ced-dec6-4e56-ef07-1efdd29a3627"
      },
      "execution_count": null,
      "outputs": [
        {
          "output_type": "stream",
          "name": "stdout",
          "text": [
            "Original string: hello\n",
            "Reversed string: olleh\n"
          ]
        }
      ]
    },
    {
      "cell_type": "markdown",
      "source": [
        "###2. Write a code to count the number of vowels in a string."
      ],
      "metadata": {
        "id": "tH1umIW2SyKR"
      }
    },
    {
      "cell_type": "code",
      "source": [
        "def count_vowels(s):\n",
        "    vowels = 'aeiouAEIOU'\n",
        "    count = sum(1 for char in s if char in vowels)\n",
        "    return count\n",
        "\n",
        "# Example usage\n",
        "input_string = \"hello world\"\n",
        "vowel_count = count_vowels(input_string)\n",
        "print(\"Number of vowels in '{}':\".format(input_string), vowel_count)\n"
      ],
      "metadata": {
        "colab": {
          "base_uri": "https://localhost:8080/"
        },
        "id": "ntaEQhfeS7O0",
        "outputId": "7d7f8613-b32d-418d-a62a-33bef2a7360f"
      },
      "execution_count": null,
      "outputs": [
        {
          "output_type": "stream",
          "name": "stdout",
          "text": [
            "Number of vowels in 'hello world': 3\n"
          ]
        }
      ]
    },
    {
      "cell_type": "markdown",
      "source": [
        "###3. Write a code to check if a given string is a palindrome or not."
      ],
      "metadata": {
        "id": "NdTCnUKZTky6"
      }
    },
    {
      "cell_type": "code",
      "source": [
        "def is_palindrome(s):\n",
        "    # Remove any spaces and convert to lowercase\n",
        "    s = s.replace(\" \", \"\").lower()\n",
        "    # Check if the string is equal to its reverse\n",
        "    return s == s[::-1]\n",
        "\n",
        "# Example usage\n",
        "input_string = \"A man a plan a canal panama\"\n",
        "if is_palindrome(input_string):\n",
        "    print(\"'{}' is a palindrome.\".format(input_string))\n",
        "else:\n",
        "    print(\"'{}' is not a palindrome.\".format(input_string))\n"
      ],
      "metadata": {
        "colab": {
          "base_uri": "https://localhost:8080/"
        },
        "id": "5KWnsPhYTwaM",
        "outputId": "129be7d2-f6ab-403e-d615-f3c0539e7b92"
      },
      "execution_count": null,
      "outputs": [
        {
          "output_type": "stream",
          "name": "stdout",
          "text": [
            "'A man a plan a canal panama' is a palindrome.\n"
          ]
        }
      ]
    },
    {
      "cell_type": "markdown",
      "source": [
        "###4. Write a code to check if two given strings are anagrams of each other."
      ],
      "metadata": {
        "id": "33otc5ylUQSW"
      }
    },
    {
      "cell_type": "code",
      "source": [
        "def are_anagrams(str1, str2):\n",
        "    # Remove any spaces and convert to lowercase\n",
        "    str1 = str1.replace(\" \", \"\").lower()\n",
        "    str2 = str2.replace(\" \", \"\").lower()\n",
        "\n",
        "    # Sort the characters of both strings and compare\n",
        "    return sorted(str1) == sorted(str2)\n",
        "\n",
        "# Example usage\n",
        "string1 = \"listen\"\n",
        "string2 = \"silent\"\n",
        "if are_anagrams(string1, string2):\n",
        "    print(\"'{}' and '{}' are anagrams.\".format(string1, string2))\n",
        "else:\n",
        "    print(\"'{}' and '{}' are not anagrams.\".format(string1, string2))\n"
      ],
      "metadata": {
        "colab": {
          "base_uri": "https://localhost:8080/"
        },
        "id": "MDN7YlWjUaOy",
        "outputId": "57332f22-49d8-4525-960f-c145432b72cb"
      },
      "execution_count": null,
      "outputs": [
        {
          "output_type": "stream",
          "name": "stdout",
          "text": [
            "'listen' and 'silent' are anagrams.\n"
          ]
        }
      ]
    },
    {
      "cell_type": "markdown",
      "source": [
        "###5. Write a code to find all occurrences of a given substring within another string."
      ],
      "metadata": {
        "id": "2FM_qNHrUkAX"
      }
    },
    {
      "cell_type": "code",
      "source": [
        "def find_all_occurrences(main_string, sub_string):\n",
        "    start = 0\n",
        "    indices = []\n",
        "    while start < len(main_string):\n",
        "        start = main_string.find(sub_string, start)\n",
        "        if start == -1:\n",
        "            break\n",
        "        indices.append(start)\n",
        "        start += 1  # Move to the next position after the found substring\n",
        "    return indices\n",
        "\n",
        "# Example usage\n",
        "main_string = \"abracadabra\"\n",
        "sub_string = \"abra\"\n",
        "indices = find_all_occurrences(main_string, sub_string)\n",
        "print(\"Occurrences of '{}' in '{}': {}\".format(sub_string, main_string, indices))\n"
      ],
      "metadata": {
        "colab": {
          "base_uri": "https://localhost:8080/"
        },
        "id": "Gzpk_tPJb6yV",
        "outputId": "2a3128e8-fec9-4c53-f818-9c57e4ad20da"
      },
      "execution_count": null,
      "outputs": [
        {
          "output_type": "stream",
          "name": "stdout",
          "text": [
            "Occurrences of 'abra' in 'abracadabra': [0, 7]\n"
          ]
        }
      ]
    },
    {
      "cell_type": "markdown",
      "source": [
        "###6. Write a code to perform basic string compression using the counts of repeated characters."
      ],
      "metadata": {
        "id": "-1D0UZuqe6_I"
      }
    },
    {
      "cell_type": "code",
      "source": [
        "def compress_string(s):\n",
        "    compressed = []\n",
        "    count = 1\n",
        "\n",
        "    for i in range(1, len(s)):\n",
        "        if s[i] == s[i - 1]:\n",
        "            count += 1\n",
        "        else:\n",
        "            compressed.append(s[i - 1] + str(count))\n",
        "            count = 1\n",
        "\n",
        "    compressed.append(s[-1] + str(count))\n",
        "    return ''.join(compressed)\n",
        "\n",
        "# Example usage\n",
        "input_string = \"aabcccccaaa\"\n",
        "compressed_string = compress_string(input_string)\n",
        "print(\"Original string:\", input_string)\n",
        "print(\"Compressed string:\", compressed_string)\n"
      ],
      "metadata": {
        "colab": {
          "base_uri": "https://localhost:8080/"
        },
        "id": "kiftGiPwfImY",
        "outputId": "6a36143d-562c-4b56-8a41-299065bca998"
      },
      "execution_count": null,
      "outputs": [
        {
          "output_type": "stream",
          "name": "stdout",
          "text": [
            "Original string: aabcccccaaa\n",
            "Compressed string: a2b1c5a3\n"
          ]
        }
      ]
    },
    {
      "cell_type": "markdown",
      "source": [
        "###7. Write a code to determine if a string has all unique characters."
      ],
      "metadata": {
        "id": "CACRLaPBfU_S"
      }
    },
    {
      "cell_type": "code",
      "source": [
        "def has_unique_characters(s):\n",
        "    # Use a set to track characters that have been seen\n",
        "    seen_characters = set()\n",
        "\n",
        "    for char in s:\n",
        "        if char in seen_characters:\n",
        "            return False\n",
        "        seen_characters.add(char)\n",
        "\n",
        "    return True\n",
        "\n",
        "# Example usage\n",
        "input_string = \"abcdef\"\n",
        "if has_unique_characters(input_string):\n",
        "    print(\"'{}' has all unique characters.\".format(input_string))\n",
        "else:\n",
        "    print(\"'{}' does not have all unique characters.\".format(input_string))\n",
        "\n",
        "input_string = \"hello\"\n",
        "if has_unique_characters(input_string):\n",
        "    print(\"'{}' has all unique characters.\".format(input_string))\n",
        "else:\n",
        "    print(\"'{}' does not have all unique characters.\".format(input_string))\n"
      ],
      "metadata": {
        "colab": {
          "base_uri": "https://localhost:8080/"
        },
        "id": "11k4NRZDfdOp",
        "outputId": "11bfb77b-6b0a-4d6a-dd81-497538b63565"
      },
      "execution_count": null,
      "outputs": [
        {
          "output_type": "stream",
          "name": "stdout",
          "text": [
            "'abcdef' has all unique characters.\n",
            "'hello' does not have all unique characters.\n"
          ]
        }
      ]
    },
    {
      "cell_type": "markdown",
      "source": [
        "###8. Write a code to convert a given string to uppercase or lowercase."
      ],
      "metadata": {
        "id": "3FQ3H5LGfoy_"
      }
    },
    {
      "cell_type": "code",
      "source": [
        "# To Convert a String to Uppercase:\n",
        "def to_uppercase(s):\n",
        "    return s.upper()\n",
        "\n",
        "# Example usage\n",
        "input_string = \"hello, world!\"\n",
        "uppercase_string = to_uppercase(input_string)\n",
        "print(\"Original string:\", input_string)\n",
        "print(\"Uppercase string:\", uppercase_string)\n"
      ],
      "metadata": {
        "colab": {
          "base_uri": "https://localhost:8080/"
        },
        "id": "8BJmJBHuf01P",
        "outputId": "f34e545b-5862-4042-d381-5a8cac48d768"
      },
      "execution_count": null,
      "outputs": [
        {
          "output_type": "stream",
          "name": "stdout",
          "text": [
            "Original string: hello, world!\n",
            "Uppercase string: HELLO, WORLD!\n"
          ]
        }
      ]
    },
    {
      "cell_type": "code",
      "source": [
        "# To Convert a String to Lowercase:\n",
        "def to_lowercase(s):\n",
        "    return s.lower()\n",
        "\n",
        "# Example usage\n",
        "input_string = \"HELLO, WORLD!\"\n",
        "lowercase_string = to_lowercase(input_string)\n",
        "print(\"Original string:\", input_string)"
      ],
      "metadata": {
        "colab": {
          "base_uri": "https://localhost:8080/"
        },
        "id": "oMoCZJ7EgU2j",
        "outputId": "297ac413-7773-4958-ca20-a2ca0e8317b9"
      },
      "execution_count": null,
      "outputs": [
        {
          "output_type": "stream",
          "name": "stdout",
          "text": [
            "Original string: HELLO, WORLD!\n"
          ]
        }
      ]
    },
    {
      "cell_type": "markdown",
      "source": [
        "###9. Write a code to count the number of words in a string."
      ],
      "metadata": {
        "id": "HW-TiU6qgglx"
      }
    },
    {
      "cell_type": "code",
      "source": [
        "def count_words(s):\n",
        "    # Split the string into words based on whitespace\n",
        "    words = s.split()\n",
        "    return len(words)\n",
        "\n",
        "# Example usage\n",
        "input_string = \"Hello, how are you doing today?\"\n",
        "word_count = count_words(input_string)\n",
        "print(\"Number of words in '{}':\".format(input_string), word_count)\n"
      ],
      "metadata": {
        "colab": {
          "base_uri": "https://localhost:8080/"
        },
        "id": "4RU0yThBgpoR",
        "outputId": "89cedddb-e0bb-4ba1-b103-a9b4073c6de7"
      },
      "execution_count": null,
      "outputs": [
        {
          "output_type": "stream",
          "name": "stdout",
          "text": [
            "Number of words in 'Hello, how are you doing today?': 6\n"
          ]
        }
      ]
    },
    {
      "cell_type": "markdown",
      "source": [
        "###10. Write a code to concatenate two strings without using the + operator."
      ],
      "metadata": {
        "id": "8LD595Xug0R1"
      }
    },
    {
      "cell_type": "code",
      "source": [
        "def concatenate_strings(str1, str2):\n",
        "    return \"{}{}\".format(str1, str2)\n",
        "\n",
        "# Example usage\n",
        "string1 = \"Hello, \"\n",
        "string2 = \"world!\"\n",
        "result = concatenate_strings(string1, string2)\n",
        "print(\"Concatenated string:\", result)\n"
      ],
      "metadata": {
        "colab": {
          "base_uri": "https://localhost:8080/"
        },
        "id": "eTl_hYt8g9qA",
        "outputId": "ad0dc727-5ed9-4958-b522-c5702bcc1b29"
      },
      "execution_count": null,
      "outputs": [
        {
          "output_type": "stream",
          "name": "stdout",
          "text": [
            "Concatenated string: Hello, world!\n"
          ]
        }
      ]
    },
    {
      "cell_type": "markdown",
      "source": [
        "###11. Write a code to remove all occurrences of a specific element from a list."
      ],
      "metadata": {
        "id": "PXuzeU6nhMQT"
      }
    },
    {
      "cell_type": "code",
      "source": [
        "def remove_element(lst, element):\n",
        "    return [x for x in lst if x != element]\n",
        "\n",
        "# Example usage\n",
        "input_list = [1, 2, 3, 4, 2, 5, 2, 6]\n",
        "element_to_remove = 2\n",
        "result_list = remove_element(input_list, element_to_remove)\n",
        "print(\"Original list:\", input_list)\n",
        "print(\"Element to remove:\", element_to_remove)\n",
        "print(\"List after removal:\", result_list)\n"
      ],
      "metadata": {
        "colab": {
          "base_uri": "https://localhost:8080/"
        },
        "id": "cWezypiYhQMa",
        "outputId": "754110ea-e91d-42b1-8639-b7ab2bd1fafc"
      },
      "execution_count": null,
      "outputs": [
        {
          "output_type": "stream",
          "name": "stdout",
          "text": [
            "Original list: [1, 2, 3, 4, 2, 5, 2, 6]\n",
            "Element to remove: 2\n",
            "List after removal: [1, 3, 4, 5, 6]\n"
          ]
        }
      ]
    },
    {
      "cell_type": "markdown",
      "source": [
        "###12. Implement a code to find the second largest number in a given list of integers."
      ],
      "metadata": {
        "id": "Uf8uOJRkhYAx"
      }
    },
    {
      "cell_type": "code",
      "source": [
        "def find_second_largest(nums):\n",
        "    if len(nums) < 2:\n",
        "        return None  # Not enough elements to find the second largest\n",
        "\n",
        "    first = second = float('-inf')\n",
        "\n",
        "    for num in nums:\n",
        "        if num > first:\n",
        "            second = first\n",
        "            first = num\n",
        "        elif num > second and num != first:\n",
        "            second = num\n",
        "\n",
        "    return second if second != float('-inf') else None\n",
        "\n",
        "# Example usage\n",
        "input_list = [10, 15, 4, 7, 12, 20, 19]\n",
        "second_largest = find_second_largest(input_list)\n",
        "print(\"The second largest number in the list is:\", second_largest)\n"
      ],
      "metadata": {
        "colab": {
          "base_uri": "https://localhost:8080/"
        },
        "id": "t_d7TDo0hslB",
        "outputId": "82a0c678-fa27-46d5-9b8e-9e56a614fbcb"
      },
      "execution_count": null,
      "outputs": [
        {
          "output_type": "stream",
          "name": "stdout",
          "text": [
            "The second largest number in the list is: 19\n"
          ]
        }
      ]
    },
    {
      "cell_type": "markdown",
      "source": [
        "###13. Create a code to count the occurrences of each element in a list and return a dictionary with elements as keys and their counts as values."
      ],
      "metadata": {
        "id": "sKtq2Z37h4I9"
      }
    },
    {
      "cell_type": "code",
      "source": [
        "def count_occurrences(lst):\n",
        "    counts = {}\n",
        "    for element in lst:\n",
        "        if element in counts:\n",
        "            counts[element] += 1\n",
        "        else:\n",
        "            counts[element] = 1\n",
        "    return counts\n",
        "\n",
        "# Example usage\n",
        "input_list = [1, 2, 2, 3, 3, 3, 4, 4, 4, 4]\n",
        "occurrence_dict = count_occurrences(input_list)\n",
        "print(\"Occurrences of each element:\", occurrence_dict)\n"
      ],
      "metadata": {
        "colab": {
          "base_uri": "https://localhost:8080/"
        },
        "id": "_LotuIvZiC-b",
        "outputId": "9544033b-558b-40f5-f8e6-ffc096ff001c"
      },
      "execution_count": null,
      "outputs": [
        {
          "output_type": "stream",
          "name": "stdout",
          "text": [
            "Occurrences of each element: {1: 1, 2: 2, 3: 3, 4: 4}\n"
          ]
        }
      ]
    },
    {
      "cell_type": "markdown",
      "source": [
        "###14. Write a code to reverse a list in-place without using any built-in reverse functions."
      ],
      "metadata": {
        "id": "t-VIgx5KiVQr"
      }
    },
    {
      "cell_type": "code",
      "source": [
        "def reverse_list(lst):\n",
        "    left = 0\n",
        "    right = len(lst) - 1\n",
        "\n",
        "    while left < right:\n",
        "        # Swap the elements at left and right indices\n",
        "        lst[left], lst[right] = lst[right], lst[left]\n",
        "        # Move the pointers towards the center\n",
        "        left += 1\n",
        "        right -= 1\n",
        "\n",
        "# Example usage\n",
        "input_list = [1, 2, 3, 4, 5]\n",
        "reverse_list(input_list)\n",
        "print(\"Reversed list:\", input_list)\n"
      ],
      "metadata": {
        "colab": {
          "base_uri": "https://localhost:8080/"
        },
        "id": "r9HIb6HEiefo",
        "outputId": "b3c0504e-1ebd-4194-e064-a322b99fc24a"
      },
      "execution_count": null,
      "outputs": [
        {
          "output_type": "stream",
          "name": "stdout",
          "text": [
            "Reversed list: [5, 4, 3, 2, 1]\n"
          ]
        }
      ]
    },
    {
      "cell_type": "markdown",
      "source": [
        "###15. Implement a code to find and remove duplicates from a list while preserving the original order of elements."
      ],
      "metadata": {
        "id": "Y1KJv5zDi31X"
      }
    },
    {
      "cell_type": "code",
      "source": [
        "def remove_duplicates(lst):\n",
        "    seen = set()\n",
        "    result = []\n",
        "    for element in lst:\n",
        "        if element not in seen:\n",
        "            result.append(element)\n",
        "            seen.add(element)\n",
        "    return result\n",
        "\n",
        "# Example usage\n",
        "input_list = [1, 2, 2, 3, 4, 3, 5, 1, 6]\n",
        "unique_list = remove_duplicates(input_list)\n",
        "print(\"Original list:\", input_list)\n",
        "print(\"List after removing duplicates:\", unique_list)\n"
      ],
      "metadata": {
        "colab": {
          "base_uri": "https://localhost:8080/"
        },
        "id": "px_FIR6zjCtA",
        "outputId": "207cfefc-97b9-4ba9-e181-8af936bea79d"
      },
      "execution_count": null,
      "outputs": [
        {
          "output_type": "stream",
          "name": "stdout",
          "text": [
            "Original list: [1, 2, 2, 3, 4, 3, 5, 1, 6]\n",
            "List after removing duplicates: [1, 2, 3, 4, 5, 6]\n"
          ]
        }
      ]
    },
    {
      "cell_type": "markdown",
      "source": [
        "###16. Create a code to check if a given list is sorted (either in ascending or descending order) or not."
      ],
      "metadata": {
        "id": "4LKjGvtkjQrK"
      }
    },
    {
      "cell_type": "code",
      "source": [
        "def is_sorted(lst):\n",
        "    ascending = all(lst[i] <= lst[i+1] for i in range(len(lst)-1))\n",
        "    descending = all(lst[i] >= lst[i+1] for i in range(len(lst)-1))\n",
        "    return ascending or descending\n",
        "\n",
        "# Example usage\n",
        "input_list_ascending = [1, 2, 3, 4, 5]\n",
        "input_list_descending = [5, 4, 3, 2, 1]\n",
        "input_list_unsorted = [3, 1, 4, 2, 5]\n",
        "\n",
        "print(\"List {} is sorted: {}\".format(input_list_ascending, is_sorted(input_list_ascending)))\n",
        "print(\"List {} is sorted: {}\".format(input_list_descending, is_sorted(input_list_descending)))\n",
        "print(\"List {} is sorted: {}\".format(input_list_unsorted, is_sorted(input_list_unsorted)))\n"
      ],
      "metadata": {
        "colab": {
          "base_uri": "https://localhost:8080/"
        },
        "id": "lq2dtSb5jXz-",
        "outputId": "b21468f1-479e-4156-87a1-59684d50c263"
      },
      "execution_count": null,
      "outputs": [
        {
          "output_type": "stream",
          "name": "stdout",
          "text": [
            "List [1, 2, 3, 4, 5] is sorted: True\n",
            "List [5, 4, 3, 2, 1] is sorted: True\n",
            "List [3, 1, 4, 2, 5] is sorted: False\n"
          ]
        }
      ]
    },
    {
      "cell_type": "markdown",
      "source": [
        "###17. Write a code to merge two sorted lists into a single sorted list."
      ],
      "metadata": {
        "id": "7ppY0bKMjmhv"
      }
    },
    {
      "cell_type": "code",
      "source": [
        "def merge_sorted_lists(list1, list2):\n",
        "    merged_list = []\n",
        "    i = j = 0\n",
        "\n",
        "    # Compare elements from both lists and merge them in sorted order\n",
        "    while i < len(list1) and j < len(list2):\n",
        "        if list1[i] < list2[j]:\n",
        "            merged_list.append(list1[i])\n",
        "            i += 1\n",
        "        else:\n",
        "            merged_list.append(list2[j])\n",
        "            j += 1\n",
        "\n",
        "    # Add the remaining elements from list1, if any\n",
        "    while i < len(list1):\n",
        "        merged_list.append(list1[i])\n",
        "        i += 1\n",
        "\n",
        "    # Add the remaining elements from list2, if any\n",
        "    while j < len(list2):\n",
        "        merged_list.append(list2[j])\n",
        "        j += 1\n",
        "\n",
        "    return merged_list\n",
        "\n",
        "# Example usage\n",
        "list1 = [1, 3, 5, 7]\n",
        "list2 = [2, 4, 6, 8]\n",
        "merged_list = merge_sorted_lists(list1, list2)\n",
        "print(\"Merged sorted list:\", merged_list)\n"
      ],
      "metadata": {
        "colab": {
          "base_uri": "https://localhost:8080/"
        },
        "id": "AdezXPIKkBPc",
        "outputId": "87dd08da-5e21-49aa-e886-d70d68dd2bc6"
      },
      "execution_count": null,
      "outputs": [
        {
          "output_type": "stream",
          "name": "stdout",
          "text": [
            "Merged sorted list: [1, 2, 3, 4, 5, 6, 7, 8]\n"
          ]
        }
      ]
    },
    {
      "cell_type": "markdown",
      "source": [
        "###18. Implement a code to find the intersection of two given lists."
      ],
      "metadata": {
        "id": "UUq52POBkRaA"
      }
    },
    {
      "cell_type": "code",
      "source": [
        "def find_intersection(list1, list2):\n",
        "    # Convert lists to sets and find the intersection\n",
        "    intersection = set(list1) & set(list2)\n",
        "    return list(intersection)\n",
        "\n",
        "# Example usage\n",
        "list1 = [1, 2, 3, 4, 5]\n",
        "list2 = [4, 5, 6, 7, 8]\n",
        "intersection_list = find_intersection(list1, list2)\n",
        "print(\"Intersection of the two lists:\", intersection_list)\n"
      ],
      "metadata": {
        "colab": {
          "base_uri": "https://localhost:8080/"
        },
        "id": "f2jn_RnUkZWv",
        "outputId": "132d0b45-cbcd-4c28-dd76-61a8390f1271"
      },
      "execution_count": null,
      "outputs": [
        {
          "output_type": "stream",
          "name": "stdout",
          "text": [
            "Intersection of the two lists: [4, 5]\n"
          ]
        }
      ]
    },
    {
      "cell_type": "markdown",
      "source": [
        "###19. Create a code to find the union of two lists without duplicates."
      ],
      "metadata": {
        "id": "YATcdaEfk7FE"
      }
    },
    {
      "cell_type": "code",
      "source": [
        "def find_union(list1, list2):\n",
        "    # Combine the lists and convert to a set to remove duplicates, then convert back to a list\n",
        "    union_list = list(set(list1) | set(list2))\n",
        "    return union_list\n",
        "\n",
        "# Example usage\n",
        "list1 = [1, 2, 3, 4, 5]\n",
        "list2 = [4, 5, 6, 7, 8]\n",
        "union_list = find_union(list1, list2)\n",
        "print(\"Union of the two lists without duplicates:\", union_list)\n"
      ],
      "metadata": {
        "colab": {
          "base_uri": "https://localhost:8080/"
        },
        "id": "tTkyoqZtlETk",
        "outputId": "0a71e2ac-41d1-4550-bb13-0f34cda54329"
      },
      "execution_count": null,
      "outputs": [
        {
          "output_type": "stream",
          "name": "stdout",
          "text": [
            "Union of the two lists without duplicates: [1, 2, 3, 4, 5, 6, 7, 8]\n"
          ]
        }
      ]
    },
    {
      "cell_type": "markdown",
      "source": [
        "###20. Write a code to shuffle a given list randomly without using any built-in shuffle functions."
      ],
      "metadata": {
        "id": "0SOY161hlTxL"
      }
    },
    {
      "cell_type": "code",
      "source": [
        "import random\n",
        "\n",
        "def shuffle_list(lst):\n",
        "    for i in range(len(lst) - 1, 0, -1):\n",
        "        j = random.randint(0, i)\n",
        "        # Swap elements at indices i and j\n",
        "        lst[i], lst[j] = lst[j], lst[i]\n",
        "\n",
        "# Example usage\n",
        "input_list = [1, 2, 3, 4, 5]\n",
        "shuffle_list(input_list)\n",
        "print(\"Shuffled list:\", input_list)\n"
      ],
      "metadata": {
        "colab": {
          "base_uri": "https://localhost:8080/"
        },
        "id": "8GG2_o5PlhQd",
        "outputId": "9368c627-e604-40e3-a946-1881de7097dd"
      },
      "execution_count": null,
      "outputs": [
        {
          "output_type": "stream",
          "name": "stdout",
          "text": [
            "Shuffled list: [5, 3, 2, 4, 1]\n"
          ]
        }
      ]
    },
    {
      "cell_type": "markdown",
      "source": [
        "###21. Write a code that takes two tuples as input and returns a new tuple containing elements that are common to both input tuples."
      ],
      "metadata": {
        "id": "_EbiKd45mUdb"
      }
    },
    {
      "cell_type": "code",
      "source": [
        "def common_elements(tuple1, tuple2):\n",
        "    # Convert the tuples to sets and find the intersection\n",
        "    common_set = set(tuple1) & set(tuple2)\n",
        "    # Convert the set back to a tuple\n",
        "    return tuple(common_set)\n",
        "\n",
        "# Example usage\n",
        "tuple1 = (1, 2, 3, 4, 5)\n",
        "tuple2 = (4, 5, 6, 7, 8)\n",
        "result_tuple = common_elements(tuple1, tuple2)\n",
        "print(\"Common elements in both tuples:\", result_tuple)\n"
      ],
      "metadata": {
        "colab": {
          "base_uri": "https://localhost:8080/"
        },
        "id": "wnJtiMbWmcb0",
        "outputId": "42a20ac5-8dc9-4141-bc5d-c39c93106315"
      },
      "execution_count": null,
      "outputs": [
        {
          "output_type": "stream",
          "name": "stdout",
          "text": [
            "Common elements in both tuples: (4, 5)\n"
          ]
        }
      ]
    },
    {
      "cell_type": "markdown",
      "source": [
        "###22. Create a code that prompts the user to enter two sets of integers separated by commas. Then, print the intersection of these two sets."
      ],
      "metadata": {
        "id": "3ezUJYz6tWmG"
      }
    },
    {
      "cell_type": "code",
      "source": [
        "# Python3 program for intersection() function\n",
        "set1 = {2, 4, 5, 6}\n",
        "set2 = {4, 6, 7, 8}\n",
        "set3 = {4, 6, 8}\n",
        "\n",
        "# intersection of two sets\n",
        "print(\"set1 intersection set2 : \",\n",
        "\tset1.intersection(set2))\n",
        "\n",
        "# intersection of three sets\n",
        "print(\"set1 intersection set2 intersection set3 :\",\n",
        "\tset1.intersection(set2, set3))\n"
      ],
      "metadata": {
        "colab": {
          "base_uri": "https://localhost:8080/"
        },
        "id": "Cz0pCpKrPNHR",
        "outputId": "4258f513-ad39-48a3-95c3-96daa3e3f488"
      },
      "execution_count": 5,
      "outputs": [
        {
          "output_type": "stream",
          "name": "stdout",
          "text": [
            "set1 intersection set2 :  {4, 6}\n",
            "set1 intersection set2 intersection set3 : {4, 6}\n"
          ]
        }
      ]
    },
    {
      "cell_type": "markdown",
      "source": [
        "###23. Write a code to concatenate two tuples. The function should take two tuples as input and return a new tuple containing elements from both input tuples."
      ],
      "metadata": {
        "id": "c4tB409dx7Zk"
      }
    },
    {
      "cell_type": "code",
      "source": [
        "# Python3 code to demonstrate working of\n",
        "# Ways to concatenate tuples\n",
        "# using + operator\n",
        "\n",
        "# initialize tuples\n",
        "test_tup1 = (1, 3, 5)\n",
        "test_tup2 = (4, 6)\n",
        "\n",
        "# printing original tuples\n",
        "print(\"The original tuple 1 : \" + str(test_tup1))\n",
        "print(\"The original tuple 2 : \" + str(test_tup2))\n",
        "\n",
        "# Ways to concatenate tuples\n",
        "# using + operator\n",
        "res = test_tup1 + test_tup2\n",
        "\n",
        "# printing result\n",
        "print(\"The tuple after concatenation is : \" + str(res))\n"
      ],
      "metadata": {
        "colab": {
          "base_uri": "https://localhost:8080/"
        },
        "id": "ATsV40cgNwOg",
        "outputId": "df641dc6-224b-4d3f-9615-77ca1b92f9c5"
      },
      "execution_count": 6,
      "outputs": [
        {
          "output_type": "stream",
          "name": "stdout",
          "text": [
            "The original tuple 1 : (1, 3, 5)\n",
            "The original tuple 2 : (4, 6)\n",
            "The tuple after concatenation is : (1, 3, 5, 4, 6)\n"
          ]
        }
      ]
    },
    {
      "cell_type": "code",
      "source": [
        "def concatenate_tuples(tuple1, tuple2):\n",
        "    # Concatenate the two tuples\n",
        "    return tuple1 + tuple2\n",
        "\n",
        "# Example usage\n",
        "tuple1 = (1, 2, 3)\n",
        "tuple2 = (4, 5, 6)\n",
        "result = concatenate_tuples(tuple1, tuple2)\n",
        "print(\"Concatenated Tuple:\", result)\n"
      ],
      "metadata": {
        "colab": {
          "base_uri": "https://localhost:8080/"
        },
        "id": "WkDpo4SeQFpR",
        "outputId": "f2b13820-942d-4cfc-8e6a-2372fd6190c3"
      },
      "execution_count": 7,
      "outputs": [
        {
          "output_type": "stream",
          "name": "stdout",
          "text": [
            "Concatenated Tuple: (1, 2, 3, 4, 5, 6)\n"
          ]
        }
      ]
    },
    {
      "cell_type": "markdown",
      "source": [
        "###24. Develop a code that prompts the user to input two sets of strings. Then, print the elements that are present in the first set but not in the second set."
      ],
      "metadata": {
        "id": "uGiBcCAAQyAe"
      }
    },
    {
      "cell_type": "code",
      "source": [
        "def find_unique_elements(set1, set2):\n",
        "    \"\"\"\n",
        "    Finds and prints elements present in set1 but not in set2.\n",
        "\n",
        "    Args:\n",
        "        set1 (set): apple, banana, cherry, date.\n",
        "        set2 (set): banana, date, fig, grape.\n",
        "    \"\"\"\n",
        "    unique_elements = set1 - set2\n",
        "    for element in unique_elements:\n",
        "        print(element)\n",
        "\n",
        "        # Find and print unique elements\n",
        "    find_unique_elements(set1, set2)"
      ],
      "metadata": {
        "id": "PEBoHux_Rw0E"
      },
      "execution_count": 18,
      "outputs": []
    },
    {
      "cell_type": "markdown",
      "source": [
        "###25. Create a code that takes a tuple and two integers as input. The function should return a new tuple containing elements from the original tuple within the specified range of indices."
      ],
      "metadata": {
        "id": "q3hLCzBuWNEM"
      }
    },
    {
      "cell_type": "code",
      "source": [
        "def slice_tuple(tuple_input, start_index, end_index):\n",
        "    \"\"\"\n",
        "    Slices a tuple and returns a new tuple containing elements within the specified range.\n",
        "\n",
        "    Args:\n",
        "        tuple_input (tuple): The input tuple.\n",
        "        start_index (int): The starting index (inclusive).\n",
        "        end_index (int): The ending index (exclusive).\n",
        "\n",
        "    Returns:\n",
        "        tuple: A new tuple containing the sliced elements.\n",
        "    \"\"\"\n",
        "\n",
        "    if start_index < 0 or end_index > len(tuple_input):\n",
        "        raise ValueError(\"Invalid indices: Indices must be within tuple bounds.\")\n",
        "\n",
        "    return tuple_input[start_index:end_index]\n",
        "\n",
        "# Example usage:\n",
        "my_tuple = (1, 2, 3, 4, 5, 6)\n",
        "start_index = 2\n",
        "end_index = 5\n",
        "\n",
        "sliced_tuple = slice_tuple(my_tuple, start_index, end_index)\n",
        "print(sliced_tuple)  # Output: (3, 4, 5)"
      ],
      "metadata": {
        "colab": {
          "base_uri": "https://localhost:8080/"
        },
        "id": "W3eYksx2Wffw",
        "outputId": "8e94e823-4c18-4e59-fddd-610f0350aa11"
      },
      "execution_count": 19,
      "outputs": [
        {
          "output_type": "stream",
          "name": "stdout",
          "text": [
            "(3, 4, 5)\n"
          ]
        }
      ]
    },
    {
      "cell_type": "markdown",
      "source": [
        "###26. Write a code that prompts the user to input two sets of characters. Then, print the union of these two sets."
      ],
      "metadata": {
        "id": "SsVtL40UWjpT"
      }
    },
    {
      "cell_type": "code",
      "source": [
        "def union_of_sets(set1, set2):\n",
        "    \"\"\"\n",
        "    Calculates the union of two sets.\n",
        "\n",
        "    Args:\n",
        "        set1: The first set of characters.\n",
        "        set2: The second set of characters.\n",
        "\n",
        "    Returns:\n",
        "        The union of the two sets.\n",
        "    \"\"\"\n",
        "\n",
        "# Example usage\n",
        "set1 = (1, 2, 3)\n",
        "set2 = (4, 5, 6)\n",
        "result = union_of_sets(set1, set2)\n",
        "print(\"calculate union of two set:\", result)\n"
      ],
      "metadata": {
        "colab": {
          "base_uri": "https://localhost:8080/"
        },
        "id": "8KfiEsqqWrQB",
        "outputId": "62aaf6c1-f611-4e51-d117-82f689585c05"
      },
      "execution_count": 9,
      "outputs": [
        {
          "output_type": "stream",
          "name": "stdout",
          "text": [
            "calculate union of two set: None\n"
          ]
        }
      ]
    },
    {
      "cell_type": "markdown",
      "source": [
        "###27. Develop a code that takes a tuple of integers as input. The function should return the maximum and minimum values from the tuple using tuple unpacking."
      ],
      "metadata": {
        "id": "6vlHX3gNZxZn"
      }
    },
    {
      "cell_type": "code",
      "source": [
        "def find_max_min(tuple_input):\n",
        "    \"\"\"\n",
        "    Finds the maximum and minimum values in a tuple.\n",
        "\n",
        "    Args:\n",
        "        tuple_input (tuple): The input tuple of integers.\n",
        "\n",
        "    Returns:\n",
        "        tuple: A tuple containing the maximum and minimum values.\n",
        "    \"\"\"\n",
        "\n",
        "    max_value = min_value = tuple_input[0]  # Initialize with the first element\n",
        "\n",
        "    for num in tuple_input[1:]:\n",
        "        max_value = max(max_value, num)\n",
        "        min_value = min(min_value, num)\n",
        "\n",
        "    return max_value, min_value\n",
        "\n",
        "# Example usage:\n",
        "my_tuple = (10, 5, 20, 3, 15)\n",
        "max_val, min_val = find_max_min(my_tuple)\n",
        "print(\"Maximum value:\", max_val)\n",
        "print(\"Minimum value:\", min_val)"
      ],
      "metadata": {
        "colab": {
          "base_uri": "https://localhost:8080/"
        },
        "id": "FVoA-ZbrZ4Fu",
        "outputId": "f9edba3f-0d7f-419c-f1bb-870fd7d641cb"
      },
      "execution_count": 10,
      "outputs": [
        {
          "output_type": "stream",
          "name": "stdout",
          "text": [
            "Maximum value: 20\n",
            "Minimum value: 3\n"
          ]
        }
      ]
    },
    {
      "cell_type": "markdown",
      "source": [
        "###28. Create a code that defines two sets of integers. Then, print the union, intersection, and difference of these two sets."
      ],
      "metadata": {
        "id": "-lNzmPJsaBsR"
      }
    },
    {
      "cell_type": "code",
      "source": [
        "def set_operations(set1, set2):\n",
        "    \"\"\"\n",
        "    Performs union, intersection, and difference operations on two sets.\n",
        "\n",
        "    Args:\n",
        "        set1: The first set of integers.\n",
        "        set2: The second set of integers.\n",
        "\n",
        "    Returns:\n",
        "        None\n",
        "    \"\"\"\n",
        "\n",
        "    union_set = set1.union(set2)\n",
        "    intersection_set = set1.intersection(set2)\n",
        "    difference_set = set1.difference(set2)\n",
        "\n",
        "    print(\"Union:\", union_set)\n",
        "    print(\"Intersection:\", intersection_set)\n",
        "    print(\"Difference 1  (set1 - set2):\", difference_set)\n",
        "\n",
        "if __name__ == \"__main__\":\n",
        "    set1 = {1, 2, 3, 4, 5}\n",
        "    set2 = {3, 4, 5, 6, 7}\n",
        "\n",
        "    set_operations(set1, set2)"
      ],
      "metadata": {
        "colab": {
          "base_uri": "https://localhost:8080/"
        },
        "id": "jVpq6BdPaWdH",
        "outputId": "29e0b803-ede5-4994-ea42-894ec6770ef5"
      },
      "execution_count": 11,
      "outputs": [
        {
          "output_type": "stream",
          "name": "stdout",
          "text": [
            "Union: {1, 2, 3, 4, 5, 6, 7}\n",
            "Intersection: {3, 4, 5}\n",
            "Difference 1  (set1 - set2): {1, 2}\n"
          ]
        }
      ]
    },
    {
      "cell_type": "markdown",
      "source": [
        "###29. Write a code that takes a tuple and an element as input. The function should return the count of occurrences of the given element in the tuple."
      ],
      "metadata": {
        "id": "QKzAhEnGagWZ"
      }
    },
    {
      "cell_type": "code",
      "source": [
        "def count_occurrences(tuple_input, element):\n",
        "  \"\"\"Counts the occurrences of an element in a tuple.\n",
        "\n",
        "  Args:\n",
        "    tuple_input: The input tuple.\n",
        "    element: The element to count.\n",
        "\n",
        "  Returns:\n",
        "    The number of occurrences of the element in the tuple.\n",
        "  \"\"\"\n",
        "\n",
        "  count = 0\n",
        "  for item in tuple_input:\n",
        "    if item == element:\n",
        "      count += 1\n",
        "  return count\n",
        "\n",
        "# Example usage:\n",
        "my_tuple = (1, 2, 3, 2, 1, 4, 2)\n",
        "element_to_count = 2\n",
        "\n",
        "result = count_occurrences(my_tuple, element_to_count)\n",
        "print(f\"The element {element_to_count} occurs {result} times in the tuple.\")"
      ],
      "metadata": {
        "colab": {
          "base_uri": "https://localhost:8080/"
        },
        "id": "y6hWAIiuarCg",
        "outputId": "36b060bf-0ab8-47c7-880f-8579984c0ce8"
      },
      "execution_count": 12,
      "outputs": [
        {
          "output_type": "stream",
          "name": "stdout",
          "text": [
            "The element 2 occurs 3 times in the tuple.\n"
          ]
        }
      ]
    },
    {
      "cell_type": "markdown",
      "source": [
        "###30. Develop a code that prompts the user to input two sets of strings. Then, print the symmetric difference of these two sets."
      ],
      "metadata": {
        "id": "ErxSoFPda1lL"
      }
    },
    {
      "cell_type": "code",
      "source": [
        "set_A = {1, 2, 3, 4, 5}\n",
        "set_B = {6, 7, 3, 9, 4}\n",
        "print(set_A.symmetric_difference(set_B))"
      ],
      "metadata": {
        "colab": {
          "base_uri": "https://localhost:8080/"
        },
        "id": "QktM45dCbNPh",
        "outputId": "96761e49-7676-4fa2-afc9-9550b21b8aab"
      },
      "execution_count": 16,
      "outputs": [
        {
          "output_type": "stream",
          "name": "stdout",
          "text": [
            "{1, 2, 5, 6, 7, 9}\n"
          ]
        }
      ]
    },
    {
      "cell_type": "markdown",
      "source": [
        "###31. Write a code that takes a list of words as input and returns a dictionary where the keys are unique words and the values are the frequencies of those words in the input list."
      ],
      "metadata": {
        "id": "Lc0D-9YedHUl"
      }
    },
    {
      "cell_type": "code",
      "source": [
        "def word_frequency(words):\n",
        "  \"\"\"Calculates the frequency of each word in a list.\n",
        "\n",
        "  Args:\n",
        "    words: A list of words.\n",
        "\n",
        "  Returns:\n",
        "    A dictionary where keys are words and values are their frequencies.\n",
        "  \"\"\"\n",
        "\n",
        "  word_counts = {}\n",
        "  for word in words:\n",
        "    word_counts[word] = word_counts.get(word, 0) + 1\n",
        "  return word_counts\n",
        "\n",
        "# Example usage:\n",
        "word_list = [\"apple\", \"banana\", \"apple\", \"cherry\", \"banana\", \"apple\"]\n",
        "result = word_frequency(word_list)\n",
        "print(result)  # Output: {'apple': 3, 'banana': 2, 'cherry': 1}"
      ],
      "metadata": {
        "colab": {
          "base_uri": "https://localhost:8080/"
        },
        "id": "E6HIgIFPdUtO",
        "outputId": "f90ce9e1-10d3-40ff-a60b-6df3ed1c4c56"
      },
      "execution_count": 17,
      "outputs": [
        {
          "output_type": "stream",
          "name": "stdout",
          "text": [
            "{'apple': 3, 'banana': 2, 'cherry': 1}\n"
          ]
        }
      ]
    },
    {
      "cell_type": "markdown",
      "source": [
        "###32. Write a code that takes two dictionaries as input and merges them into a single dictionary. If there are common keys, the values should be added together."
      ],
      "metadata": {
        "id": "yWzI2Y3edbB8"
      }
    },
    {
      "cell_type": "code",
      "source": [
        "def merge_dictionaries(dict1, dict2):\n",
        "  \"\"\"Merges two dictionaries, adding values for common keys.\n",
        "\n",
        "  Args:\n",
        "    dict1: The first dictionary.\n",
        "    dict2: The second dictionary.\n",
        "\n",
        "  Returns:\n",
        "    A new dictionary with merged keys and added values.\n",
        "  \"\"\"\n",
        "\n",
        "  merged_dict = dict1.copy()\n",
        "  for key, value in dict2.items():\n",
        "    merged_dict[key] = merged_dict.get(key, 0) + value\n",
        "  return merged_dict\n",
        "\n",
        "# Example usage:\n",
        "dict1 = {'a': 1, 'b': 2, 'c': 3}\n",
        "dict2 = {'b': 4, 'd': 5}\n",
        "\n",
        "merged_dict = merge_dictionaries(dict1, dict2)\n",
        "print(merged_dict)  # Output: {'a': 1, 'b': 6, 'c': 3, 'd': 5}"
      ],
      "metadata": {
        "colab": {
          "base_uri": "https://localhost:8080/"
        },
        "id": "YbWmw6KudkVt",
        "outputId": "690cf3bf-6aff-4383-ac27-680bd6cfd908"
      },
      "execution_count": 19,
      "outputs": [
        {
          "output_type": "stream",
          "name": "stdout",
          "text": [
            "{'a': 1, 'b': 6, 'c': 3, 'd': 5}\n"
          ]
        }
      ]
    },
    {
      "cell_type": "markdown",
      "source": [
        "###33. Write a code to access a value in a nested dictionary. The function should take the dictionary and a list of keys as input, and return the corresponding value. If any of the keys do not exist in the dictionary, the function should return None."
      ],
      "metadata": {
        "id": "L5w53eV9dpF_"
      }
    },
    {
      "cell_type": "code",
      "source": [
        "def access_nested_value(dictionary, keys):\n",
        "  \"\"\"Accesses a value in a nested dictionary using a list of keys.\n",
        "\n",
        "  Args:\n",
        "    dictionary: The nested dictionary.\n",
        "    keys: A list of keys to access the value.\n",
        "\n",
        "  Returns:\n",
        "    The value at the specified path, or None if any key is not found.\n",
        "  \"\"\"\n",
        "\n",
        "  current_dict = dictionary\n",
        "  for key in keys:\n",
        "    if key not in current_dict:\n",
        "      return None\n",
        "    current_dict = current_dict[key]\n",
        "  return current_dict\n",
        "\n",
        "# Example usage:\n",
        "nested_dict = {\n",
        "    \"a\": {\n",
        "        \"b\": {\n",
        "            \"c\": 10\n",
        "        }\n",
        "    }\n",
        "}\n",
        "\n",
        "keys_to_access = [\"a\", \"b\", \"c\"]\n",
        "value = access_nested_value(nested_dict, keys_to_access)\n",
        "print(value)  # Output: 10"
      ],
      "metadata": {
        "colab": {
          "base_uri": "https://localhost:8080/"
        },
        "id": "0ZES1k9ZduyO",
        "outputId": "621c8d22-8a3e-428f-ce8a-a5f7196d0609"
      },
      "execution_count": 18,
      "outputs": [
        {
          "output_type": "stream",
          "name": "stdout",
          "text": [
            "10\n"
          ]
        }
      ]
    },
    {
      "cell_type": "markdown",
      "source": [
        "###34. Write a code that takes a dictionary as input and returns a sorted version of it based on the values. You can choose whether to sort in ascending or descending order."
      ],
      "metadata": {
        "id": "kCk0--G9eDR_"
      }
    },
    {
      "cell_type": "code",
      "source": [
        "def sort_dict_by_value(dictionary, ascending=True):\n",
        "  \"\"\"Sorts a dictionary by its values.\n",
        "\n",
        "  Args:\n",
        "    dictionary: The input dictionary.\n",
        "    ascending: Whether to sort in ascending or descending order.\n",
        "\n",
        "  Returns:\n",
        "    A sorted list of key-value pairs.\n",
        "  \"\"\"\n",
        "\n",
        "  sorted_items = sorted(dictionary.items(), key=lambda x: x[1], reverse=not ascending)\n",
        "  return sorted_items\n",
        "\n",
        "# Example usage:\n",
        "my_dict = {'a': 3, 'b': 1, 'c': 5, 'd': 2}\n",
        "\n",
        "# Sort in ascending order\n",
        "sorted_ascending = sort_dict_by_value(my_dict)\n",
        "print(sorted_ascending)  # Output: [('b', 1), ('d', 2), ('a', 3), ('c', 5)]\n",
        "\n",
        "# Sort in descending order\n",
        "sorted_descending = sort_dict_by_value(my_dict, ascending=False)\n",
        "print(sorted_descending)  # Output: [('c', 5), ('a', 3), ('d', 2), ('b', 1)]"
      ],
      "metadata": {
        "colab": {
          "base_uri": "https://localhost:8080/"
        },
        "id": "LqQ-C71jePgQ",
        "outputId": "6bbf6236-b8da-429d-9b34-1879e8a7df11"
      },
      "execution_count": 20,
      "outputs": [
        {
          "output_type": "stream",
          "name": "stdout",
          "text": [
            "[('b', 1), ('d', 2), ('a', 3), ('c', 5)]\n",
            "[('c', 5), ('a', 3), ('d', 2), ('b', 1)]\n"
          ]
        }
      ]
    },
    {
      "cell_type": "markdown",
      "source": [
        "###35. Write a code that inverts a dictionary, swapping keys and values. Ensure that the inverted dictionary correctly handles cases where multiple keys have the same value by storing the keys as a list in the inverted dictionary."
      ],
      "metadata": {
        "id": "y9eKfzI7eRjP"
      }
    },
    {
      "cell_type": "code",
      "source": [
        "def invert_dictionary(dictionary):\n",
        "  \"\"\"Inverts a dictionary, swapping keys and values.\n",
        "\n",
        "  Args:\n",
        "    dictionary: The input dictionary.\n",
        "\n",
        "  Returns:\n",
        "    The inverted dictionary, where values become keys and keys become values.\n",
        "    If multiple keys have the same value, the value becomes a list of keys.\n",
        "  \"\"\"\n",
        "\n",
        "  inverted_dict = {}\n",
        "  for key, value in dictionary.items():\n",
        "    if value not in inverted_dict:\n",
        "      inverted_dict[value] = [key]\n",
        "    else:\n",
        "      inverted_dict[value].append(key)\n",
        "  return inverted_dict\n",
        "\n",
        "# Example usage:\n",
        "original_dict = {'a': 1, 'b': 2, 'c': 2, 'd': 3}\n",
        "inverted_dict = invert_dictionary(original_dict)\n",
        "print(inverted_dict)  # Output: {1: ['a'], 2: ['b', 'c'], 3: ['d']}"
      ],
      "metadata": {
        "colab": {
          "base_uri": "https://localhost:8080/"
        },
        "id": "MqSdPifeeb_C",
        "outputId": "28d3ce56-bd83-4f28-f1a6-46bd56f2ff52"
      },
      "execution_count": 21,
      "outputs": [
        {
          "output_type": "stream",
          "name": "stdout",
          "text": [
            "{1: ['a'], 2: ['b', 'c'], 3: ['d']}\n"
          ]
        }
      ]
    }
  ]
}