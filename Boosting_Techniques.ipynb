{
  "nbformat": 4,
  "nbformat_minor": 0,
  "metadata": {
    "colab": {
      "provenance": [],
      "toc_visible": true
    },
    "kernelspec": {
      "name": "python3",
      "display_name": "Python 3"
    },
    "language_info": {
      "name": "python"
    }
  },
  "cells": [
    {
      "cell_type": "markdown",
      "source": [
        "#Assignment Questions\n",
        "\n",
        "#Theoretical"
      ],
      "metadata": {
        "id": "5zh-z-XD2MSB"
      }
    },
    {
      "cell_type": "markdown",
      "source": [
        "###1.What is Boosting in Machine Learning ?\n",
        "\n",
        "Ans-1. Boosting is an ensemble learning technique in machine learning that aims to improve the accuracy of weak models by combining them into a strong predictive model. The core idea is to sequentially train models, where each new model attempts to correct the errors made by its predecessor. It emphasizes the instances that were previously misclassified, making the subsequent models focus on these harder cases.\n",
        "\n",
        "####Key Features of Boosting:\n",
        "\n",
        "1. Sequential Learning: Models are built one after another, with each model learning from the errors of the previous one.\n",
        "\n",
        "2. Weighted Combination: Predictions from all models are combined (often using a weighted sum or majority vote) to form the final output.\n",
        "\n",
        "3. Focus on Misclassified Instances: Instances that are hard to classify (i.e., misclassified by earlier models) are given more weight in subsequent iterations.\n",
        "\n",
        "####**Popular Boosting Algorithms:**\n",
        "\n",
        "* **AdaBoost (Adaptive Boosting):** Combines weak classifiers (often decision stumps) by assigning weights to their predictions and focusing on misclassified data.\n",
        "\n",
        "* **Gradient Boosting Machines (GBM):** Builds models incrementally by optimizing a loss function (e.g., regression or classification loss) in the direction of its gradient.\n",
        "\n",
        "* **XGBoost:** An advanced and efficient version of Gradient Boosting with additional features like regularization.\n",
        "\n",
        "* **LightGBM:** A boosting algorithm optimized for performance and scalability, particularly with large datasets.\n",
        "\n",
        "* **CatBoost:** A boosting technique designed for categorical data, reducing preprocessing requirements.\n",
        "\n",
        "####Applications of Boosting:\n",
        "\n",
        "* Fraud detection\n",
        "\n",
        "* Financial modeling\n",
        "\n",
        "* Sentiment analysis\n",
        "\n",
        "* Medical diagnosis\n",
        "\n",
        "* Customer churn prediction\n",
        "\n",
        "Boosting is particularly powerful because it balances bias and variance effectively, resulting in a robust predictive model. However, it's worth noting that boosting can be prone to overfitting if not properly regularized or tuned."
      ],
      "metadata": {
        "id": "s-oVTkBB2aKm"
      }
    },
    {
      "cell_type": "markdown",
      "source": [
        "###2.How does Boosting differ from Bagging ?\n",
        "\n",
        "Ans-2. Bagging and boosting are both ensemble learning methods that aim to improve the performance of machine learning models by combining the predictions of multiple base learners. However, they differ significantly in their approach:\n",
        "\n",
        "##Bagging (Bootstrap Aggregating):\n",
        "\n",
        "* **Goal:**\n",
        "\n",
        "* Primarily aims to reduce variance, thereby reducing overfitting.\n",
        "\n",
        "####How it works:\n",
        "\n",
        "* Creates multiple subsets of the training data by sampling with replacement (bootstrapping).\n",
        "\n",
        "* Trains a base learner (e.g., decision tree) on each subset independently.\n",
        "\n",
        "* Combines the predictions of the base learners by averaging (for regression) or voting (for classification).\n",
        "\n",
        "* Models are trained in parallel.\n",
        "\n",
        "####Key characteristics:\n",
        "\n",
        "* Reduces variance.\n",
        "\n",
        "* Independent model training.\n",
        "\n",
        "* Examples: Random Forest.\n",
        "\n",
        "##Boosting:\n",
        "\n",
        "**Goal:**\n",
        "\n",
        "* Primarily aims to reduce bias, thereby reducing underfitting.\n",
        "\n",
        "####How it works:\n",
        "\n",
        "* Trains base learners sequentially, with each learner focusing on the errors made by the previous learners.\n",
        "\n",
        "* Assigns weights to the training data, giving higher weights to misclassified examples.\n",
        "\n",
        "* Combines the predictions of the base learners by weighted averaging or voting.\n",
        "models are trained sequentially.\n",
        "\n",
        "####Key characteristics:\n",
        "\n",
        "* Reduces bias.\n",
        "\n",
        "* Sequential model training.\n",
        "\n",
        "* Emphasis on misclassified examples.\n",
        "\n",
        "* Examples: AdaBoost, Gradient Boosting, XGBoost.\n",
        "\n",
        "####Key Differences Summarized:\n",
        "\n",
        "* **Data Sampling:**\n",
        "\n",
        "* **Bagging:** Random sampling with replacement (bootstrapping).\n",
        "\n",
        "* Boosting: Weights are assigned to data points, with higher weights to misclassified examples.\n",
        "\n",
        "**Model Training:**\n",
        "\n",
        "* Bagging: Parallel.\n",
        "\n",
        "* Boosting: Sequential.\n",
        "\n",
        "**Goal:**\n",
        "\n",
        "* Bagging: Reduce variance.\n",
        "\n",
        "* Boosting: Reduce bias.\n",
        "\n",
        "* Model Weighting:\n",
        "\n",
        "* Bagging: all models are weighted equally.\n",
        "\n",
        "* Boosting: models are weighted based on their performance.\n",
        "\n",
        "**In essence,** bagging focuses on creating a more stable and robust model by averaging out the predictions of multiple independent learners, while boosting focuses on creating a more accurate model by iteratively correcting the errors of previous learners."
      ],
      "metadata": {
        "id": "MRDal5ZG3SlL"
      }
    },
    {
      "cell_type": "markdown",
      "source": [
        "###3.What is the key idea behind AdaBoost ?\n",
        "\n",
        "Ans-3. The key idea behind AdaBoost (Adaptive Boosting) is to combine multiple \"weak learners\" into a single \"strong learner.\" Here's a breakdown of the core concepts:\n",
        "\n",
        "####1. **Weak Learners:**\n",
        "\n",
        "* These are simple models that perform slightly better than random guessing. Often, AdaBoost uses decision stumps (decision trees with only one split) as weak learners.\n",
        "\n",
        "####2. **Sequential Learning:**\n",
        "\n",
        "* AdaBoost trains these weak learners sequentially, meaning each new learner is built based on the performance of the previous ones.\n",
        "\n",
        "####3. **Weighted Data Points:**\n",
        "\n",
        "* A crucial aspect of AdaBoost is how it handles data points. Initially, all data points are assigned equal weights.\n",
        "\n",
        "* As the algorithm progresses, it increases the weights of misclassified data points. This forces subsequent weak learners to focus on the examples that previous learners struggled with.\n",
        "\n",
        "####4. **Weighted Learners:**\n",
        "\n",
        "* In addition to weighting data points, AdaBoost also assigns weights to the weak learners themselves.\n",
        "\n",
        "* Learners that perform well (i.e., have low error rates) are given higher weights, while those that perform poorly are given lower weights.\n",
        "\n",
        "####5. **Strong Learner:**\n",
        "\n",
        "* The final prediction is made by combining the predictions of all the weak learners, with each learner's contribution weighted according to its performance.\n",
        "\n",
        "**In essence, AdaBoost adapts by:**\n",
        "\n",
        "* Focusing on the most difficult-to-classify examples.\n",
        "\n",
        "* Giving more importance to the most accurate weak learners.\n",
        "\n",
        "This adaptive process allows AdaBoost to significantly improve the accuracy of weak learners, resulting in a powerful and robust strong learner.\n"
      ],
      "metadata": {
        "id": "Pskcb0cZ95Rz"
      }
    },
    {
      "cell_type": "markdown",
      "source": [
        "###4.Explain the working of AdaBoost with an example.\n",
        "\n",
        "Ans-4. Let's illustrate AdaBoost's working with a simplified example. Imagine we want to classify points as either red or blue using AdaBoost with decision stumps (one-level decision trees).\n",
        "\n",
        "**Steps:**\n",
        "\n",
        "1. **Initialize Weights:**\n",
        "\n",
        "* Start with equal weights for all data points. If we have N data points, each gets a weight of 1/N.\n",
        "\n",
        "2. **Train the First Weak Learner:**\n",
        "\n",
        "* Find the decision stump that best separates the data, considering the current weights. This means the stump minimizes the weighted error.\n",
        "\n",
        "* For example, let's say the first stump correctly classifies most, but not all, points.\n",
        "\n",
        "3. **Calculate Learner Weight:**\n",
        "\n",
        "* Calculate the error rate of the stump (weighted error).\n",
        "\n",
        "* Calculate the stump's weight (alpha) based on its error rate. A lower error rate results in a higher alpha. The formula is something like: alpha = 0.5 * ln((1-error)/error)\n",
        "\n",
        "* This alpha value represents how much influence this stump will have in the final decision.\n",
        "\n",
        "4. **Update Data Point Weights:**\n",
        "\n",
        "* Increase the weights of the misclassified data points.\n",
        "\n",
        "* Decrease the weights of the correctly classified data points.\n",
        "\n",
        "* The degree of weight adjustment depends on the stump's alpha. Higher alpha implies a bigger adjustment.\n",
        "\n",
        "* Normalize the weights so they sum to 1. Now, future stumps will pay more attention to the previously misclassified points.\n",
        "\n",
        "5. **Train the Next Weak Learner:**\n",
        "\n",
        "* Repeat steps 2-4 with the updated weights.\n",
        "\n",
        "* This new stump will likely focus on the points that the first stump got wrong.\n",
        "Calculate this new stumps alpha value.\n",
        "\n",
        "* Update the data point weights again.\n",
        "\n",
        "6. **Repeat:**\n",
        "\n",
        "* Continue training weak learners for a predefined number of iterations or until a stopping criterion is met.\n",
        "\n",
        "7. **Combine Weak Learners:**\n",
        "\n",
        "* To make a final prediction, combine the predictions of all the weak learners.\n",
        "\n",
        "* Each learner's prediction is weighted by its alpha value.\n",
        "\n",
        "* For classification, the class with the highest weighted sum of votes is the final prediction.\n",
        "\n",
        "**Example Scenario:**\n",
        "\n",
        "Imagine we have a dataset with a few red and blue points.\n",
        "\n",
        "* **Iteration 1:**\n",
        "\n",
        "* A simple vertical line is chosen as the first stump.\n",
        "\n",
        "* It misclassifies some red points.\n",
        "\n",
        "* The weights of those misclassified red points are increased.\n",
        "\n",
        "\n",
        "* **Iteration 2:**\n",
        "\n",
        "* A horizontal line is chosen as the second stump.\n",
        "\n",
        "* It focuses on the previously misclassified red points.\n",
        "\n",
        "* The weights are updated again.\n",
        "\n",
        "\n",
        "* **Iteration 3:**\n",
        "\n",
        "* Another stump is chosen to correct the remaining errors.\n",
        "\n",
        "* The weights are updated again.\n",
        "\n",
        "* **Final Prediction:**\n",
        "\n",
        "* When a new point is presented, all three stumps make their predictions.\n",
        "\n",
        "* The predictions are weighted by their alphas, and the final classification is determined.\n",
        "\n",
        "####Key Takeaways:\n",
        "\n",
        "* AdaBoost is adaptive: It focuses on difficult examples.\n",
        "\n",
        "* It uses weighted learners: Better learners have more influence.\n",
        "\n",
        "* It's sequential: Each learner builds on the errors of the previous ones.\n",
        "\n",
        "* The final result is a strong learner that is much better than any of the individual weak learners."
      ],
      "metadata": {
        "id": "Kgu9vIug-mg6"
      }
    },
    {
      "cell_type": "markdown",
      "source": [
        "###5.What is Gradient Boosting, and how is it different from AdaBoost ?\n",
        "\n",
        "Ans-5. Both AdaBoost and Gradient Boosting are powerful boosting algorithms that combine weak learners to create a strong learner.\n",
        "\n",
        " However, they differ in how they approach the process. Here's a breakdown:\n",
        "\n",
        "##AdaBoost (Adaptive Boosting):\n",
        "\n",
        "* **Focus:**\n",
        "\n",
        "* Primarily focuses on adjusting the weights of training samples.\n",
        "\n",
        "* It gives more weight to misclassified samples, forcing subsequent weak learners to concentrate on those difficult cases.\n",
        "\n",
        "* **Mechanism:**\n",
        "\n",
        "* It assigns weights to data points, increasing the weights of misclassified data.\n",
        "\n",
        "* It also assigns weights to the weak learners themselves, based on their accuracy.\n",
        "\n",
        "* It minimizes an exponential loss function.\n",
        "\n",
        "**Key Idea:**\n",
        "\n",
        "* Adapts by focusing on the most difficult-to-classify examples.\n",
        "\n",
        "## Gradient Boosting:\n",
        "\n",
        "* **Focus:**\n",
        "\n",
        "* Focuses on minimizing a loss function by using gradient descent. It builds new models that predict the residual errors of the previous models.\n",
        "\n",
        "* **Mechanism:**\n",
        "\n",
        "* It uses gradient descent to find the optimal way to add weak learners to the model.\n",
        "\n",
        "* It fits new models to the residuals (the differences between the predicted and actual values) of the previous models.\n",
        "\n",
        "* It is more flexible and can optimize various differentiable loss functions.\n",
        "\n",
        "**Key Idea:**\n",
        "\n",
        "* Minimizes the loss function by iteratively fitting models to the negative gradients of the loss.\n",
        "\n",
        "####**Key Differences Summarized:**\n",
        "\n",
        "* **Error Handling:**\n",
        "\n",
        "* AdaBoost: Adjusts sample weights.\n",
        "\n",
        "* Gradient Boosting: Fits models to residual errors (gradients).\n",
        "\n",
        "* **Loss Function:**\n",
        "\n",
        "* AdaBoost: Typically uses an exponential loss function.\n",
        "\n",
        "* Gradient Boosting: Can use various differentiable loss functions.\n",
        "\n",
        "* **Approach:**\n",
        "\n",
        "* AdaBoost, changes the weight of the training data.\n",
        "\n",
        "* Gradient Boosting, fits new models to the residuals.\n",
        "\n",
        "####In simpler terms:\n",
        "\n",
        "* AdaBoost tweaks the data to make it easier for the next learner.\n",
        "\n",
        "* Gradient Boosting tweaks the model to directly correct the errors of the previous learner.\n",
        "\n",
        "* Gradient Boosting is generally considered more flexible and powerful than AdaBoost, as it can optimize a wider range of loss functions and often achieves better performance.\n",
        "\n",
        "\n",
        "\n",
        "\n",
        "\n",
        "\n",
        "\n"
      ],
      "metadata": {
        "id": "gXDVfazzAewu"
      }
    },
    {
      "cell_type": "markdown",
      "source": [
        "###6.What is the loss function in Gradient Boosting ?\n",
        "\n",
        "Ans-6. In Gradient Boosting, the \"loss function\" plays a crucial role. It's the measure of how well the model is performing, and the algorithm's goal is to minimize this loss. Here's a breakdown:\n",
        "\n",
        "##**What the Loss Function Does:**\n",
        "\n",
        "**Quantifies Error:**\n",
        "\n",
        "* The loss function calculates the difference between the model's predictions and the actual target values. This difference represents the \"error\" of the model.\n",
        "\n",
        "**Guides Optimization:**\n",
        "\n",
        "* Gradient Boosting uses gradient descent to iteratively improve the model. The gradient of the loss function indicates the direction in which to adjust the model's parameters to reduce the error.\n",
        "\n",
        "**Adaptability:**\n",
        "\n",
        "* A key strength of Gradient Boosting is its flexibility. It can work with various loss functions, allowing it to be adapted to different types of problems (regression, classification, etc.).\n",
        "\n",
        "##Common Loss Functions:\n",
        "\n",
        "* **For Regression:**\n",
        "\n",
        "* **Mean Squared Error (MSE):**\n",
        "\n",
        "* This is a very common loss function for regression problems. It calculates the average of the squared differences between predicted and actual values.\n",
        "\n",
        "* **Mean Absolute Error (MAE):**\n",
        "\n",
        "* This calculates the average of the absolute differences between predicted and actual values. It's less sensitive to outliers than MSE.\n",
        "\n",
        "**For Classification:**\n",
        "\n",
        "* **Binary Cross-Entropy (Log Loss):**\n",
        "\n",
        "* Used for binary classification problems. It measures the performance of a classification model whose output is a probability value between 0 and 1.\n",
        "\n",
        "**Categorical Cross-Entropy:**\n",
        "\n",
        "* Used for multi-class classification problems. It generalizes binary cross-entropy to multiple classes.\n",
        "\n",
        "####How it Works in Gradient Boosting:\n",
        "\n",
        "* Gradient Boosting iteratively builds weak learners (typically decision trees).\n",
        "\n",
        "* At each iteration, it calculates the \"pseudo-residuals,\" which are essentially the negative gradients of the loss function.\n",
        "\n",
        "* The weak learner is then trained to predict these pseudo-residuals.\n",
        "\n",
        "* By iteratively adding weak learners that minimize the loss function's gradient, Gradient Boosting gradually improves the model's accuracy.\n",
        "\n",
        "**In essence,**  the loss function provides the \"direction\" for the algorithm to follow in its quest to minimize errors and create a highly accurate predictive model."
      ],
      "metadata": {
        "id": "nXuNt6x2CFxq"
      }
    },
    {
      "cell_type": "markdown",
      "source": [
        "###7.How does XGBoost improve over traditional Gradient Boosting ?\n",
        "\n",
        "Ans-7. XGBoost (eXtreme Gradient Boosting) builds upon the foundation of traditional Gradient Boosting, but it incorporates several key enhancements that significantly improve its performance, speed, and accuracy. Here's a breakdown of the main improvements:\n",
        "\n",
        "####1. **Regularization:**\n",
        "\n",
        "* **XGBoost:**\n",
        "\n",
        "* Employs both L1 (Lasso) and L2 (Ridge) regularization to prevent overfitting. This helps to create more generalized models that perform better on unseen data.\n",
        "\n",
        "* **Traditional Gradient Boosting:**\n",
        "\n",
        "* May have some basic regularization techniques, but they are generally less robust than those in XGBoost.\n",
        "\n",
        "####2. **Speed and Efficiency:**\n",
        "\n",
        "* **XGBoost:**\n",
        "\n",
        "* Is designed for speed and efficiency. It utilizes parallel processing to speed up the training process, making it significantly faster than traditional Gradient Boosting, especially on large datasets.\n",
        "\n",
        "* Optimized algorithms and data structures contribute to its efficiency.\n",
        "\n",
        "* Traditional Gradient Boosting:\n",
        "\n",
        "* Can be slower, particularly with large datasets, due to its sequential nature.\n",
        "\n",
        "####3. **Handling Missing Values:**\n",
        "\n",
        "* **XGBoost:**\n",
        "\n",
        "* Has built-in capabilities to handle missing values, which simplifies data preprocessing.\n",
        "\n",
        "* Traditional Gradient Boosting:\n",
        "\n",
        "* Often requires manual imputation of missing values.\n",
        "\n",
        "####4. **Tree Pruning:**\n",
        "\n",
        "* **XGBoost:**\n",
        "\n",
        "* Uses a more sophisticated tree pruning technique. It grows trees until a certain depth and then prunes back branches that do not provide significant improvements.\n",
        "\n",
        "* Traditional Gradient Boosting:\n",
        "\n",
        "* May use simpler tree pruning methods.\n",
        "\n",
        "####5. **Second-Order Gradients (Hessian):**\n",
        "\n",
        "* **XGBoost:**\n",
        "\n",
        "* Uses second-order gradients (Hessian information) in addition to first-order gradients. This provides more information about the gradient's curvature, leading to more accurate and faster convergence.\n",
        "\n",
        "* Traditional Gradient Boosting:\n",
        "\n",
        "* Typically uses only first-order gradients.\n",
        "\n",
        "* **In summary:**\n",
        "\n",
        "XGBoost is essentially an optimized version of Gradient Boosting.Its advancements in regularization, speed, handling missing values, and tree pruning make it a powerful and widely used algorithm in machine learning.\n"
      ],
      "metadata": {
        "id": "B-Ge74mNDv7V"
      }
    },
    {
      "cell_type": "markdown",
      "source": [
        "###8.What is the difference between XGBoost and CatBoost ?\n",
        "\n",
        "Ans-8. XGBoost and CatBoost are both powerful gradient boosting algorithms, but they have key differences that make them suitable for different situations.\n",
        "\n",
        " Here's a breakdown of their main distinctions:\n",
        "\n",
        " 1. **Handling Categorical Features:**\n",
        "\n",
        "* **CatBoost:**\n",
        "\n",
        "* CatBoost excels at handling categorical features natively. It has a built-in mechanism to deal with categorical variables, reducing the need for extensive preprocessing like one-hot encoding. This is a significant advantage when working with datasets containing many categorical columns.\n",
        "\n",
        "* **XGBoost:\n",
        "\n",
        "* While XGBoost has gained some categorical handling abilities, traditionally, it requires categorical features to be encoded into numerical values before training. This preprocessing step can be time-consuming and may lead to information loss.\n",
        "\n",
        "2. **Overfitting:**\n",
        "\n",
        "* **CatBoost:**\n",
        "\n",
        "* CatBoost uses an innovative \"ordered boosting\" technique that helps to reduce overfitting. This approach is designed to prevent target leakage, which is a common problem when dealing with categorical data.\n",
        "\n",
        "* **XGBoost:**\n",
        "\n",
        "* XGBoost relies heavily on regularization parameters (L1 and L2) to control overfitting. While effective, it often requires careful tuning of these parameters.\n",
        "\n",
        "3. **Tree Structure:**\n",
        "\n",
        "* **CatBoost:**\n",
        "\n",
        "* CatBoost often uses symmetric trees, which can be faster to build and may be less prone to overfitting.\n",
        "\n",
        "* **XGBoost:**\n",
        "\n",
        "* XGBoost offers more flexibility in tree structure, allowing for more complex and potentially more accurate models, but this can also increase the risk of overfitting.\n",
        "\n",
        "4. **Performance and Speed:**\n",
        "\n",
        "* **CatBoost:**\n",
        "\n",
        "* CatBoost can be very efficient, especially when dealing with datasets that have many categorical features.\n",
        "\n",
        "* **XGBoost:**\n",
        "\n",
        "* XGBoost is renowned for its speed and performance, particularly on structured numerical data. It's highly optimized and widely used in competitive machine learning.\n",
        "\n",
        "* **In essence:**\n",
        "\n",
        "* If your dataset contains a large number of categorical features, CatBoost might be the better choice due to its native handling of such data.\n",
        "\n",
        "* If you're working with predominantly numerical data and require maximum flexibility and performance, XGBoost is a strong contender.\n",
        "\n",
        "Both algorithms are highly effective, and the best choice often depends on the specific characteristics of your dataset and the requirements of your machine learning task."
      ],
      "metadata": {
        "id": "Qjqie5jrQN8l"
      }
    },
    {
      "cell_type": "markdown",
      "source": [
        "###9.What are some real-world applications of Boosting techniques ?\n",
        "\n",
        "Ans-9. Boosting techniques have proven to be incredibly valuable in a wide range of real-world applications. Here are some key areas where they're frequently used:\n",
        "\n",
        "1. **Finance:**\n",
        "\n",
        "* **Fraud Detection:**\n",
        "\n",
        "* Boosting algorithms are excellent at identifying unusual patterns in transaction data, which helps banks and credit card companies detect fraudulent activity.\n",
        "\n",
        "* **Credit Risk Assessment:**\n",
        "\n",
        "* These techniques are used to predict the likelihood of loan defaults by analyzing various factors in a borrower's history.\n",
        "\n",
        "* **Algorithmic Trading:**\n",
        "\n",
        "* Boosting models can be employed to predict stock price movements and inform trading decisions.\n",
        "\n",
        "2. **Healthcare:**\n",
        "\n",
        "* **Disease Diagnosis:**\n",
        "\n",
        "* Boosting algorithms can analyze medical images and patient data to assist in the early detection and diagnosis of diseases like cancer.\n",
        "\n",
        "* **Predicting Patient Outcomes:**\n",
        "\n",
        "* They can be used to predict patient responses to treatments and identify risk factors for various medical conditions.\n",
        "\n",
        "3. **E-commerce:**\n",
        "\n",
        "* **Recommendation Systems:**\n",
        "\n",
        "* Boosting helps to provide personalized product recommendations to customers by analyzing their browsing and purchasing history.\n",
        "\n",
        "* **Customer Churn Prediction:**\n",
        "\n",
        "* Businesses use these techniques to identify customers who are likely to stop using their services, allowing them to take proactive measures.\n",
        "\n",
        "4. **Natural Language Processing (NLP):**\n",
        "\n",
        "* **Sentiment Analysis:**\n",
        "\n",
        "* Boosting algorithms can analyze text data to determine the sentiment (positive, negative, or neutral) expressed in reviews, social media posts, and other forms of text.\n",
        "\n",
        "* **Search Engine Ranking:**\n",
        "\n",
        "* These techniques are used to improve the accuracy of search engine results by analyzing the relevance of web pages to search queries.\n",
        "\n",
        "5. **Image Recognition and Computer Vision:**\n",
        "\n",
        "* **Facial Recognition:**\n",
        "\n",
        "* Boosting algorithms play a role in facial recognition systems used for security and identification purposes.\n",
        "\n",
        "* **Object Detection:**\n",
        "\n",
        "* They are used in applications such as self-driving cars to detect and identify objects in the vehicle's surroundings.\n",
        "\n",
        "####Key Advantages:\n",
        "\n",
        "* Boosting algorithms are known for their high accuracy.\n",
        "\n",
        "* They can handle complex datasets.\n",
        "\n",
        "* They are versatile and can be applied to a wide range of problems.\n",
        "\n",
        "These are just a few examples of the many ways that boosting techniques are being used to solve real-world problems."
      ],
      "metadata": {
        "id": "VR7kOG9aTcAl"
      }
    },
    {
      "cell_type": "markdown",
      "source": [
        "###10.How does regularization help in XGBoost ?\n",
        "\n",
        "Ans-10. Regularization plays a vital role in XGBoost, primarily to prevent overfitting and improve the model's ability to generalize to unseen data. Here's a breakdown of how it works:\n",
        "\n",
        "##The Problem of Overfitting:\n",
        "\n",
        "* Overfitting occurs when a model learns the training data too well, including its noise and idiosyncrasies. This leads to excellent performance on the training set but poor performance on new, unseen data.\n",
        "\n",
        "* In the context of tree-based models like XGBoost, overfitting can manifest as excessively complex trees with many branches and leaves, capturing even minor variations in the training data.\n",
        "\n",
        "##How Regularization Helps:\n",
        "\n",
        "XGBoost incorporates several regularization techniques to combat overfitting:\n",
        "\n",
        "**L1 and L2 Regularization:**\n",
        "\n",
        "* XGBoost allows for both L1 (Lasso) and L2 (Ridge) regularization on the leaf weights of the trees.\n",
        "\n",
        "* L1 regularization encourages sparsity, meaning it can drive some leaf weights to exactly zero, effectively pruning less important parts of the model.\n",
        "\n",
        "* L2 regularization penalizes large leaf weights, promoting smaller, more evenly distributed weights. This helps to smooth the model and reduce its sensitivity to individual data points.\n",
        "\n",
        "**Gamma (γ):**\n",
        "\n",
        "* This parameter controls the minimum loss reduction required to make a further partition on a leaf node.\n",
        "\n",
        "* A higher gamma value results in more conservative splits, leading to simpler trees and reducing the likelihood of overfitting.\n",
        "\n",
        "##Other Regularization Techniques:\n",
        "\n",
        "* XGBoost also employs techniques like subsampling (randomly selecting subsets of the data) and column subsampling (randomly selecting subsets of features) to further reduce overfitting.\n",
        "\n",
        "* Early stopping: by monitoring the performance of the model on a validation data set, training can be stopped when the performance starts to degrade. This prevents the model from training too long and overfitting the training data.\n",
        "\n",
        "**In essence, regularization in XGBoost:**\n",
        "\n",
        "* Simplifies the model by penalizing complexity.\n",
        "\n",
        "* Reduces the model's sensitivity to noise in the training data.\n",
        "\n",
        "* Improves the model's ability to generalize to new, unseen data.\n",
        "\n",
        "By effectively utilizing these regularization techniques, XGBoost achieves a balance between model accuracy and generalization, making it a powerful and robust machine learning algorithm.\n"
      ],
      "metadata": {
        "id": "NvDBLa77TkHe"
      }
    },
    {
      "cell_type": "markdown",
      "source": [
        "###11.What are some hyperparameters to tune in Gradient Boosting models ?\n",
        "\n",
        "Ans-11. When working with Gradient Boosting models, effective hyperparameter tuning is crucial for optimizing performance. Here's a breakdown of the key hyperparameters you should focus on:\n",
        "\n",
        "1. **Learning Rate (eta/learning_rate):**\n",
        "\n",
        "**Purpose:**\n",
        "\n",
        "* Controls the contribution of each tree to the final prediction. A smaller learning rate requires more trees but often leads to better generalization.\n",
        "\n",
        "**Tuning:**\n",
        "\n",
        "* Experiment with small values (e.g., 0.01, 0.1).\n",
        "\n",
        "* Lower values generally require increasing the number of trees.\n",
        "\n",
        "2. **Number of Trees (n_estimators/n_iterations):**\n",
        "\n",
        "**Purpose:**\n",
        "\n",
        "* Determines the number of boosting rounds (trees) to be built.\n",
        "\n",
        "**Tuning:**\n",
        "\n",
        "* Increase until performance plateaus or starts to degrade.\n",
        "\n",
        "* Often tuned in conjunction with the learning rate.\n",
        "\n",
        "3. **Maximum Depth of Trees (max_depth):**\n",
        "\n",
        "**Purpose:**\n",
        "\n",
        "* Controls the complexity of individual trees. Deeper trees can capture more complex patterns but increase the risk of overfitting.\n",
        "\n",
        "**Tuning:**\n",
        "\n",
        "* Start with shallow trees (e.g., 3-8) and adjust based on performance.\n",
        "\n",
        "* Smaller depths are preferred in boosting.\n",
        "\n",
        "4. **Minimum Samples per Leaf (min_samples_leaf):**\n",
        "\n",
        "**Purpose:**\n",
        "\n",
        "* Sets the minimum number of samples required to be at a leaf node.\n",
        "\n",
        "**Tuning:**\n",
        "\n",
        "* Helps to prevent overfitting by ensuring that leaf nodes have a sufficient number of samples.\n",
        "\n",
        "* Higher values smooth the model.\n",
        "\n",
        "5. **Subsampling (subsample):**\n",
        "\n",
        "**Purpose:**\n",
        "\n",
        "* Controls the fraction of training data used to build each tree.\n",
        "\n",
        "**Tuning:**\n",
        "\n",
        "* Reduces variance and speeds up training.\n",
        "\n",
        "* Values less than 1 (e.g., 0.8) introduce randomness.\n",
        "\n",
        "6. **Column Subsampling (colsample_bytree/max_features):**\n",
        "\n",
        "**Purpose:**\n",
        "\n",
        "* Controls the fraction of features used to build each tree.\n",
        "\n",
        "**Tuning:**\n",
        "\n",
        "* Similar to subsampling, it reduces variance and adds randomness.\n",
        "\n",
        "* Helps to prevent overfitting and decorrelate trees.\n",
        "\n",
        "####Key Considerations:\n",
        "\n",
        "**Interaction:**\n",
        "\n",
        "* Hyperparameters often interact, so tuning them in isolation may not be optimal.\n",
        "\n",
        "* **Cross-Validation:**\n",
        "\n",
        "* Use cross-validation to evaluate model performance and avoid overfitting to the training data.\n",
        "\n",
        "**Tuning Techniques:**\n",
        "\n",
        "* Grid search, random search, and Bayesian optimization are common techniques for hyperparameter tuning.\n",
        "\n",
        "By carefully tuning these hyperparameters, you can significantly improve the performance of your Gradient Boosting models."
      ],
      "metadata": {
        "id": "t_2t7-7KVqqU"
      }
    },
    {
      "cell_type": "markdown",
      "source": [
        "###12.What is the concept of Feature Importance in Boosting ?\n",
        "\n",
        "Ans-12. In the context of boosting algorithms, particularly gradient boosting, \"feature importance\" refers to a measure of how much each feature contributes to the predictions made by the model. Essentially, it helps us understand which features are most influential in determining the outcome.\n",
        "\n",
        "**Here's a breakdown of the concept:**\n",
        "\n",
        "**Core Idea:**\n",
        "\n",
        "* Boosting algorithms, like XGBoost, LightGBM, and CatBoost, build ensembles of decision trees.\n",
        "\n",
        "* During the training process, these algorithms repeatedly split the data based on features that best reduce the prediction error.\n",
        "\n",
        "* Features that are used more frequently or that result in greater error reduction are considered more important.\n",
        "\n",
        "**How it's Measured:**\n",
        "\n",
        "There are several ways to quantify feature importance in boosting models:\n",
        "\n",
        "**Gain:**\n",
        "\n",
        "* This measures the improvement in accuracy brought by a feature to the branches it is on.\n",
        "\n",
        "* It represents the contribution of each feature to the model.\n",
        "\n",
        "**Weight (Frequency):**\n",
        "\n",
        "* This counts the number of times a feature is used to split the data across all the trees in the model.\n",
        "\n",
        "* A higher count indicates that the feature is used more often in the decision-making process.\n",
        "\n",
        "**Cover:**\n",
        "\n",
        "* This measures the number of observations affected by each feature.\n",
        "\n",
        "**Why Feature Importance Matters:**\n",
        "\n",
        "**Feature Selection:**\n",
        "\n",
        "* It helps identify the most relevant features, allowing you to discard less important ones. This can simplify the model, improve performance, and reduce training time.\n",
        "\n",
        "**Model Interpretation:**\n",
        "\n",
        "* It provides insights into which factors are driving the model's predictions, making the model more interpretable.\n",
        "\n",
        "**Data Understanding:**\n",
        "\n",
        "* It can reveal important relationships between features and the target variable, leading to a better understanding of the data.\n",
        "\n",
        "**Important Considerations:**\n",
        "\n",
        "* Feature importance values can vary depending on the specific algorithm and the method used to calculate them.\n",
        "\n",
        "* Correlated features can sometimes lead to misleading importance scores.\n",
        "It's often helpful to visualize feature importance using bar charts or other graphical representations.\n",
        "\n",
        "**In essence,** feature importance in boosting provides a valuable tool for understanding and optimizing your machine learning models.\n"
      ],
      "metadata": {
        "id": "Bpp6S2spXkxY"
      }
    },
    {
      "cell_type": "markdown",
      "source": [
        "###13.Why is CatBoost efficient for categorical data ?\n",
        "\n",
        "Ans-13. CatBoost's efficiency in handling categorical data stems from its innovative approach to addressing the challenges posed by these types of features. Here's a breakdown of the key factors:\n",
        "\n",
        "1. **Native Handling of Categorical Features:**\n",
        "\n",
        "* Unlike many machine learning algorithms that require categorical variables to be converted into numerical form (e.g., one-hot encoding), CatBoost can work with them directly. This eliminates the need for extensive and potentially problematic preprocessing.\n",
        "\n",
        "* One-hot encoding, for instance, can lead to high-dimensional and sparse data, which can negatively impact model performance and increase computational cost.\n",
        "\n",
        "2. **Ordered Target Statistics:**\n",
        "\n",
        "* CatBoost employs a sophisticated method called \"ordered target statistics\" to convert categorical features into numerical values. This approach minimizes target leakage, a common issue where information from the target variable inadvertently influences the encoding process, leading to overfitting.\n",
        "\n",
        "* Essentially, it calculates target statistics in a way that avoids using future information, ensuring a more robust and reliable encoding.\n",
        "\n",
        "3. **Reduced Overfitting:**\n",
        "\n",
        "* CatBoost's ordered boosting technique is designed to prevent overfitting, which is particularly important when dealing with categorical data.\n",
        "\n",
        "* By using permutations of the dataset and only using past information to calculate gradients, CatBoost reduces the risk of prediction shift and improves the model's generalization ability.\n",
        "\n",
        "4. **Handling Combinations of Categorical Features:**\n",
        "\n",
        "* CatBoost can automatically handle combinations of categorical features, which can be crucial for capturing complex relationships within the data.\n",
        "\n",
        "* This capability allows the model to identify and utilize interactions between categorical variables without requiring manual feature engineering.\n",
        "\n",
        "**In summary:**\n",
        "\n",
        "CatBoost's efficiency with categorical data arises from its ability to:\n",
        "\n",
        "* Process categorical features natively.\n",
        "\n",
        "* Use robust encoding techniques that minimize overfitting.\n",
        "\n",
        "* Handle feature combinations effectively.\n",
        "\n",
        "These features make CatBoost a powerful tool for working with datasets that contain a significant number of categorical variables.\n"
      ],
      "metadata": {
        "id": "BESBzg1JYzyI"
      }
    },
    {
      "cell_type": "markdown",
      "source": [
        "#Practical"
      ],
      "metadata": {
        "id": "7B4F9C-aZ9uq"
      }
    },
    {
      "cell_type": "markdown",
      "source": [
        "###14.Train an AdaBoost Classifier on a sample dataset and print model accuracy."
      ],
      "metadata": {
        "id": "2M0CKqo8aCbW"
      }
    },
    {
      "cell_type": "code",
      "source": [
        "# Import necessary libraries\n",
        "from sklearn.datasets import make_classification\n",
        "from sklearn.model_selection import train_test_split\n",
        "from sklearn.ensemble import AdaBoostClassifier\n",
        "from sklearn.metrics import accuracy_score\n",
        "\n",
        "# Generate a synthetic dataset\n",
        "X, y = make_classification(n_samples=1000, n_features=20, n_informative=15, n_redundant=5, random_state=42)\n",
        "\n",
        "# Split the dataset into training and testing sets\n",
        "X_train, X_test, y_train, y_test = train_test_split(X, y, test_size=0.3, random_state=42)\n",
        "\n",
        "# Initialize the AdaBoost Classifier\n",
        "clf = AdaBoostClassifier(n_estimators=50, random_state=42)\n",
        "\n",
        "# Fit the model on the training data\n",
        "clf.fit(X_train, y_train)\n",
        "\n",
        "# Make predictions on the testing data\n",
        "y_pred = clf.predict(X_test)\n",
        "\n",
        "# Calculate and print the accuracy of the model\n",
        "accuracy = accuracy_score(y_test, y_pred)\n",
        "print(f\"Model Accuracy: {accuracy * 100:.2f}%\")\n"
      ],
      "metadata": {
        "colab": {
          "base_uri": "https://localhost:8080/"
        },
        "id": "aN9KZrrdaKrO",
        "outputId": "dbffcdc5-f2cc-4af4-a362-1ea01d1f6339"
      },
      "execution_count": null,
      "outputs": [
        {
          "output_type": "stream",
          "name": "stdout",
          "text": [
            "Model Accuracy: 83.67%\n"
          ]
        }
      ]
    },
    {
      "cell_type": "markdown",
      "source": [
        "###15.Train an AdaBoost Regressor and evaluate performance using Mean Absolute Error (MAE)."
      ],
      "metadata": {
        "id": "OFRjyD7Panke"
      }
    },
    {
      "cell_type": "code",
      "source": [
        "# Import necessary libraries\n",
        "from sklearn.datasets import make_regression\n",
        "from sklearn.model_selection import train_test_split\n",
        "from sklearn.ensemble import AdaBoostRegressor\n",
        "from sklearn.metrics import mean_absolute_error\n",
        "\n",
        "# Generate a synthetic regression dataset\n",
        "X, y = make_regression(n_samples=1000, n_features=20, noise=0.1, random_state=42)\n",
        "\n",
        "# Split the dataset into training and testing sets\n",
        "X_train, X_test, y_train, y_test = train_test_split(X, y, test_size=0.3, random_state=42)\n",
        "\n",
        "# Initialize the AdaBoost Regressor\n",
        "regressor = AdaBoostRegressor(n_estimators=50, random_state=42)\n",
        "\n",
        "# Fit the model on the training data\n",
        "regressor.fit(X_train, y_train)\n",
        "\n",
        "# Make predictions on the testing data\n",
        "y_pred = regressor.predict(X_test)\n",
        "\n",
        "# Calculate and print the Mean Absolute Error (MAE)\n",
        "mae = mean_absolute_error(y_test, y_pred)\n",
        "print(f\"Mean Absolute Error (MAE): {mae:.2f}\")\n"
      ],
      "metadata": {
        "colab": {
          "base_uri": "https://localhost:8080/"
        },
        "id": "xUdXBsGaaxfT",
        "outputId": "beaea744-61fd-4ff1-902c-ae8931882e5a"
      },
      "execution_count": null,
      "outputs": [
        {
          "output_type": "stream",
          "name": "stdout",
          "text": [
            "Mean Absolute Error (MAE): 74.79\n"
          ]
        }
      ]
    },
    {
      "cell_type": "markdown",
      "source": [
        "###16.Train a Gradient Boosting Classifier on the Breast Cancer dataset and print feature importance."
      ],
      "metadata": {
        "id": "crZEW9ITa2vS"
      }
    },
    {
      "cell_type": "code",
      "source": [
        "# Import necessary libraries\n",
        "from sklearn.datasets import load_breast_cancer\n",
        "from sklearn.ensemble import GradientBoostingClassifier\n",
        "from sklearn.model_selection import train_test_split\n",
        "import numpy as np\n",
        "\n",
        "# Load the Breast Cancer dataset\n",
        "data = load_breast_cancer()\n",
        "X, y = data.data, data.target\n",
        "feature_names = data.feature_names\n",
        "\n",
        "# Split the dataset into training and testing sets\n",
        "X_train, X_test, y_train, y_test = train_test_split(X, y, test_size=0.3, random_state=42)\n",
        "\n",
        "# Initialize the Gradient Boosting Classifier\n",
        "gb_clf = GradientBoostingClassifier(n_estimators=100, learning_rate=0.1, random_state=42)\n",
        "\n",
        "# Fit the model on the training data\n",
        "gb_clf.fit(X_train, y_train)\n",
        "\n",
        "# Print feature importance\n",
        "importances = gb_clf.feature_importances_\n",
        "for name, importance in zip(feature_names, importances):\n",
        "    print(f\"{name}: {importance:.4f}\")\n",
        "\n",
        "# Optional: Check model accuracy\n",
        "accuracy = gb_clf.score(X_test, y_test)\n",
        "print(f\"\\nModel Accuracy: {accuracy * 100:.2f}%\")\n"
      ],
      "metadata": {
        "colab": {
          "base_uri": "https://localhost:8080/"
        },
        "id": "RWREILLva-32",
        "outputId": "6b4fde65-b6b6-4721-d087-1cb46b90365e"
      },
      "execution_count": null,
      "outputs": [
        {
          "output_type": "stream",
          "name": "stdout",
          "text": [
            "mean radius: 0.0000\n",
            "mean texture: 0.0184\n",
            "mean perimeter: 0.0004\n",
            "mean area: 0.0003\n",
            "mean smoothness: 0.0009\n",
            "mean compactness: 0.0017\n",
            "mean concavity: 0.0012\n",
            "mean concave points: 0.4349\n",
            "mean symmetry: 0.0002\n",
            "mean fractal dimension: 0.0007\n",
            "radius error: 0.0100\n",
            "texture error: 0.0013\n",
            "perimeter error: 0.0020\n",
            "area error: 0.0055\n",
            "smoothness error: 0.0004\n",
            "compactness error: 0.0044\n",
            "concavity error: 0.0156\n",
            "concave points error: 0.0034\n",
            "symmetry error: 0.0018\n",
            "fractal dimension error: 0.0006\n",
            "worst radius: 0.0454\n",
            "worst texture: 0.0472\n",
            "worst perimeter: 0.0510\n",
            "worst area: 0.0480\n",
            "worst smoothness: 0.0045\n",
            "worst compactness: 0.0010\n",
            "worst concavity: 0.0230\n",
            "worst concave points: 0.2738\n",
            "worst symmetry: 0.0013\n",
            "worst fractal dimension: 0.0011\n",
            "\n",
            "Model Accuracy: 95.91%\n"
          ]
        }
      ]
    },
    {
      "cell_type": "markdown",
      "source": [
        "###17.Train a Gradient Boosting Regressor and evaluate using R-Squared Score.\n"
      ],
      "metadata": {
        "id": "PMDWYee9bPPL"
      }
    },
    {
      "cell_type": "code",
      "source": [
        "# Import necessary libraries\n",
        "from sklearn.datasets import make_regression\n",
        "from sklearn.model_selection import train_test_split\n",
        "from sklearn.ensemble import GradientBoostingRegressor\n",
        "from sklearn.metrics import r2_score\n",
        "\n",
        "# Generate a synthetic regression dataset\n",
        "X, y = make_regression(n_samples=1000, n_features=20, noise=0.1, random_state=42)\n",
        "\n",
        "# Split the dataset into training and testing sets\n",
        "X_train, X_test, y_train, y_test = train_test_split(X, y, test_size=0.3, random_state=42)\n",
        "\n",
        "# Initialize the Gradient Boosting Regressor\n",
        "gbr = GradientBoostingRegressor(n_estimators=100, learning_rate=0.1, random_state=42)\n",
        "\n",
        "# Fit the model on the training data\n",
        "gbr.fit(X_train, y_train)\n",
        "\n",
        "# Make predictions on the testing data\n",
        "y_pred = gbr.predict(X_test)\n",
        "\n",
        "# Calculate and print the R-Squared score\n",
        "r2 = r2_score(y_test, y_pred)\n",
        "print(f\"R-Squared Score: {r2:.4f}\")\n"
      ],
      "metadata": {
        "colab": {
          "base_uri": "https://localhost:8080/"
        },
        "id": "3NUlaETbbaEn",
        "outputId": "2716f845-551a-471b-e3f1-d852f9bf2668"
      },
      "execution_count": null,
      "outputs": [
        {
          "output_type": "stream",
          "name": "stdout",
          "text": [
            "R-Squared Score: 0.9119\n"
          ]
        }
      ]
    },
    {
      "cell_type": "markdown",
      "source": [
        "###18.Train an XGBoost Classifier on a dataset and compare accuracy with Gradient Boosting."
      ],
      "metadata": {
        "id": "b6uxaeoxbhFK"
      }
    },
    {
      "cell_type": "code",
      "source": [
        "import numpy as np\n",
        "from sklearn.datasets import make_classification\n",
        "from sklearn.model_selection import train_test_split\n",
        "from sklearn.ensemble import GradientBoostingClassifier\n",
        "from xgboost import XGBClassifier\n",
        "from sklearn.metrics import accuracy_score\n",
        "\n",
        "# Generate a synthetic dataset\n",
        "X, y = make_classification(n_samples=1000, n_features=20, random_state=42)\n",
        "\n",
        "# Split the dataset into training and testing sets\n",
        "X_train, X_test, y_train, y_test = train_test_split(X, y, test_size=0.2, random_state=42)\n",
        "\n",
        "# Train Gradient Boosting Classifier\n",
        "gb_classifier = GradientBoostingClassifier(random_state=42)\n",
        "gb_classifier.fit(X_train, y_train)\n",
        "gb_predictions = gb_classifier.predict(X_test)\n",
        "gb_accuracy = accuracy_score(y_test, gb_predictions)\n",
        "\n",
        "# Train XGBoost Classifier\n",
        "xgb_classifier = XGBClassifier(random_state=42)\n",
        "xgb_classifier.fit(X_train, y_train)\n",
        "xgb_predictions = xgb_classifier.predict(X_test)\n",
        "xgb_accuracy = accuracy_score(y_test, xgb_predictions)\n",
        "\n",
        "# Print the accuracy scores\n",
        "print(f\"Gradient Boosting Accuracy: {gb_accuracy:.4f}\")\n",
        "print(f\"XGBoost Accuracy: {xgb_accuracy:.4f}\")\n",
        "\n",
        "#Hyperparameter tuning example for XGBoost.\n",
        "from sklearn.model_selection import GridSearchCV\n",
        "\n",
        "param_grid = {\n",
        "    'n_estimators': [100, 200, 300],\n",
        "    'max_depth': [3, 4, 5],\n",
        "    'learning_rate': [0.01, 0.1, 0.2]\n",
        "}\n",
        "\n",
        "grid_search = GridSearchCV(XGBClassifier(random_state=42), param_grid, cv=3)\n",
        "grid_search.fit(X_train, y_train)\n",
        "\n",
        "best_xgb = grid_search.best_estimator_\n",
        "best_xgb_predictions = best_xgb.predict(X_test)\n",
        "best_xgb_accuracy = accuracy_score(y_test, best_xgb_predictions)\n",
        "\n",
        "print(f\"Tuned XGBoost Accuracy: {best_xgb_accuracy:.4f}\")\n",
        "print(f\"Best parameters: {grid_search.best_params_}\")\n",
        "\n",
        "#Hyperparameter tuning example for GradientBoosting.\n",
        "param_grid_gb = {\n",
        "    'n_estimators': [100, 200, 300],\n",
        "    'max_depth': [3, 4, 5],\n",
        "    'learning_rate': [0.01, 0.1, 0.2]\n",
        "}\n",
        "\n",
        "grid_search_gb = GridSearchCV(GradientBoostingClassifier(random_state=42), param_grid_gb, cv=3)\n",
        "grid_search_gb.fit(X_train, y_train)\n",
        "\n",
        "best_gb = grid_search_gb.best_estimator_\n",
        "best_gb_predictions = best_gb.predict(X_test)\n",
        "best_gb_accuracy = accuracy_score(y_test, best_gb_predictions)\n",
        "\n",
        "print(f\"Tuned Gradient Boosting Accuracy: {best_gb_accuracy:.4f}\")\n",
        "print(f\"Best parameters: {grid_search_gb.best_params_}\")"
      ],
      "metadata": {
        "colab": {
          "base_uri": "https://localhost:8080/"
        },
        "id": "77cvxpSEb3D4",
        "outputId": "41000638-83cd-44ee-bd93-ff14eff3eccf"
      },
      "execution_count": null,
      "outputs": [
        {
          "output_type": "stream",
          "name": "stdout",
          "text": [
            "Gradient Boosting Accuracy: 0.9150\n",
            "XGBoost Accuracy: 0.8950\n",
            "Tuned XGBoost Accuracy: 0.9000\n",
            "Best parameters: {'learning_rate': 0.01, 'max_depth': 4, 'n_estimators': 300}\n",
            "Tuned Gradient Boosting Accuracy: 0.9050\n",
            "Best parameters: {'learning_rate': 0.1, 'max_depth': 4, 'n_estimators': 200}\n"
          ]
        }
      ]
    },
    {
      "cell_type": "markdown",
      "source": [
        "###19.Train a CatBoost Classifier and evaluate using F1-Score."
      ],
      "metadata": {
        "id": "eP2ZX_Apb9QM"
      }
    },
    {
      "cell_type": "code",
      "source": [
        "import numpy as np\n",
        "from catboost import CatBoostClassifier\n",
        "from sklearn.model_selection import train_test_split\n",
        "from sklearn.metrics import f1_score\n",
        "\n",
        "def train_evaluate_catboost(X, y, test_size=0.2, random_state=42):\n",
        "    \"\"\"\n",
        "    Trains a CatBoost Classifier and evaluates it using F1-score.\n",
        "\n",
        "    Args:\n",
        "        X (numpy.ndarray or pandas.DataFrame): Features.\n",
        "        y (numpy.ndarray or pandas.Series): Target variable.\n",
        "        test_size (float, optional): Proportion of the dataset to include in the test split. Defaults to 0.2.\n",
        "        random_state (int, optional): Random seed for reproducibility. Defaults to 42.\n",
        "\n",
        "    Returns:\n",
        "        tuple: (CatBoostClassifier, float) Trained model and F1-score on the test set.\n",
        "    \"\"\"\n",
        "\n",
        "    X_train, X_test, y_train, y_test = train_test_split(X, y, test_size=test_size, random_state=random_state)\n",
        "\n",
        "    model = CatBoostClassifier(\n",
        "        iterations=100,  # You can adjust the number of iterations\n",
        "        learning_rate=0.1,  # You can adjust the learning rate\n",
        "        depth=6,  # You can adjust the tree depth\n",
        "        loss_function='Logloss', #or 'MultiClass' depending on your task\n",
        "        verbose=0, # To prevent printing every iteration\n",
        "        random_state=random_state\n",
        "    )\n",
        "\n",
        "    model.fit(X_train, y_train)\n",
        "\n",
        "    y_pred = model.predict(X_test)\n",
        "\n",
        "    f1 = f1_score(y_test, y_pred, average='weighted') # or 'binary' for binary classification. Adjust as needed.\n",
        "    # if multiclass, use 'weighted' or 'macro'\n",
        "\n",
        "    return model, f1\n",
        "\n",
        "# Example usage (replace with your data):\n",
        "# Generate some example data\n",
        "np.random.seed(42)\n",
        "X = np.random.rand(100, 5)\n",
        "y = np.random.randint(0, 2, 100) # binary classification example. For multiclass, adjust the range.\n",
        "\n",
        "trained_model, f1_score_value = train_evaluate_catboost(X, y)\n",
        "\n",
        "print(f\"Trained CatBoost model: {trained_model}\")\n",
        "print(f\"F1-score: {f1_score_value}\")\n",
        "\n",
        "#Example usage for multiclass classification\n",
        "np.random.seed(42)\n",
        "X_multi = np.random.rand(100, 5)\n",
        "y_multi = np.random.randint(0, 3, 100) # multiclass example (3 classes)\n",
        "\n",
        "trained_model_multi, f1_score_value_multi = train_evaluate_catboost(X_multi, y_multi)\n",
        "\n",
        "print(f\"Trained CatBoost model: {trained_model_multi}\")\n",
        "print(f\"F1-score: {f1_score_value_multi}\")"
      ],
      "metadata": {
        "id": "epfXazEWYQle"
      },
      "execution_count": null,
      "outputs": []
    },
    {
      "cell_type": "markdown",
      "source": [
        "###20.Train an XGBoost Regressor and evaluate using Mean Squared Error (MSE)."
      ],
      "metadata": {
        "id": "5_FUKh31dF59"
      }
    },
    {
      "cell_type": "code",
      "source": [
        "# Import necessary libraries\n",
        "from sklearn.datasets import make_regression\n",
        "from sklearn.model_selection import train_test_split\n",
        "from sklearn.metrics import mean_squared_error\n",
        "import xgboost as xgb\n",
        "\n",
        "# Generate a synthetic regression dataset\n",
        "X, y = make_regression(n_samples=1000, n_features=20, noise=0.1, random_state=42)\n",
        "\n",
        "# Split the dataset into training and testing sets\n",
        "X_train, X_test, y_train, y_test = train_test_split(X, y, test_size=0.3, random_state=42)\n",
        "\n",
        "# Initialize the XGBoost Regressor\n",
        "xgb_reg = xgb.XGBRegressor(n_estimators=100, learning_rate=0.1, random_state=42)\n",
        "\n",
        "# Fit the model on the training data\n",
        "xgb_reg.fit(X_train, y_train)\n",
        "\n",
        "# Make predictions on the testing data\n",
        "y_pred = xgb_reg.predict(X_test)\n",
        "\n",
        "# Calculate and print the Mean Squared Error (MSE)\n",
        "mse = mean_squared_error(y_test, y_pred)\n",
        "print(f\"Mean Squared Error (MSE): {mse:.4f}\")\n"
      ],
      "metadata": {
        "colab": {
          "base_uri": "https://localhost:8080/"
        },
        "id": "IuYyIlf1dQr0",
        "outputId": "73e44544-11f7-4a24-f071-ab82a6b9de59"
      },
      "execution_count": null,
      "outputs": [
        {
          "output_type": "stream",
          "name": "stdout",
          "text": [
            "Mean Squared Error (MSE): 4828.3856\n"
          ]
        }
      ]
    },
    {
      "cell_type": "markdown",
      "source": [
        "###21.Train an AdaBoost Classifier and visualize feature importance."
      ],
      "metadata": {
        "id": "m07-P3kOdV6c"
      }
    },
    {
      "cell_type": "code",
      "source": [
        "# Import necessary libraries\n",
        "import numpy as np\n",
        "import pandas as pd\n",
        "from sklearn.ensemble import AdaBoostClassifier\n",
        "from sklearn.tree import DecisionTreeClassifier\n",
        "from sklearn.model_selection import train_test_split\n",
        "from sklearn.metrics import accuracy_score\n",
        "import matplotlib.pyplot as plt\n",
        "\n",
        "# Load your dataset\n",
        "# Replace 'your_data.csv' with your dataset path\n",
        "data = pd.read_csv('your_data.csv')\n",
        "\n",
        "# Preprocess the data: Extract features and target\n",
        "X = data.drop('target', axis=1)  # Replace 'target' with your target column name\n",
        "y = data['target']\n",
        "\n",
        "# Split the data into training and testing sets\n",
        "X_train, X_test, y_train, y_test = train_test_split(X, y, test_size=0.2, random_state=42)\n",
        "\n",
        "# Initialize and train the AdaBoost Classifier\n",
        "model = AdaBoostClassifier(\n",
        "    base_estimator=DecisionTreeClassifier(max_depth=1),\n",
        "    n_estimators=100,\n",
        "    random_state=42\n",
        ")\n",
        "model.fit(X_train, y_train)\n",
        "\n",
        "# Make predictions\n",
        "y_pred = model.predict(X_test)\n",
        "accuracy = accuracy_score(y_test, y_pred)\n",
        "print(f'Accuracy: {accuracy}')\n",
        "\n",
        "# Visualize feature importance\n",
        "feature_importances = model.feature_importances_\n",
        "plt.bar(range(len(feature_importances)), feature_importances)\n",
        "plt.xlabel('Feature Index')\n",
        "plt.ylabel('Importance Score')\n",
        "plt.title('Feature Importance')\n",
        "plt.show()\n"
      ],
      "metadata": {
        "id": "uJUrXWgqYjhw"
      },
      "execution_count": null,
      "outputs": []
    },
    {
      "cell_type": "markdown",
      "source": [
        "###22.Train a Gradient Boosting Regressor and plot learning curves."
      ],
      "metadata": {
        "id": "590EKGVFYlbb"
      }
    },
    {
      "cell_type": "code",
      "source": [
        "import numpy as np\n",
        "import matplotlib.pyplot as plt\n",
        "from sklearn.ensemble import GradientBoostingRegressor\n",
        "from sklearn.model_selection import train_test_split, learning_curve\n",
        "from sklearn.metrics import mean_squared_error\n",
        "\n",
        "def train_evaluate_gbr(X, y, test_size=0.2, random_state=42, n_estimators=100, learning_rate=0.1, max_depth=3):\n",
        "    \"\"\"\n",
        "    Trains a Gradient Boosting Regressor, evaluates it, and plots learning curves.\n",
        "\n",
        "    Args:\n",
        "        X (numpy.ndarray or pandas.DataFrame): Features.\n",
        "        y (numpy.ndarray or pandas.Series): Target variable.\n",
        "        test_size (float, optional): Proportion of the dataset to include in the test split. Defaults to 0.2.\n",
        "        random_state (int, optional): Random seed for reproducibility. Defaults to 42.\n",
        "        n_estimators (int, optional): Number of boosting stages to perform. Defaults to 100.\n",
        "        learning_rate (float, optional): Learning rate shrinks the contribution of each tree. Defaults to 0.1.\n",
        "        max_depth (int, optional): Maximum depth of the individual regression estimators. Defaults to 3.\n",
        "\n",
        "    Returns:\n",
        "        tuple: (GradientBoostingRegressor, float, matplotlib.figure.Figure) Trained model, RMSE on the test set, and the learning curve plot.\n",
        "    \"\"\"\n",
        "\n",
        "    X_train, X_test, y_train, y_test = train_test_split(X, y, test_size=test_size, random_state=random_state)\n",
        "\n",
        "    model = GradientBoostingRegressor(\n",
        "        n_estimators=n_estimators,\n",
        "        learning_rate=learning_rate,\n",
        "        max_depth=max_depth,\n",
        "        random_state=random_state\n",
        "    )\n",
        "\n",
        "    model.fit(X_train, y_train)\n",
        "\n",
        "    y_pred = model.predict(X_test)\n",
        "    rmse = np.sqrt(mean_squared_error(y_test, y_pred))\n",
        "\n",
        "    # Plot learning curves\n",
        "    train_sizes, train_scores, test_scores = learning_curve(\n",
        "        model, X_train, y_train, cv=5, scoring='neg_mean_squared_error', train_sizes=np.linspace(0.1, 1.0, 10)\n",
        "    )\n",
        "\n",
        "    train_scores_mean = -train_scores.mean(axis=1)\n",
        "    train_scores_std = train_scores.std(axis=1)\n",
        "    test_scores_mean = -test_scores.mean(axis=1)\n",
        "    test_scores_std = test_scores.std(axis=1)\n",
        "\n",
        "    plt.figure()\n",
        "    plt.title(\"Learning Curves (Gradient Boosting Regressor)\")\n",
        "    plt.xlabel(\"Training examples\")\n",
        "    plt.ylabel(\"MSE\")\n",
        "    plt.grid()\n",
        "    plt.fill_between(train_sizes, train_scores_mean - train_scores_std, train_scores_mean + train_scores_std, alpha=0.1, color=\"r\")\n",
        "    plt.fill_between(train_sizes, test_scores_mean - test_scores_std, test_scores_mean + test_scores_std, alpha=0.1, color=\"g\")\n",
        "    plt.plot(train_sizes, train_scores_mean, 'o-', color=\"r\", label=\"Training score\")\n",
        "    plt.plot(train_sizes, test_scores_mean, 'o-', color=\"g\", label=\"Cross-validation score\")\n",
        "    plt.legend(loc=\"best\")\n",
        "    plt.show()\n",
        "\n",
        "    return model, rmse, plt.gcf()\n",
        "\n",
        "# Example usage (replace with your data):\n",
        "np.random.seed(42)\n",
        "X = np.random.rand(100, 5)\n",
        "y = 2 * X[:, 0] + 3 * X[:, 1] - 1.5 * X[:, 2] + np.random.randn(100) * 0.5  # Example target with noise\n",
        "\n",
        "trained_model, rmse_value, learning_curve_plot = train_evaluate_gbr(X, y)\n",
        "\n",
        "print(f\"Trained Gradient Boosting Regressor: {trained_model}\")\n",
        "print(f\"RMSE: {rmse_value}\")"
      ],
      "metadata": {
        "colab": {
          "base_uri": "https://localhost:8080/",
          "height": 524
        },
        "id": "swhEmaoQZIz0",
        "outputId": "b90a5623-44d1-470c-addc-71c98823c1cb"
      },
      "execution_count": 5,
      "outputs": [
        {
          "output_type": "display_data",
          "data": {
            "text/plain": [
              "<Figure size 640x480 with 1 Axes>"
            ],
            "image/png": "[encoded data removed]"
          },
          "metadata": {}
        },
        {
          "output_type": "stream",
          "name": "stdout",
          "text": [
            "Trained Gradient Boosting Regressor: GradientBoostingRegressor(random_state=42)\n",
            "RMSE: 0.6319501613643875\n"
          ]
        },
        {
          "output_type": "display_data",
          "data": {
            "text/plain": [
              "<Figure size 640x480 with 0 Axes>"
            ]
          },
          "metadata": {}
        }
      ]
    },
    {
      "cell_type": "markdown",
      "source": [
        "###23.Train an XGBoost Classifier and visualize feature importance."
      ],
      "metadata": {
        "id": "2fF9Mm-ke28P"
      }
    },
    {
      "cell_type": "code",
      "source": [
        "import numpy as np\n",
        "import matplotlib.pyplot as plt\n",
        "import xgboost as xgb\n",
        "from sklearn.datasets import make_classification\n",
        "from sklearn.model_selection import train_test_split\n",
        "from sklearn.metrics import accuracy_score\n",
        "\n",
        "# Generate a synthetic dataset for classification\n",
        "X, y = make_classification(n_samples=1000, n_features=20,\n",
        "                           n_informative=15, n_redundant=5,\n",
        "                           random_state=42)\n",
        "\n",
        "# Split the dataset into training and testing sets\n",
        "X_train, X_test, y_train, y_test = train_test_split(X, y, test_size=0.2, random_state=42)\n",
        "\n",
        "# Create an XGBoost classifier\n",
        "xgb_classifier = xgb.XGBClassifier(objective='binary:logistic',\n",
        "                                   n_estimators=100,\n",
        "                                   learning_rate=0.1,\n",
        "                                   max_depth=3,\n",
        "                                   random_state=42)\n",
        "\n",
        "# Train the classifier\n",
        "xgb_classifier.fit(X_train, y_train)\n",
        "\n",
        "# Make predictions on the test set\n",
        "y_pred = xgb_classifier.predict(X_test)\n",
        "\n",
        "# Evaluate the accuracy\n",
        "accuracy = accuracy_score(y_test, y_pred)\n",
        "print(f\"Accuracy: {accuracy:.4f}\")\n",
        "\n",
        "# Visualize feature importance using XGBoost's built-in function\n",
        "xgb.plot_importance(xgb_classifier)\n",
        "plt.show()\n",
        "\n",
        "#Alternative visualization using matplotlib directly:\n",
        "feature_importance = xgb_classifier.feature_importances_\n",
        "\n",
        "# Sort feature importances in descending order\n",
        "indices = np.argsort(feature_importance)[::-1]\n",
        "\n",
        "# Plot feature importances\n",
        "plt.figure(figsize=(10, 6))\n",
        "plt.title(\"XGBoost Feature Importance\")\n",
        "plt.bar(range(X.shape[1]), feature_importance[indices], align=\"center\")\n",
        "plt.xticks(range(X.shape[1]), indices) # or if you have feature names: plt.xticks(range(X.shape[1]), feature_names[indices])\n",
        "plt.xlim([-1, X.shape[1]])\n",
        "plt.xlabel(\"Feature Index\")\n",
        "plt.ylabel(\"Importance\")\n",
        "plt.show()\n",
        "\n",
        "#Example of feature names if you had them.\n",
        "#feature_names = [\"feature_\" + str(i) for i in range(X.shape[1])]\n",
        "# ...after indices = np.argsort(feature_importance)[::-1]:\n",
        "# plt.xticks(range(X.shape[1]), [feature_names[i] for i in indices], rotation=90)"
      ],
      "metadata": {
        "colab": {
          "base_uri": "https://localhost:8080/",
          "height": 1000
        },
        "id": "bBNJOuRqfK2T",
        "outputId": "8a2cc158-0f80-4d3d-fdf1-fdbe2f71729f"
      },
      "execution_count": null,
      "outputs": [
        {
          "output_type": "stream",
          "name": "stdout",
          "text": [
            "Accuracy: 0.9200\n"
          ]
        },
        {
          "output_type": "display_data",
          "data": {
            "text/plain": [
              "<Figure size 640x480 with 1 Axes>"
            ],
            "image/png": "[encoded data removed]"
          },
          "metadata": {}
        },
        {
          "output_type": "display_data",
          "data": {
            "text/plain": [
              "<Figure size 1000x600 with 1 Axes>"
            ],
            "image/png": "[encoded data removed]"
          },
          "metadata": {}
        }
      ]
    },
    {
      "cell_type": "markdown",
      "source": [
        "###24.Train a CatBoost Classifier and plot the confusion matrix."
      ],
      "metadata": {
        "id": "D2kr-B0nfTrz"
      }
    },
    {
      "cell_type": "code",
      "source": [
        "import numpy as np\n",
        "import matplotlib.pyplot as plt\n",
        "import seaborn as sns\n",
        "from catboost import CatBoostClassifier\n",
        "from sklearn.model_selection import train_test_split\n",
        "from sklearn.metrics import confusion_matrix\n",
        "\n",
        "def train_evaluate_catboost_confusion(X, y, test_size=0.2, random_state=42):\n",
        "    \"\"\"\n",
        "    Trains a CatBoost Classifier and plots the confusion matrix.\n",
        "\n",
        "    Args:\n",
        "        X (numpy.ndarray or pandas.DataFrame): Features.\n",
        "        y (numpy.ndarray or pandas.Series): Target variable.\n",
        "        test_size (float, optional): Proportion of the dataset to include in the test split. Defaults to 0.2.\n",
        "        random_state (int, optional): Random seed for reproducibility. Defaults to 42.\n",
        "\n",
        "    Returns:\n",
        "        tuple: (CatBoostClassifier, matplotlib.figure.Figure) Trained model and the confusion matrix plot.\n",
        "    \"\"\"\n",
        "\n",
        "    X_train, X_test, y_train, y_test = train_test_split(X, y, test_size=test_size, random_state=random_state)\n",
        "\n",
        "    model = CatBoostClassifier(\n",
        "        iterations=100,  # Adjust as needed\n",
        "        learning_rate=0.1,  # Adjust as needed\n",
        "        depth=6,  # Adjust as needed\n",
        "        loss_function='Logloss',  # Or 'MultiClass'\n",
        "        verbose=0,\n",
        "        random_state=random_state\n",
        "    )\n",
        "\n",
        "    model.fit(X_train, y_train)\n",
        "\n",
        "    y_pred = model.predict(X_test)\n",
        "\n",
        "    cm = confusion_matrix(y_test, y_pred)\n",
        "\n",
        "    plt.figure(figsize=(8, 6))\n",
        "    sns.heatmap(cm, annot=True, fmt='d', cmap='Blues')\n",
        "    plt.xlabel('Predicted Labels')\n",
        "    plt.ylabel('True Labels')\n",
        "    plt.title('Confusion Matrix')\n",
        "    plt.show()\n",
        "\n",
        "    return model, plt.gcf()\n",
        "\n",
        "# Example usage (replace with your data):\n",
        "np.random.seed(42)\n",
        "X = np.random.rand(100, 5)\n",
        "y = np.random.randint(0, 2, 100) # Binary classification example\n",
        "\n",
        "trained_model, confusion_matrix_plot = train_evaluate_catboost_confusion(X, y)\n",
        "\n",
        "print(f\"Trained CatBoost model: {trained_model}\")\n",
        "\n",
        "#Multiclass example\n",
        "np.random.seed(42)\n",
        "X_multi = np.random.rand(100, 5)\n",
        "y_multi = np.random.randint(0, 3, 100) # Multiclass classification example (3 classes)\n",
        "\n",
        "trained_model_multi, confusion_matrix_plot_multi = train_evaluate_catboost_confusion(X_multi, y_multi)\n",
        "\n",
        "print(f\"Trained CatBoost model: {trained_model_multi}\")"
      ],
      "metadata": {
        "id": "satWb4bhfqk0"
      },
      "execution_count": null,
      "outputs": []
    },
    {
      "cell_type": "markdown",
      "source": [
        "###25.Train an AdaBoost Classifier with different numbers of estimators and compare accuracy."
      ],
      "metadata": {
        "id": "N2ZqX8_9frVW"
      }
    },
    {
      "cell_type": "code",
      "source": [
        "# Import necessary libraries\n",
        "from sklearn.datasets import load_breast_cancer\n",
        "from sklearn.model_selection import train_test_split\n",
        "from sklearn.ensemble import AdaBoostClassifier\n",
        "from sklearn.metrics import accuracy_score\n",
        "import matplotlib.pyplot as plt\n",
        "\n",
        "# Load the Breast Cancer dataset\n",
        "data = load_breast_cancer()\n",
        "X, y = data.data, data.target\n",
        "\n",
        "# Split the dataset into training and testing sets\n",
        "X_train, X_test, y_train, y_test = train_test_split(X, y, test_size=0.3, random_state=42)\n",
        "\n",
        "# Initialize a list to store accuracy values\n",
        "estimators = [10, 50, 100, 150, 200]\n",
        "accuracies = []\n",
        "\n",
        "# Train AdaBoost Classifier with different numbers of estimators\n",
        "for n in estimators:\n",
        "    clf = AdaBoostClassifier(n_estimators=n, random_state=42)\n",
        "    clf.fit(X_train, y_train)\n",
        "    y_pred = clf.predict(X_test)\n",
        "    accuracy = accuracy_score(y_test, y_pred)\n",
        "    accuracies.append(accuracy)\n",
        "    print(f\"Number of Estimators: {n} - Accuracy: {accuracy * 100:.2f}%\")\n",
        "\n",
        "# Plot the number of estimators versus accuracy\n",
        "plt.figure(figsize=(8, 6))\n",
        "plt.plot(estimators, accuracies, marker='o', linestyle='-', color='b')\n",
        "plt.title(\"AdaBoost Classifier Accuracy vs. Number of Estimators\")\n",
        "plt.xlabel(\"Number of Estimators\")\n",
        "plt.ylabel(\"Accuracy\")\n",
        "plt.grid(True)\n",
        "plt.tight_layout()\n",
        "plt.show()\n"
      ],
      "metadata": {
        "colab": {
          "base_uri": "https://localhost:8080/",
          "height": 694
        },
        "id": "pHndiI7Bfygf",
        "outputId": "469e2b29-0e28-48cb-f623-4e02d2c01ba3"
      },
      "execution_count": null,
      "outputs": [
        {
          "output_type": "stream",
          "name": "stdout",
          "text": [
            "Number of Estimators: 10 - Accuracy: 97.66%\n",
            "Number of Estimators: 50 - Accuracy: 97.08%\n",
            "Number of Estimators: 100 - Accuracy: 97.08%\n",
            "Number of Estimators: 150 - Accuracy: 97.66%\n",
            "Number of Estimators: 200 - Accuracy: 98.25%\n"
          ]
        },
        {
          "output_type": "display_data",
          "data": {
            "text/plain": [
              "<Figure size 800x600 with 1 Axes>"
            ],
            "image/png": "[encoded data removed]"
          },
          "metadata": {}
        }
      ]
    },
    {
      "cell_type": "markdown",
      "source": [
        "###26.Train a Gradient Boosting Classifier and visualize the ROC curve."
      ],
      "metadata": {
        "id": "dMRgSuL_gBxo"
      }
    },
    {
      "cell_type": "code",
      "source": [
        "# Import necessary libraries\n",
        "from sklearn.datasets import load_breast_cancer\n",
        "from sklearn.ensemble import GradientBoostingClassifier\n",
        "from sklearn.model_selection import train_test_split\n",
        "from sklearn.metrics import roc_curve, auc\n",
        "import matplotlib.pyplot as plt\n",
        "\n",
        "# Load the Breast Cancer dataset\n",
        "data = load_breast_cancer()\n",
        "X, y = data.data, data.target\n",
        "\n",
        "# Split the dataset into training and testing sets\n",
        "X_train, X_test, y_train, y_test = train_test_split(X, y, test_size=0.3, random_state=42)\n",
        "\n",
        "# Initialize the Gradient Boosting Classifier\n",
        "gb_clf = GradientBoostingClassifier(n_estimators=100, learning_rate=0.1, random_state=42)\n",
        "\n",
        "# Fit the model on the training data\n",
        "gb_clf.fit(X_train, y_train)\n",
        "\n",
        "# Predict probabilities for the test set\n",
        "y_prob = gb_clf.predict_proba(X_test)[:, 1]\n",
        "\n",
        "# Calculate the ROC curve\n",
        "fpr, tpr, _ = roc_curve(y_test, y_prob)\n",
        "roc_auc = auc(fpr, tpr)\n",
        "\n",
        "# Plot the ROC curve\n",
        "plt.figure(figsize=(8, 6))\n",
        "plt.plot(fpr, tpr, color='blue', lw=2, label=f'Gradient Boosting (AUC = {roc_auc:.2f})')\n",
        "plt.plot([0, 1], [0, 1], color='gray', lw=1, linestyle='--')\n",
        "plt.title('ROC Curve - Gradient Boosting Classifier')\n",
        "plt.xlabel('False Positive Rate')\n",
        "plt.ylabel('True Positive Rate')\n",
        "plt.legend(loc=\"lower right\")\n",
        "plt.grid()\n",
        "plt.show()\n"
      ],
      "metadata": {
        "colab": {
          "base_uri": "https://localhost:8080/",
          "height": 564
        },
        "id": "lIgU9THegJmW",
        "outputId": "6d910ce1-f6b2-485c-87e4-4b5547753a94"
      },
      "execution_count": null,
      "outputs": [
        {
          "output_type": "display_data",
          "data": {
            "text/plain": [
              "<Figure size 800x600 with 1 Axes>"
            ],
            "image/png": "[encoded data removed]"
          },
          "metadata": {}
        }
      ]
    },
    {
      "cell_type": "markdown",
      "source": [
        "###27.Train an XGBoost Regressor and tune the learning rate using GridSearchCV."
      ],
      "metadata": {
        "id": "ZkQBnvg6gUg5"
      }
    },
    {
      "cell_type": "code",
      "source": [
        "# Import necessary libraries\n",
        "import xgboost as xgb\n",
        "from sklearn.datasets import make_regression\n",
        "from sklearn.model_selection import train_test_split, GridSearchCV\n",
        "from sklearn.metrics import mean_squared_error\n",
        "\n",
        "# Generate a synthetic regression dataset\n",
        "X, y = make_regression(n_samples=1000, n_features=20, noise=0.1, random_state=42)\n",
        "\n",
        "# Split the dataset into training and testing sets\n",
        "X_train, X_test, y_train, y_test = train_test_split(X, y, test_size=0.3, random_state=42)\n",
        "\n",
        "# Initialize the XGBoost Regressor\n",
        "xgb_reg = xgb.XGBRegressor(n_estimators=100, random_state=42)\n",
        "\n",
        "# Define the parameter grid for learning rate tuning\n",
        "param_grid = {'learning_rate': [0.01, 0.05, 0.1, 0.2, 0.3]}\n",
        "\n",
        "# Perform GridSearchCV to find the best learning rate\n",
        "grid_search = GridSearchCV(estimator=xgb_reg, param_grid=param_grid, cv=5, scoring='neg_mean_squared_error', verbose=1, n_jobs=-1)\n",
        "grid_search.fit(X_train, y_train)\n",
        "\n",
        "# Get the best learning rate and corresponding model\n",
        "best_learning_rate = grid_search.best_params_['learning_rate']\n",
        "best_model = grid_search.best_estimator_\n",
        "\n",
        "# Make predictions on the test set using the best model\n",
        "y_pred = best_model.predict(X_test)\n",
        "\n",
        "# Evaluate the performance using Mean Squared Error (MSE)\n",
        "mse = mean_squared_error(y_test, y_pred)\n",
        "print(f\"Best Learning Rate: {best_learning_rate}\")\n",
        "print(f\"Mean Squared Error (MSE) with Best Learning Rate: {mse:.4f}\")\n"
      ],
      "metadata": {
        "colab": {
          "base_uri": "https://localhost:8080/"
        },
        "id": "Ianr_2-WgcnV",
        "outputId": "3b591001-bd63-4e1b-ebe6-1284ed911b9c"
      },
      "execution_count": null,
      "outputs": [
        {
          "output_type": "stream",
          "name": "stdout",
          "text": [
            "Fitting 5 folds for each of 5 candidates, totalling 25 fits\n",
            "Best Learning Rate: 0.1\n",
            "Mean Squared Error (MSE) with Best Learning Rate: 4828.3856\n"
          ]
        }
      ]
    },
    {
      "cell_type": "markdown",
      "source": [
        "###28.Train a CatBoost Classifier on an imbalanced dataset and compare performance with class weighting."
      ],
      "metadata": {
        "id": "EmYQ4-kUgiWc"
      }
    },
    {
      "cell_type": "code",
      "source": [
        "import numpy as np\n",
        "import pandas as pd\n",
        "from catboost import CatBoostClassifier\n",
        "from sklearn.model_selection import train_test_split\n",
        "from sklearn.metrics import classification_report\n",
        "\n",
        "def train_evaluate_catboost_imbalanced(X, y, test_size=0.2, random_state=42):\n",
        "    \"\"\"\n",
        "    Trains a CatBoost Classifier on an imbalanced dataset and compares performance with class weighting.\n",
        "\n",
        "    Args:\n",
        "        X (numpy.ndarray or pandas.DataFrame): Features.\n",
        "        y (numpy.ndarray or pandas.Series): Target variable.\n",
        "        test_size (float, optional): Proportion of the dataset to include in the test split. Defaults to 0.2.\n",
        "        random_state (int, optional): Random seed for reproducibility. Defaults to 42.\n",
        "\n",
        "    Returns:\n",
        "        tuple: (dict, dict) Dictionaries containing classification reports for unweighted and weighted models.\n",
        "    \"\"\"\n",
        "\n",
        "    X_train, X_test, y_train, y_test = train_test_split(X, y, test_size=test_size, random_state=random_state)\n",
        "\n",
        "    # Unweighted model\n",
        "    model_unweighted = CatBoostClassifier(\n",
        "        iterations=100,\n",
        "        learning_rate=0.1,\n",
        "        depth=6,\n",
        "        loss_function='Logloss',\n",
        "        verbose=0,\n",
        "        random_state=random_state\n",
        "    )\n",
        "\n",
        "    model_unweighted.fit(X_train, y_train)\n",
        "    y_pred_unweighted = model_unweighted.predict(X_test)\n",
        "    report_unweighted = classification_report(y_test, y_pred_unweighted, output_dict=True)\n",
        "\n",
        "    # Weighted model\n",
        "    model_weighted = CatBoostClassifier(\n",
        "        iterations=100,\n",
        "        learning_rate=0.1,\n",
        "        depth=6,\n",
        "        loss_function='Logloss',\n",
        "        verbose=0,\n",
        "        random_state=random_state,\n",
        "        class_weights='balanced' # Key change here\n",
        "    )\n",
        "\n",
        "    model_weighted.fit(X_train, y_train)\n",
        "    y_pred_weighted = model_weighted.predict(X_test)\n",
        "    report_weighted = classification_report(y_test, y_pred_weighted, output_dict=True)\n",
        "\n",
        "    return report_unweighted, report_weighted\n",
        "\n",
        "# Example usage (replace with your imbalanced data):\n",
        "np.random.seed(42)\n",
        "num_samples = 1000\n",
        "num_features = 5\n",
        "\n",
        "# Create imbalanced dataset\n",
        "X = np.random.rand(num_samples, num_features)\n",
        "y = np.random.choice([0, 1], size=num_samples, p=[0.9, 0.1])  # 90% class 0, 10% class 1\n",
        "\n",
        "report_unweighted, report_weighted = train_evaluate_catboost_imbalanced(X, y)\n",
        "\n",
        "print(\"Unweighted Model:\")\n",
        "print(pd.DataFrame(report_unweighted).T)\n",
        "\n",
        "print(\"\\nWeighted Model:\")\n",
        "print(pd.DataFrame(report_weighted).T)"
      ],
      "metadata": {
        "id": "1FKMmK9rgx2P"
      },
      "execution_count": null,
      "outputs": []
    },
    {
      "cell_type": "markdown",
      "source": [
        "###29.Train an AdaBoost Classifier and analyze the effect of different learning rates."
      ],
      "metadata": {
        "id": "yCIRQJb0gylD"
      }
    },
    {
      "cell_type": "code",
      "source": [
        "# Import necessary libraries\n",
        "from sklearn.datasets import load_breast_cancer\n",
        "from sklearn.model_selection import train_test_split\n",
        "from sklearn.ensemble import AdaBoostClassifier\n",
        "from sklearn.metrics import accuracy_score\n",
        "import matplotlib.pyplot as plt\n",
        "\n",
        "# Load the Breast Cancer dataset\n",
        "data = load_breast_cancer()\n",
        "X, y = data.data, data.target\n",
        "\n",
        "# Split the dataset into training and testing sets\n",
        "X_train, X_test, y_train, y_test = train_test_split(X, y, test_size=0.3, random_state=42)\n",
        "\n",
        "# Define a range of learning rates to test\n",
        "learning_rates = [0.01, 0.05, 0.1, 0.2, 0.5, 1.0]\n",
        "accuracies = []\n",
        "\n",
        "# Train AdaBoost Classifier with different learning rates\n",
        "for lr in learning_rates:\n",
        "    clf = AdaBoostClassifier(n_estimators=50, learning_rate=lr, random_state=42)\n",
        "    clf.fit(X_train, y_train)\n",
        "    y_pred = clf.predict(X_test)\n",
        "    accuracy = accuracy_score(y_test, y_pred)\n",
        "    accuracies.append(accuracy)\n",
        "    print(f\"Learning Rate: {lr} - Accuracy: {accuracy * 100:.2f}%\")\n",
        "\n",
        "# Plot the learning rate vs. accuracy\n",
        "plt.figure(figsize=(8, 6))\n",
        "plt.plot(learning_rates, accuracies, marker='o', linestyle='-', color='b')\n",
        "plt.title(\"Effect of Learning Rate on AdaBoost Classifier Accuracy\")\n",
        "plt.xlabel(\"Learning Rate\")\n",
        "plt.ylabel(\"Accuracy\")\n",
        "plt.grid(True)\n",
        "plt.tight_layout()\n",
        "plt.show()\n"
      ],
      "metadata": {
        "colab": {
          "base_uri": "https://localhost:8080/",
          "height": 711
        },
        "id": "HAkTicPmg5Kk",
        "outputId": "b6b811d4-a65f-4dd4-85af-3811d288baac"
      },
      "execution_count": null,
      "outputs": [
        {
          "output_type": "stream",
          "name": "stdout",
          "text": [
            "Learning Rate: 0.01 - Accuracy: 94.15%\n",
            "Learning Rate: 0.05 - Accuracy: 95.91%\n",
            "Learning Rate: 0.1 - Accuracy: 95.91%\n",
            "Learning Rate: 0.2 - Accuracy: 95.91%\n",
            "Learning Rate: 0.5 - Accuracy: 96.49%\n",
            "Learning Rate: 1.0 - Accuracy: 97.08%\n"
          ]
        },
        {
          "output_type": "display_data",
          "data": {
            "text/plain": [
              "<Figure size 800x600 with 1 Axes>"
            ],
            "image/png": "[encoded data removed]"
          },
          "metadata": {}
        }
      ]
    },
    {
      "cell_type": "markdown",
      "source": [
        "###30.Train an XGBoost Classifier for multi-class classification and evaluate using log-loss."
      ],
      "metadata": {
        "id": "0Ab3_lclhEjq"
      }
    },
    {
      "cell_type": "code",
      "source": [
        "# Import necessary libraries\n",
        "import xgboost as xgb\n",
        "from sklearn.datasets import make_classification\n",
        "from sklearn.model_selection import train_test_split\n",
        "from sklearn.metrics import log_loss, accuracy_score\n",
        "\n",
        "# Generate a synthetic multi-class dataset\n",
        "X, y = make_classification(n_samples=1000, n_features=20, n_informative=15, n_classes=3, random_state=42)\n",
        "\n",
        "# Split the dataset into training and testing sets\n",
        "X_train, X_test, y_train, y_test = train_test_split(X, y, test_size=0.3, random_state=42)\n",
        "\n",
        "# Initialize the XGBoost Classifier for multi-class classification\n",
        "xgb_clf = xgb.XGBClassifier(objective='multi:softprob', num_class=3, n_estimators=100, learning_rate=0.1, random_state=42)\n",
        "\n",
        "# Train the model on the training data\n",
        "xgb_clf.fit(X_train, y_train)\n",
        "\n",
        "# Make predictions (probabilities) on the test data\n",
        "y_pred_proba = xgb_clf.predict_proba(X_test)\n",
        "\n",
        "# Evaluate the model using log-loss\n",
        "log_loss_value = log_loss(y_test, y_pred_proba)\n",
        "print(f\"Log-Loss: {log_loss_value:.4f}\")\n",
        "\n",
        "# Optionally, calculate and display accuracy as well\n",
        "y_pred = xgb_clf.predict(X_test)\n",
        "accuracy = accuracy_score(y_test, y_pred)\n",
        "print(f\"Accuracy: {accuracy * 100:.2f}%\")\n"
      ],
      "metadata": {
        "colab": {
          "base_uri": "https://localhost:8080/"
        },
        "id": "-qCBIowPhNjG",
        "outputId": "9211822b-ad37-4c34-f2c8-99c1229622e1"
      },
      "execution_count": null,
      "outputs": [
        {
          "output_type": "stream",
          "name": "stdout",
          "text": [
            "Log-Loss: 0.6145\n",
            "Accuracy: 75.33%\n"
          ]
        }
      ]
    }
  ]
}