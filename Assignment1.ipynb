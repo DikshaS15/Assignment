{
  "nbformat": 4,
  "nbformat_minor": 0,
  "metadata": {
    "colab": {
      "provenance": []
    },
    "kernelspec": {
      "name": "python3",
      "display_name": "Python 3"
    },
    "language_info": {
      "name": "python"
    }
  },
  "cells": [
    {
      "cell_type": "code",
      "execution_count": null,
      "metadata": {
        "id": "L1q6sVBCxZa6"
      },
      "outputs": [],
      "source": []
    },
    {
      "cell_type": "markdown",
      "source": [
        "\n",
        "\n",
        "#Assignment - 1\n",
        "\n",
        "##Theory Questions\n",
        "\n",
        "1. Explain the key features of Python that make it a popular choice for programming.\n",
        "\n",
        "Answer-1. Python is a programming language, a formal language for creating Instructions for a computer to follow.\n",
        "#Python is used for many purposes including\n",
        "\n",
        "* web development\n",
        "* Software development\n",
        "* Data science\n",
        "* Automation\n",
        "###Key features of Python make it a popular choice for programming\n",
        "\n",
        "1. READABILITY AND SIMPLICITY\n",
        "* Clear Syntax: Python uses a clean and easy-to-understand syntax that emphasizes readability, making it easier to learn and understand, especially for beginners.\n",
        "\n",
        "* Minimal Approach: Python avoids excessive punctuation and brackets, reducing the likelihood of syntax errors and improving code maintainability.\n",
        "\n",
        "2. VERSATILITY\n",
        "\n",
        "* Wide Range of Applications: Python can be used for various tasks, including web development, data analysis, machine Learning, automation, and more.\n",
        "\n",
        "* Extensive libraries and Frameworks: Python is a collection of pre-compiled codes that can be used later on in a program, python boasts a rich ecosystem of libraries and frameworks like Numpy, Pandas, Matlotlib, and Scipy, providing powerful tools and functionalities for specific domains.\n",
        "\n",
        "3. DYNAMIC TYPING\n",
        "\n",
        "* Flexibility variable Assignment: Python allows you to assign different data types to variables without telling it ahead of time, making code more dynamic and less rigid.\n",
        "\n",
        "* Rapid Prototyping: Dynamic typing Enables faster development as you can experiment and iterate on your code without worrying about strict type constraints.\n",
        "\n",
        "4. PLATFORM-INDEPENDENT\n",
        "\n",
        "* Writ once, Run Anywhere: Python code can be executed on various operating systems (Windows, macOS, Linux) without Significant modifications, ensuring portability and flexibility.\n",
        "\n",
        "5. LARGE AND SUPPORTIVE COMMUNITY\n",
        "\n",
        "* Active Forums and Resources: Python has a vast and continuously growing ecosystem and active community of developers who contribute to its growth through forums, tutorials, and Open-source projects.\n",
        "\n",
        "6. STRONG INTEGRATION WITH OTHER LANGUAGE\n",
        "\n",
        "* Python can work well with other programming languages like C and C++ for things that need to be very fast or use special libraries.\n",
        "\n",
        "7. POWERFL STANDERED LIBRARY\n",
        "\n",
        "* Built-in functionality: Python's standard library has many built-in modules that can do many things, like reading and writing files, working with networks, and using regular expression.\n",
        "\n",
        "8. OBJECT-ORIENTED PROGRAMMING (OOP) SUPPORT\n",
        "\n",
        "* Modular and Reusable Code: Python supports OOP principles, allowing you to organize code into reusable objects and classes, promoting modularity and maintainability.\n",
        "\n",
        "9. MEMORY MANAGEMENT\n",
        "\n",
        "* Automatic Garbage Collection: Python's garbage collector handles memory Management and automatically frees developers from the burden of manual memory allocation and deallocation.\n",
        "\n",
        "10. INTERPRETED LANGUAGE\n",
        "\n",
        "* Rapid Development and Testing: Python code is interpreted rather than compiled, allowing for faster development cycles and easier testing.\n",
        "\n",
        "* In summary, Python's combination of readability, versatility, dynamic typing, platform independence, a strong community, and powerful features make it the standard choice for a wide range of programming tasks. Its clear syntax and extensive libraries simplify development, while its versatility and platform independence ensure broad applicability. Whether you're building web applications, analyzing data, or exploring machine learning, Python's powerful capabilities and ease of use make it a valuable tool for developers of all levels.\n",
        "\n",
        "\n",
        "\n",
        "\n",
        "\n",
        "\n",
        "\n",
        "\n",
        "\n",
        "\n",
        "\n"
      ],
      "metadata": {
        "id": "KQekAhFLyo0V"
      }
    },
    {
      "cell_type": "markdown",
      "source": [
        "2. Describe the role of predefined keywords in Python and provide examples of how they are used in a program.\n",
        "\n",
        "Answer-2. Predefined keywords in Python are reserved words that have specific meanings and cannot be used as variable names or identifiers.\n",
        "  They form the backbone of the language, providing the structure and syntax for writing Python Code.\n",
        "\n",
        "#Role of Predefined Keywords\n",
        "\n",
        "1. Building Blocks of Python: Predefined keywords are the fundamental elements that form the structure and syntax of Python programs. They serve as instructions for the interpreter, defining the control flow, data types, Operations, and other essential aspects of the language.\n",
        "\n",
        "2. Reserved Words: These keywords are reserved for specific purposes and cannot be used as variable names or identifiers. Using them for other purposes would lead to syntax errors.\n",
        "\n",
        "3. Clear and Concise Code: Predefined keywords provide a standardized and consistent way to express programming logic, making Python code more readable, maintainable, and easier to understand for both humans and machines.\n",
        "\n",
        "##These keywords are essential for various tasks, including:\n",
        "\n",
        "1. CONTROL FLOW:\n",
        "* if, elif, else: Used for conditional statements to execute code based on specific conditions.\n",
        "\n",
        "* for: Used for iterating over sequences (lists, tuples, strings, etc.) or ranges.\n",
        "\n",
        "* while: Used for repeating code as long as a condition is true.\n",
        "\n",
        "* break: Used to exit a loop prematurely.\n",
        "\n",
        "* continue: Used to skip the current iteration of a loop and proceed to the next one.\n",
        "\n",
        "2. DATA TYPES:\n",
        "\n",
        "* int, float, complex: Used to define numerical data.\n",
        "\n",
        "* str: Used to define strings (sequences of characters).\n",
        "\n",
        "* list, tuple, dict, set: Used to define different data structures.\n",
        "\n",
        "3. FUNCTIONS AND CLASSES:\n",
        "\n",
        "* def: Used to define functions.\n",
        "\n",
        "* class: Used to define classes (blueprints for creating objects).\n",
        "\n",
        "4. OTHER KEYWORDS:\n",
        "\n",
        "* import: Used to import modules or packages into your program.\n",
        "\n",
        "* try, except, finally: Used for Exception handling.\n",
        "\n",
        "* return: Used to return a value from a function.\n",
        "\n",
        "* yield: Used to create generators.\n",
        "\n",
        "* assert: Used for debugging and testing.\n",
        "\n",
        "* and, or, not: Used for logical operations.\n",
        "\n"
      ],
      "metadata": {
        "id": "_4HhkEHTVaL4"
      }
    },
    {
      "cell_type": "code",
      "source": [
        "help(\"keywords\")"
      ],
      "metadata": {
        "colab": {
          "base_uri": "https://localhost:8080/"
        },
        "id": "gxYToxDF7vAu",
        "outputId": "3295faab-bbf7-4590-8f8c-ce4930f0f1bd"
      },
      "execution_count": 7,
      "outputs": [
        {
          "output_type": "stream",
          "name": "stdout",
          "text": [
            "\n",
            "Here is a list of the Python keywords.  Enter any keyword to get more help.\n",
            "\n",
            "False               class               from                or\n",
            "None                continue            global              pass\n",
            "True                def                 if                  raise\n",
            "and                 del                 import              return\n",
            "as                  elif                in                  try\n",
            "assert              else                is                  while\n",
            "async               except              lambda              with\n",
            "await               finally             nonlocal            yield\n",
            "break               for                 not                 \n",
            "\n"
          ]
        }
      ]
    },
    {
      "cell_type": "code",
      "source": [
        "#Examples of keyword usage:\n",
        "\n",
        "1.#control flow: if: used or conditional statements.\n",
        "a = 5\n",
        "if a > 10:\n",
        "  print(\"a is greater than 10\")\n",
        "\n",
        " #for: Used for loops\n",
        "  for i in range(5):\n",
        "    print(i)\n",
        "\n"
      ],
      "metadata": {
        "id": "P3BcuHmhllox"
      },
      "execution_count": 4,
      "outputs": []
    },
    {
      "cell_type": "code",
      "source": [
        "# DATA TYPE\n",
        "#int: used for integers\n",
        "x = 5\n",
        "print(type(x))\n"
      ],
      "metadata": {
        "colab": {
          "base_uri": "https://localhost:8080/"
        },
        "id": "7RITJ7R37B_O",
        "outputId": "240a9e78-c2d6-4388-8c15-720c6ddad8af"
      },
      "execution_count": 6,
      "outputs": [
        {
          "output_type": "stream",
          "name": "stdout",
          "text": [
            "<class 'int'>\n"
          ]
        }
      ]
    },
    {
      "cell_type": "code",
      "source": [
        "a = \"3.5\"\n",
        "type(a)"
      ],
      "metadata": {
        "colab": {
          "base_uri": "https://localhost:8080/"
        },
        "id": "d7nQ_QCg7YfL",
        "outputId": "e7315eb7-5ed5-4f9f-b5e0-f93e8a374930"
      },
      "execution_count": 8,
      "outputs": [
        {
          "output_type": "execute_result",
          "data": {
            "text/plain": [
              "str"
            ]
          },
          "metadata": {},
          "execution_count": 8
        }
      ]
    },
    {
      "cell_type": "code",
      "source": [
        "type(float(a))"
      ],
      "metadata": {
        "colab": {
          "base_uri": "https://localhost:8080/"
        },
        "id": "zKhZnjKz8Bjp",
        "outputId": "3a268def-7405-47cd-9120-b8403bf87bef"
      },
      "execution_count": 9,
      "outputs": [
        {
          "output_type": "execute_result",
          "data": {
            "text/plain": [
              "float"
            ]
          },
          "metadata": {},
          "execution_count": 9
        }
      ]
    },
    {
      "cell_type": "code",
      "source": [
        "s = \"108\"\n",
        "type(s)"
      ],
      "metadata": {
        "colab": {
          "base_uri": "https://localhost:8080/"
        },
        "id": "u6GEsWPX8HTE",
        "outputId": "eea1cc85-5385-422f-f865-c843e2d5f546"
      },
      "execution_count": 10,
      "outputs": [
        {
          "output_type": "execute_result",
          "data": {
            "text/plain": [
              "str"
            ]
          },
          "metadata": {},
          "execution_count": 10
        }
      ]
    },
    {
      "cell_type": "code",
      "source": [
        "int(s)"
      ],
      "metadata": {
        "colab": {
          "base_uri": "https://localhost:8080/"
        },
        "id": "TpoCMisC8OfG",
        "outputId": "4cbecf00-9486-473f-8bd8-5565a7165264"
      },
      "execution_count": 11,
      "outputs": [
        {
          "output_type": "execute_result",
          "data": {
            "text/plain": [
              "108"
            ]
          },
          "metadata": {},
          "execution_count": 11
        }
      ]
    },
    {
      "cell_type": "code",
      "source": [
        "int(s)\n",
        "float(s)\n"
      ],
      "metadata": {
        "colab": {
          "base_uri": "https://localhost:8080/"
        },
        "id": "26eS8QmO8SAG",
        "outputId": "c1b70142-7ace-485e-a76d-4ba7e0469cb7"
      },
      "execution_count": 14,
      "outputs": [
        {
          "output_type": "execute_result",
          "data": {
            "text/plain": [
              "108.0"
            ]
          },
          "metadata": {},
          "execution_count": 14
        }
      ]
    },
    {
      "cell_type": "code",
      "source": [
        "def calculate_area(length, width):\n",
        "    \"\"\"Calculates the area of a rectangle.\"\"\"\n",
        "    area = length * width\n",
        "    return area"
      ],
      "metadata": {
        "id": "nggDLtcS8oxq"
      },
      "execution_count": 16,
      "outputs": []
    },
    {
      "cell_type": "code",
      "source": [
        "if __name__ == \"__main__\":\n",
        "    length = 5\n",
        "    width = 3\n",
        "    result = calculate_area(length, width)\n",
        "    print(\"The area of the rectangle is:\", result)"
      ],
      "metadata": {
        "id": "VcUipfw_89uN"
      },
      "execution_count": null,
      "outputs": []
    },
    {
      "cell_type": "markdown",
      "source": [
        "* In this example, keywords like def, if, return, and print are used to define the function, check the condition, return the result, and display the output, respectively.\n",
        "\n",
        "* By understanding and effectively using predefined keywords, you can write Python code that is well-structured, efficient, and easy to maintain."
      ],
      "metadata": {
        "id": "NawHCwRb9DlV"
      }
    },
    {
      "cell_type": "markdown",
      "source": [
        "3. Compare and Contrast mutable and immutable objects in Python with examples.\n",
        "\n",
        "Answer-3. 1. MUTABLE OBJECTS:\n",
        "\n",
        "* Definition: Objects whose values can be changed after they are created.\n",
        "\n",
        "* Examples: Lists, dictionaries, sets, and custom classes.\n",
        "\n",
        "* Modification: Elements within these objects can be added, removed, or modified directly.\n",
        "\n",
        "* Behavior: When assigning a mutable object to a new variable, both variables reference the same object in memory. Changes made to one variable affect the other.\n",
        "\n",
        "2. IMMUTABLE OBJECTS:\n",
        "\n",
        "* Definition: Objects whose values cannot be changed once they are created.\n",
        "\n",
        "* Examples: Numbers (integers, floats, complex), strings, tuples, and Booleans.\n",
        "\n",
        "* Modification: Attempting to modify an immutable object creates a new object with the modified value.\n",
        "\n",
        "* Behavior: When assigning an immutable object to a new variable, a copy of the object is created, and the two variables reference different objects in memory. Changes made to one variable do not affect the other.\n",
        "\n",
        "\n"
      ],
      "metadata": {
        "id": "SyotIH4m9a7X"
      }
    },
    {
      "cell_type": "code",
      "source": [
        "# prompt: MUTABLE OBJECTS\n",
        "\n",
        "# List Example\n",
        "my_list = [1, 2, 3]\n",
        "print(\"Original list:\", my_list)  # Output: [1, 2, 3]\n",
        "\n",
        "my_list.append(4)  # Modifying the list by adding an element\n",
        "print(\"Modified list:\", my_list)  # Output: [1, 2, 3, 4]\n",
        "\n",
        "# Dictionary Example\n",
        "my_dict = {'a': 1, 'b': 2}\n",
        "print(\"Original dictionary:\", my_dict)  # Output: {'a': 1, 'b': 2}\n",
        "\n",
        "my_dict['c'] = 3  # Modifying the dictionary by adding a key-value pair\n",
        "print(\"Modified dictionary:\", my_dict)  # Output: {'a': 1, 'b': 2, 'c': 3}\n"
      ],
      "metadata": {
        "colab": {
          "base_uri": "https://localhost:8080/"
        },
        "id": "cExZJX10B9ZR",
        "outputId": "ebb502a4-f13d-47d5-d8fd-0728c05ec74c"
      },
      "execution_count": 22,
      "outputs": [
        {
          "output_type": "stream",
          "name": "stdout",
          "text": [
            "Original list: [1, 2, 3]\n",
            "Modified list: [1, 2, 3, 4]\n",
            "Original dictionary: {'a': 1, 'b': 2}\n",
            "Modified dictionary: {'a': 1, 'b': 2, 'c': 3}\n"
          ]
        }
      ]
    },
    {
      "cell_type": "code",
      "source": [
        "# Prompt: IMMUTABLE OBJECTS\n",
        "\n",
        "# String Example\n",
        "my_string = \"Hello\"\n",
        "print(\"Original string:\", my_string)  # Output: Hello\n",
        "\n",
        "my_string += \" World\"  # Creating a new string by concatenating\n",
        "print(\"Modified string:\", my_string)  # Output: Hello World"
      ],
      "metadata": {
        "colab": {
          "base_uri": "https://localhost:8080/"
        },
        "id": "wlEBjWe5EMX2",
        "outputId": "b598e45c-89b6-41e7-b64a-6698ce2ca494"
      },
      "execution_count": 24,
      "outputs": [
        {
          "output_type": "stream",
          "name": "stdout",
          "text": [
            "Original string: Hello\n",
            "Modified string: Hello World\n"
          ]
        }
      ]
    },
    {
      "cell_type": "markdown",
      "source": [
        "# KEY POINTS :\n",
        "\n",
        "* Understanding the mutability of objects is crucial for effective Python programming.\n",
        "* Mutable objects can be modified directly, while immutable objects require creating new objects.\n",
        "* Assignment behaviour differs between mutable and immutable objects.\n",
        "* Be mindful of the implications of mutability when passing objects as arguments to functions or using them in data structures."
      ],
      "metadata": {
        "id": "ap1QG4KCEk-f"
      }
    },
    {
      "cell_type": "markdown",
      "source": [
        "4. Discuss the different types of operators in Python and provide examples of how they are used.\n",
        "\n",
        "Answer-4. Operators in Python are special symbols or keywords used to perform operations on values or variables. They allow you to manipulate data, make comparisons, and control the flow of your program.\n",
        "\n",
        "##Here's a breakdown of different types of operators in Python:\n",
        "\n",
        "#Arithmetic Operators:\n",
        "\n",
        "Used for performing mathematical calculations.\n",
        "+: Addition\n",
        "-: Subtraction\n",
        "*: Multiplication\n",
        "/: Division\n",
        "//: Floor division (divides and rounds down to the nearest integer)\n",
        "%: Modulus (returns the remainder of division)\n",
        "**: Exponentiation (raises a number to a power)\n",
        "\n",
        "#Comparison Operators:\n",
        "\n",
        "Used for comparing values.\n",
        "==: Equal to\n",
        "!=: Not equal to\n",
        "<: Less than\n",
        ">: Greater than\n",
        "<=: Less than or equal to\n",
        ">=: Greater than or equal to\n",
        "\n",
        "#Logical Operators:\n",
        "\n",
        "Used for combining Boolean expressions.\n",
        "and: Logical AND (returns True if both operands are True)\n",
        "or: Logical OR (returns True if at least one operand is True)\n",
        "not: Logical NOT (reverses the logical value of an operand)\n",
        "\n",
        "#Assignment Operators:\n",
        "\n",
        "Used for assigning values to variables.\n",
        "=: Simple assignment\n",
        "+=: Add and assign\n",
        "-=: Subtract and assign\n",
        "*=: Multiply and assign\n",
        "/=: Divide and assign\n",
        "//=: Floor divide and assign\n",
        "%=: Modulus and assign\n",
        "**=: Exponentiate and assign\n",
        "\n",
        "#Membership Operators:\n",
        "\n",
        "Used to check if an element is present in a sequence.\n",
        "in: Checks if an element is present in a sequence\n",
        "not in Checks if an element is not present in a sequence.\n",
        "\n",
        "\n",
        "\n",
        "\n",
        "\n"
      ],
      "metadata": {
        "id": "dxEmMn3OFJl5"
      }
    },
    {
      "cell_type": "code",
      "source": [
        "#EXAMPLES\n",
        "\n",
        "# Arithmetic operators\n",
        "result = 5 + 3\n",
        "print(result)  # Output: 8\n",
        "\n",
        "# Comparison operators\n",
        "is_equal = 10 == 5\n",
        "print(is_equal)  # Output: False\n",
        "\n",
        "# Logical operators\n",
        "is_true = (5 > 3) and (7 < 10)\n",
        "print(is_true)  # Output: True\n",
        "\n",
        "# Assignment operators\n",
        "x = 10\n",
        "x += 3\n",
        "print(x)  # Output: 13\n",
        "\n",
        "# Membership operators\n",
        "my_list = [1, 2, 3]\n",
        "is_in = 2 in my_list\n",
        "print(is_in)  # Output: True\n",
        "\n",
        "#These operators are essential for writing Python code, allowing you to perform various operations and create complex logic within your programs."
      ],
      "metadata": {
        "colab": {
          "base_uri": "https://localhost:8080/"
        },
        "id": "DxocwI_tIU4d",
        "outputId": "78d205c9-f17b-4a46-bdb4-c907eb4fb0fe"
      },
      "execution_count": 28,
      "outputs": [
        {
          "output_type": "stream",
          "name": "stdout",
          "text": [
            "8\n",
            "False\n",
            "True\n",
            "13\n",
            "True\n"
          ]
        }
      ]
    },
    {
      "cell_type": "markdown",
      "source": [
        "5. Explain the concept of type casting in Python with an example.\n",
        "\n",
        "Answer-5. TYPE CASTING:  \n",
        "In Python, type casting refers to the process of converting a variable from one data type to another. This is often necessary when you need to perform operations that require specific data types or when you want to manipulate data in a particular format.\n",
        "\n"
      ],
      "metadata": {
        "id": "IdfJwsCzJrpm"
      }
    },
    {
      "cell_type": "code",
      "source": [
        "#EXAMPLES\n",
        "\n",
        "# Original values\n",
        "x = 10  # Integer\n",
        "y = 3.14  # Float\n",
        "\n",
        "# Type casting\n",
        "z = int(y)  # Convert float to integer (truncates decimal part)\n",
        "w = float(x)  # Convert integer to float\n",
        "\n",
        "# Print the results\n",
        "print(\"z:\", z)\n",
        "print(\"w:\", w)\n"
      ],
      "metadata": {
        "colab": {
          "base_uri": "https://localhost:8080/"
        },
        "id": "VGeuL1OTMjEO",
        "outputId": "e1af64f4-c5b1-4c36-eaa3-59b2db3fc0ce"
      },
      "execution_count": 29,
      "outputs": [
        {
          "output_type": "stream",
          "name": "stdout",
          "text": [
            "z: 3\n",
            "w: 10.0\n"
          ]
        }
      ]
    },
    {
      "cell_type": "code",
      "source": [
        "#Explanation:\n",
        "\n",
        "#int(y) converts the float value 3.14 to an integer by truncating the decimal part, resulting in 3.\n",
        "#float(x) converts the integer value 10 to a float, adding a decimal point and zero after it, resulting in 10.0.\n",
        "#Common Type Conversions:\n",
        "\n",
        "#int(x): Converts to integer.\n",
        "#float(x): Converts to float.\n",
        "#str(x): Converts to string.\n",
        "#bool(x): Converts to boolean (True if non-zero, False if zero).\n",
        "#list(x): Converts to list.\n",
        "#tuple(x): Converts to tuple.\n",
        "#set(x): Converts to set.\n",
        "#dict(x): Converts to dictionary (if x is a sequence of tuples).\n",
        "\n",
        "#Key Points:\n",
        "#Type casting can be performed using built-in functions.\n",
        "#The conversion may result in data loss or modification depending on the data types involved.\n",
        "#Be mindful of potential errors or unexpected behavior when converting between incompatible types."
      ],
      "metadata": {
        "id": "iG3ZiprAN0hq"
      },
      "execution_count": null,
      "outputs": []
    },
    {
      "cell_type": "markdown",
      "source": [
        "6. How do conditional statements work in Python? illustrate with examples.\n",
        "\n",
        "Answer-6. CONDITIONAL STATEMENTS IN PYTHON:\n",
        "\n",
        "Conditional statements allow your Python code to make decisions and execute different code blocks based on specific conditions. They are essential for creating flexible and dynamic programs."
      ],
      "metadata": {
        "id": "rZ3VtGYjOPh-"
      }
    },
    {
      "cell_type": "code",
      "source": [
        "#Types of Conditional Statements\n",
        "\n",
        "1. #if Statement: Executes a block of code if a condition is true\n",
        "\n",
        "#EXAMPLE:\n",
        "\n",
        "age = 18\n",
        "if age >= 18:\n",
        "    print(\"You are an adult.\")\n",
        "\n",
        "2. #if-else Statement: Executes one block of code if a condition is true, and another block if it's false.\n",
        "\n",
        "#EXAMPLE:\n",
        "\n",
        "num = 5\n",
        "if num % 2 == 0:\n",
        "    print(\"The number is even.\")\n",
        "else:\n",
        "    print(\"The number is odd\")\n",
        "\n",
        "3. #if-elif-else Statement: Checks multiple conditions sequentially and executes the first block that is true.\n",
        "   #If none are true, it executes the else block.\n",
        "\n",
        "# if condition1: Code to execute if condition1 is true\n",
        "# elif condition2: Code to execute if condition2 is true\n",
        "# elif condition3: Code to execute if condition3 is true\n",
        "# else: Code to execute if none of the conditions are true\n",
        "\n",
        "#EXAMPLE:\n",
        "\n",
        "grade = 85\n",
        "if grade >= 90:\n",
        "    print(\"A\")\n",
        "elif grade >= 80:\n",
        "    print(\"B\")\n",
        "elif grade >= 70:\n",
        "    print(\"C\")\n",
        "else:\n",
        "    print(\"D you need to study more.\")\n",
        "\n",
        "4. # Nested Conditional Statements: You can nest conditional statements within each other to create more complex decision-making structures.\n",
        "\n",
        "#EXAMPLE:\n",
        "\n",
        "age = 25\n",
        "if age >= 18:\n",
        "    if age >= 21:\n",
        "        print(\"you can drink alcohol\")\n",
        "    else:\n",
        "        print(\"you can vote but not drink alcohol\")\n",
        "else:\n",
        "    print(\"you are too young to vote or drink alcohol\")\n"
      ],
      "metadata": {
        "colab": {
          "base_uri": "https://localhost:8080/"
        },
        "id": "obL5Vc07SRFr",
        "outputId": "15fdd5c5-1575-44be-e621-72c031ebaf75"
      },
      "execution_count": 30,
      "outputs": [
        {
          "output_type": "stream",
          "name": "stdout",
          "text": [
            "You are an adult.\n",
            "The number is odd\n",
            "B\n",
            "you can drink alcohol\n"
          ]
        }
      ]
    },
    {
      "cell_type": "markdown",
      "source": [
        "#KEY POINTS:\n",
        "* Conditions are evaluated to either True or False.\n",
        "* Code blocks within conditional statements are indented to indicate their belonging.\n",
        "* You can combine multiple conditions using logical operators (and, or, not).\n",
        "* Use parentheses to control the order of operations in complex conditions."
      ],
      "metadata": {
        "id": "4uBlsbzyWr-D"
      }
    },
    {
      "cell_type": "markdown",
      "source": [
        "7. Describe the different types of loops in python and their use cases with examples.\n",
        "\n",
        "Answer-7. Loops in Python are programming constructs that allow you to repeatedly execute a block of code until a certain condition is met. They are essential for automating tasks and performing repetitive operations efficiently.\n",
        "\n",
        "##There are two main types of loops in Python:\n",
        "\n",
        "1. for loop:\n",
        "* Used to iterate over a sequence of elements (e.g., lists, tuples, strings, dictionaries).\n",
        "* The loop runs for a predetermined number of times.\n",
        "\n",
        "2. while loop:\n",
        "* Used to execute a block of code as long as a specified condition is true.\n",
        "* The loop continues until the condition becomes false.\n",
        "\n"
      ],
      "metadata": {
        "id": "0s6rndfGXNTq"
      }
    },
    {
      "cell_type": "code",
      "source": [
        "#Example:\n",
        "\n",
        "#for loop\n",
        "\n",
        "fruits = [\"apple\", \"banana\", \"cherry\"]\n",
        "for fruit in fruits:\n",
        "    print(fruit)\n",
        "\n",
        "#while loop\n",
        "\n",
        "count = 0\n",
        "while count < 5:\n",
        "    print(count)\n",
        "    count += 1\n"
      ],
      "metadata": {
        "colab": {
          "base_uri": "https://localhost:8080/"
        },
        "id": "v5PmYtYbY-ma",
        "outputId": "38088044-f6b0-433e-93ee-679f0cacec46"
      },
      "execution_count": 32,
      "outputs": [
        {
          "output_type": "stream",
          "name": "stdout",
          "text": [
            "apple\n",
            "banana\n",
            "cherry\n",
            "0\n",
            "1\n",
            "2\n",
            "3\n",
            "4\n"
          ]
        }
      ]
    },
    {
      "cell_type": "markdown",
      "source": [
        "#Additional considerations:\n",
        "* break statement: Exits the loop immediately.\n",
        "* continue statement: Skips the current iteration and proceeds to the next one.\n",
        "* Infinite loops: Loops that never terminate (use break or a condition to avoid them).\n",
        "\n",
        "##key points:\n",
        "* Iteration: A single pass through the loop's body.\n",
        "* Condition: An expression that determines whether the loop should continue or terminate.\n",
        "* Loop body: The code block that is executed repeatedly.\n",
        "* Nested loops: Loops within loops, used for complex iterations."
      ],
      "metadata": {
        "id": "vJP83MZ4aAPd"
      }
    }
  ]
}