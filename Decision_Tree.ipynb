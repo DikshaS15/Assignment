{
  "nbformat": 4,
  "nbformat_minor": 0,
  "metadata": {
    "colab": {
      "provenance": [],
      "toc_visible": true
    },
    "kernelspec": {
      "name": "python3",
      "display_name": "Python 3"
    },
    "language_info": {
      "name": "python"
    }
  },
  "cells": [
    {
      "cell_type": "markdown",
      "source": [
        "# Assignment Questions\n",
        "\n",
        "##Theoretical"
      ],
      "metadata": {
        "id": "Q2n3kwgR9rbe"
      }
    },
    {
      "cell_type": "markdown",
      "source": [
        "###1.What is a Decision Tree, and how does it work ?\n",
        "\n",
        "Ans-1. A decision tree is a powerful and versatile tool used in various fields, including machine learning, data mining, and decision analysis. Here's a breakdown of what it is and how it works:\n",
        "\n",
        "####**What is a Decision Tree?**\n",
        "\n",
        "* **Visual Representation:**\n",
        "\n",
        "* A decision tree is essentially a flowchart-like structure that models decisions and their possible consequences.\n",
        "\n",
        "* It visually represents a series of decisions and their potential outcomes.\n",
        "\n",
        "* **Decision-Making Tool:**\n",
        "\n",
        "* It helps in making informed decisions by breaking down complex problems into simpler, more manageable ones.\n",
        "\n",
        "* **Machine Learning Algorithm:**\n",
        "\n",
        "* In machine learning, decision trees are used as predictive models to classify or predict outcomes based on input data.\n",
        "\n",
        "####How it Works:\n",
        "\n",
        "1. **Structure:**\n",
        "\n",
        "* A decision tree consists of nodes and branches.\n",
        "\n",
        "* **Root Node:** The starting point of the tree, representing the initial decision or question.\n",
        "\n",
        "* **Internal Nodes:** Represent decision points, where the data is split based on certain attributes.\n",
        "\n",
        "* **Branches:** Represent the possible outcomes of each decision.\n",
        "\n",
        "* **Leaf Nodes (Terminal Nodes):** Represent the final outcomes or predictions.\n",
        "\n",
        "2. **Decision Process:**\n",
        "\n",
        "* The tree works by recursively partitioning the data based on the values of different attributes.\n",
        "\n",
        "* At each internal node, a test is performed on an attribute, and the data is split into subsets based on the test result.\n",
        "\n",
        "* This process continues until a leaf node is reached, which represents the predicted outcome.\n",
        "\n",
        "3. **Splitting Criteria:**\n",
        "\n",
        "* Algorithms use various metrics to determine the best attribute to split on at each node. Common metrics include:\n",
        "\n",
        "* **Gini impurity:** Measures the impurity of a set of data.\n",
        "\n",
        "* **Entropy:** Measures the disorder or randomness of a set of data.\n",
        "\n",
        "* **Information gain:** Measures the reduction in entropy after a split.\n",
        "\n",
        "####Types of Decision Trees:\n",
        "\n",
        "* **Classification Trees:** Used when the predicted outcome is a categorical variable (e.g., yes/no, red/blue).\n",
        "\n",
        "* **Regression Trees:** Used when the predicted outcome is a continuous variable (e.g., price, temperature).\n",
        "\n",
        "####Key Advantages:\n",
        "\n",
        "* **Easy to Understand:** Decision trees are highly interpretable, making it easy to understand how decisions are made.\n",
        "\n",
        "* **Handles Both Categorical and Numerical Data:** They can work with various types of data.\n",
        "\n",
        "* **Visual Representation:** The tree structure provides a clear and intuitive visualization of the decision-making process.\n",
        "\n",
        "####Key Considerations:\n",
        "\n",
        "* **Overfitting:** Decision trees can become overly complex and overfit the training data, leading to poor performance on new data.\n",
        "\n",
        "* **Instability:** Small changes in the data can lead to significant changes in the tree structure.\n",
        "\n",
        "In essence, decision trees provide a clear and structured way to analyze decisions and predict outcomes, making them valuable tools in various fields.\n"
      ],
      "metadata": {
        "id": "1BNOV_fO92Uz"
      }
    },
    {
      "cell_type": "markdown",
      "source": [
        "###2.What are impurity measures in Decision Trees ?\n",
        "\n",
        "Ans-2. In the context of decision trees, \"impurity measures\" are crucial metrics used to determine the best way to split the data at each node. They quantify how mixed or \"impure\" a set of data is with respect to the class labels. The goal is to create splits that result in subsets of data that are as \"pure\" as possible, meaning they primarily contain instances of a single class.\n",
        "\n",
        "Here's a breakdown of the key impurity measures:\n",
        "\n",
        "1. **Gini Impurity:**\n",
        "\n",
        "####What it is:\n",
        "\n",
        "* The Gini impurity measures the probability of incorrectly classifying a randomly chosen element in a dataset if it were randomly labeled according to the distribution of labels in the subset.\n",
        "\n",
        "* A Gini impurity of 0 means that all elements belong to the same class (perfect purity).\n",
        "\n",
        "* A higher Gini impurity indicates a more mixed set of classes.\n",
        "\n",
        "####How it's used:\n",
        "\n",
        "* Decision tree algorithms use the Gini impurity to evaluate potential splits and choose the one that results in the lowest Gini impurity in the resulting subsets.\n",
        "\n",
        "2. **Entropy:**\n",
        "\n",
        "####What it is:\n",
        "\n",
        "* Entropy measures the disorder or randomness of a dataset. In the context of decision trees, it quantifies the uncertainty of the class labels in a node.\n",
        "\n",
        "* A high entropy value indicates a high degree of disorder (mixed classes), while a low entropy value indicates a more ordered set (predominantly one class).\n",
        "\n",
        "####How it's used:\n",
        "\n",
        "* Similar to the Gini impurity, entropy is used to find the best splits that reduce uncertainty and create more homogeneous subsets.\n",
        "\n",
        "3. **Information Gain:**\n",
        "\n",
        "####What it is:\n",
        "\n",
        "* Information gain is derived from entropy. It measures the reduction in entropy achieved by splitting a dataset on a particular attribute.\n",
        "\n",
        "* It essentially quantifies how much \"information\" is gained about the class labels by partitioning the data.\n",
        "\n",
        "####How it's used:\n",
        "\n",
        "* Decision tree algorithms aim to maximize information gain, selecting the attribute that provides the greatest reduction in entropy.\n",
        "\n",
        "**In essence:**\n",
        "\n",
        "* These impurity measures help decision tree algorithms make intelligent decisions about how to partition data, leading to more accurate and effective predictive models.\n",
        "\n",
        "* They provide a way to numerically evaluate the quality of a potential split in the data.\n",
        "\n",
        "* By minimizing impurity, the algorithm is working to create nodes that contain primarily one class of data."
      ],
      "metadata": {
        "id": "4h-XSulV_pvS"
      }
    },
    {
      "cell_type": "markdown",
      "source": [
        "###3.What is the mathematical formula for Gini Impurity ?\n",
        "\n",
        "Ans-3. The mathematical formula for Gini impurity is relatively straightforward. Here's how it's expressed:\n",
        "\n",
        "**General Formula:**\n",
        "\n",
        "If you have a dataset with 'n' classes, the Gini impurity is calculated as:\n",
        "\n",
        "    Gini = 1 - Σ (p_i)^2\n",
        "\n",
        "Where:\n",
        "\n",
        "* Σ represents the sum.\n",
        "\n",
        "* p_i is the probability of an element belonging to class 'i'.\n",
        "\n",
        "####Breaking it down:\n",
        "\n",
        "1. **Probability Calculation:**\n",
        "\n",
        "* For each class, you calculate the probability of an element belonging to that class. This is typically done by dividing the number of elements in that class by the total number of elements in the dataset.\n",
        "\n",
        "2. **Squaring Probabilities:**\n",
        "\n",
        "* You then square each of these probabilities.\n",
        "\n",
        "3. **Summation:**\n",
        "\n",
        "* You sum up all the squared probabilities.\n",
        "\n",
        "4. **Subtraction:**\n",
        "\n",
        "* Finally, you subtract this sum from 1.\n",
        "\n",
        "####Example with two classes:\n",
        "\n",
        "* If you have a dataset with two classes (e.g., \"yes\" and \"no\"), the formula becomes:\n",
        "\n",
        "    Gini = 1 - (p_yes^2 + p_no^2)\n",
        "\n",
        "Where:\n",
        "\n",
        "* p_yes is the probability of \"yes\".\n",
        "\n",
        "* p_no is the probability of \"no\".\n",
        "\n",
        "####Key points:\n",
        "\n",
        "* The Gini impurity ranges from 0 to 0.5.\n",
        "\n",
        "* A Gini impurity of 0 indicates perfect purity (all elements belong to the same class).\n",
        "\n",
        "* A Gini impurity of 0.5 indicates maximum impurity (the classes are evenly distributed)."
      ],
      "metadata": {
        "id": "uIqXXXXZBbFx"
      }
    },
    {
      "cell_type": "markdown",
      "source": [
        "###4.What is the mathematical formula for Entropy\t?\n",
        "\n",
        "Ans-4. The mathematical formula for entropy, particularly as it's used in decision trees, quantifies the amount of disorder or uncertainty in a dataset. Here's the breakdown:\n",
        "\n",
        "**Formula:**\n",
        "\n",
        "* The entropy (H) of a dataset (S) is calculated as:\n",
        "\n",
        "      H(S) = - Σ pi * log2(pi)\n",
        "\n",
        "Where:\n",
        "\n",
        "* H(S) is the entropy of the dataset S.\n",
        "\n",
        "* Σ represents the sum over all classes.\n",
        "\n",
        "* pi is the probability of an element belonging to class 'i'.\n",
        "\n",
        "* log2 is the logarithm base 2.\n",
        "\n",
        "**Explanation:**\n",
        "\n",
        "1. **Probability Calculation (pi):**\n",
        "\n",
        "* For each distinct class within the dataset, you determine the proportion of instances that belong to that class. This proportion represents the probability (pi) of encountering an instance of that class.\n",
        "\n",
        "2. **Logarithmic Calculation (log2(pi)):**\n",
        "\n",
        "* You take the base-2 logarithm of each class probability. This logarithm reflects the amount of information required to represent that class.\n",
        "\n",
        "3. **Multiplication and Summation:**\n",
        "\n",
        "* You multiply each probability (pi) by its corresponding logarithm (log2(pi)).\n",
        "Then, you sum up these products for all classes.\n",
        "\n",
        "4. **Negation:**\n",
        "\n",
        "* Finally, you negate the entire sum. This ensures that the entropy value is non-negative.\n",
        "\n",
        "####Key Points:\n",
        "\n",
        "* Entropy values range from 0 to 1 (in the case of binary classification).\n",
        "\n",
        "* An entropy of 0 indicates perfect order (all instances belong to the same class).\n",
        "\n",
        "* An entropy of 1 (in binary classification) indicates maximum disorder (classes are evenly distributed).\n",
        "\n",
        "* The use of log base 2, results in the measurement of information in bits.\n",
        "\n"
      ],
      "metadata": {
        "id": "1APkmG-JCV8M"
      }
    },
    {
      "cell_type": "markdown",
      "source": [
        "###5.What is Information Gain, and how is it used in Decision Trees ?\n",
        "\n",
        "Ans-5. Information gain is a fundamental concept in decision tree algorithms, particularly when it comes to determining the best way to split data at each node. Here's a breakdown:\n",
        "\n",
        "**What is Information Gain?**\n",
        "\n",
        "* **Reduction in Entropy:**\n",
        "\n",
        "* Information gain measures the reduction in entropy (uncertainty) achieved by splitting a dataset on a particular attribute.\n",
        "\n",
        "* In simpler terms, it tells you how much \"information\" you gain about the target variable by knowing the value of a specific feature.\n",
        "\n",
        "* **Attribute Selection:**\n",
        "\n",
        "* Decision tree algorithms use information gain to select the attribute that provides the most significant reduction in entropy, as this attribute is considered the most informative for classifying the data.\n",
        "\n",
        "####How it's Used in Decision Trees:\n",
        "\n",
        "1. **Entropy Calculation:**\n",
        "\n",
        "* First, the entropy of the current dataset (before any split) is calculated. This represents the initial level of uncertainty.\n",
        "\n",
        "2. **Splitting and Entropy Calculation:**\n",
        "\n",
        "* For each attribute, the dataset is hypothetically split into subsets based on the attribute's values.\n",
        "\n",
        "* The entropy of each resulting subset is calculated.\n",
        "\n",
        "3. **Weighted Average Entropy:**\n",
        "\n",
        "* A weighted average of the subset entropies is calculated, where the weights are determined by the proportion of data points in each subset.\n",
        "\n",
        "4. **Information Gain Calculation:**\n",
        "\n",
        "* The information gain is then calculated by subtracting the weighted average entropy of the subsets from the original entropy of the dataset.\n",
        "\n",
        "5. **Attribute Selection:**\n",
        "\n",
        "* The attribute with the highest information gain is selected as the best attribute to split on at that node.\n",
        "\n",
        "* This process is repeated recursively for each subsequent node until the tree is complete.\n",
        "\n",
        "**In essence:**\n",
        "\n",
        "* Information gain helps the decision tree algorithm to prioritize attributes that are most effective in separating the data into distinct classes.\n",
        "\n",
        "* By maximizing information gain, the algorithm aims to create a tree that is as accurate and efficient as possible.\n",
        "\n",
        "Therefore, Information gain is the key metric that drives the decision tree to create the most optimal tree structure."
      ],
      "metadata": {
        "id": "VEfuRpHHDuQQ"
      }
    },
    {
      "cell_type": "markdown",
      "source": [
        "###6.What is the difference between Gini Impurity and Entropy ?\n",
        "\n",
        "Ans-6. While both Gini impurity and entropy serve the same fundamental purpose in decision trees—measuring the impurity or disorder of a dataset—they differ in their mathematical formulation and computational characteristics. Here's a breakdown of their key distinctions:\n",
        "\n",
        "1. **Mathematical Formulation:**\n",
        "\n",
        "* **Gini Impurity:**\n",
        "\n",
        "* Calculated as: 1 - Σ (p_i)^2, where p_i is the probability of an element belonging to class i.\n",
        "\n",
        "* It's a simpler, linear calculation.\n",
        "\n",
        "* **Entropy:**\n",
        "\n",
        "* Calculated as: - Σ pi * log2(pi), where pi is the probability of an element belonging to class i.\n",
        "\n",
        "* It involves a logarithmic calculation, making it slightly more complex.\n",
        "\n",
        "2. **Computational Complexity:**\n",
        "\n",
        "* **Gini Impurity:**\n",
        "\n",
        "* Generally faster to compute due to its linear nature.\n",
        "\n",
        "* **Entropy:**\n",
        "\n",
        "* More computationally intensive because of the logarithmic function.\n",
        "\n",
        "3. **Sensitivity:**\n",
        "\n",
        "* **Entropy:**\n",
        "\n",
        "* Slightly more sensitive to changes in class probabilities, especially when classes are close to evenly distributed.\n",
        "\n",
        "* **Gini Impurity:**\n",
        "\n",
        "* Can be slightly biased towards creating larger partitions.\n",
        "\n",
        "4. **Range of Values:**\n",
        "\n",
        "* **Gini Impurity:**\n",
        "\n",
        "* Ranges from 0 to 0.5.\n",
        "\n",
        "* **Entropy:**\n",
        "\n",
        "* Ranges from 0 to 1 (in binary classification).\n",
        "\n",
        "5. **Practical Implications:**\n",
        "\n",
        "* **Performance:**\n",
        "\n",
        "* In most practical applications, the difference in performance between decision trees using Gini impurity and those using entropy is often negligible.\n",
        "\n",
        "* **Choice:**\n",
        "\n",
        "* Gini impurity is often preferred for its computational efficiency, especially with large datasets.\n",
        "\n",
        "* Entropy is sometimes prefered when a higher level of precision is needed.\n",
        "\n",
        "**In essence:**\n",
        "\n",
        "* Both metrics aim to measure the same thing: how mixed the classes are within a dataset.\n",
        "\n",
        "* The primary difference lies in how they calculate this measure.\n",
        "\n",
        "* Gini impurity is generally faster, while entropy is slightly more nuanced.\n",
        "\n"
      ],
      "metadata": {
        "id": "KnrBbTkxEv5b"
      }
    },
    {
      "cell_type": "markdown",
      "source": [
        "###7.What is the mathematical explanation behind Decision Trees\t?\n",
        "\n",
        "Ans-7. Understanding the mathematical explanation behind decision trees involves grasping the core concepts that drive their construction and operation. Here's a breakdown of the key mathematical elements:\n",
        "\n",
        "1. **Core Concepts:**\n",
        "\n",
        "* **Information Theory:**\n",
        "\n",
        "* Decision trees heavily rely on information theory, particularly the concepts of entropy and information gain.\n",
        "\n",
        "* Entropy quantifies the impurity or disorder within a dataset.\n",
        "\n",
        "* Information gain measures the reduction in entropy achieved by splitting the dataset based on an attribute.\n",
        "\n",
        "* **Probability:**\n",
        "\n",
        "* Probability plays a crucial role in calculating entropy and Gini impurity.\n",
        "\n",
        "* These measures involve determining the probability of data points belonging to specific classes.\n",
        "\n",
        "* **Recursive Partitioning:**\n",
        "\n",
        "* The process of building a decision tree involves recursively partitioning the dataset into subsets.\n",
        "\n",
        "* This recursive process can be expressed mathematically through algorithmic functions.\n",
        "\n",
        "2. **Key Mathematical Elements:**\n",
        "\n",
        "* **Entropy:**\n",
        "\n",
        "* As discussed earlier, entropy is calculated using the formula:\n",
        "\n",
        "      H(S) = - Σ pi * log2(pi)\n",
        "\n",
        "* This formula quantifies the uncertainty associated with the distribution of class labels in a dataset.\n",
        "\n",
        "* **Gini Impurity:**\n",
        "\n",
        "* Gini impurity is calculated using the formula:\n",
        "\n",
        "      Gini = 1 - Σ (p_i)^2\n",
        "\n",
        "* This formula measures the probability of incorrectly classifying a randomly chosen element.\n",
        "\n",
        "* **Information Gain:**\n",
        "\n",
        "* Information gain is calculated as the difference between the entropy of the parent node and the weighted average entropy of the child nodes:\n",
        "\n",
        "      Gain(S, A) = Entropy(S) - Σ (|Sv| / |S|) * Entropy(Sv)\n",
        "\n",
        "Where:\n",
        "\n",
        "* S is the parent node.\n",
        "\n",
        "* A is the attribute being used for splitting.\n",
        "\n",
        "* Sv are the child nodes.\n",
        "\n",
        "* |S| and |Sv| represent the number of samples in the respective nodes.\n",
        "\n",
        "* **Algorithmic Optimization:**\n",
        "\n",
        "* Decision tree algorithms aim to optimize the tree structure by selecting the splits that maximize information gain or minimize Gini impurity.\n",
        "\n",
        "* This optimization process involves evaluating numerous potential splits and choosing the best one.\n",
        "\n",
        "3. **Practical Implications:**\n",
        "\n",
        "* **Attribute Selection:**\n",
        "\n",
        "* The mathematical formulas for entropy, Gini impurity, and information gain provide a quantitative basis for selecting the most informative attributes for splitting the data.\n",
        "\n",
        "* **Tree Pruning:**\n",
        "\n",
        "* Mathematical criteria are also used in tree pruning, which involves removing branches that do not significantly improve the model's accuracy. This helps to prevent overfitting.\n",
        "\n",
        "* **Model Evaluation:**\n",
        "\n",
        "* Mathematical metrics, such as accuracy, precision, recall, and F1-score, are used to evaluate the performance of decision tree models.\n",
        "\n",
        "**In essence,** the mathematics behind decision trees provides a rigorous framework for building and optimizing these models. By leveraging concepts from information theory and probability, decision tree algorithms can effectively learn patterns from data and make accurate predictions."
      ],
      "metadata": {
        "id": "Gn--MSUPGA8-"
      }
    },
    {
      "cell_type": "markdown",
      "source": [
        "###8.What is Pre-Pruning in Decision Trees ?\n",
        "\n",
        "Ans-8. In the realm of decision trees, \"pre-pruning\" is a technique used to prevent overfitting by halting the construction of the tree early. Here's a breakdown:\n",
        "\n",
        "Understanding Pre-Pruning:\n",
        "\n",
        "Early Stopping:\n",
        "Pre-pruning, also known as \"early stopping,\" involves stopping the growth of the decision tree during its construction.\n",
        "This is done by setting certain criteria that, when met, prevent further splitting of nodes.\n",
        "Preventing Overfitting:\n",
        "Decision trees have a tendency to overfit the training data, meaning they become too complex and memorize noise rather than learning generalizable patterns.\n",
        "Pre-pruning aims to avoid this by limiting the tree's depth and complexity.\n",
        "How It Works:\n",
        "During the tree-building process, the algorithm checks certain conditions before each split.\n",
        "If a condition is met, the split is not performed, and the node becomes a leaf.\n",
        "Common Pre-Pruning Techniques:\n",
        "\n",
        "Maximum Depth:\n",
        "Limiting the maximum depth of the tree.\n",
        "Minimum Samples per Leaf:\n",
        "Setting a minimum number of data points required in a leaf node.\n",
        "Minimum Samples per Split:\n",
        "Specifying the minimum number of data points required to split an internal node.\n",
        "Minimum Impurity Decrease:\n",
        "Stopping a split if the decrease in impurity (e.g., Gini impurity or entropy) is below a certain threshold.\n",
        "Key Advantages:\n",
        "\n",
        "Computational Efficiency:\n",
        "Pre-pruning can be faster than post-pruning because it avoids building a fully grown tree.\n",
        "Simpler Models:\n",
        "It results in simpler, more interpretable decision trees.\n",
        "Key Disadvantages:\n",
        "\n",
        "Potential Underfitting:\n",
        "If the pruning criteria are too strict, the tree may stop growing too early, leading to underfitting.\n",
        "It is possible that a split that appears to be of little value at the time, may lead to very valuable splits further down the tree. Pre-pruning can prevent those future valuable splits from happening.\n",
        "In essence, pre-pruning is a proactive approach to preventing overfitting by setting constraints on the tree's growth during its construction.\n"
      ],
      "metadata": {
        "id": "X6uCG5tYIFvv"
      }
    },
    {
      "cell_type": "markdown",
      "source": [
        "###9.What is Post-Pruning in Decision Trees ?\n",
        "\n",
        "Ans-9. In the context of decision trees, post-pruning is a technique used to reduce the complexity of a fully grown tree to prevent overfitting. Here's a breakdown:\n",
        "\n",
        "**Understanding the Problem:**\n",
        "\n",
        "* **Overfitting:** Decision trees, if allowed to grow to their full depth, can become excessively complex. This means they start to \"memorize\" the training data, including its noise, rather than learning the underlying patterns. This leads to poor performance on new, unseen data.\n",
        "\n",
        "####What Post-Pruning Does:\n",
        "\n",
        "* **Post-pruning involves:**\n",
        "\n",
        "* First, growing the decision tree to its maximum possible depth.\n",
        "Then, \"pruning\" or removing branches that do not contribute significantly to the tree's predictive accuracy.\n",
        "\n",
        "* The goal is to simplify the tree, making it more general and better able to handle new data.\n",
        "\n",
        "####Key Aspects:\n",
        "\n",
        "* **How it works:**\n",
        "\n",
        "* The process typically involves evaluating the impact of removing branches on a validation dataset.\n",
        "\n",
        "* Branches are removed if their removal does not significantly increase the error on the validation set, or if they reduce the model's complexity without a significant loss of accuracy.\n",
        "\n",
        "* **Why it's used:**\n",
        "\n",
        "* To improve the generalization of the decision tree.\n",
        "\n",
        "* To reduce the risk of overfitting.\n",
        "\n",
        "* **Techniques:**\n",
        "\n",
        "* Common post-pruning techniques include cost-complexity pruning and reduced error pruning.\n",
        "\n",
        "In essence, post-pruning allows the decision tree to \"learn\" as much as possible from the training data, and then it refines that learning by removing unnecessary details."
      ],
      "metadata": {
        "id": "GgaZtkGVxIv3"
      }
    },
    {
      "cell_type": "markdown",
      "source": [
        "###10.What is the difference between Pre-Pruning and Post-Pruning ?\n",
        "\n",
        "Ans-10. The key difference between pre-pruning and post-pruning lies in when the pruning process occurs during the creation of a decision tree. Here's a breakdown:\n",
        "\n",
        "##**Pre-Pruning (Early Stopping):**\n",
        "\n",
        "* **When:**\n",
        "\n",
        "* This technique stops the growth of the decision tree before it fully develops. It halts the process early, preventing the tree from becoming too complex.\n",
        "\n",
        "* **How:**\n",
        "\n",
        "* Pre-pruning sets constraints or conditions that determine when to stop splitting nodes. These conditions might include:\n",
        "\n",
        "* Maximum tree depth.\n",
        "\n",
        "* Minimum number of samples required to split a node.\n",
        "\n",
        "* Minimum number of samples required in a leaf node.\n",
        "\n",
        "* A threshold for information gain.\n",
        "\n",
        "* **Goal:**\n",
        "\n",
        "* To prevent overfitting by stopping the tree from growing to a point where it memorizes noise in the training data.\n",
        "\n",
        "* **Advantages:**\n",
        "\n",
        "* Can be computationally efficient.\n",
        "\n",
        "* Reduces the risk of overfitting.\n",
        "\n",
        "* **Disadvantages:**\n",
        "\n",
        "* May lead to underfitting if the stopping criteria are too strict, preventing the tree from capturing important patterns.\n",
        "\n",
        "##**Post-Pruning:**\n",
        "\n",
        "* **When:**\n",
        "\n",
        "* This technique involves growing the decision tree to its full depth and then removing branches that do not contribute significantly to its accuracy.\n",
        "\n",
        "* **How:**\n",
        "\n",
        "* After the tree is fully grown, post-pruning evaluates the impact of removing branches on a validation dataset.\n",
        "\n",
        "* Branches are removed if their removal does not significantly increase the error rate.\n",
        "\n",
        "* **Goal:**\n",
        "\n",
        "* To simplify a fully grown tree and improve its generalization to unseen data, thereby reducing overfitting.\n",
        "\n",
        "* **Advantages:**\n",
        "\n",
        "* Often leads to better generalization than pre-pruning.\n",
        "\n",
        "* Allows the tree to explore all potential patterns before simplification.\n",
        "\n",
        "* **Disadvantages:**\n",
        "\n",
        "* Can be computationally expensive, as it requires growing the full tree first.\n",
        "\n",
        "* Requires a validation set.\n",
        "\n",
        "**In summary:**\n",
        "\n",
        "* Pre-pruning stops the tree from growing too much.\n",
        "\n",
        "* Post-pruning trims a fully grown tree.\n",
        "\n",
        "Both methods aim to prevent overfitting, but they approach the problem from different angles."
      ],
      "metadata": {
        "id": "Y60XbAzG_t4v"
      }
    },
    {
      "cell_type": "markdown",
      "source": [
        "###11.What is a Decision Tree Regressor ?\n",
        "\n",
        "Ans-11. A Decision Tree Regressor is a type of machine learning algorithm that uses a tree-like structure to predict continuous numerical values. Here's a breakdown:\n",
        "\n",
        "####**Core Concept:**\n",
        "\n",
        "**Regression vs. Classification:**\n",
        "\n",
        "* Decision trees can be used for both classification (predicting categories) and regression (predicting numerical values).\n",
        "\n",
        "* A Decision Tree Regressor is specifically designed for regression tasks.\n",
        "\n",
        "**Tree Structure:**\n",
        "\n",
        "* Like all decision trees, it consists of nodes and branches.\n",
        "\n",
        "* Internal nodes represent decisions based on features (e.g., \"Is the house size greater than 1500 sq ft?\").\n",
        "\n",
        "* Branches represent the outcomes of those decisions.\n",
        "\n",
        "* Leaf nodes represent the predicted numerical values.\n",
        "\n",
        "**How it Works:**\n",
        "\n",
        "* The algorithm recursively partitions the data into smaller subsets based on the features.\n",
        "\n",
        "* At each split, it aims to minimize the variance or mean squared error (MSE) within the resulting subsets.\n",
        "\n",
        "* When a data point reaches a leaf node, the predicted value is typically the average of the target values in that node.\n",
        "\n",
        "**Key Characteristics:**\n",
        "\n",
        "**Predicting Continuous Values:**\n",
        "\n",
        "* Its primary purpose is to predict values that can fall anywhere on a continuous scale (e.g., house prices, temperature, sales figures).\n",
        "\n",
        "**Non-linear Relationships:**\n",
        "\n",
        "* Decision Tree Regressors can capture complex, non-linear relationships between features and the target variable.\n",
        "\n",
        "* **Interpretability:**\n",
        "\n",
        "* The tree structure makes it relatively easy to understand how the model arrives at its predictions.\n",
        "\n",
        "* **Overfitting:**\n",
        "\n",
        "* Like all decision trees, they are prone to overfitting, which means they can memorize the training data and perform poorly on new data. Techniques like pruning are used to mitigate this.\n",
        "\n",
        "**In essence:**\n",
        "\n",
        "A Decision Tree Regressor is a valuable tool for predicting numerical values, especially when the relationships between variables are complex and non-linear.\n"
      ],
      "metadata": {
        "id": "yuKRsZ2vBI-b"
      }
    },
    {
      "cell_type": "markdown",
      "source": [
        "###12.What are the advantages and disadvantages of Decision Trees ?\n",
        "\n",
        "Ans-12. Decision trees are a popular and versatile machine learning algorithm, but like any tool, they have their strengths and weaknesses. Here's a summary of their advantages and disadvantages:\n",
        "\n",
        "####**Advantages:**\n",
        "\n",
        "* **Interpretability:**\n",
        "\n",
        "* Decision trees are easy to visualize and understand. The tree structure clearly shows the decision-making process, making it simple to explain how the model arrives at its predictions.\n",
        "\n",
        "* **Versatility:**\n",
        "\n",
        "* They can handle both classification and regression tasks.\n",
        "\n",
        "* They can work with both categorical and numerical data.\n",
        "\n",
        "* **Minimal Data Preparation:**\n",
        "\n",
        "* Decision trees require relatively little data preprocessing. They are less sensitive to outliers and missing values than some other algorithms.\n",
        "\n",
        "* They do not require data normalization or scaling.\n",
        "\n",
        "* **Non-linear Relationships:**\n",
        "\n",
        "* Decision trees can capture complex, non-linear relationships between features and the target variable.\n",
        "\n",
        "* **White Box Model:**\n",
        "\n",
        "* The reasoning behind predictions are easily explainable.\n",
        "\n",
        "####Disadvantages:\n",
        "\n",
        "* **Overfitting:**\n",
        "\n",
        "* Decision trees are prone to overfitting, especially when they are allowed to grow too deep. This means they can memorize the training data and perform poorly on new data.\n",
        "\n",
        "* **Instability:**\n",
        "\n",
        "* Small changes in the training data can lead to significant changes in the tree structure. This can make the model unstable.\n",
        "\n",
        "* **Bias with Imbalanced Data:**\n",
        "\n",
        "* If the dataset is imbalanced (i.e., one class has significantly more samples than the others), decision trees can be biased towards the majority class.\n",
        "\n",
        "* **Greedy Algorithm:**\n",
        "\n",
        "* Decision tree algorithms typically use a greedy approach, which means they make locally optimal decisions at each node. This can lead to suboptimal overall trees.\n",
        "\n",
        "* **Can be computationally expensive:**\n",
        "\n",
        "* Especially with very large datasets.\n",
        "\n",
        "####Key Considerations:\n",
        "\n",
        "* Techniques like pruning and ensemble methods (e.g., Random Forests, Gradient Boosting) can help mitigate some of the disadvantages of decision trees, such as overfitting and instability.\n",
        "\n",
        "**In essence,** decision trees are powerful tools when used appropriately. Understanding their strengths and weaknesses is crucial for effective model building."
      ],
      "metadata": {
        "id": "GFCYsW3Bso9c"
      }
    },
    {
      "cell_type": "markdown",
      "source": [
        "###13.How does a Decision Tree handle missing values ?\n",
        "\n",
        "Ans-13. Decision trees possess some inherent capabilities for handling missing values, which contributes to their robustness in real-world scenarios. Here's a breakdown of how they typically approach this issue:\n",
        "\n",
        "####**Key Strategies:**\n",
        "\n",
        "**During Tree Construction:**\n",
        "\n",
        "* **Weighted Impurity Calculations:**\n",
        "\n",
        "* When evaluating potential splits, decision tree algorithms (like CART) can adjust their impurity calculations (e.g., Gini impurity) to account for missing values. This involves weighting the contributions of instances based on the proportion of available data.\n",
        "\n",
        "* **Surrogate Splits:**\n",
        "\n",
        "* A significant technique is the use of surrogate splits. When a primary splitting feature has missing values, the algorithm can utilize secondary, \"surrogate\" features that exhibit similar splitting patterns. This allows the tree to make decisions even when the primary feature is unavailable.\n",
        "\n",
        "* **Handling During Node Splitting:**\n",
        "\n",
        "* When the algorithm is determining the best split, it considers all the available data. Therefore the presence of some missing data, does not prevent the algorithm from finding a good split within the remaining data.\n",
        "\n",
        "* **During Prediction:**\n",
        "\n",
        "* **Following Surrogate Splits:**\n",
        "\n",
        "* When a data point with a missing value encounters a node where the splitting feature is missing, the tree can follow the pre-calculated surrogate splits to determine the appropriate branch.\n",
        "\n",
        "**In essence:**\n",
        "\n",
        "* Decision trees aim to leverage the available information as effectively as possible.\n",
        "\n",
        "* They do not necessarily require explicit imputation before training, although in some cases, preprocessing may improve performance.\n",
        "\n",
        "* By using weighted impurity calculations, and surrogate splits, they are able to work around the absense of certain data within a data point.\n",
        "\n",
        "This adaptability makes decision trees valuable in situations where datasets are prone to missing data.\n"
      ],
      "metadata": {
        "id": "bqxc0vBHuCbH"
      }
    },
    {
      "cell_type": "markdown",
      "source": [
        "###14.How does a Decision Tree handle categorical features ?\n",
        "\n",
        "Ans-14. Decision trees can handle categorical features, but the way they do so can vary depending on the specific algorithm and implementation. Here's a breakdown of the common approaches:\n",
        "\n",
        "####Understanding the Challenge:\n",
        "\n",
        "* Categorical features represent data with distinct categories (e.g., colors, types, locations), not numerical values.\n",
        "\n",
        "* Decision trees work by splitting data based on feature values, so they need a way to determine the \"best\" split for categorical features.\n",
        "\n",
        "####Common Approaches:\n",
        "\n",
        "* **Direct Splitting:**\n",
        "\n",
        "* Some decision tree algorithms can directly handle categorical features by creating splits based on subsets of categories.\n",
        "\n",
        "* For example, a node might split on the \"color\" feature, with one branch for \"red\" and \"blue\" and another branch for \"green.\"\n",
        "\n",
        "* This approach involves evaluating the impurity (e.g., Gini impurity, entropy) of the resulting subsets for different combinations of categories.\n",
        "\n",
        "####Encoding:\n",
        "\n",
        "* Often, categorical features are transformed into numerical representations before being used in a decision tree. Common encoding techniques include:\n",
        "\n",
        "* **Label Encoding:**\n",
        "\n",
        "* Assigns a unique numerical value to each category. This is simple but can introduce unintended ordinal relationships between categories.\n",
        "\n",
        "* **One-Hot Encoding:**\n",
        "\n",
        "* Creates a binary column for each category, indicating whether a data point belongs to that category. This avoids ordinal relationships but can increase the dimensionality of the data.\n",
        "\n",
        "* **Ordinal Encoding:**\n",
        "\n",
        "* When categorical data has a natural ordering, this encoding assigns numerical values that respect that order.\n",
        "\n",
        "* Once encoded, the decision tree can treat the categorical features as numerical and use standard splitting criteria.\n",
        "\n",
        "* **Handling in specific algorithms:**\n",
        "\n",
        "* It is worth noting that some modern algorithms, such as CatBoost, are designed to handle categorical variables directly, without the need for extensive preprocessing. These algorithms can often achieve better performance with categorical data.\n",
        "\n",
        "####Key Considerations:\n",
        "\n",
        "* The choice of approach can impact the performance and interpretability of the decision tree.\n",
        "\n",
        "* One-hot encoding can be particularly useful when dealing with nominal categorical features (categories with no inherent order).\n",
        "\n",
        "* It's important to be aware of the potential for increased dimensionality when using one-hot encoding, especially with high-cardinality categorical features (features with many unique categories).\n",
        "\n",
        "In summary, decision trees have various ways to deal with categorical data. The best method depends on the specific dataset and the goals of the analysis.\n"
      ],
      "metadata": {
        "id": "I-RaIotVuzyt"
      }
    },
    {
      "cell_type": "markdown",
      "source": [
        "###15.What are some real-world applications of Decision Trees ?\n",
        "\n",
        "Ans-15. Decision trees are incredibly versatile and find applications across a wide range of industries. Here are some key real-world examples:\n",
        "\n",
        "##1. **Healthcare:**\n",
        "\n",
        "* **Medical Diagnosis:**\n",
        "\n",
        "* Decision trees can assist in diagnosing diseases by analyzing patient symptoms, medical history, and test results. They can help identify potential conditions and guide treatment decisions.\n",
        "\n",
        "* **Risk Assessment:**\n",
        "\n",
        "* They can be used to assess patient risk for developing certain conditions, such as heart disease or diabetes, based on various factors.\n",
        "\n",
        "##2. **Finance:**\n",
        "\n",
        "* **Credit Scoring:**\n",
        "\n",
        "* Banks and financial institutions use decision trees to evaluate the creditworthiness of loan applicants. Factors like income, credit history, and debt levels are analyzed to determine the likelihood of loan repayment.\n",
        "\n",
        "* **Fraud Detection:**\n",
        "\n",
        "* Decision trees can identify suspicious patterns in financial transactions, helping to detect fraudulent activities.\n",
        "\n",
        "##3. **Marketing:**\n",
        "\n",
        "* **Customer Relationship Management (CRM):**\n",
        "\n",
        "* Businesses use decision trees to segment customers based on their demographics, purchasing behavior, and other factors. This allows for targeted marketing campaigns and personalized offers.\n",
        "\n",
        "* **Customer Churn Prediction:**\n",
        "\n",
        "* Companies can predict which customers are likely to stop using their products or services, enabling them to take proactive measures to retain them.\n",
        "\n",
        "##4. **Quality Control:**\n",
        "\n",
        "* **Manufacturing:**\n",
        "\n",
        "* Decision trees can be used to identify factors that contribute to product defects, helping to improve manufacturing processes and ensure product quality.\n",
        "\n",
        "##5. **Recommendation Systems:**\n",
        "\n",
        "* **E-commerce and Entertainment:**\n",
        "\n",
        "* Platforms like online retailers and streaming services use decision trees as part of their recommendation algorithms. They analyze user preferences and past behavior to suggest relevant products or content.\n",
        "\n",
        "##6. **General Decision Making:**\n",
        "\n",
        "* Decision trees are very useful for general decision making processes. Because of their visual nature, they can be used to map out the possible outcomes of differing choices.\n",
        "\n",
        "**In essence,** the ability of decision trees to handle both categorical and numerical data, combined with their interpretability, makes them a valuable tool in numerous fields.\n"
      ],
      "metadata": {
        "id": "XXW_vTAfwNfr"
      }
    },
    {
      "cell_type": "markdown",
      "source": [
        "#Practical Questions"
      ],
      "metadata": {
        "id": "U3-TIriCxUQA"
      }
    },
    {
      "cell_type": "markdown",
      "source": [
        "###16.Write a Python program to train a Decision Tree Classifier on the Iris dataset and print the model accuracy."
      ],
      "metadata": {
        "id": "U9OFgnWcxfOR"
      }
    },
    {
      "cell_type": "code",
      "source": [
        "from sklearn.datasets import load_iris\n",
        "from sklearn.model_selection import train_test_split\n",
        "from sklearn.tree import DecisionTreeClassifier\n",
        "from sklearn.metrics import accuracy_score\n",
        "\n",
        "# Load the Iris dataset\n",
        "iris = load_iris()\n",
        "X = iris.data\n",
        "y = iris.target\n",
        "\n",
        "# Split the data into training and test sets\n",
        "X_train, X_test, y_train, y_test = train_test_split(X, y, test_size=0.2, random_state=42)\n",
        "\n",
        "# Create and train the Decision Tree Classifier\n",
        "clf = DecisionTreeClassifier()\n",
        "clf.fit(X_train, y_train)\n",
        "\n",
        "# Make predictions\n",
        "y_pred = clf.predict(X_test)\n",
        "\n",
        "# Calculate and print model accuracy\n",
        "accuracy = accuracy_score(y_test, y_pred)\n",
        "print(f\"Model accuracy: {accuracy:.2f}\")\n"
      ],
      "metadata": {
        "colab": {
          "base_uri": "https://localhost:8080/"
        },
        "id": "5m7zCiseyKdR",
        "outputId": "b462d913-61e3-4749-b363-c0c218a21940"
      },
      "execution_count": 2,
      "outputs": [
        {
          "output_type": "stream",
          "name": "stdout",
          "text": [
            "Model accuracy: 1.00\n"
          ]
        }
      ]
    },
    {
      "cell_type": "markdown",
      "source": [
        "###17.Write a Python program to train a Decision Tree Classifier using Gini Impurity as the criterion and print the feature importances."
      ],
      "metadata": {
        "id": "i83V00ubxvXh"
      }
    },
    {
      "cell_type": "code",
      "source": [
        "from sklearn.datasets import load_iris\n",
        "from sklearn.model_selection import train_test_split\n",
        "from sklearn.tree import DecisionTreeClassifier\n",
        "\n",
        "# Load the Iris dataset\n",
        "iris = load_iris()\n",
        "X = iris.data\n",
        "y = iris.target\n",
        "\n",
        "# Split the data into training and test sets\n",
        "X_train, X_test, y_train, y_test = train_test_split(X, y, test_size=0.2, random_state=42)\n",
        "\n",
        "# Create and train the Decision Tree Classifier with 'gini' criterion\n",
        "clf = DecisionTreeClassifier(criterion='gini', random_state=42)\n",
        "clf.fit(X_train, y_train)\n",
        "\n",
        "# Print the feature importances\n",
        "feature_names = iris.feature_names\n",
        "print(\"Feature Importances:\")\n",
        "for name, importance in zip(feature_names, clf.feature_importances_):\n",
        "    print(f\"{name}: {importance:.4f}\")\n"
      ],
      "metadata": {
        "colab": {
          "base_uri": "https://localhost:8080/"
        },
        "id": "fGEtMzZ2x3Rm",
        "outputId": "4d2944f5-5399-423c-c14e-86a31dc8161b"
      },
      "execution_count": 3,
      "outputs": [
        {
          "output_type": "stream",
          "name": "stdout",
          "text": [
            "Feature Importances:\n",
            "sepal length (cm): 0.0000\n",
            "sepal width (cm): 0.0167\n",
            "petal length (cm): 0.9061\n",
            "petal width (cm): 0.0772\n"
          ]
        }
      ]
    },
    {
      "cell_type": "markdown",
      "source": [
        "###18.Write a Python program to train a Decision Tree Classifier using Entropy as the splitting criterion and print the model accuracy."
      ],
      "metadata": {
        "id": "aEOWJVAUyXaz"
      }
    },
    {
      "cell_type": "code",
      "source": [
        "from sklearn.datasets import load_iris\n",
        "from sklearn.model_selection import train_test_split\n",
        "from sklearn.tree import DecisionTreeClassifier\n",
        "from sklearn.metrics import accuracy_score\n",
        "\n",
        "# Load the Iris dataset\n",
        "iris = load_iris()\n",
        "X = iris.data\n",
        "y = iris.target\n",
        "\n",
        "# Split the data into training and test sets\n",
        "X_train, X_test, y_train, y_test = train_test_split(X, y, test_size=0.2, random_state=42)\n",
        "\n",
        "# Create and train the Decision Tree Classifier with 'entropy' criterion\n",
        "clf = DecisionTreeClassifier(criterion='entropy', random_state=42)\n",
        "clf.fit(X_train, y_train)\n",
        "\n",
        "# Make predictions\n",
        "y_pred = clf.predict(X_test)\n",
        "\n",
        "# Calculate and print model accuracy\n",
        "accuracy = accuracy_score(y_test, y_pred)\n",
        "print(f\"Model accuracy: {accuracy:.2f}\")\n"
      ],
      "metadata": {
        "colab": {
          "base_uri": "https://localhost:8080/"
        },
        "id": "xZWsdCWcygmQ",
        "outputId": "178604ae-733a-47b3-fbb4-93a4306b74ca"
      },
      "execution_count": 4,
      "outputs": [
        {
          "output_type": "stream",
          "name": "stdout",
          "text": [
            "Model accuracy: 1.00\n"
          ]
        }
      ]
    },
    {
      "cell_type": "markdown",
      "source": [
        "###19.Write a Python program to train a Decision Tree Regressor on a housing dataset and evaluate using Mean Squared Error (MSE)."
      ],
      "metadata": {
        "id": "trXCzErEymPK"
      }
    },
    {
      "cell_type": "code",
      "source": [
        "from sklearn.datasets import fetch_california_housing\n",
        "from sklearn.model_selection import train_test_split\n",
        "from sklearn.tree import DecisionTreeRegressor\n",
        "from sklearn.metrics import mean_squared_error\n",
        "\n",
        "# Load the California housing dataset\n",
        "data = fetch_california_housing()\n",
        "X = data.data\n",
        "y = data.target\n",
        "\n",
        "# Split the data into training and test sets\n",
        "X_train, X_test, y_train, y_test = train_test_split(X, y, test_size=0.2, random_state=42)\n",
        "\n",
        "# Create and train the Decision Tree Regressor\n",
        "regressor = DecisionTreeRegressor(random_state=42)\n",
        "regressor.fit(X_train, y_train)\n",
        "\n",
        "# Make predictions\n",
        "y_pred = regressor.predict(X_test)\n",
        "\n",
        "# Calculate and print Mean Squared Error (MSE)\n",
        "mse = mean_squared_error(y_test, y_pred)\n",
        "print(f\"Mean Squared Error: {mse:.2f}\")\n"
      ],
      "metadata": {
        "colab": {
          "base_uri": "https://localhost:8080/"
        },
        "id": "ucw8nN-CysZ9",
        "outputId": "e5450942-0a22-40b1-8f17-a49d226d3a88"
      },
      "execution_count": 5,
      "outputs": [
        {
          "output_type": "stream",
          "name": "stdout",
          "text": [
            "Mean Squared Error: 0.50\n"
          ]
        }
      ]
    },
    {
      "cell_type": "markdown",
      "source": [
        "###20.Write a Python program to train a Decision Tree Classifier and visualize the tree using graphviz."
      ],
      "metadata": {
        "id": "RbsJcSjyy1Iv"
      }
    },
    {
      "cell_type": "code",
      "source": [
        "from sklearn.datasets import load_iris\n",
        "from sklearn.tree import DecisionTreeClassifier, export_graphviz\n",
        "import graphviz\n",
        "\n",
        "# Load the Iris dataset\n",
        "iris = load_iris()\n",
        "X = iris.data\n",
        "y = iris.target\n",
        "\n",
        "# Train a Decision Tree Classifier\n",
        "clf = DecisionTreeClassifier(random_state=42)\n",
        "clf.fit(X, y)\n",
        "\n",
        "# Visualize the tree\n",
        "dot_data = export_graphviz(\n",
        "    clf,\n",
        "    out_file=None,\n",
        "    feature_names=iris.feature_names,\n",
        "    class_names=iris.target_names,\n",
        "    filled=True,\n",
        "    rounded=True,\n",
        "    special_characters=True\n",
        ")\n",
        "graph = graphviz.Source(dot_data)\n",
        "graph.render(\"decision_tree\")  # Saves the tree visualization as a file (e.g., decision_tree.pdf)\n",
        "\n",
        "# To view the visualization inline (e.g., in Jupyter Notebook), use:\n",
        "# graph.view()\n"
      ],
      "metadata": {
        "colab": {
          "base_uri": "https://localhost:8080/",
          "height": 35
        },
        "id": "x_KMlLAcy6yq",
        "outputId": "ba6fa822-344b-49f4-ae81-0729185c0c84"
      },
      "execution_count": 8,
      "outputs": [
        {
          "output_type": "execute_result",
          "data": {
            "text/plain": [
              "'decision_tree.pdf'"
            ],
            "application/vnd.google.colaboratory.intrinsic+json": {
              "type": "string"
            }
          },
          "metadata": {},
          "execution_count": 8
        }
      ]
    },
    {
      "cell_type": "markdown",
      "source": [
        "###21.Write a Python program to train a Decision Tree Classifier with a maximum depth of 3 and compare its accuracy with a fully grown tree."
      ],
      "metadata": {
        "id": "T_1DL0Gsy7hR"
      }
    },
    {
      "cell_type": "code",
      "source": [
        "from sklearn.datasets import load_iris\n",
        "from sklearn.model_selection import train_test_split\n",
        "from sklearn.tree import DecisionTreeClassifier\n",
        "from sklearn.metrics import accuracy_score\n",
        "\n",
        "# Load the Iris dataset\n",
        "iris = load_iris()\n",
        "X = iris.data\n",
        "y = iris.target\n",
        "\n",
        "# Split the data into training and test sets\n",
        "X_train, X_test, y_train, y_test = train_test_split(X, y, test_size=0.2, random_state=42)\n",
        "\n",
        "# Train a Decision Tree Classifier with maximum depth of 3\n",
        "limited_depth_clf = DecisionTreeClassifier(max_depth=3, random_state=42)\n",
        "limited_depth_clf.fit(X_train, y_train)\n",
        "\n",
        "# Train a fully grown Decision Tree Classifier\n",
        "fully_grown_clf = DecisionTreeClassifier(random_state=42)  # No max_depth, grows fully\n",
        "fully_grown_clf.fit(X_train, y_train)\n",
        "\n",
        "# Make predictions and calculate accuracies\n",
        "limited_depth_y_pred = limited_depth_clf.predict(X_test)\n",
        "limited_depth_accuracy = accuracy_score(y_test, limited_depth_y_pred)\n",
        "\n",
        "fully_grown_y_pred = fully_grown_clf.predict(X_test)\n",
        "fully_grown_accuracy = accuracy_score(y_test, fully_grown_y_pred)\n",
        "\n",
        "# Print accuracies\n",
        "print(f\"Accuracy with max_depth=3: {limited_depth_accuracy:.2f}\")\n",
        "print(f\"Accuracy with fully grown tree: {fully_grown_accuracy:.2f}\")\n"
      ],
      "metadata": {
        "colab": {
          "base_uri": "https://localhost:8080/"
        },
        "id": "EBYlzHwgzD0g",
        "outputId": "539013af-7962-4b5b-941b-7c70ae7b20b6"
      },
      "execution_count": 7,
      "outputs": [
        {
          "output_type": "stream",
          "name": "stdout",
          "text": [
            "Accuracy with max_depth=3: 1.00\n",
            "Accuracy with fully grown tree: 1.00\n"
          ]
        }
      ]
    },
    {
      "cell_type": "markdown",
      "source": [
        "###22.Write a Python program to train a Decision Tree Classifier using min_samples_split=5 and compare its accuracy with a default tree."
      ],
      "metadata": {
        "id": "KDNhnxhQzH19"
      }
    },
    {
      "cell_type": "code",
      "source": [
        "from sklearn.datasets import load_iris\n",
        "from sklearn.model_selection import train_test_split\n",
        "from sklearn.tree import DecisionTreeClassifier\n",
        "from sklearn.metrics import accuracy_score\n",
        "\n",
        "# Load the Iris dataset\n",
        "iris = load_iris()\n",
        "X = iris.data\n",
        "y = iris.target\n",
        "\n",
        "# Split the data into training and test sets\n",
        "X_train, X_test, y_train, y_test = train_test_split(X, y, test_size=0.2, random_state=42)\n",
        "\n",
        "# Create and train the default Decision Tree Classifier\n",
        "default_clf = DecisionTreeClassifier(random_state=42)\n",
        "default_clf.fit(X_train, y_train)\n",
        "\n",
        "# Make predictions and calculate accuracy for the default classifier\n",
        "default_y_pred = default_clf.predict(X_test)\n",
        "default_accuracy = accuracy_score(y_test, default_y_pred)\n",
        "\n",
        "# Create and train the Decision Tree Classifier with min_samples_split=5\n",
        "custom_clf = DecisionTreeClassifier(min_samples_split=5, random_state=42)\n",
        "custom_clf.fit(X_train, y_train)\n",
        "\n",
        "# Make predictions and calculate accuracy for the custom classifier\n",
        "custom_y_pred = custom_clf.predict(X_test)\n",
        "custom_accuracy = accuracy_score(y_test, custom_y_pred)\n",
        "\n",
        "# Print both accuracies\n",
        "print(f\"Default Decision Tree Accuracy: {default_accuracy:.2f}\")\n",
        "print(f\"Custom Decision Tree (min_samples_split=5) Accuracy: {custom_accuracy:.2f}\")\n"
      ],
      "metadata": {
        "colab": {
          "base_uri": "https://localhost:8080/"
        },
        "id": "vpMQmWm-zNdM",
        "outputId": "7c49d586-9ed5-46f8-f1ba-e1dfbd1d6e87"
      },
      "execution_count": 6,
      "outputs": [
        {
          "output_type": "stream",
          "name": "stdout",
          "text": [
            "Default Decision Tree Accuracy: 1.00\n",
            "Custom Decision Tree (min_samples_split=5) Accuracy: 1.00\n"
          ]
        }
      ]
    },
    {
      "cell_type": "markdown",
      "source": [
        "###23.Write a Python program to apply feature scaling before training a Decision Tree Classifier and compare its accuracy with unscaled data."
      ],
      "metadata": {
        "id": "ws4LTr-VzrBO"
      }
    },
    {
      "cell_type": "code",
      "source": [
        "from sklearn.datasets import load_iris\n",
        "from sklearn.model_selection import train_test_split\n",
        "from sklearn.tree import DecisionTreeClassifier\n",
        "from sklearn.metrics import accuracy_score\n",
        "from sklearn.preprocessing import StandardScaler\n",
        "\n",
        "# Load the Iris dataset\n",
        "iris = load_iris()\n",
        "X = iris.data\n",
        "y = iris.target\n",
        "\n",
        "# Split the data into training and test sets\n",
        "X_train, X_test, y_train, y_test = train_test_split(X, y, test_size=0.2, random_state=42)\n",
        "\n",
        "# Train the classifier on unscaled data\n",
        "clf_unscaled = DecisionTreeClassifier(random_state=42)\n",
        "clf_unscaled.fit(X_train, y_train)\n",
        "y_pred_unscaled = clf_unscaled.predict(X_test)\n",
        "accuracy_unscaled = accuracy_score(y_test, y_pred_unscaled)\n",
        "\n",
        "# Apply feature scaling to the dataset\n",
        "scaler = StandardScaler()\n",
        "X_train_scaled = scaler.fit_transform(X_train)\n",
        "X_test_scaled = scaler.transform(X_test)\n",
        "\n",
        "# Train the classifier on scaled data\n",
        "clf_scaled = DecisionTreeClassifier(random_state=42)\n",
        "clf_scaled.fit(X_train_scaled, y_train)\n",
        "y_pred_scaled = clf_scaled.predict(X_test_scaled)\n",
        "accuracy_scaled = accuracy_score(y_test, y_pred_scaled)\n",
        "\n",
        "# Print the comparison of accuracies\n",
        "print(f\"Accuracy with unscaled data: {accuracy_unscaled:.2f}\")\n",
        "print(f\"Accuracy with scaled data: {accuracy_scaled:.2f}\")\n"
      ],
      "metadata": {
        "colab": {
          "base_uri": "https://localhost:8080/"
        },
        "id": "FaU3jHfmzyWO",
        "outputId": "0470b1cf-f36c-4dad-b3f8-ff7946e0b777"
      },
      "execution_count": 9,
      "outputs": [
        {
          "output_type": "stream",
          "name": "stdout",
          "text": [
            "Accuracy with unscaled data: 1.00\n",
            "Accuracy with scaled data: 1.00\n"
          ]
        }
      ]
    },
    {
      "cell_type": "markdown",
      "source": [
        "###24.Write a Python program to train a Decision Tree Classifier using One-vs-Rest (OvR) strategy for multiclass classification."
      ],
      "metadata": {
        "id": "Enpc5u0oz7by"
      }
    },
    {
      "cell_type": "code",
      "source": [
        "from sklearn.datasets import load_iris\n",
        "from sklearn.multiclass import OneVsRestClassifier\n",
        "from sklearn.tree import DecisionTreeClassifier\n",
        "from sklearn.model_selection import train_test_split\n",
        "from sklearn.metrics import accuracy_score\n",
        "\n",
        "# Load the Iris dataset\n",
        "iris = load_iris()\n",
        "X = iris.data\n",
        "y = iris.target\n",
        "\n",
        "# Split the data into training and test sets\n",
        "X_train, X_test, y_train, y_test = train_test_split(X, y, test_size=0.2, random_state=42)\n",
        "\n",
        "# Create a Decision Tree Classifier and wrap it with OneVsRestClassifier\n",
        "ovr_clf = OneVsRestClassifier(DecisionTreeClassifier(random_state=42))\n",
        "ovr_clf.fit(X_train, y_train)\n",
        "\n",
        "# Make predictions and calculate accuracy\n",
        "y_pred = ovr_clf.predict(X_test)\n",
        "accuracy = accuracy_score(y_test, y_pred)\n",
        "\n",
        "# Print the accuracy\n",
        "print(f\"Model accuracy (OvR with Decision Tree Classifier): {accuracy:.2f}\")\n"
      ],
      "metadata": {
        "colab": {
          "base_uri": "https://localhost:8080/"
        },
        "id": "YL7vgMgU0Ff1",
        "outputId": "1521a384-27b1-49e4-8548-9cc1a0d41fb8"
      },
      "execution_count": 10,
      "outputs": [
        {
          "output_type": "stream",
          "name": "stdout",
          "text": [
            "Model accuracy (OvR with Decision Tree Classifier): 1.00\n"
          ]
        }
      ]
    },
    {
      "cell_type": "markdown",
      "source": [
        "###25.Write a Python program to train a Decision Tree Classifier and display the feature importance scores."
      ],
      "metadata": {
        "id": "IJt6r9nC0K5k"
      }
    },
    {
      "cell_type": "code",
      "source": [
        "from sklearn.datasets import load_iris\n",
        "from sklearn.tree import DecisionTreeClassifier\n",
        "\n",
        "# Load the Iris dataset\n",
        "iris = load_iris()\n",
        "X = iris.data\n",
        "y = iris.target\n",
        "\n",
        "# Train a Decision Tree Classifier\n",
        "clf = DecisionTreeClassifier(random_state=42)\n",
        "clf.fit(X, y)\n",
        "\n",
        "# Display feature importance scores\n",
        "feature_importances = clf.feature_importances_\n",
        "feature_names = iris.feature_names\n",
        "\n",
        "print(\"Feature Importances:\")\n",
        "for name, importance in zip(feature_names, feature_importances):\n",
        "    print(f\"{name}: {importance:.4f}\")\n"
      ],
      "metadata": {
        "colab": {
          "base_uri": "https://localhost:8080/"
        },
        "id": "-vhXee0x0Rd3",
        "outputId": "7c43ea02-5133-4921-ec6a-58f4e03dd369"
      },
      "execution_count": 11,
      "outputs": [
        {
          "output_type": "stream",
          "name": "stdout",
          "text": [
            "Feature Importances:\n",
            "sepal length (cm): 0.0133\n",
            "sepal width (cm): 0.0000\n",
            "petal length (cm): 0.5641\n",
            "petal width (cm): 0.4226\n"
          ]
        }
      ]
    },
    {
      "cell_type": "markdown",
      "source": [
        "###26.Write a Python program to train a Decision Tree Regressor with max_depth=5 and compare its performance with an unrestricted tree."
      ],
      "metadata": {
        "id": "D3ZrxVMt0aQt"
      }
    },
    {
      "cell_type": "code",
      "source": [
        "from sklearn.datasets import fetch_california_housing\n",
        "from sklearn.model_selection import train_test_split\n",
        "from sklearn.tree import DecisionTreeRegressor\n",
        "from sklearn.metrics import mean_squared_error\n",
        "\n",
        "# Load the California housing dataset\n",
        "data = fetch_california_housing()\n",
        "X = data.data\n",
        "y = data.target\n",
        "\n",
        "# Split the data into training and test sets\n",
        "X_train, X_test, y_train, y_test = train_test_split(X, y, test_size=0.2, random_state=42)\n",
        "\n",
        "# Train a Decision Tree Regressor with max_depth=5\n",
        "limited_depth_regressor = DecisionTreeRegressor(max_depth=5, random_state=42)\n",
        "limited_depth_regressor.fit(X_train, y_train)\n",
        "\n",
        "# Predict and evaluate performance of the limited depth model\n",
        "limited_depth_y_pred = limited_depth_regressor.predict(X_test)\n",
        "limited_depth_mse = mean_squared_error(y_test, limited_depth_y_pred)\n",
        "\n",
        "# Train an unrestricted Decision Tree Regressor\n",
        "unrestricted_regressor = DecisionTreeRegressor(random_state=42)  # No max_depth specified\n",
        "unrestricted_regressor.fit(X_train, y_train)\n",
        "\n",
        "# Predict and evaluate performance of the unrestricted model\n",
        "unrestricted_y_pred = unrestricted_regressor.predict(X_test)\n",
        "unrestricted_mse = mean_squared_error(y_test, unrestricted_y_pred)\n",
        "\n",
        "# Print the comparison of Mean Squared Error\n",
        "print(f\"Mean Squared Error (max_depth=5): {limited_depth_mse:.2f}\")\n",
        "print(f\"Mean Squared Error (unrestricted): {unrestricted_mse:.2f}\")\n"
      ],
      "metadata": {
        "colab": {
          "base_uri": "https://localhost:8080/"
        },
        "id": "awkN0rId0jq-",
        "outputId": "40f05adf-60c4-4c1e-c14c-ceb3eb268a6f"
      },
      "execution_count": 12,
      "outputs": [
        {
          "output_type": "stream",
          "name": "stdout",
          "text": [
            "Mean Squared Error (max_depth=5): 0.52\n",
            "Mean Squared Error (unrestricted): 0.50\n"
          ]
        }
      ]
    },
    {
      "cell_type": "markdown",
      "source": [
        "###27.Write a Python program to train a Decision Tree Classifier, apply Cost Complexity Pruning (CCP), and visualize its effect on accuracy."
      ],
      "metadata": {
        "id": "yFx6JtKA0pPX"
      }
    },
    {
      "cell_type": "code",
      "source": [
        "from sklearn.datasets import load_iris\n",
        "from sklearn.tree import DecisionTreeClassifier\n",
        "from sklearn.model_selection import train_test_split\n",
        "from sklearn.metrics import accuracy_score\n",
        "import matplotlib.pyplot as plt\n",
        "\n",
        "# Load the Iris dataset\n",
        "iris = load_iris()\n",
        "X = iris.data\n",
        "y = iris.target\n",
        "\n",
        "# Split the data into training and test sets\n",
        "X_train, X_test, y_train, y_test = train_test_split(X, y, test_size=0.2, random_state=42)\n",
        "\n",
        "# Train a Decision Tree Classifier to extract the cost complexity pruning path\n",
        "clf = DecisionTreeClassifier(random_state=42)\n",
        "clf.fit(X_train, y_train)\n",
        "\n",
        "# Get the pruning path (ccp_alphas and impurities)\n",
        "path = clf.cost_complexity_pruning_path(X_train, y_train)\n",
        "ccp_alphas = path.ccp_alphas  # Effective alphas\n",
        "impurities = path.impurities  # Node impurities\n",
        "\n",
        "# Train Decision Tree models for different values of ccp_alpha and collect accuracies\n",
        "train_accuracies = []\n",
        "test_accuracies = []\n",
        "\n",
        "for ccp_alpha in ccp_alphas:\n",
        "    clf = DecisionTreeClassifier(random_state=42, ccp_alpha=ccp_alpha)\n",
        "    clf.fit(X_train, y_train)\n",
        "\n",
        "    # Calculate accuracies on training and test sets\n",
        "    train_accuracies.append(accuracy_score(y_train, clf.predict(X_train)))\n",
        "    test_accuracies.append(accuracy_score(y_test, clf.predict(X_test)))\n",
        "\n",
        "# Plot the effect of CCP on accuracies\n",
        "plt.figure(figsize=(10, 6))\n",
        "plt.plot(ccp_alphas, train_accuracies, marker='o', label='Train Accuracy', drawstyle=\"steps-post\")\n",
        "plt.plot(ccp_alphas, test_accuracies, marker='o', label='Test Accuracy', drawstyle=\"steps-post\")\n",
        "plt.xlabel(\"Effective Alpha (ccp_alpha)\")\n",
        "plt.ylabel(\"Accuracy\")\n",
        "plt.title(\"Effect of CCP (Cost Complexity Pruning) on Accuracy\")\n",
        "plt.legend()\n",
        "plt.grid()\n",
        "plt.show()\n"
      ],
      "metadata": {
        "colab": {
          "base_uri": "https://localhost:8080/",
          "height": 561
        },
        "id": "2TSh6hP20yes",
        "outputId": "47677e2e-0ea4-4908-c030-46b1e6345557"
      },
      "execution_count": 13,
      "outputs": [
        {
          "output_type": "display_data",
          "data": {
            "text/plain": [
              "<Figure size 1000x600 with 1 Axes>"
            ],
            "image/png": "[encoded data removed]"
          },
          "metadata": {}
        }
      ]
    },
    {
      "cell_type": "markdown",
      "source": [
        "###28.Write a Python program to train a Decision Tree Classifier and evaluate its performance using Precision, Recall, and F1-Score."
      ],
      "metadata": {
        "id": "ADZBDTW504xx"
      }
    },
    {
      "cell_type": "code",
      "source": [
        "from sklearn.datasets import load_iris\n",
        "from sklearn.model_selection import train_test_split\n",
        "from sklearn.tree import DecisionTreeClassifier\n",
        "from sklearn.metrics import classification_report\n",
        "\n",
        "# Load the Iris dataset\n",
        "iris = load_iris()\n",
        "X = iris.data\n",
        "y = iris.target\n",
        "\n",
        "# Split the data into training and test sets\n",
        "X_train, X_test, y_train, y_test = train_test_split(X, y, test_size=0.2, random_state=42)\n",
        "\n",
        "# Train the Decision Tree Classifier\n",
        "clf = DecisionTreeClassifier(random_state=42)\n",
        "clf.fit(X_train, y_train)\n",
        "\n",
        "# Make predictions\n",
        "y_pred = clf.predict(X_test)\n",
        "\n",
        "# Evaluate the performance using Precision, Recall, and F1-Score\n",
        "report = classification_report(y_test, y_pred, target_names=iris.target_names)\n",
        "print(\"Performance Metrics:\\n\")\n",
        "print(report)\n"
      ],
      "metadata": {
        "colab": {
          "base_uri": "https://localhost:8080/"
        },
        "id": "R5GQSDFN1CvY",
        "outputId": "f2aeaab0-4827-4bfb-bb68-345b5a44ef94"
      },
      "execution_count": 14,
      "outputs": [
        {
          "output_type": "stream",
          "name": "stdout",
          "text": [
            "Performance Metrics:\n",
            "\n",
            "              precision    recall  f1-score   support\n",
            "\n",
            "      setosa       1.00      1.00      1.00        10\n",
            "  versicolor       1.00      1.00      1.00         9\n",
            "   virginica       1.00      1.00      1.00        11\n",
            "\n",
            "    accuracy                           1.00        30\n",
            "   macro avg       1.00      1.00      1.00        30\n",
            "weighted avg       1.00      1.00      1.00        30\n",
            "\n"
          ]
        }
      ]
    },
    {
      "cell_type": "markdown",
      "source": [
        "###29.Write a Python program to train a Decision Tree Classifier and visualize the confusion matrix using seaborn."
      ],
      "metadata": {
        "id": "KkPSlSmV1OGT"
      }
    },
    {
      "cell_type": "code",
      "source": [
        "from sklearn.datasets import load_iris\n",
        "from sklearn.model_selection import train_test_split\n",
        "from sklearn.tree import DecisionTreeClassifier\n",
        "from sklearn.metrics import confusion_matrix, ConfusionMatrixDisplay\n",
        "import seaborn as sns\n",
        "import matplotlib.pyplot as plt\n",
        "\n",
        "# Load the Iris dataset\n",
        "iris = load_iris()\n",
        "X = iris.data\n",
        "y = iris.target\n",
        "\n",
        "# Split the data into training and test sets\n",
        "X_train, X_test, y_train, y_test = train_test_split(X, y, test_size=0.2, random_state=42)\n",
        "\n",
        "# Train a Decision Tree Classifier\n",
        "clf = DecisionTreeClassifier(random_state=42)\n",
        "clf.fit(X_train, y_train)\n",
        "\n",
        "# Make predictions\n",
        "y_pred = clf.predict(X_test)\n",
        "\n",
        "# Generate the confusion matrix\n",
        "cm = confusion_matrix(y_test, y_pred)\n",
        "\n",
        "# Visualize the confusion matrix using seaborn heatmap\n",
        "plt.figure(figsize=(8, 6))\n",
        "sns.heatmap(cm, annot=True, fmt='d', cmap='Blues', xticklabels=iris.target_names, yticklabels=iris.target_names)\n",
        "plt.xlabel('Predicted Labels')\n",
        "plt.ylabel('True Labels')\n",
        "plt.title('Confusion Matrix')\n",
        "plt.show()\n"
      ],
      "metadata": {
        "colab": {
          "base_uri": "https://localhost:8080/",
          "height": 564
        },
        "id": "GAtS-uR_1URV",
        "outputId": "fdaa22f0-4a11-4f30-e584-70dd822c30fa"
      },
      "execution_count": 15,
      "outputs": [
        {
          "output_type": "display_data",
          "data": {
            "text/plain": [
              "<Figure size 800x600 with 2 Axes>"
            ],
            "image/png": "[encoded data removed]"
          },
          "metadata": {}
        }
      ]
    },
    {
      "cell_type": "markdown",
      "source": [
        "###30.Write a Python program to train a Decision Tree Classifier and use GridSearchCV to find the optimal values for max_depth and min_samples_split."
      ],
      "metadata": {
        "id": "6FUp6aS91ct9"
      }
    },
    {
      "cell_type": "code",
      "source": [
        "from sklearn.datasets import load_iris\n",
        "from sklearn.model_selection import train_test_split, GridSearchCV\n",
        "from sklearn.tree import DecisionTreeClassifier\n",
        "from sklearn.metrics import accuracy_score\n",
        "\n",
        "# Load the Iris dataset\n",
        "iris = load_iris()\n",
        "X = iris.data\n",
        "y = iris.target\n",
        "\n",
        "# Split the data into training and test sets\n",
        "X_train, X_test, y_train, y_test = train_test_split(X, y, test_size=0.2, random_state=42)\n",
        "\n",
        "# Set up the Decision Tree Classifier\n",
        "clf = DecisionTreeClassifier(random_state=42)\n",
        "\n",
        "# Define the parameter grid for GridSearchCV\n",
        "param_grid = {\n",
        "    'max_depth': [2, 3, 4, 5, None],  # Try different depths or no restriction\n",
        "    'min_samples_split': [2, 5, 10, 20]  # Minimum samples required to split\n",
        "}\n",
        "\n",
        "# Perform GridSearchCV to find the optimal parameters\n",
        "grid_search = GridSearchCV(estimator=clf, param_grid=param_grid, cv=5, scoring='accuracy')\n",
        "grid_search.fit(X_train, y_train)\n",
        "\n",
        "# Get the best parameters and the best estimator\n",
        "best_params = grid_search.best_params_\n",
        "best_clf = grid_search.best_estimator_\n",
        "\n",
        "# Evaluate the best model on the test data\n",
        "y_pred = best_clf.predict(X_test)\n",
        "accuracy = accuracy_score(y_test, y_pred)\n",
        "\n",
        "# Print the results\n",
        "print(f\"Best Parameters: {best_params}\")\n",
        "print(f\"Test Accuracy of the Best Model: {accuracy:.2f}\")\n"
      ],
      "metadata": {
        "colab": {
          "base_uri": "https://localhost:8080/"
        },
        "id": "CJhO4MuG1lEx",
        "outputId": "bae210b7-341e-4b10-a1d5-574e7cc3bd83"
      },
      "execution_count": 16,
      "outputs": [
        {
          "output_type": "stream",
          "name": "stdout",
          "text": [
            "Best Parameters: {'max_depth': 4, 'min_samples_split': 2}\n",
            "Test Accuracy of the Best Model: 1.00\n"
          ]
        }
      ]
    }
  ]
}